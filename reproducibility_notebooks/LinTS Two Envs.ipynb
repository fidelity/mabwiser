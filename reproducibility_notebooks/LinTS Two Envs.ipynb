{
 "cells": [
  {
   "cell_type": "code",
   "execution_count": 2,
   "id": "missing-blend",
   "metadata": {},
   "outputs": [
    {
     "name": "stdout",
     "output_type": "stream",
     "text": [
      "1.18.5\n",
      "0.24.1\n"
     ]
    }
   ],
   "source": [
    "import numpy as np\n",
    "import sklearn\n",
    "\n",
    "print(np.__version__)\n",
    "print(sklearn.__version__)"
   ]
  },
  {
   "cell_type": "code",
   "execution_count": 122,
   "id": "corporate-initial",
   "metadata": {
    "scrolled": true
   },
   "outputs": [
    {
     "name": "stdout",
     "output_type": "stream",
     "text": [
      "Overwriting example_lints.py\n"
     ]
    }
   ],
   "source": [
    "%%writefile example_lints.py\n",
    "\n",
    "# Run this cell for every experiment\n",
    "from datetime import datetime\n",
    "import json\n",
    "import pandas as pd\n",
    "import numpy as np\n",
    "import os\n",
    "import platform\n",
    "import pickle\n",
    "from sklearn.preprocessing import StandardScaler\n",
    "import sys\n",
    "\n",
    "from mabwiser.mab import MAB\n",
    "from mabwiser.linear import _RidgeRegression, _Linear\n",
    "\n",
    "from utils import contains_repeated_eigenvalues, all_positive_definite\n",
    "\n",
    "random_option = sys.argv[1]\n",
    "\n",
    "class LinTSExample(_RidgeRegression):\n",
    "    def predict(self, x):\n",
    "        if self.scaler is not None:\n",
    "            x = self._scale_predict_context(x) \n",
    "        if random_option == 'cholesky':\n",
    "            beta_sampled = rng2.multivariate_normal(self.beta, self.A_inv, method='cholesky')\n",
    "        else:\n",
    "            beta_sampled = rng2.multivariate_normal(self.beta, self.A_inv)\n",
    "        return np.dot(x, beta_sampled)\n",
    "    \n",
    "class LinearExample(_Linear):\n",
    "    factory = {\"ts\": LinTSExample}\n",
    "\n",
    "    def __init__(self, rng, arms, n_jobs=1, backend=None, l2_lambda=1, alpha=1, regression='ts', arm_to_scaler = None):\n",
    "        super().__init__(rng, arms, n_jobs, backend, l2_lambda, alpha, regression)\n",
    "       \n",
    "        self.l2_lambda = l2_lambda\n",
    "        self.alpha = alpha\n",
    "        self.regression = regression\n",
    "\n",
    "        # Create ridge regression model for each arm\n",
    "        self.num_features = None\n",
    "\n",
    "        if arm_to_scaler is None:\n",
    "            arm_to_scaler = dict((arm, None) for arm in arms)\n",
    "\n",
    "        self.arm_to_model = dict((arm, LinearExample.factory.get(regression)(rng, l2_lambda,\n",
    "                                                                       alpha, arm_to_scaler[arm])) for arm in arms)\n",
    "\n",
    "\n",
    "# Dataset 1\n",
    "users = pd.read_csv('movielens/users.csv')\n",
    "users['unknown'] = np.logical_or(users['other'], users['none'])\n",
    "# users['joint'] = users['other'] + users['none']\n",
    "responses = pd.read_csv('movielens/responses.csv')\n",
    "train = users[users['set']=='train']\n",
    "test = users[users['set']=='test']\n",
    "\n",
    "train = train.merge(responses, how='left', on='user id')\n",
    "# extra_user = train[train['user id'] == 748].copy()\n",
    "# uid = train['user id'].max() + 1\n",
    "# extra_user['user id'] = uid\n",
    "# train = pd.concat([train, extra_user])\n",
    "context_features = [c for c in users.columns if c not in ['user id', 'set']]\n",
    "none_ind = context_features.index('none')\n",
    "other_ind = context_features.index('other')\n",
    "\n",
    "decisions = MAB._convert_array(train['item id'])\n",
    "rewards = MAB._convert_array(train['rated'])\n",
    "contexts = MAB._convert_matrix(train[context_features]).astype('float')\n",
    "\n",
    "# contexts = np.hstack([contexts, np.logical_or(contexts[:, none_ind], contexts[:, other_ind]).reshape(-1, 1)])\n",
    "\n",
    "test_contexts = MAB._convert_matrix(test[context_features]).astype('float')\n",
    "# test_contexts = np.hstack([test_contexts, np.logical_or(test_contexts[:, none_ind], test_contexts[:, other_ind]).reshape(-1, 1)])\n",
    "\n",
    "scaler = StandardScaler()\n",
    "contexts = scaler.fit_transform(contexts)\n",
    "test_contexts = scaler.transform(test_contexts)\n",
    "item_ids = list(responses['item id'].unique())\n",
    "\n",
    "\n",
    "# Dataset 2\n",
    "# data = pd.read_csv('simulated_data.csv')\n",
    "\n",
    "# train = data[data['set']=='train']\n",
    "# test = data[data['set']=='test']\n",
    "\n",
    "# context_features = [c for c in data.columns if c not in ['set', 'arm', 'reward']]\n",
    "\n",
    "# decisions = MAB._convert_array(train['arm'])\n",
    "# rewards = MAB._convert_array(train['reward'])\n",
    "# contexts = MAB._convert_matrix(train[context_features]).astype('float')\n",
    "\n",
    "# test_contexts = MAB._convert_matrix(test[context_features]).astype('float')\n",
    "\n",
    "# item_ids = np.array([0, 1, 2, 3])\n",
    "\n",
    "# Dataset 3\n",
    "# data = pd.read_csv('simulated_multi_label_data.csv')\n",
    "\n",
    "# train = data[data['set']=='train']\n",
    "# test = data[data['set']=='test']\n",
    "\n",
    "# context_features = ['feature_'+str(i) for i in range(25)]\n",
    "\n",
    "# decisions = MAB._convert_array(train['item_id'])\n",
    "# rewards = MAB._convert_array(train['response'])\n",
    "# contexts = MAB._convert_matrix(train[context_features]).astype('float')\n",
    "\n",
    "# # Drop duplicate rows from test for prediction\n",
    "# test_unique = test.drop_duplicates(subset=['user']+context_features).reset_index(drop=True)\n",
    "# test_contexts = MAB._convert_matrix(test_unique[context_features]).astype('float')\n",
    "\n",
    "# scaler = StandardScaler()\n",
    "# contexts = scaler.fit_transform(contexts)\n",
    "# test_contexts = scaler.transform(test_contexts)\n",
    "# item_ids = np.array([i for i in range(20)])\n",
    "\n",
    "if random_option == 'randomstate':\n",
    "    rng = np.random.RandomState(seed=11)\n",
    "    rng2 = rng\n",
    "elif random_option == 'svd':\n",
    "    rng = np.random.RandomState(seed=11)\n",
    "    rng2 = np.random.default_rng(11)\n",
    "elif random_option == 'cholesky':\n",
    "    rng = np.random.RandomState(seed=11)\n",
    "    rng2 = np.random.default_rng(11)\n",
    "\n",
    "mab = LinearExample(rng=rng, arms=item_ids, l2_lambda=10, alpha=1, regression='ts', n_jobs=1, backend=None)\n",
    "\n",
    "\n",
    "np.random.seed(42)\n",
    "mab.fit(decisions, rewards, contexts)\n",
    "print(contains_repeated_eigenvalues(mab))\n",
    "print(all_positive_definite(mab))\n",
    "exps = mab.predict_expectations(test_contexts)\n",
    "\n",
    "recs = [max(user_exps, key=user_exps.get).item() for user_exps in exps]\n",
    "\n",
    "# dt_str = datetime.now().strftime(\"%Y-%m-%d\")\n",
    "# env_str = os.path.basename(os.path.dirname(os.path.dirname(sys.executable)))\n",
    "# pth = os.path.join('data', f\"{dt_str}_{env_str}\")\n",
    "# os.makedirs(pth, exist_ok=True)\n",
    "# with open(os.path.join(pth, 'mab.pkl'), 'wb') as fp:\n",
    "#     pickle.dump(mab, fp)\n",
    "# with open(os.path.join(pth, 'recs.json'), 'w') as fp:\n",
    "#     json.dump(recs, fp)\n",
    "\n",
    "print(recs)"
   ]
  },
  {
   "cell_type": "code",
   "execution_count": 123,
   "id": "accompanied-improvement",
   "metadata": {},
   "outputs": [
    {
     "name": "stdout",
     "output_type": "stream",
     "text": [
      "Contains repeated eigenvalues: False\n",
      "All covariances positive definite: True\n"
     ]
    }
   ],
   "source": [
    "import subprocess\n",
    "\n",
    "python_exec = '~/Tools/miniconda3/envs/reprod/bin/python'\n",
    "res = subprocess.run([python_exec, 'example_lints.py', 'randomstate'], capture_output=True).stdout.decode('utf-8').strip()\n",
    "contains_repeated_eigenvalues, all_positive_definite, res = res.split('\\n')\n",
    "print(f\"Contains repeated eigenvalues: {contains_repeated_eigenvalues}\")\n",
    "print(f\"All covariances positive definite: {all_positive_definite}\")\n",
    "recs_lis = eval(res)"
   ]
  },
  {
   "cell_type": "code",
   "execution_count": 124,
   "id": "alpha-seafood",
   "metadata": {},
   "outputs": [
    {
     "name": "stdout",
     "output_type": "stream",
     "text": [
      "Contains repeated eigenvalues: True\n",
      "All covariances positive definite: True\n"
     ]
    }
   ],
   "source": [
    "python_exec2 = '~/Tools/miniconda3/envs/reprod2/bin/python'\n",
    "res = subprocess.run([python_exec2, 'example_lints.py', 'randomstate'], capture_output=True).stdout.decode('utf-8').strip()\n",
    "contains_repeated_eigenvalues, all_positive_definite, res = res.split('\\n')\n",
    "print(f\"Contains repeated eigenvalues: {contains_repeated_eigenvalues}\")\n",
    "print(f\"All covariances positive definite: {all_positive_definite}\")\n",
    "recs_lis2 = eval(res)"
   ]
  },
  {
   "cell_type": "code",
   "execution_count": 125,
   "id": "ideal-chick",
   "metadata": {},
   "outputs": [
    {
     "data": {
      "text/plain": [
       "True"
      ]
     },
     "execution_count": 125,
     "metadata": {},
     "output_type": "execute_result"
    }
   ],
   "source": [
    "recs_lis == recs_lis2"
   ]
  },
  {
   "cell_type": "code",
   "execution_count": 116,
   "id": "everyday-postage",
   "metadata": {},
   "outputs": [
    {
     "name": "stdout",
     "output_type": "stream",
     "text": [
      "Contains repeated eigenvalues: False\n",
      "All covariances positive definite: True\n"
     ]
    }
   ],
   "source": [
    "import subprocess\n",
    "\n",
    "python_exec = '~/Tools/miniconda3/envs/reprod/bin/python'\n",
    "res = subprocess.run([python_exec, 'example_lints.py', 'svd'], capture_output=True).stdout.decode('utf-8').strip()\n",
    "contains_repeated_eigenvalues, all_positive_definite, res = res.split('\\n')\n",
    "print(f\"Contains repeated eigenvalues: {contains_repeated_eigenvalues}\")\n",
    "print(f\"All covariances positive definite: {all_positive_definite}\")\n",
    "recs_lis = eval(res)"
   ]
  },
  {
   "cell_type": "code",
   "execution_count": 117,
   "id": "removed-minimum",
   "metadata": {},
   "outputs": [
    {
     "name": "stdout",
     "output_type": "stream",
     "text": [
      "Contains repeated eigenvalues: True\n",
      "All covariances positive definite: True\n"
     ]
    }
   ],
   "source": [
    "python_exec2 = '~/Tools/miniconda3/envs/reprod2/bin/python'\n",
    "res = subprocess.run([python_exec2, 'example_lints.py', 'svd'], capture_output=True).stdout.decode('utf-8').strip()\n",
    "contains_repeated_eigenvalues, all_positive_definite, res = res.split('\\n')\n",
    "print(f\"Contains repeated eigenvalues: {contains_repeated_eigenvalues}\")\n",
    "print(f\"All covariances positive definite: {all_positive_definite}\")\n",
    "recs_lis2 = eval(res)"
   ]
  },
  {
   "cell_type": "code",
   "execution_count": 118,
   "id": "other-functionality",
   "metadata": {},
   "outputs": [
    {
     "data": {
      "text/plain": [
       "False"
      ]
     },
     "execution_count": 118,
     "metadata": {},
     "output_type": "execute_result"
    }
   ],
   "source": [
    "recs_lis == recs_lis2"
   ]
  },
  {
   "cell_type": "code",
   "execution_count": 119,
   "id": "modern-bulletin",
   "metadata": {},
   "outputs": [
    {
     "name": "stdout",
     "output_type": "stream",
     "text": [
      "Contains repeated eigenvalues: False\n",
      "All covariances positive definite: True\n"
     ]
    }
   ],
   "source": [
    "import subprocess\n",
    "\n",
    "python_exec = '~/Tools/miniconda3/envs/reprod/bin/python'\n",
    "res = subprocess.run([python_exec, 'example_lints.py', 'cholesky'], capture_output=True).stdout.decode('utf-8').strip()\n",
    "contains_repeated_eigenvalues, all_positive_definite, res = res.split('\\n')\n",
    "print(f\"Contains repeated eigenvalues: {contains_repeated_eigenvalues}\")\n",
    "print(f\"All covariances positive definite: {all_positive_definite}\")\n",
    "recs_lis = eval(res)"
   ]
  },
  {
   "cell_type": "code",
   "execution_count": 120,
   "id": "egyptian-cookie",
   "metadata": {},
   "outputs": [
    {
     "name": "stdout",
     "output_type": "stream",
     "text": [
      "Contains repeated eigenvalues: True\n",
      "All covariances positive definite: True\n"
     ]
    }
   ],
   "source": [
    "python_exec2 = '~/Tools/miniconda3/envs/reprod2/bin/python'\n",
    "res = subprocess.run([python_exec2, 'example_lints.py', 'cholesky'], capture_output=True).stdout.decode('utf-8').strip()\n",
    "contains_repeated_eigenvalues, all_positive_definite, res = res.split('\\n')\n",
    "print(f\"Contains repeated eigenvalues: {contains_repeated_eigenvalues}\")\n",
    "print(f\"All covariances positive definite: {all_positive_definite}\")\n",
    "recs_lis2 = eval(res)"
   ]
  },
  {
   "cell_type": "code",
   "execution_count": 121,
   "id": "protected-winner",
   "metadata": {},
   "outputs": [
    {
     "data": {
      "text/plain": [
       "True"
      ]
     },
     "execution_count": 121,
     "metadata": {},
     "output_type": "execute_result"
    }
   ],
   "source": [
    "recs_lis == recs_lis2"
   ]
  },
  {
   "cell_type": "code",
   "execution_count": null,
   "id": "coral-kennedy",
   "metadata": {},
   "outputs": [],
   "source": []
  }
 ],
 "metadata": {
  "kernelspec": {
   "display_name": "Python [conda env:reprod2]",
   "language": "python",
   "name": "conda-env-reprod2-py"
  },
  "language_info": {
   "codemirror_mode": {
    "name": "ipython",
    "version": 3
   },
   "file_extension": ".py",
   "mimetype": "text/x-python",
   "name": "python",
   "nbconvert_exporter": "python",
   "pygments_lexer": "ipython3",
   "version": "3.8.8"
  }
 },
 "nbformat": 4,
 "nbformat_minor": 5
}
