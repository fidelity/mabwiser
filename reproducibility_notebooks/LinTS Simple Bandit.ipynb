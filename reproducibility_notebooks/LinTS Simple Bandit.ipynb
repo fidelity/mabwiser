{
 "cells": [
  {
   "cell_type": "code",
   "execution_count": 1,
   "metadata": {},
   "outputs": [],
   "source": [
    "# Run this cell for every experiment\n",
    "import pandas as pd\n",
    "import numpy as np\n",
    "import pickle\n",
    "import platform\n",
    "from sklearn.preprocessing import StandardScaler\n",
    "\n",
    "from mabwiser.mab import MAB\n",
    "from mabwiser.linear import _RidgeRegression, _Linear\n",
    "\n",
    "class LinTSExample(_RidgeRegression):\n",
    "    def predict(self, x):\n",
    "        if self.scaler is not None:\n",
    "            x = self._scale_predict_context(x) \n",
    "        beta_sampled = rng.multivariate_normal(self.beta, self.A_inv)\n",
    "        return np.dot(x, beta_sampled)\n",
    "    \n",
    "class LinearExample(_Linear):\n",
    "    factory = {\"ts\": LinTSExample}\n",
    "\n",
    "    def __init__(self, rng, arms, n_jobs=1, backend=None, l2_lambda=1, alpha=1, regression='ts', arm_to_scaler = None):\n",
    "        super().__init__(rng, arms, n_jobs, backend, l2_lambda, alpha, regression)\n",
    "       \n",
    "        self.l2_lambda = l2_lambda\n",
    "        self.alpha = alpha\n",
    "        self.regression = regression\n",
    "\n",
    "        # Create ridge regression model for each arm\n",
    "        self.num_features = None\n",
    "\n",
    "        if arm_to_scaler is None:\n",
    "            arm_to_scaler = dict((arm, None) for arm in arms)\n",
    "\n",
    "        self.arm_to_model = dict((arm, LinearExample.factory.get(regression)(rng, l2_lambda,\n",
    "                                                                       alpha, arm_to_scaler[arm])) for arm in arms)\n"
   ]
  },
  {
   "cell_type": "markdown",
   "metadata": {},
   "source": [
    "# Create Data Set"
   ]
  },
  {
   "cell_type": "code",
   "execution_count": 2,
   "metadata": {},
   "outputs": [],
   "source": [
    "from sklearn.datasets import make_classification\n",
    "\n",
    "dfs = []\n",
    "\n",
    "for i in range(4):\n",
    "    X, y = make_classification(n_samples=100, n_features=20, n_classes=2, n_informative=15, random_state=i)\n",
    "    df = pd.DataFrame(X)\n",
    "    df['arm'] = i\n",
    "    df['reward'] = y\n",
    "    dfs.append(df)"
   ]
  },
  {
   "cell_type": "code",
   "execution_count": 3,
   "metadata": {},
   "outputs": [],
   "source": [
    "data = pd.concat(dfs)"
   ]
  },
  {
   "cell_type": "code",
   "execution_count": 4,
   "metadata": {},
   "outputs": [],
   "source": [
    "from sklearn.model_selection import train_test_split\n",
    "\n",
    "train, test = train_test_split(data, random_state=43, test_size=0.3)"
   ]
  },
  {
   "cell_type": "code",
   "execution_count": 5,
   "metadata": {},
   "outputs": [
    {
     "data": {
      "text/html": [
       "<div>\n",
       "<style scoped>\n",
       "    .dataframe tbody tr th:only-of-type {\n",
       "        vertical-align: middle;\n",
       "    }\n",
       "\n",
       "    .dataframe tbody tr th {\n",
       "        vertical-align: top;\n",
       "    }\n",
       "\n",
       "    .dataframe thead th {\n",
       "        text-align: right;\n",
       "    }\n",
       "</style>\n",
       "<table border=\"1\" class=\"dataframe\">\n",
       "  <thead>\n",
       "    <tr style=\"text-align: right;\">\n",
       "      <th></th>\n",
       "      <th>0</th>\n",
       "      <th>1</th>\n",
       "      <th>2</th>\n",
       "      <th>3</th>\n",
       "      <th>4</th>\n",
       "      <th>5</th>\n",
       "      <th>6</th>\n",
       "      <th>7</th>\n",
       "      <th>8</th>\n",
       "      <th>9</th>\n",
       "      <th>...</th>\n",
       "      <th>12</th>\n",
       "      <th>13</th>\n",
       "      <th>14</th>\n",
       "      <th>15</th>\n",
       "      <th>16</th>\n",
       "      <th>17</th>\n",
       "      <th>18</th>\n",
       "      <th>19</th>\n",
       "      <th>arm</th>\n",
       "      <th>reward</th>\n",
       "    </tr>\n",
       "  </thead>\n",
       "  <tbody>\n",
       "    <tr>\n",
       "      <th>65</th>\n",
       "      <td>7.540774</td>\n",
       "      <td>-0.221831</td>\n",
       "      <td>-3.919337</td>\n",
       "      <td>5.258477</td>\n",
       "      <td>2.940734</td>\n",
       "      <td>1.002549</td>\n",
       "      <td>-0.466184</td>\n",
       "      <td>0.265691</td>\n",
       "      <td>2.335075</td>\n",
       "      <td>-0.760819</td>\n",
       "      <td>...</td>\n",
       "      <td>-1.365283</td>\n",
       "      <td>5.473917</td>\n",
       "      <td>0.980097</td>\n",
       "      <td>3.790203</td>\n",
       "      <td>-1.019954</td>\n",
       "      <td>1.587160</td>\n",
       "      <td>2.096280</td>\n",
       "      <td>-1.206127</td>\n",
       "      <td>2</td>\n",
       "      <td>0</td>\n",
       "    </tr>\n",
       "    <tr>\n",
       "      <th>70</th>\n",
       "      <td>2.061396</td>\n",
       "      <td>3.037662</td>\n",
       "      <td>-1.115289</td>\n",
       "      <td>-0.492968</td>\n",
       "      <td>-2.571289</td>\n",
       "      <td>-6.856650</td>\n",
       "      <td>-0.944877</td>\n",
       "      <td>2.612648</td>\n",
       "      <td>-2.180050</td>\n",
       "      <td>-3.281273</td>\n",
       "      <td>...</td>\n",
       "      <td>-3.568702</td>\n",
       "      <td>-0.866955</td>\n",
       "      <td>0.578315</td>\n",
       "      <td>-1.581841</td>\n",
       "      <td>1.164671</td>\n",
       "      <td>-1.383679</td>\n",
       "      <td>2.810146</td>\n",
       "      <td>-1.066569</td>\n",
       "      <td>1</td>\n",
       "      <td>1</td>\n",
       "    </tr>\n",
       "    <tr>\n",
       "      <th>30</th>\n",
       "      <td>3.717529</td>\n",
       "      <td>0.984694</td>\n",
       "      <td>1.234988</td>\n",
       "      <td>-0.063337</td>\n",
       "      <td>-3.725663</td>\n",
       "      <td>-1.704918</td>\n",
       "      <td>1.066633</td>\n",
       "      <td>0.147504</td>\n",
       "      <td>-1.397789</td>\n",
       "      <td>-4.930524</td>\n",
       "      <td>...</td>\n",
       "      <td>-3.388638</td>\n",
       "      <td>0.512434</td>\n",
       "      <td>1.690352</td>\n",
       "      <td>0.200777</td>\n",
       "      <td>0.349084</td>\n",
       "      <td>0.404068</td>\n",
       "      <td>0.264601</td>\n",
       "      <td>0.762271</td>\n",
       "      <td>1</td>\n",
       "      <td>1</td>\n",
       "    </tr>\n",
       "    <tr>\n",
       "      <th>14</th>\n",
       "      <td>-0.860830</td>\n",
       "      <td>-0.341110</td>\n",
       "      <td>-1.548911</td>\n",
       "      <td>-3.554408</td>\n",
       "      <td>-2.774293</td>\n",
       "      <td>1.516058</td>\n",
       "      <td>0.337577</td>\n",
       "      <td>-0.090652</td>\n",
       "      <td>-0.175691</td>\n",
       "      <td>-1.877193</td>\n",
       "      <td>...</td>\n",
       "      <td>-0.102403</td>\n",
       "      <td>-0.415136</td>\n",
       "      <td>-1.545302</td>\n",
       "      <td>1.982714</td>\n",
       "      <td>0.560556</td>\n",
       "      <td>0.021631</td>\n",
       "      <td>0.710947</td>\n",
       "      <td>-1.854943</td>\n",
       "      <td>3</td>\n",
       "      <td>1</td>\n",
       "    </tr>\n",
       "    <tr>\n",
       "      <th>63</th>\n",
       "      <td>0.070855</td>\n",
       "      <td>-0.733082</td>\n",
       "      <td>0.850703</td>\n",
       "      <td>-1.869372</td>\n",
       "      <td>-0.531692</td>\n",
       "      <td>-1.227601</td>\n",
       "      <td>-1.257254</td>\n",
       "      <td>1.685047</td>\n",
       "      <td>1.679314</td>\n",
       "      <td>-2.429365</td>\n",
       "      <td>...</td>\n",
       "      <td>-3.333774</td>\n",
       "      <td>0.927820</td>\n",
       "      <td>-2.260054</td>\n",
       "      <td>1.922119</td>\n",
       "      <td>0.981994</td>\n",
       "      <td>0.438562</td>\n",
       "      <td>-1.033361</td>\n",
       "      <td>-0.654288</td>\n",
       "      <td>1</td>\n",
       "      <td>1</td>\n",
       "    </tr>\n",
       "  </tbody>\n",
       "</table>\n",
       "<p>5 rows × 22 columns</p>\n",
       "</div>"
      ],
      "text/plain": [
       "           0         1         2         3         4         5         6  \\\n",
       "65  7.540774 -0.221831 -3.919337  5.258477  2.940734  1.002549 -0.466184   \n",
       "70  2.061396  3.037662 -1.115289 -0.492968 -2.571289 -6.856650 -0.944877   \n",
       "30  3.717529  0.984694  1.234988 -0.063337 -3.725663 -1.704918  1.066633   \n",
       "14 -0.860830 -0.341110 -1.548911 -3.554408 -2.774293  1.516058  0.337577   \n",
       "63  0.070855 -0.733082  0.850703 -1.869372 -0.531692 -1.227601 -1.257254   \n",
       "\n",
       "           7         8         9  ...        12        13        14        15  \\\n",
       "65  0.265691  2.335075 -0.760819  ... -1.365283  5.473917  0.980097  3.790203   \n",
       "70  2.612648 -2.180050 -3.281273  ... -3.568702 -0.866955  0.578315 -1.581841   \n",
       "30  0.147504 -1.397789 -4.930524  ... -3.388638  0.512434  1.690352  0.200777   \n",
       "14 -0.090652 -0.175691 -1.877193  ... -0.102403 -0.415136 -1.545302  1.982714   \n",
       "63  1.685047  1.679314 -2.429365  ... -3.333774  0.927820 -2.260054  1.922119   \n",
       "\n",
       "          16        17        18        19  arm  reward  \n",
       "65 -1.019954  1.587160  2.096280 -1.206127    2       0  \n",
       "70  1.164671 -1.383679  2.810146 -1.066569    1       1  \n",
       "30  0.349084  0.404068  0.264601  0.762271    1       1  \n",
       "14  0.560556  0.021631  0.710947 -1.854943    3       1  \n",
       "63  0.981994  0.438562 -1.033361 -0.654288    1       1  \n",
       "\n",
       "[5 rows x 22 columns]"
      ]
     },
     "execution_count": 5,
     "metadata": {},
     "output_type": "execute_result"
    }
   ],
   "source": [
    "train.head()"
   ]
  },
  {
   "cell_type": "code",
   "execution_count": 6,
   "metadata": {},
   "outputs": [],
   "source": [
    "context_features = [c for c in data.columns if c not in ['arm', 'reward']]\n",
    "\n",
    "decisions = MAB._convert_array(train['arm'])\n",
    "rewards = MAB._convert_array(train['reward'])\n",
    "contexts = MAB._convert_matrix(train[context_features]).astype('float')\n",
    "\n",
    "test_contexts = MAB._convert_matrix(test[context_features]).astype('float')"
   ]
  },
  {
   "cell_type": "code",
   "execution_count": 7,
   "metadata": {},
   "outputs": [
    {
     "name": "stdout",
     "output_type": "stream",
     "text": [
      "[1.00000000e+00 1.00000000e+00 2.86302665e-02 2.49631876e-02\n",
      " 1.67183560e-02 1.14625948e-02 7.48548520e-03 6.94226983e-03\n",
      " 6.24752368e-03 4.86211058e-03 4.30483507e-03 4.09512136e-03\n",
      " 2.64346291e-03 2.41356688e-03 2.17645881e-03 1.74739584e-03\n",
      " 1.56565185e-03 1.16327123e-03 4.26029986e-04 2.91526816e-04]\n",
      "[1.00000000e+00 1.00000000e+00 2.35621785e-02 1.80508449e-02\n",
      " 1.53421918e-02 1.10594297e-02 7.25757949e-03 6.76718760e-03\n",
      " 6.14979642e-03 4.10534885e-03 3.65685288e-03 3.29945335e-03\n",
      " 2.98752262e-03 2.62949453e-03 2.24223003e-03 1.68395285e-03\n",
      " 1.17455957e-03 9.53555929e-04 4.60938566e-04 2.78960532e-04]\n",
      "[1.00000000e+00 1.00000000e+00 2.05213365e-02 1.59086895e-02\n",
      " 1.26671284e-02 1.13250703e-02 9.33134542e-03 5.71547399e-03\n",
      " 4.92269898e-03 3.46588619e-03 3.40709704e-03 2.72711582e-03\n",
      " 2.42891150e-03 2.19617576e-03 2.02383136e-03 1.48586695e-03\n",
      " 1.13183645e-03 9.18100640e-04 5.38788820e-04 1.42572960e-04]\n",
      "[1.00000000e+00 1.00000000e+00 3.14178107e-02 2.23480639e-02\n",
      " 1.63204058e-02 1.39828185e-02 9.33364761e-03 5.62254921e-03\n",
      " 5.28872589e-03 4.53937655e-03 3.74930356e-03 3.29476298e-03\n",
      " 2.81739954e-03 2.52458806e-03 1.94122668e-03 1.76747148e-03\n",
      " 1.53889465e-03 1.25501530e-03 7.15982282e-04 4.44423774e-04]\n"
     ]
    }
   ],
   "source": [
    "rng = np.random.RandomState(seed=11)\n",
    "mab = LinearExample(rng=rng, arms=[0, 1, 2, 3], l2_lambda=1, alpha=1, regression='ts', n_jobs=1, backend=None)\n",
    "\n",
    "mab.fit(decisions, rewards, contexts)\n",
    "\n",
    "for arm in mab.arms:\n",
    "    u, s, vh = np.linalg.svd(mab.arm_to_model[arm].A_inv)\n",
    "    print(s)"
   ]
  },
  {
   "cell_type": "markdown",
   "metadata": {},
   "source": [
    "The data has duplicate singular values, and will thus be able to reproduce the non-deterministic behavior"
   ]
  },
  {
   "cell_type": "code",
   "execution_count": 8,
   "metadata": {},
   "outputs": [
    {
     "data": {
      "text/plain": [
       "[0, 1, 2, 3, 4, 5, 6, 7, 8, 9, 10, 11, 12, 13, 14, 15, 16, 17, 18, 19]"
      ]
     },
     "execution_count": 8,
     "metadata": {},
     "output_type": "execute_result"
    }
   ],
   "source": [
    "context_features"
   ]
  },
  {
   "cell_type": "code",
   "execution_count": 9,
   "metadata": {},
   "outputs": [
    {
     "name": "stderr",
     "output_type": "stream",
     "text": [
      "C:\\ProgramData\\Anaconda3\\lib\\site-packages\\ipykernel_launcher.py:1: SettingWithCopyWarning: \n",
      "A value is trying to be set on a copy of a slice from a DataFrame.\n",
      "Try using .loc[row_indexer,col_indexer] = value instead\n",
      "\n",
      "See the caveats in the documentation: http://pandas.pydata.org/pandas-docs/stable/indexing.html#indexing-view-versus-copy\n",
      "  \"\"\"Entry point for launching an IPython kernel.\n",
      "C:\\ProgramData\\Anaconda3\\lib\\site-packages\\ipykernel_launcher.py:2: SettingWithCopyWarning: \n",
      "A value is trying to be set on a copy of a slice from a DataFrame.\n",
      "Try using .loc[row_indexer,col_indexer] = value instead\n",
      "\n",
      "See the caveats in the documentation: http://pandas.pydata.org/pandas-docs/stable/indexing.html#indexing-view-versus-copy\n",
      "  \n"
     ]
    }
   ],
   "source": [
    "train['set'] = 'train'\n",
    "test['set'] = 'test'\n",
    "\n",
    "data = pd.concat([train, test])\n",
    "data.to_csv('simulated_data.csv', index=False)\n"
   ]
  },
  {
   "cell_type": "markdown",
   "metadata": {},
   "source": [
    "# Mac OS "
   ]
  },
  {
   "cell_type": "code",
   "execution_count": 2,
   "metadata": {},
   "outputs": [
    {
     "data": {
      "text/plain": [
       "'macOS-10.15.7-x86_64-i386-64bit'"
      ]
     },
     "execution_count": 2,
     "metadata": {},
     "output_type": "execute_result"
    }
   ],
   "source": [
    "platform.platform()"
   ]
  },
  {
   "cell_type": "code",
   "execution_count": 3,
   "metadata": {},
   "outputs": [
    {
     "name": "stdout",
     "output_type": "stream",
     "text": [
      "1.18.5\n"
     ]
    }
   ],
   "source": [
    "print(np.__version__)"
   ]
  },
  {
   "cell_type": "code",
   "execution_count": 4,
   "metadata": {},
   "outputs": [
    {
     "name": "stdout",
     "output_type": "stream",
     "text": [
      "['0', '1', '2', '3', '4', '5', '6', '7', '8', '9', '10', '11', '12', '13', '14', '15', '16', '17', '18', '19']\n"
     ]
    }
   ],
   "source": [
    "data = pd.read_csv('simulated_data.csv')\n",
    "\n",
    "train = data[data['set']=='train']\n",
    "test = data[data['set']=='test']\n",
    "\n",
    "context_features = [c for c in data.columns if c not in ['set', 'arm', 'reward']]\n",
    "\n",
    "decisions = MAB._convert_array(train['arm'])\n",
    "rewards = MAB._convert_array(train['reward'])\n",
    "contexts = MAB._convert_matrix(train[context_features]).astype('float')\n",
    "\n",
    "test_contexts = MAB._convert_matrix(test[context_features]).astype('float')\n",
    "\n",
    "print(context_features)"
   ]
  },
  {
   "cell_type": "code",
   "execution_count": 5,
   "metadata": {},
   "outputs": [
    {
     "data": {
      "text/plain": [
       "<__main__.LinTSExample at 0x7ffbeddea790>"
      ]
     },
     "execution_count": 5,
     "metadata": {},
     "output_type": "execute_result"
    }
   ],
   "source": [
    "rng = np.random.RandomState(seed=11)\n",
    "mab = LinearExample(rng=rng, arms=[0, 1, 2, 3], l2_lambda=1, alpha=1, regression='ts', n_jobs=1, backend=None)\n",
    "mab.arm_to_model[1]"
   ]
  },
  {
   "cell_type": "code",
   "execution_count": 6,
   "metadata": {},
   "outputs": [
    {
     "data": {
      "text/plain": [
       "-3.842999860229387"
      ]
     },
     "execution_count": 6,
     "metadata": {},
     "output_type": "execute_result"
    }
   ],
   "source": [
    "mab.fit(decisions, rewards, contexts)\n",
    "expectations = mab.predict_expectations(test_contexts)\n",
    "\n",
    "expectations[0][1]"
   ]
  },
  {
   "cell_type": "code",
   "execution_count": 7,
   "metadata": {},
   "outputs": [],
   "source": [
    "pickle.dump(mab, open('mac_mab.pkl', 'wb'))\n",
    "pickle.dump(expectations, open('mac_expectations.pkl', 'wb'))"
   ]
  },
  {
   "cell_type": "markdown",
   "metadata": {},
   "source": [
    "# Windows"
   ]
  },
  {
   "cell_type": "code",
   "execution_count": 10,
   "metadata": {},
   "outputs": [
    {
     "data": {
      "text/plain": [
       "'Windows-10-10.0.18362-SP0'"
      ]
     },
     "execution_count": 10,
     "metadata": {},
     "output_type": "execute_result"
    }
   ],
   "source": [
    "platform.platform()"
   ]
  },
  {
   "cell_type": "code",
   "execution_count": 11,
   "metadata": {},
   "outputs": [
    {
     "name": "stdout",
     "output_type": "stream",
     "text": [
      "1.19.4\n"
     ]
    }
   ],
   "source": [
    "print(np.__version__)"
   ]
  },
  {
   "cell_type": "code",
   "execution_count": 12,
   "metadata": {},
   "outputs": [
    {
     "name": "stdout",
     "output_type": "stream",
     "text": [
      "['0', '1', '2', '3', '4', '5', '6', '7', '8', '9', '10', '11', '12', '13', '14', '15', '16', '17', '18', '19']\n"
     ]
    }
   ],
   "source": [
    "data = pd.read_csv('simulated_data.csv')\n",
    "\n",
    "train = data[data['set']=='train']\n",
    "test = data[data['set']=='test']\n",
    "\n",
    "context_features = [c for c in data.columns if c not in ['set', 'arm', 'reward']]\n",
    "\n",
    "decisions = MAB._convert_array(train['arm'])\n",
    "rewards = MAB._convert_array(train['reward'])\n",
    "contexts = MAB._convert_matrix(train[context_features]).astype('float')\n",
    "\n",
    "test_contexts = MAB._convert_matrix(test[context_features]).astype('float')\n",
    "\n",
    "print(context_features)"
   ]
  },
  {
   "cell_type": "code",
   "execution_count": 13,
   "metadata": {},
   "outputs": [
    {
     "data": {
      "text/plain": [
       "<__main__.LinTSExample at 0x1ef0acd92e8>"
      ]
     },
     "execution_count": 13,
     "metadata": {},
     "output_type": "execute_result"
    }
   ],
   "source": [
    "rng = np.random.RandomState(seed=11)\n",
    "mab = LinearExample(rng=rng, arms=[0, 1, 2, 3], l2_lambda=1, alpha=1, regression='ts', n_jobs=1, backend=None)\n",
    "mab.arm_to_model[1]"
   ]
  },
  {
   "cell_type": "code",
   "execution_count": 14,
   "metadata": {},
   "outputs": [
    {
     "data": {
      "text/plain": [
       "-3.8432664691656653"
      ]
     },
     "execution_count": 14,
     "metadata": {},
     "output_type": "execute_result"
    }
   ],
   "source": [
    "mab.fit(decisions, rewards, contexts)\n",
    "expectations = mab.predict_expectations(test_contexts)\n",
    "\n",
    "expectations[0][1]"
   ]
  },
  {
   "cell_type": "code",
   "execution_count": 15,
   "metadata": {},
   "outputs": [],
   "source": [
    "pickle.dump(mab, open('win_mab.pkl', 'wb'))\n",
    "pickle.dump(expectations, open('win_expectations.pkl', 'wb'))"
   ]
  },
  {
   "cell_type": "markdown",
   "metadata": {},
   "source": [
    "# SageMaker"
   ]
  },
  {
   "cell_type": "code",
   "execution_count": 2,
   "metadata": {},
   "outputs": [
    {
     "data": {
      "text/plain": [
       "'Linux-4.14.225-121.362.amzn1.x86_64-x86_64-with-glibc2.9'"
      ]
     },
     "execution_count": 2,
     "metadata": {},
     "output_type": "execute_result"
    }
   ],
   "source": [
    "platform.platform()"
   ]
  },
  {
   "cell_type": "code",
   "execution_count": 3,
   "metadata": {},
   "outputs": [
    {
     "name": "stdout",
     "output_type": "stream",
     "text": [
      "1.19.5\n"
     ]
    }
   ],
   "source": [
    "print(np.__version__)"
   ]
  },
  {
   "cell_type": "code",
   "execution_count": 4,
   "metadata": {},
   "outputs": [
    {
     "name": "stdout",
     "output_type": "stream",
     "text": [
      "['0', '1', '2', '3', '4', '5', '6', '7', '8', '9', '10', '11', '12', '13', '14', '15', '16', '17', '18', '19']\n"
     ]
    }
   ],
   "source": [
    "data = pd.read_csv('simulated_data.csv')\n",
    "\n",
    "train = data[data['set']=='train']\n",
    "test = data[data['set']=='test']\n",
    "\n",
    "context_features = [c for c in data.columns if c not in ['set', 'arm', 'reward']]\n",
    "\n",
    "decisions = MAB._convert_array(train['arm'])\n",
    "rewards = MAB._convert_array(train['reward'])\n",
    "contexts = MAB._convert_matrix(train[context_features]).astype('float')\n",
    "\n",
    "test_contexts = MAB._convert_matrix(test[context_features]).astype('float')\n",
    "\n",
    "print(context_features)"
   ]
  },
  {
   "cell_type": "code",
   "execution_count": 5,
   "metadata": {},
   "outputs": [
    {
     "data": {
      "text/plain": [
       "<__main__.LinTSExample at 0x7fbe3444dcc0>"
      ]
     },
     "execution_count": 5,
     "metadata": {},
     "output_type": "execute_result"
    }
   ],
   "source": [
    "rng = np.random.RandomState(seed=11)\n",
    "mab = LinearExample(rng=rng, arms=[0, 1, 2, 3], l2_lambda=1, alpha=1, regression='ts', n_jobs=1, backend=None)\n",
    "mab.arm_to_model[1]"
   ]
  },
  {
   "cell_type": "code",
   "execution_count": 6,
   "metadata": {},
   "outputs": [
    {
     "data": {
      "text/plain": [
       "-3.842611094122434"
      ]
     },
     "execution_count": 6,
     "metadata": {},
     "output_type": "execute_result"
    }
   ],
   "source": [
    "mab.fit(decisions, rewards, contexts)\n",
    "expectations = mab.predict_expectations(test_contexts)\n",
    "\n",
    "expectations[0][1]"
   ]
  },
  {
   "cell_type": "code",
   "execution_count": 7,
   "metadata": {},
   "outputs": [],
   "source": [
    "pickle.dump(mab, open('sgm_mab.pkl', 'wb'))\n",
    "pickle.dump(expectations, open('sgm_expectations.pkl', 'wb'))"
   ]
  },
  {
   "cell_type": "markdown",
   "metadata": {},
   "source": [
    "# Red Hat"
   ]
  },
  {
   "cell_type": "code",
   "execution_count": 2,
   "metadata": {},
   "outputs": [
    {
     "data": {
      "text/plain": [
       "'Linux-3.10.0-1160.15.2.el7.x86_64-x86_64-with-glibc2.10'"
      ]
     },
     "execution_count": 2,
     "metadata": {},
     "output_type": "execute_result"
    }
   ],
   "source": [
    "platform.platform()"
   ]
  },
  {
   "cell_type": "code",
   "execution_count": 3,
   "metadata": {},
   "outputs": [
    {
     "name": "stdout",
     "output_type": "stream",
     "text": [
      "1.19.2\n"
     ]
    }
   ],
   "source": [
    "print(np.__version__)"
   ]
  },
  {
   "cell_type": "code",
   "execution_count": 4,
   "metadata": {},
   "outputs": [
    {
     "name": "stdout",
     "output_type": "stream",
     "text": [
      "['0', '1', '2', '3', '4', '5', '6', '7', '8', '9', '10', '11', '12', '13', '14', '15', '16', '17', '18', '19']\n"
     ]
    }
   ],
   "source": [
    "data = pd.read_csv('simulated_data.csv')\n",
    "\n",
    "train = data[data['set']=='train']\n",
    "test = data[data['set']=='test']\n",
    "\n",
    "context_features = [c for c in data.columns if c not in ['set', 'arm', 'reward']]\n",
    "\n",
    "decisions = MAB._convert_array(train['arm'])\n",
    "rewards = MAB._convert_array(train['reward'])\n",
    "contexts = MAB._convert_matrix(train[context_features]).astype('float')\n",
    "\n",
    "test_contexts = MAB._convert_matrix(test[context_features]).astype('float')\n",
    "\n",
    "print(context_features)"
   ]
  },
  {
   "cell_type": "code",
   "execution_count": 5,
   "metadata": {},
   "outputs": [
    {
     "data": {
      "text/plain": [
       "<__main__.LinTSExample at 0x7ff224be3220>"
      ]
     },
     "execution_count": 5,
     "metadata": {},
     "output_type": "execute_result"
    }
   ],
   "source": [
    "rng = np.random.RandomState(seed=11)\n",
    "mab = LinearExample(rng=rng, arms=[0, 1, 2, 3], l2_lambda=1, alpha=1, regression='ts', n_jobs=1, backend=None)\n",
    "mab.arm_to_model[1]"
   ]
  },
  {
   "cell_type": "code",
   "execution_count": 6,
   "metadata": {},
   "outputs": [
    {
     "data": {
      "text/plain": [
       "-3.842999860229387"
      ]
     },
     "execution_count": 6,
     "metadata": {},
     "output_type": "execute_result"
    }
   ],
   "source": [
    "mab.fit(decisions, rewards, contexts)\n",
    "expectations = mab.predict_expectations(test_contexts)\n",
    "\n",
    "expectations[0][1]"
   ]
  },
  {
   "cell_type": "code",
   "execution_count": 7,
   "metadata": {},
   "outputs": [],
   "source": [
    "pickle.dump(mab, open('rh_mab.pkl', 'wb'))\n",
    "pickle.dump(expectations, open('rh_expectations.pkl', 'wb'))"
   ]
  },
  {
   "cell_type": "code",
   "execution_count": null,
   "metadata": {},
   "outputs": [],
   "source": []
  }
 ],
 "metadata": {
  "kernelspec": {
   "display_name": "Python 3",
   "language": "python",
   "name": "python3"
  },
  "language_info": {
   "codemirror_mode": {
    "name": "ipython",
    "version": 3
   },
   "file_extension": ".py",
   "mimetype": "text/x-python",
   "name": "python",
   "nbconvert_exporter": "python",
   "pygments_lexer": "ipython3",
   "version": "3.8.5"
  }
 },
 "nbformat": 4,
 "nbformat_minor": 4
}
