{
 "cells": [
  {
   "cell_type": "code",
   "execution_count": null,
   "id": "trained-region",
   "metadata": {},
   "outputs": [],
   "source": [
    "import numpy as np\n",
    "import sklearn\n",
    "\n",
    "print(np.__version__)\n",
    "print(sklearn.__version__)"
   ]
  },
  {
   "cell_type": "code",
   "execution_count": 170,
   "id": "adjacent-character",
   "metadata": {},
   "outputs": [
    {
     "name": "stdout",
     "output_type": "stream",
     "text": [
      "Overwriting example.py\n"
     ]
    }
   ],
   "source": [
    "%%writefile example_state.py\n",
    "\n",
    "import numpy as np\n",
    "\n",
    "d = 10\n",
    "alpha = 1 / d**0.5\n",
    "mu = np.ones(d)\n",
    "R = alpha * np.ones((d, d)) + (1 - alpha) * np.eye(d)\n",
    "# mu = np.ones(2)\n",
    "# R = np.array([4,0,0,4]).reshape(2,2)\n",
    "ls = []\n",
    "for _ in range(100):\n",
    "    rs = np.random.RandomState(587482)\n",
    "#     ls.append(rs.multivariate_normal(mu, R, 1)[0][0])\n",
    "    ls.append(rs.multivariate_normal(mu, R, 1))\n",
    "print(np.unique(ls))"
   ]
  },
  {
   "cell_type": "code",
   "execution_count": 177,
   "id": "corporate-escape",
   "metadata": {},
   "outputs": [
    {
     "name": "stdout",
     "output_type": "stream",
     "text": [
      "['[-1.29449222 -1.18401458 -0.23907897  0.0871302   0.09796903  0.48541808\\n  0.62308429  0.77117466  0.77555328  0.8510258 ]']\n"
     ]
    }
   ],
   "source": [
    "import subprocess\n",
    "\n",
    "python_exec = '~/Tools/miniconda3/envs/reprod/bin/python'\n",
    "ls = []\n",
    "for _ in range(100):\n",
    "    ls.append(subprocess.run([python_exec, 'example_state.py'], capture_output=True).stdout.decode('utf-8').strip())\n",
    "print(np.unique(ls))"
   ]
  },
  {
   "cell_type": "code",
   "execution_count": 178,
   "id": "resistant-brick",
   "metadata": {},
   "outputs": [
    {
     "name": "stdout",
     "output_type": "stream",
     "text": [
      "['[-0.91476358 -0.88690333 -0.78051351 -0.20018694  0.09796903  0.26094846\\n  0.44008538  0.73296053  0.84608528  1.37808826]']\n"
     ]
    }
   ],
   "source": [
    "python_exec2 = '~/Tools/miniconda3/envs/reprod2/bin/python'\n",
    "ls = []\n",
    "for _ in range(100):\n",
    "    ls.append(subprocess.run([python_exec2, 'example_state.py'], capture_output=True).stdout.decode('utf-8').strip())\n",
    "print(np.unique(ls))"
   ]
  },
  {
   "cell_type": "code",
   "execution_count": 192,
   "id": "graduate-brighton",
   "metadata": {},
   "outputs": [
    {
     "name": "stdout",
     "output_type": "stream",
     "text": [
      "Overwriting example.py\n"
     ]
    }
   ],
   "source": [
    "%%writefile example_generator.py\n",
    "\n",
    "import numpy as np\n",
    "\n",
    "d = 10\n",
    "alpha = 1 / d**0.5\n",
    "mu = np.ones(d)\n",
    "R = alpha * np.ones((d, d)) + (1 - alpha) * np.eye(d)\n",
    "# mu = np.ones(2)\n",
    "# R = np.array([4,0,0,4]).reshape(2,2)\n",
    "ls = []\n",
    "for _ in range(100):\n",
    "    rng = np.random.default_rng(587482)\n",
    "    ls.append(rng.multivariate_normal(mu, R, 1))\n",
    "print(np.unique(ls))"
   ]
  },
  {
   "cell_type": "code",
   "execution_count": 193,
   "id": "elect-vitamin",
   "metadata": {},
   "outputs": [
    {
     "name": "stdout",
     "output_type": "stream",
     "text": [
      "['[-0.59976076  0.08545111  0.53039505  1.21541954  1.50678283  1.57857724\\n  1.73852258  1.82337366  1.86298639  2.80396351]']\n"
     ]
    }
   ],
   "source": [
    "import subprocess\n",
    "\n",
    "python_exec = '~/Tools/miniconda3/envs/reprod/bin/python'\n",
    "ls = []\n",
    "for _ in range(100):\n",
    "    ls.append(subprocess.run([python_exec, 'example_generator.py'], capture_output=True).stdout.decode('utf-8').strip())\n",
    "print(np.unique(ls))"
   ]
  },
  {
   "cell_type": "code",
   "execution_count": 194,
   "id": "burning-visitor",
   "metadata": {},
   "outputs": [
    {
     "name": "stdout",
     "output_type": "stream",
     "text": [
      "['[-1.08879218  0.59651304  0.73234861  1.1709112   1.50678283  1.63019111\\n  1.81584264  1.82021323  1.99550934  2.36619133]']\n"
     ]
    }
   ],
   "source": [
    "python_exec2 = '~/Tools/miniconda3/envs/reprod2/bin/python'\n",
    "ls = []\n",
    "for _ in range(100):\n",
    "    ls.append(subprocess.run([python_exec2, 'example_generator.py'], capture_output=True).stdout.decode('utf-8').strip())\n",
    "print(np.unique(ls))"
   ]
  },
  {
   "cell_type": "code",
   "execution_count": 195,
   "id": "living-israel",
   "metadata": {},
   "outputs": [
    {
     "name": "stdout",
     "output_type": "stream",
     "text": [
      "Writing example_cholesky.py\n"
     ]
    }
   ],
   "source": [
    "%%writefile example_cholesky.py\n",
    "\n",
    "import numpy as np\n",
    "\n",
    "d = 10\n",
    "alpha = 1 / d**0.5\n",
    "mu = np.ones(d)\n",
    "R = alpha * np.ones((d, d)) + (1 - alpha) * np.eye(d)\n",
    "# mu = np.ones(2)\n",
    "# R = np.array([4,0,0,4]).reshape(2,2)\n",
    "ls = []\n",
    "for _ in range(100):\n",
    "    rng = np.random.default_rng(587482)\n",
    "    ls.append(rng.multivariate_normal(mu, R, 1, method='cholesky'))\n",
    "print(np.unique(ls))"
   ]
  },
  {
   "cell_type": "code",
   "execution_count": 196,
   "id": "micro-differential",
   "metadata": {},
   "outputs": [
    {
     "name": "stdout",
     "output_type": "stream",
     "text": [
      "['[-1.0727797  -0.07291691  0.45869543  0.58951086  0.8692535   0.99334947\\n  1.10279909  1.20424823  1.30486946  2.77562366]']\n"
     ]
    }
   ],
   "source": [
    "import subprocess\n",
    "\n",
    "python_exec = '~/Tools/miniconda3/envs/reprod/bin/python'\n",
    "ls = []\n",
    "for _ in range(100):\n",
    "    ls.append(subprocess.run([python_exec, 'example_cholesky.py'], capture_output=True).stdout.decode('utf-8').strip())\n",
    "print(np.unique(ls))"
   ]
  },
  {
   "cell_type": "code",
   "execution_count": 197,
   "id": "controlling-vinyl",
   "metadata": {},
   "outputs": [
    {
     "name": "stdout",
     "output_type": "stream",
     "text": [
      "['[-1.0727797  -0.07291691  0.45869543  0.58951086  0.8692535   0.99334947\\n  1.10279909  1.20424823  1.30486946  2.77562366]']\n"
     ]
    }
   ],
   "source": [
    "python_exec2 = '~/Tools/miniconda3/envs/reprod2/bin/python'\n",
    "ls = []\n",
    "for _ in range(100):\n",
    "    ls.append(subprocess.run([python_exec2, 'example_cholesky.py'], capture_output=True).stdout.decode('utf-8').strip())\n",
    "print(np.unique(ls))"
   ]
  },
  {
   "cell_type": "markdown",
   "id": "brazilian-concentration",
   "metadata": {},
   "source": [
    "a = np.eye(2)\n",
    "a[0, 1] = a[1, 0] = 1 + 1e-10\n",
    "rs = np.random.RandomState(587482)\n",
    "rs.multivariate_normal(mu, a, 1)"
   ]
  },
  {
   "cell_type": "code",
   "execution_count": 121,
   "id": "attempted-essence",
   "metadata": {},
   "outputs": [
    {
     "data": {
      "text/plain": [
       "array([[3.91091118, 4.36780621]])"
      ]
     },
     "execution_count": 121,
     "metadata": {},
     "output_type": "execute_result"
    }
   ],
   "source": [
    "rs = np.random.RandomState(587482)\n",
    "mu = np.ones(2)\n",
    "R = np.array([4,0,0,4]).reshape(2,2)\n",
    "rs.multivariate_normal(mu, R, 1)"
   ]
  },
  {
   "cell_type": "code",
   "execution_count": null,
   "id": "wireless-dinner",
   "metadata": {},
   "outputs": [],
   "source": []
  },
  {
   "cell_type": "code",
   "execution_count": null,
   "id": "missing-terry",
   "metadata": {},
   "outputs": [],
   "source": []
  }
 ],
 "metadata": {
  "kernelspec": {
   "display_name": "Python [conda env:reprod]",
   "language": "python",
   "name": "conda-env-reprod-py"
  },
  "language_info": {
   "codemirror_mode": {
    "name": "ipython",
    "version": 3
   },
   "file_extension": ".py",
   "mimetype": "text/x-python",
   "name": "python",
   "nbconvert_exporter": "python",
   "pygments_lexer": "ipython3",
   "version": "3.8.8"
  }
 },
 "nbformat": 4,
 "nbformat_minor": 5
}
