{
 "cells": [
  {
   "cell_type": "markdown",
   "metadata": {},
   "source": [
    "# Experiments on the Reproducibility of Results with LinTS\n",
    "## Imports and Custom Class"
   ]
  },
  {
   "cell_type": "code",
   "execution_count": 2,
   "metadata": {},
   "outputs": [],
   "source": [
    "# Run this cell for every experiment\n",
    "import pandas as pd\n",
    "import numpy as np\n",
    "import platform\n",
    "import pickle\n",
    "from sklearn.preprocessing import StandardScaler\n",
    "\n",
    "from mabwiser.mab import MAB\n",
    "from mabwiser.linear import _RidgeRegression, _Linear\n",
    "\n",
    "class LinTSExample(_RidgeRegression):\n",
    "    def predict(self, x):\n",
    "        beta_sampled = rng.multivariate_normal(x, self.A_inv)\n",
    "        return np.dot(x, beta_sampled)\n",
    "    \n",
    "class LinearExample(_Linear):\n",
    "    factory = {\"ts\": LinTSExample}\n",
    "\n",
    "    def __init__(self, rng, arms, n_jobs=1, backend=None, l2_lambda=1, alpha=1, regression='ts', arm_to_scaler = None):\n",
    "        super().__init__(rng, arms, n_jobs, backend, l2_lambda, alpha, regression)\n",
    "       \n",
    "        self.l2_lambda = l2_lambda\n",
    "        self.alpha = alpha\n",
    "        self.regression = regression\n",
    "\n",
    "        # Create ridge regression model for each arm\n",
    "        self.num_features = None\n",
    "\n",
    "        if arm_to_scaler is None:\n",
    "            arm_to_scaler = dict((arm, None) for arm in arms)\n",
    "\n",
    "        self.arm_to_model = dict((arm, LinearExample.factory.get(regression)(rng, l2_lambda,\n",
    "                                                                       alpha, arm_to_scaler[arm])) for arm in arms)\n",
    " "
   ]
  },
  {
   "cell_type": "markdown",
   "metadata": {},
   "source": [
    "For these experiments we are using the MovieLens 100k data set, available for download at [https://grouplens.org/datasets/movielens/](https://grouplens.org/datasets/movielens/)\n",
    "\n",
    "Preprocessing is in the main notebook."
   ]
  },
  {
   "cell_type": "markdown",
   "metadata": {},
   "source": [
    "## Windows"
   ]
  },
  {
   "cell_type": "code",
   "execution_count": 4,
   "metadata": {},
   "outputs": [
    {
     "data": {
      "text/plain": [
       "'Windows-10-10.0.18362-SP0'"
      ]
     },
     "execution_count": 4,
     "metadata": {},
     "output_type": "execute_result"
    }
   ],
   "source": [
    "platform.platform()"
   ]
  },
  {
   "cell_type": "code",
   "execution_count": 7,
   "metadata": {},
   "outputs": [
    {
     "name": "stdout",
     "output_type": "stream",
     "text": [
      "1.19.4\n",
      "0.23.0\n"
     ]
    }
   ],
   "source": [
    "import sklearn \n",
    "print(np.__version__)\n",
    "print(sklearn.__version__)\n"
   ]
  },
  {
   "cell_type": "code",
   "execution_count": 8,
   "metadata": {},
   "outputs": [],
   "source": [
    "users = pd.read_csv('users.csv')\n",
    "responses = pd.read_csv('responses.csv')"
   ]
  },
  {
   "cell_type": "code",
   "execution_count": 9,
   "metadata": {},
   "outputs": [],
   "source": [
    "train = users[users['set']=='train']\n",
    "test = users[users['set']=='test']\n",
    "\n",
    "train = train.merge(responses, how='left', on='user id')\n",
    "context_features = [c for c in users.columns if c not in ['user id', 'set']]"
   ]
  },
  {
   "cell_type": "code",
   "execution_count": 10,
   "metadata": {},
   "outputs": [],
   "source": [
    "decisions = MAB._convert_array(train['item id'])\n",
    "rewards = MAB._convert_array(train['rated'])\n",
    "contexts = MAB._convert_matrix(train[context_features]).astype('float')\n",
    "\n",
    "test_contexts = MAB._convert_matrix(test[context_features]).astype('float')"
   ]
  },
  {
   "cell_type": "code",
   "execution_count": 11,
   "metadata": {},
   "outputs": [
    {
     "data": {
      "text/plain": [
       "<__main__.LinTSExample at 0x2298003cd68>"
      ]
     },
     "execution_count": 11,
     "metadata": {},
     "output_type": "execute_result"
    }
   ],
   "source": [
    "rng = np.random.RandomState(seed=11)\n",
    "item_ids = list(responses['item id'].unique())\n",
    "mab = LinearExample(rng=rng, arms=item_ids, l2_lambda=1, alpha=1, regression='ts', n_jobs=1, backend=None)\n",
    "mab.arm_to_model[1]"
   ]
  },
  {
   "cell_type": "code",
   "execution_count": 12,
   "metadata": {},
   "outputs": [
    {
     "name": "stderr",
     "output_type": "stream",
     "text": [
      "C:\\ProgramData\\Anaconda3\\lib\\site-packages\\sklearn\\base.py:334: UserWarning: Trying to unpickle estimator StandardScaler from version 0.23.2 when using version 0.23.0. This might lead to breaking code or invalid results. Use at your own risk.\n",
      "  UserWarning)\n"
     ]
    }
   ],
   "source": [
    "scaler = pickle.load(open('scaler.pkl', 'rb'))\n",
    "contexts = scaler.fit_transform(contexts)\n",
    "test_contexts = scaler.transform(test_contexts)"
   ]
  },
  {
   "cell_type": "code",
   "execution_count": 13,
   "metadata": {},
   "outputs": [],
   "source": [
    "mab.fit(decisions, rewards, contexts)"
   ]
  },
  {
   "cell_type": "code",
   "execution_count": 14,
   "metadata": {},
   "outputs": [],
   "source": [
    "win_expectations = mab.predict_expectations(test_contexts)"
   ]
  },
  {
   "cell_type": "code",
   "execution_count": 15,
   "metadata": {},
   "outputs": [
    {
     "data": {
      "text/plain": [
       "13.999455973138756"
      ]
     },
     "execution_count": 15,
     "metadata": {},
     "output_type": "execute_result"
    }
   ],
   "source": [
    "win_expectations[0][1]"
   ]
  },
  {
   "cell_type": "code",
   "execution_count": 16,
   "metadata": {},
   "outputs": [
    {
     "data": {
      "text/plain": [
       "13.61917540941403"
      ]
     },
     "execution_count": 16,
     "metadata": {},
     "output_type": "execute_result"
    }
   ],
   "source": [
    "win_expectations[0][2]"
   ]
  },
  {
   "cell_type": "code",
   "execution_count": 17,
   "metadata": {},
   "outputs": [],
   "source": [
    "pickle.dump(mab, open('win_mab.pkl', 'wb'))\n",
    "pickle.dump(win_expectations, open('win_expectations.pkl', 'wb'))"
   ]
  },
  {
   "cell_type": "code",
   "execution_count": null,
   "metadata": {},
   "outputs": [],
   "source": []
  }
 ],
 "metadata": {
  "kernelspec": {
   "display_name": "Python 3",
   "language": "python",
   "name": "python3"
  },
  "language_info": {
   "codemirror_mode": {
    "name": "ipython",
    "version": 3
   },
   "file_extension": ".py",
   "mimetype": "text/x-python",
   "name": "python",
   "nbconvert_exporter": "python",
   "pygments_lexer": "ipython3",
   "version": "3.8.3"
  },
  "toc": {
   "base_numbering": 1,
   "nav_menu": {},
   "number_sections": true,
   "sideBar": true,
   "skip_h1_title": false,
   "title_cell": "Table of Contents",
   "title_sidebar": "Contents",
   "toc_cell": false,
   "toc_position": {},
   "toc_section_display": true,
   "toc_window_display": false
  }
 },
 "nbformat": 4,
 "nbformat_minor": 4
}
