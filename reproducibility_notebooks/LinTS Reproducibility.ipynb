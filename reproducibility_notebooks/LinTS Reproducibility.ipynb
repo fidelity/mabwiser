{
 "cells": [
  {
   "cell_type": "markdown",
   "metadata": {},
   "source": [
    "# Experiments on the Reproducibility of Results with LinTS\n",
    "## Imports and Custom Class"
   ]
  },
  {
   "cell_type": "code",
   "execution_count": 1,
   "metadata": {},
   "outputs": [],
   "source": [
    "# Run this cell for every experiment\n",
    "import pandas as pd\n",
    "import numpy as np\n",
    "import platform\n",
    "import pickle\n",
    "from sklearn.preprocessing import StandardScaler\n",
    "\n",
    "from mabwiser.mab import MAB\n",
    "from mabwiser.linear import _RidgeRegression, _Linear\n",
    "\n",
    "class LinTSExample(_RidgeRegression):\n",
    "    def predict(self, x):\n",
    "        beta_sampled = rng.multivariate_normal(x, self.A_inv)\n",
    "        return np.dot(x, beta_sampled)\n",
    "    \n",
    "class LinearExample(_Linear):\n",
    "    factory = {\"ts\": LinTSExample}\n",
    "\n",
    "    def __init__(self, rng, arms, n_jobs=1, backend=None, l2_lambda=1, alpha=1, regression='ts', arm_to_scaler = None):\n",
    "        super().__init__(rng, arms, n_jobs, backend, l2_lambda, alpha, regression)\n",
    "       \n",
    "        self.l2_lambda = l2_lambda\n",
    "        self.alpha = alpha\n",
    "        self.regression = regression\n",
    "\n",
    "        # Create ridge regression model for each arm\n",
    "        self.num_features = None\n",
    "\n",
    "        if arm_to_scaler is None:\n",
    "            arm_to_scaler = dict((arm, None) for arm in arms)\n",
    "\n",
    "        self.arm_to_model = dict((arm, LinearExample.factory.get(regression)(rng, l2_lambda,\n",
    "                                                                       alpha, arm_to_scaler[arm])) for arm in arms)\n",
    " "
   ]
  },
  {
   "cell_type": "markdown",
   "metadata": {},
   "source": [
    "## Preprocessing\n",
    "For these experiments we are using the MovieLens 100k data set, available for download at [https://grouplens.org/datasets/movielens/](https://grouplens.org/datasets/movielens/)"
   ]
  },
  {
   "cell_type": "code",
   "execution_count": 2,
   "metadata": {},
   "outputs": [],
   "source": [
    "data = pd.read_csv('ml-100k/u.data', sep=\"\\t\", header=None)"
   ]
  },
  {
   "cell_type": "code",
   "execution_count": 3,
   "metadata": {},
   "outputs": [
    {
     "data": {
      "text/html": [
       "<div>\n",
       "<style scoped>\n",
       "    .dataframe tbody tr th:only-of-type {\n",
       "        vertical-align: middle;\n",
       "    }\n",
       "\n",
       "    .dataframe tbody tr th {\n",
       "        vertical-align: top;\n",
       "    }\n",
       "\n",
       "    .dataframe thead th {\n",
       "        text-align: right;\n",
       "    }\n",
       "</style>\n",
       "<table border=\"1\" class=\"dataframe\">\n",
       "  <thead>\n",
       "    <tr style=\"text-align: right;\">\n",
       "      <th></th>\n",
       "      <th>0</th>\n",
       "      <th>1</th>\n",
       "      <th>2</th>\n",
       "      <th>3</th>\n",
       "    </tr>\n",
       "  </thead>\n",
       "  <tbody>\n",
       "    <tr>\n",
       "      <th>0</th>\n",
       "      <td>196</td>\n",
       "      <td>242</td>\n",
       "      <td>3</td>\n",
       "      <td>881250949</td>\n",
       "    </tr>\n",
       "    <tr>\n",
       "      <th>1</th>\n",
       "      <td>186</td>\n",
       "      <td>302</td>\n",
       "      <td>3</td>\n",
       "      <td>891717742</td>\n",
       "    </tr>\n",
       "    <tr>\n",
       "      <th>2</th>\n",
       "      <td>22</td>\n",
       "      <td>377</td>\n",
       "      <td>1</td>\n",
       "      <td>878887116</td>\n",
       "    </tr>\n",
       "    <tr>\n",
       "      <th>3</th>\n",
       "      <td>244</td>\n",
       "      <td>51</td>\n",
       "      <td>2</td>\n",
       "      <td>880606923</td>\n",
       "    </tr>\n",
       "    <tr>\n",
       "      <th>4</th>\n",
       "      <td>166</td>\n",
       "      <td>346</td>\n",
       "      <td>1</td>\n",
       "      <td>886397596</td>\n",
       "    </tr>\n",
       "  </tbody>\n",
       "</table>\n",
       "</div>"
      ],
      "text/plain": [
       "     0    1  2          3\n",
       "0  196  242  3  881250949\n",
       "1  186  302  3  891717742\n",
       "2   22  377  1  878887116\n",
       "3  244   51  2  880606923\n",
       "4  166  346  1  886397596"
      ]
     },
     "execution_count": 3,
     "metadata": {},
     "output_type": "execute_result"
    }
   ],
   "source": [
    "data.head()"
   ]
  },
  {
   "cell_type": "code",
   "execution_count": 4,
   "metadata": {},
   "outputs": [],
   "source": [
    "data.columns = ['user id', 'item id', 'rating', 'timestamp']"
   ]
  },
  {
   "cell_type": "code",
   "execution_count": 5,
   "metadata": {},
   "outputs": [],
   "source": [
    "users = pd.read_csv('ml-100k/u.user', sep=\"|\", header=None)\n",
    "users.columns = ['user id', 'age', 'gender', 'occupation', 'zip code']"
   ]
  },
  {
   "cell_type": "code",
   "execution_count": 6,
   "metadata": {},
   "outputs": [
    {
     "data": {
      "text/html": [
       "<div>\n",
       "<style scoped>\n",
       "    .dataframe tbody tr th:only-of-type {\n",
       "        vertical-align: middle;\n",
       "    }\n",
       "\n",
       "    .dataframe tbody tr th {\n",
       "        vertical-align: top;\n",
       "    }\n",
       "\n",
       "    .dataframe thead th {\n",
       "        text-align: right;\n",
       "    }\n",
       "</style>\n",
       "<table border=\"1\" class=\"dataframe\">\n",
       "  <thead>\n",
       "    <tr style=\"text-align: right;\">\n",
       "      <th></th>\n",
       "      <th>user id</th>\n",
       "      <th>age</th>\n",
       "      <th>gender</th>\n",
       "      <th>occupation</th>\n",
       "      <th>zip code</th>\n",
       "    </tr>\n",
       "  </thead>\n",
       "  <tbody>\n",
       "    <tr>\n",
       "      <th>0</th>\n",
       "      <td>1</td>\n",
       "      <td>24</td>\n",
       "      <td>M</td>\n",
       "      <td>technician</td>\n",
       "      <td>85711</td>\n",
       "    </tr>\n",
       "    <tr>\n",
       "      <th>1</th>\n",
       "      <td>2</td>\n",
       "      <td>53</td>\n",
       "      <td>F</td>\n",
       "      <td>other</td>\n",
       "      <td>94043</td>\n",
       "    </tr>\n",
       "    <tr>\n",
       "      <th>2</th>\n",
       "      <td>3</td>\n",
       "      <td>23</td>\n",
       "      <td>M</td>\n",
       "      <td>writer</td>\n",
       "      <td>32067</td>\n",
       "    </tr>\n",
       "    <tr>\n",
       "      <th>3</th>\n",
       "      <td>4</td>\n",
       "      <td>24</td>\n",
       "      <td>M</td>\n",
       "      <td>technician</td>\n",
       "      <td>43537</td>\n",
       "    </tr>\n",
       "    <tr>\n",
       "      <th>4</th>\n",
       "      <td>5</td>\n",
       "      <td>33</td>\n",
       "      <td>F</td>\n",
       "      <td>other</td>\n",
       "      <td>15213</td>\n",
       "    </tr>\n",
       "  </tbody>\n",
       "</table>\n",
       "</div>"
      ],
      "text/plain": [
       "   user id  age gender  occupation zip code\n",
       "0        1   24      M  technician    85711\n",
       "1        2   53      F       other    94043\n",
       "2        3   23      M      writer    32067\n",
       "3        4   24      M  technician    43537\n",
       "4        5   33      F       other    15213"
      ]
     },
     "execution_count": 6,
     "metadata": {},
     "output_type": "execute_result"
    }
   ],
   "source": [
    "users.head()"
   ]
  },
  {
   "cell_type": "code",
   "execution_count": 7,
   "metadata": {},
   "outputs": [
    {
     "data": {
      "text/plain": [
       "M    670\n",
       "F    273\n",
       "Name: gender, dtype: int64"
      ]
     },
     "execution_count": 7,
     "metadata": {},
     "output_type": "execute_result"
    }
   ],
   "source": [
    "users['gender'].value_counts()"
   ]
  },
  {
   "cell_type": "code",
   "execution_count": 8,
   "metadata": {},
   "outputs": [],
   "source": [
    "users['gender'] = users.apply(lambda x: 0 if x['gender']=='M' else 1, axis=1)"
   ]
  },
  {
   "cell_type": "code",
   "execution_count": 9,
   "metadata": {},
   "outputs": [
    {
     "data": {
      "text/plain": [
       "student          196\n",
       "other            105\n",
       "educator          95\n",
       "administrator     79\n",
       "engineer          67\n",
       "programmer        66\n",
       "librarian         51\n",
       "writer            45\n",
       "executive         32\n",
       "scientist         31\n",
       "artist            28\n",
       "technician        27\n",
       "marketing         26\n",
       "entertainment     18\n",
       "healthcare        16\n",
       "retired           14\n",
       "salesman          12\n",
       "lawyer            12\n",
       "none               9\n",
       "homemaker          7\n",
       "doctor             7\n",
       "Name: occupation, dtype: int64"
      ]
     },
     "execution_count": 9,
     "metadata": {},
     "output_type": "execute_result"
    }
   ],
   "source": [
    "users['occupation'].value_counts()"
   ]
  },
  {
   "cell_type": "code",
   "execution_count": 10,
   "metadata": {
    "scrolled": false
   },
   "outputs": [],
   "source": [
    "from sklearn.preprocessing import OneHotEncoder, OrdinalEncoder\n",
    "\n",
    "oh_en = OneHotEncoder()\n",
    "occupations = oh_en.fit_transform(users['occupation'].values.reshape(-1, 1))"
   ]
  },
  {
   "cell_type": "code",
   "execution_count": 11,
   "metadata": {},
   "outputs": [
    {
     "data": {
      "text/plain": [
       "<1x21 sparse matrix of type '<class 'numpy.float64'>'\n",
       "\twith 1 stored elements in Compressed Sparse Row format>"
      ]
     },
     "execution_count": 11,
     "metadata": {},
     "output_type": "execute_result"
    }
   ],
   "source": [
    "occupations[0]"
   ]
  },
  {
   "cell_type": "code",
   "execution_count": 12,
   "metadata": {},
   "outputs": [
    {
     "data": {
      "text/plain": [
       "<943x21 sparse matrix of type '<class 'numpy.float64'>'\n",
       "\twith 943 stored elements in Compressed Sparse Row format>"
      ]
     },
     "execution_count": 12,
     "metadata": {},
     "output_type": "execute_result"
    }
   ],
   "source": [
    "occupations"
   ]
  },
  {
   "cell_type": "code",
   "execution_count": 13,
   "metadata": {},
   "outputs": [],
   "source": [
    "occupations = pd.DataFrame.sparse.from_spmatrix(occupations)"
   ]
  },
  {
   "cell_type": "code",
   "execution_count": 14,
   "metadata": {},
   "outputs": [
    {
     "data": {
      "text/html": [
       "<div>\n",
       "<style scoped>\n",
       "    .dataframe tbody tr th:only-of-type {\n",
       "        vertical-align: middle;\n",
       "    }\n",
       "\n",
       "    .dataframe tbody tr th {\n",
       "        vertical-align: top;\n",
       "    }\n",
       "\n",
       "    .dataframe thead th {\n",
       "        text-align: right;\n",
       "    }\n",
       "</style>\n",
       "<table border=\"1\" class=\"dataframe\">\n",
       "  <thead>\n",
       "    <tr style=\"text-align: right;\">\n",
       "      <th></th>\n",
       "      <th>0</th>\n",
       "      <th>1</th>\n",
       "      <th>2</th>\n",
       "      <th>3</th>\n",
       "      <th>4</th>\n",
       "      <th>5</th>\n",
       "      <th>6</th>\n",
       "      <th>7</th>\n",
       "      <th>8</th>\n",
       "      <th>9</th>\n",
       "      <th>...</th>\n",
       "      <th>11</th>\n",
       "      <th>12</th>\n",
       "      <th>13</th>\n",
       "      <th>14</th>\n",
       "      <th>15</th>\n",
       "      <th>16</th>\n",
       "      <th>17</th>\n",
       "      <th>18</th>\n",
       "      <th>19</th>\n",
       "      <th>20</th>\n",
       "    </tr>\n",
       "  </thead>\n",
       "  <tbody>\n",
       "    <tr>\n",
       "      <th>0</th>\n",
       "      <td>0.0</td>\n",
       "      <td>0.0</td>\n",
       "      <td>0.0</td>\n",
       "      <td>0.0</td>\n",
       "      <td>0.0</td>\n",
       "      <td>0.0</td>\n",
       "      <td>0.0</td>\n",
       "      <td>0.0</td>\n",
       "      <td>0.0</td>\n",
       "      <td>0.0</td>\n",
       "      <td>...</td>\n",
       "      <td>0.0</td>\n",
       "      <td>0.0</td>\n",
       "      <td>0.0</td>\n",
       "      <td>0.0</td>\n",
       "      <td>0.0</td>\n",
       "      <td>0.0</td>\n",
       "      <td>0.0</td>\n",
       "      <td>0.0</td>\n",
       "      <td>1.0</td>\n",
       "      <td>0.0</td>\n",
       "    </tr>\n",
       "    <tr>\n",
       "      <th>1</th>\n",
       "      <td>0.0</td>\n",
       "      <td>0.0</td>\n",
       "      <td>0.0</td>\n",
       "      <td>0.0</td>\n",
       "      <td>0.0</td>\n",
       "      <td>0.0</td>\n",
       "      <td>0.0</td>\n",
       "      <td>0.0</td>\n",
       "      <td>0.0</td>\n",
       "      <td>0.0</td>\n",
       "      <td>...</td>\n",
       "      <td>0.0</td>\n",
       "      <td>0.0</td>\n",
       "      <td>1.0</td>\n",
       "      <td>0.0</td>\n",
       "      <td>0.0</td>\n",
       "      <td>0.0</td>\n",
       "      <td>0.0</td>\n",
       "      <td>0.0</td>\n",
       "      <td>0.0</td>\n",
       "      <td>0.0</td>\n",
       "    </tr>\n",
       "    <tr>\n",
       "      <th>2</th>\n",
       "      <td>0.0</td>\n",
       "      <td>0.0</td>\n",
       "      <td>0.0</td>\n",
       "      <td>0.0</td>\n",
       "      <td>0.0</td>\n",
       "      <td>0.0</td>\n",
       "      <td>0.0</td>\n",
       "      <td>0.0</td>\n",
       "      <td>0.0</td>\n",
       "      <td>0.0</td>\n",
       "      <td>...</td>\n",
       "      <td>0.0</td>\n",
       "      <td>0.0</td>\n",
       "      <td>0.0</td>\n",
       "      <td>0.0</td>\n",
       "      <td>0.0</td>\n",
       "      <td>0.0</td>\n",
       "      <td>0.0</td>\n",
       "      <td>0.0</td>\n",
       "      <td>0.0</td>\n",
       "      <td>1.0</td>\n",
       "    </tr>\n",
       "    <tr>\n",
       "      <th>3</th>\n",
       "      <td>0.0</td>\n",
       "      <td>0.0</td>\n",
       "      <td>0.0</td>\n",
       "      <td>0.0</td>\n",
       "      <td>0.0</td>\n",
       "      <td>0.0</td>\n",
       "      <td>0.0</td>\n",
       "      <td>0.0</td>\n",
       "      <td>0.0</td>\n",
       "      <td>0.0</td>\n",
       "      <td>...</td>\n",
       "      <td>0.0</td>\n",
       "      <td>0.0</td>\n",
       "      <td>0.0</td>\n",
       "      <td>0.0</td>\n",
       "      <td>0.0</td>\n",
       "      <td>0.0</td>\n",
       "      <td>0.0</td>\n",
       "      <td>0.0</td>\n",
       "      <td>1.0</td>\n",
       "      <td>0.0</td>\n",
       "    </tr>\n",
       "    <tr>\n",
       "      <th>4</th>\n",
       "      <td>0.0</td>\n",
       "      <td>0.0</td>\n",
       "      <td>0.0</td>\n",
       "      <td>0.0</td>\n",
       "      <td>0.0</td>\n",
       "      <td>0.0</td>\n",
       "      <td>0.0</td>\n",
       "      <td>0.0</td>\n",
       "      <td>0.0</td>\n",
       "      <td>0.0</td>\n",
       "      <td>...</td>\n",
       "      <td>0.0</td>\n",
       "      <td>0.0</td>\n",
       "      <td>1.0</td>\n",
       "      <td>0.0</td>\n",
       "      <td>0.0</td>\n",
       "      <td>0.0</td>\n",
       "      <td>0.0</td>\n",
       "      <td>0.0</td>\n",
       "      <td>0.0</td>\n",
       "      <td>0.0</td>\n",
       "    </tr>\n",
       "  </tbody>\n",
       "</table>\n",
       "<p>5 rows × 21 columns</p>\n",
       "</div>"
      ],
      "text/plain": [
       "    0    1    2    3    4    5    6    7    8    9   ...   11   12   13   14  \\\n",
       "0  0.0  0.0  0.0  0.0  0.0  0.0  0.0  0.0  0.0  0.0  ...  0.0  0.0  0.0  0.0   \n",
       "1  0.0  0.0  0.0  0.0  0.0  0.0  0.0  0.0  0.0  0.0  ...  0.0  0.0  1.0  0.0   \n",
       "2  0.0  0.0  0.0  0.0  0.0  0.0  0.0  0.0  0.0  0.0  ...  0.0  0.0  0.0  0.0   \n",
       "3  0.0  0.0  0.0  0.0  0.0  0.0  0.0  0.0  0.0  0.0  ...  0.0  0.0  0.0  0.0   \n",
       "4  0.0  0.0  0.0  0.0  0.0  0.0  0.0  0.0  0.0  0.0  ...  0.0  0.0  1.0  0.0   \n",
       "\n",
       "    15   16   17   18   19   20  \n",
       "0  0.0  0.0  0.0  0.0  1.0  0.0  \n",
       "1  0.0  0.0  0.0  0.0  0.0  0.0  \n",
       "2  0.0  0.0  0.0  0.0  0.0  1.0  \n",
       "3  0.0  0.0  0.0  0.0  1.0  0.0  \n",
       "4  0.0  0.0  0.0  0.0  0.0  0.0  \n",
       "\n",
       "[5 rows x 21 columns]"
      ]
     },
     "execution_count": 14,
     "metadata": {},
     "output_type": "execute_result"
    }
   ],
   "source": [
    "occupations.head()"
   ]
  },
  {
   "cell_type": "code",
   "execution_count": 15,
   "metadata": {},
   "outputs": [],
   "source": [
    "occupations.columns = oh_en.categories_"
   ]
  },
  {
   "cell_type": "code",
   "execution_count": 16,
   "metadata": {},
   "outputs": [
    {
     "data": {
      "text/html": [
       "<div>\n",
       "<style scoped>\n",
       "    .dataframe tbody tr th:only-of-type {\n",
       "        vertical-align: middle;\n",
       "    }\n",
       "\n",
       "    .dataframe tbody tr th {\n",
       "        vertical-align: top;\n",
       "    }\n",
       "\n",
       "    .dataframe thead tr th {\n",
       "        text-align: left;\n",
       "    }\n",
       "</style>\n",
       "<table border=\"1\" class=\"dataframe\">\n",
       "  <thead>\n",
       "    <tr>\n",
       "      <th></th>\n",
       "      <th>administrator</th>\n",
       "      <th>artist</th>\n",
       "      <th>doctor</th>\n",
       "      <th>educator</th>\n",
       "      <th>engineer</th>\n",
       "      <th>entertainment</th>\n",
       "      <th>executive</th>\n",
       "      <th>healthcare</th>\n",
       "      <th>homemaker</th>\n",
       "      <th>lawyer</th>\n",
       "      <th>...</th>\n",
       "      <th>marketing</th>\n",
       "      <th>none</th>\n",
       "      <th>other</th>\n",
       "      <th>programmer</th>\n",
       "      <th>retired</th>\n",
       "      <th>salesman</th>\n",
       "      <th>scientist</th>\n",
       "      <th>student</th>\n",
       "      <th>technician</th>\n",
       "      <th>writer</th>\n",
       "    </tr>\n",
       "  </thead>\n",
       "  <tbody>\n",
       "    <tr>\n",
       "      <th>0</th>\n",
       "      <td>0.0</td>\n",
       "      <td>0.0</td>\n",
       "      <td>0.0</td>\n",
       "      <td>0.0</td>\n",
       "      <td>0.0</td>\n",
       "      <td>0.0</td>\n",
       "      <td>0.0</td>\n",
       "      <td>0.0</td>\n",
       "      <td>0.0</td>\n",
       "      <td>0.0</td>\n",
       "      <td>...</td>\n",
       "      <td>0.0</td>\n",
       "      <td>0.0</td>\n",
       "      <td>0.0</td>\n",
       "      <td>0.0</td>\n",
       "      <td>0.0</td>\n",
       "      <td>0.0</td>\n",
       "      <td>0.0</td>\n",
       "      <td>0.0</td>\n",
       "      <td>1.0</td>\n",
       "      <td>0.0</td>\n",
       "    </tr>\n",
       "    <tr>\n",
       "      <th>1</th>\n",
       "      <td>0.0</td>\n",
       "      <td>0.0</td>\n",
       "      <td>0.0</td>\n",
       "      <td>0.0</td>\n",
       "      <td>0.0</td>\n",
       "      <td>0.0</td>\n",
       "      <td>0.0</td>\n",
       "      <td>0.0</td>\n",
       "      <td>0.0</td>\n",
       "      <td>0.0</td>\n",
       "      <td>...</td>\n",
       "      <td>0.0</td>\n",
       "      <td>0.0</td>\n",
       "      <td>1.0</td>\n",
       "      <td>0.0</td>\n",
       "      <td>0.0</td>\n",
       "      <td>0.0</td>\n",
       "      <td>0.0</td>\n",
       "      <td>0.0</td>\n",
       "      <td>0.0</td>\n",
       "      <td>0.0</td>\n",
       "    </tr>\n",
       "    <tr>\n",
       "      <th>2</th>\n",
       "      <td>0.0</td>\n",
       "      <td>0.0</td>\n",
       "      <td>0.0</td>\n",
       "      <td>0.0</td>\n",
       "      <td>0.0</td>\n",
       "      <td>0.0</td>\n",
       "      <td>0.0</td>\n",
       "      <td>0.0</td>\n",
       "      <td>0.0</td>\n",
       "      <td>0.0</td>\n",
       "      <td>...</td>\n",
       "      <td>0.0</td>\n",
       "      <td>0.0</td>\n",
       "      <td>0.0</td>\n",
       "      <td>0.0</td>\n",
       "      <td>0.0</td>\n",
       "      <td>0.0</td>\n",
       "      <td>0.0</td>\n",
       "      <td>0.0</td>\n",
       "      <td>0.0</td>\n",
       "      <td>1.0</td>\n",
       "    </tr>\n",
       "    <tr>\n",
       "      <th>3</th>\n",
       "      <td>0.0</td>\n",
       "      <td>0.0</td>\n",
       "      <td>0.0</td>\n",
       "      <td>0.0</td>\n",
       "      <td>0.0</td>\n",
       "      <td>0.0</td>\n",
       "      <td>0.0</td>\n",
       "      <td>0.0</td>\n",
       "      <td>0.0</td>\n",
       "      <td>0.0</td>\n",
       "      <td>...</td>\n",
       "      <td>0.0</td>\n",
       "      <td>0.0</td>\n",
       "      <td>0.0</td>\n",
       "      <td>0.0</td>\n",
       "      <td>0.0</td>\n",
       "      <td>0.0</td>\n",
       "      <td>0.0</td>\n",
       "      <td>0.0</td>\n",
       "      <td>1.0</td>\n",
       "      <td>0.0</td>\n",
       "    </tr>\n",
       "    <tr>\n",
       "      <th>4</th>\n",
       "      <td>0.0</td>\n",
       "      <td>0.0</td>\n",
       "      <td>0.0</td>\n",
       "      <td>0.0</td>\n",
       "      <td>0.0</td>\n",
       "      <td>0.0</td>\n",
       "      <td>0.0</td>\n",
       "      <td>0.0</td>\n",
       "      <td>0.0</td>\n",
       "      <td>0.0</td>\n",
       "      <td>...</td>\n",
       "      <td>0.0</td>\n",
       "      <td>0.0</td>\n",
       "      <td>1.0</td>\n",
       "      <td>0.0</td>\n",
       "      <td>0.0</td>\n",
       "      <td>0.0</td>\n",
       "      <td>0.0</td>\n",
       "      <td>0.0</td>\n",
       "      <td>0.0</td>\n",
       "      <td>0.0</td>\n",
       "    </tr>\n",
       "  </tbody>\n",
       "</table>\n",
       "<p>5 rows × 21 columns</p>\n",
       "</div>"
      ],
      "text/plain": [
       "  administrator artist doctor educator engineer entertainment executive  \\\n",
       "0           0.0    0.0    0.0      0.0      0.0           0.0       0.0   \n",
       "1           0.0    0.0    0.0      0.0      0.0           0.0       0.0   \n",
       "2           0.0    0.0    0.0      0.0      0.0           0.0       0.0   \n",
       "3           0.0    0.0    0.0      0.0      0.0           0.0       0.0   \n",
       "4           0.0    0.0    0.0      0.0      0.0           0.0       0.0   \n",
       "\n",
       "  healthcare homemaker lawyer  ... marketing none other programmer retired  \\\n",
       "0        0.0       0.0    0.0  ...       0.0  0.0   0.0        0.0     0.0   \n",
       "1        0.0       0.0    0.0  ...       0.0  0.0   1.0        0.0     0.0   \n",
       "2        0.0       0.0    0.0  ...       0.0  0.0   0.0        0.0     0.0   \n",
       "3        0.0       0.0    0.0  ...       0.0  0.0   0.0        0.0     0.0   \n",
       "4        0.0       0.0    0.0  ...       0.0  0.0   1.0        0.0     0.0   \n",
       "\n",
       "  salesman scientist student technician writer  \n",
       "0      0.0       0.0     0.0        1.0    0.0  \n",
       "1      0.0       0.0     0.0        0.0    0.0  \n",
       "2      0.0       0.0     0.0        0.0    1.0  \n",
       "3      0.0       0.0     0.0        1.0    0.0  \n",
       "4      0.0       0.0     0.0        0.0    0.0  \n",
       "\n",
       "[5 rows x 21 columns]"
      ]
     },
     "execution_count": 16,
     "metadata": {},
     "output_type": "execute_result"
    }
   ],
   "source": [
    "occupations.head()"
   ]
  },
  {
   "cell_type": "code",
   "execution_count": 17,
   "metadata": {},
   "outputs": [],
   "source": [
    "users = users.merge(occupations, how='left', left_index=True, right_index=True)"
   ]
  },
  {
   "cell_type": "code",
   "execution_count": 18,
   "metadata": {},
   "outputs": [],
   "source": [
    "users.drop('occupation', axis=1, inplace=True)"
   ]
  },
  {
   "cell_type": "code",
   "execution_count": 19,
   "metadata": {
    "scrolled": false
   },
   "outputs": [],
   "source": [
    "ord_en = OrdinalEncoder()\n",
    "users['zip code'] = ord_en.fit_transform(users['zip code'].values.reshape(-1, 1))"
   ]
  },
  {
   "cell_type": "code",
   "execution_count": 20,
   "metadata": {},
   "outputs": [
    {
     "data": {
      "text/html": [
       "<div>\n",
       "<style scoped>\n",
       "    .dataframe tbody tr th:only-of-type {\n",
       "        vertical-align: middle;\n",
       "    }\n",
       "\n",
       "    .dataframe tbody tr th {\n",
       "        vertical-align: top;\n",
       "    }\n",
       "\n",
       "    .dataframe thead th {\n",
       "        text-align: right;\n",
       "    }\n",
       "</style>\n",
       "<table border=\"1\" class=\"dataframe\">\n",
       "  <thead>\n",
       "    <tr style=\"text-align: right;\">\n",
       "      <th></th>\n",
       "      <th>user id</th>\n",
       "      <th>age</th>\n",
       "      <th>gender</th>\n",
       "      <th>zip code</th>\n",
       "      <th>(administrator,)</th>\n",
       "      <th>(artist,)</th>\n",
       "      <th>(doctor,)</th>\n",
       "      <th>(educator,)</th>\n",
       "      <th>(engineer,)</th>\n",
       "      <th>(entertainment,)</th>\n",
       "      <th>...</th>\n",
       "      <th>(marketing,)</th>\n",
       "      <th>(none,)</th>\n",
       "      <th>(other,)</th>\n",
       "      <th>(programmer,)</th>\n",
       "      <th>(retired,)</th>\n",
       "      <th>(salesman,)</th>\n",
       "      <th>(scientist,)</th>\n",
       "      <th>(student,)</th>\n",
       "      <th>(technician,)</th>\n",
       "      <th>(writer,)</th>\n",
       "    </tr>\n",
       "  </thead>\n",
       "  <tbody>\n",
       "    <tr>\n",
       "      <th>0</th>\n",
       "      <td>1</td>\n",
       "      <td>24</td>\n",
       "      <td>0</td>\n",
       "      <td>622.0</td>\n",
       "      <td>0.0</td>\n",
       "      <td>0.0</td>\n",
       "      <td>0.0</td>\n",
       "      <td>0.0</td>\n",
       "      <td>0.0</td>\n",
       "      <td>0.0</td>\n",
       "      <td>...</td>\n",
       "      <td>0.0</td>\n",
       "      <td>0.0</td>\n",
       "      <td>0.0</td>\n",
       "      <td>0.0</td>\n",
       "      <td>0.0</td>\n",
       "      <td>0.0</td>\n",
       "      <td>0.0</td>\n",
       "      <td>0.0</td>\n",
       "      <td>1.0</td>\n",
       "      <td>0.0</td>\n",
       "    </tr>\n",
       "    <tr>\n",
       "      <th>1</th>\n",
       "      <td>2</td>\n",
       "      <td>53</td>\n",
       "      <td>1</td>\n",
       "      <td>689.0</td>\n",
       "      <td>0.0</td>\n",
       "      <td>0.0</td>\n",
       "      <td>0.0</td>\n",
       "      <td>0.0</td>\n",
       "      <td>0.0</td>\n",
       "      <td>0.0</td>\n",
       "      <td>...</td>\n",
       "      <td>0.0</td>\n",
       "      <td>0.0</td>\n",
       "      <td>1.0</td>\n",
       "      <td>0.0</td>\n",
       "      <td>0.0</td>\n",
       "      <td>0.0</td>\n",
       "      <td>0.0</td>\n",
       "      <td>0.0</td>\n",
       "      <td>0.0</td>\n",
       "      <td>0.0</td>\n",
       "    </tr>\n",
       "    <tr>\n",
       "      <th>2</th>\n",
       "      <td>3</td>\n",
       "      <td>23</td>\n",
       "      <td>0</td>\n",
       "      <td>270.0</td>\n",
       "      <td>0.0</td>\n",
       "      <td>0.0</td>\n",
       "      <td>0.0</td>\n",
       "      <td>0.0</td>\n",
       "      <td>0.0</td>\n",
       "      <td>0.0</td>\n",
       "      <td>...</td>\n",
       "      <td>0.0</td>\n",
       "      <td>0.0</td>\n",
       "      <td>0.0</td>\n",
       "      <td>0.0</td>\n",
       "      <td>0.0</td>\n",
       "      <td>0.0</td>\n",
       "      <td>0.0</td>\n",
       "      <td>0.0</td>\n",
       "      <td>0.0</td>\n",
       "      <td>1.0</td>\n",
       "    </tr>\n",
       "    <tr>\n",
       "      <th>3</th>\n",
       "      <td>4</td>\n",
       "      <td>24</td>\n",
       "      <td>0</td>\n",
       "      <td>331.0</td>\n",
       "      <td>0.0</td>\n",
       "      <td>0.0</td>\n",
       "      <td>0.0</td>\n",
       "      <td>0.0</td>\n",
       "      <td>0.0</td>\n",
       "      <td>0.0</td>\n",
       "      <td>...</td>\n",
       "      <td>0.0</td>\n",
       "      <td>0.0</td>\n",
       "      <td>0.0</td>\n",
       "      <td>0.0</td>\n",
       "      <td>0.0</td>\n",
       "      <td>0.0</td>\n",
       "      <td>0.0</td>\n",
       "      <td>0.0</td>\n",
       "      <td>1.0</td>\n",
       "      <td>0.0</td>\n",
       "    </tr>\n",
       "    <tr>\n",
       "      <th>4</th>\n",
       "      <td>5</td>\n",
       "      <td>33</td>\n",
       "      <td>1</td>\n",
       "      <td>133.0</td>\n",
       "      <td>0.0</td>\n",
       "      <td>0.0</td>\n",
       "      <td>0.0</td>\n",
       "      <td>0.0</td>\n",
       "      <td>0.0</td>\n",
       "      <td>0.0</td>\n",
       "      <td>...</td>\n",
       "      <td>0.0</td>\n",
       "      <td>0.0</td>\n",
       "      <td>1.0</td>\n",
       "      <td>0.0</td>\n",
       "      <td>0.0</td>\n",
       "      <td>0.0</td>\n",
       "      <td>0.0</td>\n",
       "      <td>0.0</td>\n",
       "      <td>0.0</td>\n",
       "      <td>0.0</td>\n",
       "    </tr>\n",
       "  </tbody>\n",
       "</table>\n",
       "<p>5 rows × 25 columns</p>\n",
       "</div>"
      ],
      "text/plain": [
       "   user id  age  gender  zip code  (administrator,)  (artist,)  (doctor,)  \\\n",
       "0        1   24       0     622.0               0.0        0.0        0.0   \n",
       "1        2   53       1     689.0               0.0        0.0        0.0   \n",
       "2        3   23       0     270.0               0.0        0.0        0.0   \n",
       "3        4   24       0     331.0               0.0        0.0        0.0   \n",
       "4        5   33       1     133.0               0.0        0.0        0.0   \n",
       "\n",
       "   (educator,)  (engineer,)  (entertainment,)  ...  (marketing,)  (none,)  \\\n",
       "0          0.0          0.0               0.0  ...           0.0      0.0   \n",
       "1          0.0          0.0               0.0  ...           0.0      0.0   \n",
       "2          0.0          0.0               0.0  ...           0.0      0.0   \n",
       "3          0.0          0.0               0.0  ...           0.0      0.0   \n",
       "4          0.0          0.0               0.0  ...           0.0      0.0   \n",
       "\n",
       "   (other,)  (programmer,)  (retired,)  (salesman,)  (scientist,)  (student,)  \\\n",
       "0       0.0            0.0         0.0          0.0           0.0         0.0   \n",
       "1       1.0            0.0         0.0          0.0           0.0         0.0   \n",
       "2       0.0            0.0         0.0          0.0           0.0         0.0   \n",
       "3       0.0            0.0         0.0          0.0           0.0         0.0   \n",
       "4       1.0            0.0         0.0          0.0           0.0         0.0   \n",
       "\n",
       "   (technician,)  (writer,)  \n",
       "0            1.0        0.0  \n",
       "1            0.0        0.0  \n",
       "2            0.0        1.0  \n",
       "3            1.0        0.0  \n",
       "4            0.0        0.0  \n",
       "\n",
       "[5 rows x 25 columns]"
      ]
     },
     "execution_count": 20,
     "metadata": {},
     "output_type": "execute_result"
    }
   ],
   "source": [
    "users.head()"
   ]
  },
  {
   "cell_type": "code",
   "execution_count": 21,
   "metadata": {},
   "outputs": [],
   "source": [
    "cols = [c[0] if isinstance(c, tuple) else c for c in users.columns]"
   ]
  },
  {
   "cell_type": "code",
   "execution_count": 22,
   "metadata": {},
   "outputs": [
    {
     "data": {
      "text/plain": [
       "['user id',\n",
       " 'age',\n",
       " 'gender',\n",
       " 'zip code',\n",
       " 'administrator',\n",
       " 'artist',\n",
       " 'doctor',\n",
       " 'educator',\n",
       " 'engineer',\n",
       " 'entertainment',\n",
       " 'executive',\n",
       " 'healthcare',\n",
       " 'homemaker',\n",
       " 'lawyer',\n",
       " 'librarian',\n",
       " 'marketing',\n",
       " 'none',\n",
       " 'other',\n",
       " 'programmer',\n",
       " 'retired',\n",
       " 'salesman',\n",
       " 'scientist',\n",
       " 'student',\n",
       " 'technician',\n",
       " 'writer']"
      ]
     },
     "execution_count": 22,
     "metadata": {},
     "output_type": "execute_result"
    }
   ],
   "source": [
    "cols"
   ]
  },
  {
   "cell_type": "code",
   "execution_count": 23,
   "metadata": {},
   "outputs": [],
   "source": [
    "users.columns = cols"
   ]
  },
  {
   "cell_type": "code",
   "execution_count": 24,
   "metadata": {},
   "outputs": [],
   "source": [
    "from sklearn.model_selection import train_test_split\n",
    "\n",
    "train, test = train_test_split(users, random_state=43, test_size=0.3)"
   ]
  },
  {
   "cell_type": "code",
   "execution_count": 25,
   "metadata": {},
   "outputs": [
    {
     "data": {
      "text/html": [
       "<div>\n",
       "<style scoped>\n",
       "    .dataframe tbody tr th:only-of-type {\n",
       "        vertical-align: middle;\n",
       "    }\n",
       "\n",
       "    .dataframe tbody tr th {\n",
       "        vertical-align: top;\n",
       "    }\n",
       "\n",
       "    .dataframe thead th {\n",
       "        text-align: right;\n",
       "    }\n",
       "</style>\n",
       "<table border=\"1\" class=\"dataframe\">\n",
       "  <thead>\n",
       "    <tr style=\"text-align: right;\">\n",
       "      <th></th>\n",
       "      <th>user id</th>\n",
       "      <th>age</th>\n",
       "      <th>gender</th>\n",
       "      <th>zip code</th>\n",
       "      <th>administrator</th>\n",
       "      <th>artist</th>\n",
       "      <th>doctor</th>\n",
       "      <th>educator</th>\n",
       "      <th>engineer</th>\n",
       "      <th>entertainment</th>\n",
       "      <th>...</th>\n",
       "      <th>marketing</th>\n",
       "      <th>none</th>\n",
       "      <th>other</th>\n",
       "      <th>programmer</th>\n",
       "      <th>retired</th>\n",
       "      <th>salesman</th>\n",
       "      <th>scientist</th>\n",
       "      <th>student</th>\n",
       "      <th>technician</th>\n",
       "      <th>writer</th>\n",
       "    </tr>\n",
       "  </thead>\n",
       "  <tbody>\n",
       "    <tr>\n",
       "      <th>747</th>\n",
       "      <td>748</td>\n",
       "      <td>28</td>\n",
       "      <td>0</td>\n",
       "      <td>710.0</td>\n",
       "      <td>1.0</td>\n",
       "      <td>0.0</td>\n",
       "      <td>0.0</td>\n",
       "      <td>0.0</td>\n",
       "      <td>0.0</td>\n",
       "      <td>0.0</td>\n",
       "      <td>...</td>\n",
       "      <td>0.0</td>\n",
       "      <td>0.0</td>\n",
       "      <td>0.0</td>\n",
       "      <td>0.0</td>\n",
       "      <td>0.0</td>\n",
       "      <td>0.0</td>\n",
       "      <td>0.0</td>\n",
       "      <td>0.0</td>\n",
       "      <td>0.0</td>\n",
       "      <td>0.0</td>\n",
       "    </tr>\n",
       "    <tr>\n",
       "      <th>210</th>\n",
       "      <td>211</td>\n",
       "      <td>66</td>\n",
       "      <td>0</td>\n",
       "      <td>275.0</td>\n",
       "      <td>0.0</td>\n",
       "      <td>0.0</td>\n",
       "      <td>0.0</td>\n",
       "      <td>0.0</td>\n",
       "      <td>0.0</td>\n",
       "      <td>0.0</td>\n",
       "      <td>...</td>\n",
       "      <td>0.0</td>\n",
       "      <td>0.0</td>\n",
       "      <td>0.0</td>\n",
       "      <td>0.0</td>\n",
       "      <td>0.0</td>\n",
       "      <td>1.0</td>\n",
       "      <td>0.0</td>\n",
       "      <td>0.0</td>\n",
       "      <td>0.0</td>\n",
       "      <td>0.0</td>\n",
       "    </tr>\n",
       "    <tr>\n",
       "      <th>394</th>\n",
       "      <td>395</td>\n",
       "      <td>43</td>\n",
       "      <td>0</td>\n",
       "      <td>333.0</td>\n",
       "      <td>0.0</td>\n",
       "      <td>0.0</td>\n",
       "      <td>0.0</td>\n",
       "      <td>0.0</td>\n",
       "      <td>0.0</td>\n",
       "      <td>0.0</td>\n",
       "      <td>...</td>\n",
       "      <td>0.0</td>\n",
       "      <td>0.0</td>\n",
       "      <td>1.0</td>\n",
       "      <td>0.0</td>\n",
       "      <td>0.0</td>\n",
       "      <td>0.0</td>\n",
       "      <td>0.0</td>\n",
       "      <td>0.0</td>\n",
       "      <td>0.0</td>\n",
       "      <td>0.0</td>\n",
       "    </tr>\n",
       "    <tr>\n",
       "      <th>236</th>\n",
       "      <td>237</td>\n",
       "      <td>49</td>\n",
       "      <td>0</td>\n",
       "      <td>502.0</td>\n",
       "      <td>1.0</td>\n",
       "      <td>0.0</td>\n",
       "      <td>0.0</td>\n",
       "      <td>0.0</td>\n",
       "      <td>0.0</td>\n",
       "      <td>0.0</td>\n",
       "      <td>...</td>\n",
       "      <td>0.0</td>\n",
       "      <td>0.0</td>\n",
       "      <td>0.0</td>\n",
       "      <td>0.0</td>\n",
       "      <td>0.0</td>\n",
       "      <td>0.0</td>\n",
       "      <td>0.0</td>\n",
       "      <td>0.0</td>\n",
       "      <td>0.0</td>\n",
       "      <td>0.0</td>\n",
       "    </tr>\n",
       "    <tr>\n",
       "      <th>769</th>\n",
       "      <td>770</td>\n",
       "      <td>28</td>\n",
       "      <td>0</td>\n",
       "      <td>125.0</td>\n",
       "      <td>0.0</td>\n",
       "      <td>0.0</td>\n",
       "      <td>0.0</td>\n",
       "      <td>0.0</td>\n",
       "      <td>0.0</td>\n",
       "      <td>0.0</td>\n",
       "      <td>...</td>\n",
       "      <td>0.0</td>\n",
       "      <td>0.0</td>\n",
       "      <td>0.0</td>\n",
       "      <td>0.0</td>\n",
       "      <td>0.0</td>\n",
       "      <td>0.0</td>\n",
       "      <td>0.0</td>\n",
       "      <td>1.0</td>\n",
       "      <td>0.0</td>\n",
       "      <td>0.0</td>\n",
       "    </tr>\n",
       "  </tbody>\n",
       "</table>\n",
       "<p>5 rows × 25 columns</p>\n",
       "</div>"
      ],
      "text/plain": [
       "     user id  age  gender  zip code  administrator  artist  doctor  educator  \\\n",
       "747      748   28       0     710.0            1.0     0.0     0.0       0.0   \n",
       "210      211   66       0     275.0            0.0     0.0     0.0       0.0   \n",
       "394      395   43       0     333.0            0.0     0.0     0.0       0.0   \n",
       "236      237   49       0     502.0            1.0     0.0     0.0       0.0   \n",
       "769      770   28       0     125.0            0.0     0.0     0.0       0.0   \n",
       "\n",
       "     engineer  entertainment  ...  marketing  none  other  programmer  \\\n",
       "747       0.0            0.0  ...        0.0   0.0    0.0         0.0   \n",
       "210       0.0            0.0  ...        0.0   0.0    0.0         0.0   \n",
       "394       0.0            0.0  ...        0.0   0.0    1.0         0.0   \n",
       "236       0.0            0.0  ...        0.0   0.0    0.0         0.0   \n",
       "769       0.0            0.0  ...        0.0   0.0    0.0         0.0   \n",
       "\n",
       "     retired  salesman  scientist  student  technician  writer  \n",
       "747      0.0       0.0        0.0      0.0         0.0     0.0  \n",
       "210      0.0       1.0        0.0      0.0         0.0     0.0  \n",
       "394      0.0       0.0        0.0      0.0         0.0     0.0  \n",
       "236      0.0       0.0        0.0      0.0         0.0     0.0  \n",
       "769      0.0       0.0        0.0      1.0         0.0     0.0  \n",
       "\n",
       "[5 rows x 25 columns]"
      ]
     },
     "execution_count": 25,
     "metadata": {},
     "output_type": "execute_result"
    }
   ],
   "source": [
    "train.head()"
   ]
  },
  {
   "cell_type": "code",
   "execution_count": 26,
   "metadata": {},
   "outputs": [
    {
     "name": "stderr",
     "output_type": "stream",
     "text": [
      "<ipython-input-26-5a44ceeaf2db>:1: SettingWithCopyWarning: \n",
      "A value is trying to be set on a copy of a slice from a DataFrame.\n",
      "Try using .loc[row_indexer,col_indexer] = value instead\n",
      "\n",
      "See the caveats in the documentation: https://pandas.pydata.org/pandas-docs/stable/user_guide/indexing.html#returning-a-view-versus-a-copy\n",
      "  train['set'] = 'train'\n",
      "<ipython-input-26-5a44ceeaf2db>:2: SettingWithCopyWarning: \n",
      "A value is trying to be set on a copy of a slice from a DataFrame.\n",
      "Try using .loc[row_indexer,col_indexer] = value instead\n",
      "\n",
      "See the caveats in the documentation: https://pandas.pydata.org/pandas-docs/stable/user_guide/indexing.html#returning-a-view-versus-a-copy\n",
      "  test['set'] = 'test'\n"
     ]
    }
   ],
   "source": [
    "train['set'] = 'train'\n",
    "test['set'] = 'test'\n",
    "\n",
    "users = pd.concat([train, test])"
   ]
  },
  {
   "cell_type": "code",
   "execution_count": 27,
   "metadata": {},
   "outputs": [],
   "source": [
    "users.to_csv('users.csv', index=False)"
   ]
  },
  {
   "cell_type": "code",
   "execution_count": 28,
   "metadata": {},
   "outputs": [
    {
     "data": {
      "text/html": [
       "<div>\n",
       "<style scoped>\n",
       "    .dataframe tbody tr th:only-of-type {\n",
       "        vertical-align: middle;\n",
       "    }\n",
       "\n",
       "    .dataframe tbody tr th {\n",
       "        vertical-align: top;\n",
       "    }\n",
       "\n",
       "    .dataframe thead th {\n",
       "        text-align: right;\n",
       "    }\n",
       "</style>\n",
       "<table border=\"1\" class=\"dataframe\">\n",
       "  <thead>\n",
       "    <tr style=\"text-align: right;\">\n",
       "      <th></th>\n",
       "      <th>user id</th>\n",
       "      <th>item id</th>\n",
       "      <th>rating</th>\n",
       "      <th>timestamp</th>\n",
       "    </tr>\n",
       "  </thead>\n",
       "  <tbody>\n",
       "    <tr>\n",
       "      <th>0</th>\n",
       "      <td>196</td>\n",
       "      <td>242</td>\n",
       "      <td>3</td>\n",
       "      <td>881250949</td>\n",
       "    </tr>\n",
       "    <tr>\n",
       "      <th>1</th>\n",
       "      <td>186</td>\n",
       "      <td>302</td>\n",
       "      <td>3</td>\n",
       "      <td>891717742</td>\n",
       "    </tr>\n",
       "    <tr>\n",
       "      <th>2</th>\n",
       "      <td>22</td>\n",
       "      <td>377</td>\n",
       "      <td>1</td>\n",
       "      <td>878887116</td>\n",
       "    </tr>\n",
       "    <tr>\n",
       "      <th>3</th>\n",
       "      <td>244</td>\n",
       "      <td>51</td>\n",
       "      <td>2</td>\n",
       "      <td>880606923</td>\n",
       "    </tr>\n",
       "    <tr>\n",
       "      <th>4</th>\n",
       "      <td>166</td>\n",
       "      <td>346</td>\n",
       "      <td>1</td>\n",
       "      <td>886397596</td>\n",
       "    </tr>\n",
       "  </tbody>\n",
       "</table>\n",
       "</div>"
      ],
      "text/plain": [
       "   user id  item id  rating  timestamp\n",
       "0      196      242       3  881250949\n",
       "1      186      302       3  891717742\n",
       "2       22      377       1  878887116\n",
       "3      244       51       2  880606923\n",
       "4      166      346       1  886397596"
      ]
     },
     "execution_count": 28,
     "metadata": {},
     "output_type": "execute_result"
    }
   ],
   "source": [
    "data.head()"
   ]
  },
  {
   "cell_type": "code",
   "execution_count": 29,
   "metadata": {},
   "outputs": [],
   "source": [
    "data['rated'] = 1\n",
    "\n",
    "user_ids = users['user id'].to_list()\n",
    "item_ids = list(data['item id'].unique())\n",
    "\n",
    "unrated = list()\n",
    "for u in user_ids:\n",
    "    for i in item_ids:\n",
    "        unrated.append([u, i, 0])\n",
    "\n",
    "unrated = pd.DataFrame(unrated, columns = ['user id', 'item id', 'rated'])"
   ]
  },
  {
   "cell_type": "code",
   "execution_count": 30,
   "metadata": {},
   "outputs": [],
   "source": [
    "responses = pd.concat([data[['user id', 'item id', 'rated']], unrated])\n",
    "responses = responses.groupby(['user id', 'item id'])['rated'].max().reset_index()"
   ]
  },
  {
   "cell_type": "code",
   "execution_count": 31,
   "metadata": {},
   "outputs": [
    {
     "data": {
      "text/html": [
       "<div>\n",
       "<style scoped>\n",
       "    .dataframe tbody tr th:only-of-type {\n",
       "        vertical-align: middle;\n",
       "    }\n",
       "\n",
       "    .dataframe tbody tr th {\n",
       "        vertical-align: top;\n",
       "    }\n",
       "\n",
       "    .dataframe thead th {\n",
       "        text-align: right;\n",
       "    }\n",
       "</style>\n",
       "<table border=\"1\" class=\"dataframe\">\n",
       "  <thead>\n",
       "    <tr style=\"text-align: right;\">\n",
       "      <th></th>\n",
       "      <th>user id</th>\n",
       "      <th>item id</th>\n",
       "      <th>rated</th>\n",
       "    </tr>\n",
       "  </thead>\n",
       "  <tbody>\n",
       "    <tr>\n",
       "      <th>0</th>\n",
       "      <td>1</td>\n",
       "      <td>1</td>\n",
       "      <td>1</td>\n",
       "    </tr>\n",
       "    <tr>\n",
       "      <th>1</th>\n",
       "      <td>1</td>\n",
       "      <td>2</td>\n",
       "      <td>1</td>\n",
       "    </tr>\n",
       "    <tr>\n",
       "      <th>2</th>\n",
       "      <td>1</td>\n",
       "      <td>3</td>\n",
       "      <td>1</td>\n",
       "    </tr>\n",
       "    <tr>\n",
       "      <th>3</th>\n",
       "      <td>1</td>\n",
       "      <td>4</td>\n",
       "      <td>1</td>\n",
       "    </tr>\n",
       "    <tr>\n",
       "      <th>4</th>\n",
       "      <td>1</td>\n",
       "      <td>5</td>\n",
       "      <td>1</td>\n",
       "    </tr>\n",
       "  </tbody>\n",
       "</table>\n",
       "</div>"
      ],
      "text/plain": [
       "   user id  item id  rated\n",
       "0        1        1      1\n",
       "1        1        2      1\n",
       "2        1        3      1\n",
       "3        1        4      1\n",
       "4        1        5      1"
      ]
     },
     "execution_count": 31,
     "metadata": {},
     "output_type": "execute_result"
    }
   ],
   "source": [
    "responses.head()"
   ]
  },
  {
   "cell_type": "code",
   "execution_count": 32,
   "metadata": {},
   "outputs": [
    {
     "data": {
      "text/plain": [
       "0    1486126\n",
       "1     100000\n",
       "Name: rated, dtype: int64"
      ]
     },
     "execution_count": 32,
     "metadata": {},
     "output_type": "execute_result"
    }
   ],
   "source": [
    "responses['rated'].value_counts()"
   ]
  },
  {
   "cell_type": "code",
   "execution_count": 33,
   "metadata": {},
   "outputs": [],
   "source": [
    "responses.to_csv('responses.csv', index=False)"
   ]
  },
  {
   "cell_type": "markdown",
   "metadata": {},
   "source": [
    "## Mac OS"
   ]
  },
  {
   "cell_type": "code",
   "execution_count": 34,
   "metadata": {},
   "outputs": [
    {
     "data": {
      "text/plain": [
       "'macOS-10.15.7-x86_64-i386-64bit'"
      ]
     },
     "execution_count": 34,
     "metadata": {},
     "output_type": "execute_result"
    }
   ],
   "source": [
    "platform.platform()"
   ]
  },
  {
   "cell_type": "code",
   "execution_count": 35,
   "metadata": {},
   "outputs": [
    {
     "data": {
      "text/plain": [
       "'1.18.5'"
      ]
     },
     "execution_count": 35,
     "metadata": {},
     "output_type": "execute_result"
    }
   ],
   "source": [
    "np.__version__"
   ]
  },
  {
   "cell_type": "code",
   "execution_count": 36,
   "metadata": {},
   "outputs": [],
   "source": [
    "train = train.merge(responses, how='left', on='user id')"
   ]
  },
  {
   "cell_type": "code",
   "execution_count": 37,
   "metadata": {},
   "outputs": [
    {
     "data": {
      "text/plain": [
       "(1110120, 28)"
      ]
     },
     "execution_count": 37,
     "metadata": {},
     "output_type": "execute_result"
    }
   ],
   "source": [
    "train.shape"
   ]
  },
  {
   "cell_type": "code",
   "execution_count": 38,
   "metadata": {},
   "outputs": [
    {
     "data": {
      "text/html": [
       "<div>\n",
       "<style scoped>\n",
       "    .dataframe tbody tr th:only-of-type {\n",
       "        vertical-align: middle;\n",
       "    }\n",
       "\n",
       "    .dataframe tbody tr th {\n",
       "        vertical-align: top;\n",
       "    }\n",
       "\n",
       "    .dataframe thead th {\n",
       "        text-align: right;\n",
       "    }\n",
       "</style>\n",
       "<table border=\"1\" class=\"dataframe\">\n",
       "  <thead>\n",
       "    <tr style=\"text-align: right;\">\n",
       "      <th></th>\n",
       "      <th>user id</th>\n",
       "      <th>age</th>\n",
       "      <th>gender</th>\n",
       "      <th>zip code</th>\n",
       "      <th>administrator</th>\n",
       "      <th>artist</th>\n",
       "      <th>doctor</th>\n",
       "      <th>educator</th>\n",
       "      <th>engineer</th>\n",
       "      <th>entertainment</th>\n",
       "      <th>...</th>\n",
       "      <th>programmer</th>\n",
       "      <th>retired</th>\n",
       "      <th>salesman</th>\n",
       "      <th>scientist</th>\n",
       "      <th>student</th>\n",
       "      <th>technician</th>\n",
       "      <th>writer</th>\n",
       "      <th>set</th>\n",
       "      <th>item id</th>\n",
       "      <th>rated</th>\n",
       "    </tr>\n",
       "  </thead>\n",
       "  <tbody>\n",
       "    <tr>\n",
       "      <th>0</th>\n",
       "      <td>748</td>\n",
       "      <td>28</td>\n",
       "      <td>0</td>\n",
       "      <td>710.0</td>\n",
       "      <td>1.0</td>\n",
       "      <td>0.0</td>\n",
       "      <td>0.0</td>\n",
       "      <td>0.0</td>\n",
       "      <td>0.0</td>\n",
       "      <td>0.0</td>\n",
       "      <td>...</td>\n",
       "      <td>0.0</td>\n",
       "      <td>0.0</td>\n",
       "      <td>0.0</td>\n",
       "      <td>0.0</td>\n",
       "      <td>0.0</td>\n",
       "      <td>0.0</td>\n",
       "      <td>0.0</td>\n",
       "      <td>train</td>\n",
       "      <td>1</td>\n",
       "      <td>1</td>\n",
       "    </tr>\n",
       "    <tr>\n",
       "      <th>1</th>\n",
       "      <td>748</td>\n",
       "      <td>28</td>\n",
       "      <td>0</td>\n",
       "      <td>710.0</td>\n",
       "      <td>1.0</td>\n",
       "      <td>0.0</td>\n",
       "      <td>0.0</td>\n",
       "      <td>0.0</td>\n",
       "      <td>0.0</td>\n",
       "      <td>0.0</td>\n",
       "      <td>...</td>\n",
       "      <td>0.0</td>\n",
       "      <td>0.0</td>\n",
       "      <td>0.0</td>\n",
       "      <td>0.0</td>\n",
       "      <td>0.0</td>\n",
       "      <td>0.0</td>\n",
       "      <td>0.0</td>\n",
       "      <td>train</td>\n",
       "      <td>2</td>\n",
       "      <td>0</td>\n",
       "    </tr>\n",
       "    <tr>\n",
       "      <th>2</th>\n",
       "      <td>748</td>\n",
       "      <td>28</td>\n",
       "      <td>0</td>\n",
       "      <td>710.0</td>\n",
       "      <td>1.0</td>\n",
       "      <td>0.0</td>\n",
       "      <td>0.0</td>\n",
       "      <td>0.0</td>\n",
       "      <td>0.0</td>\n",
       "      <td>0.0</td>\n",
       "      <td>...</td>\n",
       "      <td>0.0</td>\n",
       "      <td>0.0</td>\n",
       "      <td>0.0</td>\n",
       "      <td>0.0</td>\n",
       "      <td>0.0</td>\n",
       "      <td>0.0</td>\n",
       "      <td>0.0</td>\n",
       "      <td>train</td>\n",
       "      <td>3</td>\n",
       "      <td>0</td>\n",
       "    </tr>\n",
       "    <tr>\n",
       "      <th>3</th>\n",
       "      <td>748</td>\n",
       "      <td>28</td>\n",
       "      <td>0</td>\n",
       "      <td>710.0</td>\n",
       "      <td>1.0</td>\n",
       "      <td>0.0</td>\n",
       "      <td>0.0</td>\n",
       "      <td>0.0</td>\n",
       "      <td>0.0</td>\n",
       "      <td>0.0</td>\n",
       "      <td>...</td>\n",
       "      <td>0.0</td>\n",
       "      <td>0.0</td>\n",
       "      <td>0.0</td>\n",
       "      <td>0.0</td>\n",
       "      <td>0.0</td>\n",
       "      <td>0.0</td>\n",
       "      <td>0.0</td>\n",
       "      <td>train</td>\n",
       "      <td>4</td>\n",
       "      <td>1</td>\n",
       "    </tr>\n",
       "    <tr>\n",
       "      <th>4</th>\n",
       "      <td>748</td>\n",
       "      <td>28</td>\n",
       "      <td>0</td>\n",
       "      <td>710.0</td>\n",
       "      <td>1.0</td>\n",
       "      <td>0.0</td>\n",
       "      <td>0.0</td>\n",
       "      <td>0.0</td>\n",
       "      <td>0.0</td>\n",
       "      <td>0.0</td>\n",
       "      <td>...</td>\n",
       "      <td>0.0</td>\n",
       "      <td>0.0</td>\n",
       "      <td>0.0</td>\n",
       "      <td>0.0</td>\n",
       "      <td>0.0</td>\n",
       "      <td>0.0</td>\n",
       "      <td>0.0</td>\n",
       "      <td>train</td>\n",
       "      <td>5</td>\n",
       "      <td>0</td>\n",
       "    </tr>\n",
       "  </tbody>\n",
       "</table>\n",
       "<p>5 rows × 28 columns</p>\n",
       "</div>"
      ],
      "text/plain": [
       "   user id  age  gender  zip code  administrator  artist  doctor  educator  \\\n",
       "0      748   28       0     710.0            1.0     0.0     0.0       0.0   \n",
       "1      748   28       0     710.0            1.0     0.0     0.0       0.0   \n",
       "2      748   28       0     710.0            1.0     0.0     0.0       0.0   \n",
       "3      748   28       0     710.0            1.0     0.0     0.0       0.0   \n",
       "4      748   28       0     710.0            1.0     0.0     0.0       0.0   \n",
       "\n",
       "   engineer  entertainment  ...  programmer  retired  salesman  scientist  \\\n",
       "0       0.0            0.0  ...         0.0      0.0       0.0        0.0   \n",
       "1       0.0            0.0  ...         0.0      0.0       0.0        0.0   \n",
       "2       0.0            0.0  ...         0.0      0.0       0.0        0.0   \n",
       "3       0.0            0.0  ...         0.0      0.0       0.0        0.0   \n",
       "4       0.0            0.0  ...         0.0      0.0       0.0        0.0   \n",
       "\n",
       "   student  technician  writer    set  item id  rated  \n",
       "0      0.0         0.0     0.0  train        1      1  \n",
       "1      0.0         0.0     0.0  train        2      0  \n",
       "2      0.0         0.0     0.0  train        3      0  \n",
       "3      0.0         0.0     0.0  train        4      1  \n",
       "4      0.0         0.0     0.0  train        5      0  \n",
       "\n",
       "[5 rows x 28 columns]"
      ]
     },
     "execution_count": 38,
     "metadata": {},
     "output_type": "execute_result"
    }
   ],
   "source": [
    "train.head()"
   ]
  },
  {
   "cell_type": "code",
   "execution_count": 39,
   "metadata": {},
   "outputs": [],
   "source": [
    "context_features = [c for c in users.columns if c not in ['user id', 'set']]"
   ]
  },
  {
   "cell_type": "code",
   "execution_count": 40,
   "metadata": {},
   "outputs": [],
   "source": [
    "rng = np.random.RandomState(seed=11)\n",
    "mab = LinearExample(rng=rng, arms=item_ids, l2_lambda=1, alpha=1, regression='ts', n_jobs=1, backend=None)"
   ]
  },
  {
   "cell_type": "code",
   "execution_count": 41,
   "metadata": {},
   "outputs": [
    {
     "data": {
      "text/plain": [
       "'ts'"
      ]
     },
     "execution_count": 41,
     "metadata": {},
     "output_type": "execute_result"
    }
   ],
   "source": [
    "mab.regression"
   ]
  },
  {
   "cell_type": "code",
   "execution_count": 42,
   "metadata": {},
   "outputs": [
    {
     "data": {
      "text/plain": [
       "<__main__.LinTSExample at 0x7fdab5739430>"
      ]
     },
     "execution_count": 42,
     "metadata": {},
     "output_type": "execute_result"
    }
   ],
   "source": [
    "mab.arm_to_model[1]"
   ]
  },
  {
   "cell_type": "code",
   "execution_count": 43,
   "metadata": {},
   "outputs": [],
   "source": [
    "decisions = MAB._convert_array(train['item id'])\n",
    "rewards = MAB._convert_array(train['rated'])\n",
    "contexts = MAB._convert_matrix(train[context_features]).astype('float')\n",
    "\n",
    "test_contexts = MAB._convert_matrix(test[context_features]).astype('float')"
   ]
  },
  {
   "cell_type": "code",
   "execution_count": 44,
   "metadata": {},
   "outputs": [],
   "source": [
    "scaler = StandardScaler()\n",
    "contexts = scaler.fit_transform(contexts)\n",
    "test_contexts = scaler.transform(test_contexts)"
   ]
  },
  {
   "cell_type": "code",
   "execution_count": 45,
   "metadata": {},
   "outputs": [],
   "source": [
    "mab.fit(decisions, rewards, contexts)"
   ]
  },
  {
   "cell_type": "code",
   "execution_count": 46,
   "metadata": {},
   "outputs": [],
   "source": [
    "mac_expectations = mab.predict_expectations(test_contexts)"
   ]
  },
  {
   "cell_type": "code",
   "execution_count": 47,
   "metadata": {},
   "outputs": [
    {
     "data": {
      "text/plain": [
       "13.975185451078701"
      ]
     },
     "execution_count": 47,
     "metadata": {},
     "output_type": "execute_result"
    }
   ],
   "source": [
    "mac_expectations[0][1]"
   ]
  },
  {
   "cell_type": "code",
   "execution_count": 48,
   "metadata": {},
   "outputs": [
    {
     "data": {
      "text/plain": [
       "13.972781787550622"
      ]
     },
     "execution_count": 48,
     "metadata": {},
     "output_type": "execute_result"
    }
   ],
   "source": [
    "mac_expectations[0][2]"
   ]
  },
  {
   "cell_type": "code",
   "execution_count": 49,
   "metadata": {},
   "outputs": [],
   "source": [
    "pickle.dump(scaler, open('scaler.pkl', 'wb'))\n",
    "pickle.dump(mab, open('mac_mab.pkl', 'wb'))\n",
    "pickle.dump(mac_expectations, open('mac_expectations.pkl', 'wb'))"
   ]
  },
  {
   "cell_type": "markdown",
   "metadata": {},
   "source": [
    "## Sagemaker"
   ]
  },
  {
   "cell_type": "code",
   "execution_count": 2,
   "metadata": {},
   "outputs": [
    {
     "data": {
      "text/plain": [
       "'Linux-4.14.225-121.357.amzn1.x86_64-x86_64-with-glibc2.9'"
      ]
     },
     "execution_count": 2,
     "metadata": {},
     "output_type": "execute_result"
    }
   ],
   "source": [
    "platform.platform()"
   ]
  },
  {
   "cell_type": "code",
   "execution_count": 3,
   "metadata": {},
   "outputs": [
    {
     "data": {
      "text/plain": [
       "'1.19.5'"
      ]
     },
     "execution_count": 3,
     "metadata": {},
     "output_type": "execute_result"
    }
   ],
   "source": [
    "np.__version__"
   ]
  },
  {
   "cell_type": "code",
   "execution_count": 4,
   "metadata": {},
   "outputs": [],
   "source": [
    "users = pd.read_csv('users.csv')\n",
    "responses = pd.read_csv('responses.csv')"
   ]
  },
  {
   "cell_type": "code",
   "execution_count": 5,
   "metadata": {},
   "outputs": [],
   "source": [
    "train = users[users['set']=='train']\n",
    "test = users[users['set']=='test']\n",
    "\n",
    "train = train.merge(responses, how='left', on='user id')\n",
    "context_features = [c for c in users.columns if c not in ['user id', 'set']]"
   ]
  },
  {
   "cell_type": "code",
   "execution_count": 6,
   "metadata": {},
   "outputs": [],
   "source": [
    "decisions = MAB._convert_array(train['item id'])\n",
    "rewards = MAB._convert_array(train['rated'])\n",
    "contexts = MAB._convert_matrix(train[context_features]).astype('float')\n",
    "\n",
    "test_contexts = MAB._convert_matrix(test[context_features]).astype('float')"
   ]
  },
  {
   "cell_type": "code",
   "execution_count": 7,
   "metadata": {},
   "outputs": [
    {
     "data": {
      "text/plain": [
       "<__main__.LinTSExample at 0x7f538b4170f0>"
      ]
     },
     "execution_count": 7,
     "metadata": {},
     "output_type": "execute_result"
    }
   ],
   "source": [
    "rng = np.random.RandomState(seed=11)\n",
    "item_ids = list(responses['item id'].unique())\n",
    "mab = LinearExample(rng=rng, arms=item_ids, l2_lambda=1, alpha=1, regression='ts', n_jobs=1, backend=None)\n",
    "mab.arm_to_model[1]"
   ]
  },
  {
   "cell_type": "code",
   "execution_count": 8,
   "metadata": {},
   "outputs": [],
   "source": [
    "scaler = pickle.load(open('scaler.pkl', 'rb'))\n",
    "contexts = scaler.fit_transform(contexts)\n",
    "test_contexts = scaler.transform(test_contexts)"
   ]
  },
  {
   "cell_type": "code",
   "execution_count": 9,
   "metadata": {},
   "outputs": [],
   "source": [
    "mab.fit(decisions, rewards, contexts)"
   ]
  },
  {
   "cell_type": "code",
   "execution_count": 10,
   "metadata": {},
   "outputs": [],
   "source": [
    "sgm_expectations = mab.predict_expectations(test_contexts)"
   ]
  },
  {
   "cell_type": "code",
   "execution_count": 11,
   "metadata": {},
   "outputs": [
    {
     "data": {
      "text/plain": [
       "13.999455973138849"
      ]
     },
     "execution_count": 11,
     "metadata": {},
     "output_type": "execute_result"
    }
   ],
   "source": [
    "sgm_expectations[0][1]"
   ]
  },
  {
   "cell_type": "code",
   "execution_count": 12,
   "metadata": {},
   "outputs": [
    {
     "data": {
      "text/plain": [
       "13.619175409413986"
      ]
     },
     "execution_count": 12,
     "metadata": {},
     "output_type": "execute_result"
    }
   ],
   "source": [
    "sgm_expectations[0][2]"
   ]
  },
  {
   "cell_type": "code",
   "execution_count": 13,
   "metadata": {},
   "outputs": [],
   "source": [
    "pickle.dump(mab, open('sgm_mab.pkl', 'wb'))\n",
    "pickle.dump(sgm_expectations, open('sgm_expectations.pkl', 'wb'))"
   ]
  },
  {
   "cell_type": "markdown",
   "metadata": {},
   "source": [
    "## Red Hat Enterprise Linux 7"
   ]
  },
  {
   "cell_type": "code",
   "execution_count": 2,
   "metadata": {},
   "outputs": [
    {
     "data": {
      "text/plain": [
       "'Linux-3.10.0-1160.11.1.el7.x86_64-x86_64-with-glibc2.10'"
      ]
     },
     "execution_count": 2,
     "metadata": {},
     "output_type": "execute_result"
    }
   ],
   "source": [
    "platform.platform()"
   ]
  },
  {
   "cell_type": "code",
   "execution_count": 3,
   "metadata": {},
   "outputs": [
    {
     "data": {
      "text/plain": [
       "'1.19.3'"
      ]
     },
     "execution_count": 3,
     "metadata": {},
     "output_type": "execute_result"
    }
   ],
   "source": [
    "np.__version__"
   ]
  },
  {
   "cell_type": "code",
   "execution_count": 4,
   "metadata": {},
   "outputs": [],
   "source": [
    "users = pd.read_csv('users.csv')\n",
    "responses = pd.read_csv('responses.csv')"
   ]
  },
  {
   "cell_type": "code",
   "execution_count": 5,
   "metadata": {},
   "outputs": [],
   "source": [
    "train = users[users['set']=='train']\n",
    "test = users[users['set']=='test']\n",
    "\n",
    "train = train.merge(responses, how='left', on='user id')\n",
    "context_features = [c for c in users.columns if c not in ['user id', 'set']]"
   ]
  },
  {
   "cell_type": "code",
   "execution_count": 6,
   "metadata": {},
   "outputs": [],
   "source": [
    "decisions = MAB._convert_array(train['item id'])\n",
    "rewards = MAB._convert_array(train['rated'])\n",
    "contexts = MAB._convert_matrix(train[context_features]).astype('float')\n",
    "\n",
    "test_contexts = MAB._convert_matrix(test[context_features]).astype('float')"
   ]
  },
  {
   "cell_type": "code",
   "execution_count": 7,
   "metadata": {},
   "outputs": [
    {
     "data": {
      "text/plain": [
       "<__main__.LinTSExample at 0x7fd11c76ca30>"
      ]
     },
     "execution_count": 7,
     "metadata": {},
     "output_type": "execute_result"
    }
   ],
   "source": [
    "rng = np.random.RandomState(seed=11)\n",
    "item_ids = list(responses['item id'].unique())\n",
    "mab = LinearExample(rng=rng, arms=item_ids, l2_lambda=1, alpha=1, regression='ts', n_jobs=1, backend=None)\n",
    "mab.arm_to_model[1]"
   ]
  },
  {
   "cell_type": "code",
   "execution_count": 8,
   "metadata": {},
   "outputs": [],
   "source": [
    "scaler = pickle.load(open('scaler.pkl', 'rb'))\n",
    "contexts = scaler.fit_transform(contexts)\n",
    "test_contexts = scaler.transform(test_contexts)"
   ]
  },
  {
   "cell_type": "code",
   "execution_count": 9,
   "metadata": {},
   "outputs": [],
   "source": [
    "mab.fit(decisions, rewards, contexts)"
   ]
  },
  {
   "cell_type": "code",
   "execution_count": 10,
   "metadata": {},
   "outputs": [],
   "source": [
    "lin_expectations = mab.predict_expectations(test_contexts)"
   ]
  },
  {
   "cell_type": "code",
   "execution_count": 11,
   "metadata": {},
   "outputs": [
    {
     "data": {
      "text/plain": [
       "13.999455973138641"
      ]
     },
     "execution_count": 11,
     "metadata": {},
     "output_type": "execute_result"
    }
   ],
   "source": [
    "lin_expectations[0][1]"
   ]
  },
  {
   "cell_type": "code",
   "execution_count": 12,
   "metadata": {},
   "outputs": [
    {
     "data": {
      "text/plain": [
       "13.619175409413836"
      ]
     },
     "execution_count": 12,
     "metadata": {},
     "output_type": "execute_result"
    }
   ],
   "source": [
    "lin_expectations[0][2]"
   ]
  },
  {
   "cell_type": "code",
   "execution_count": 13,
   "metadata": {},
   "outputs": [],
   "source": [
    "pickle.dump(mab, open('lin_mab.pkl', 'wb'))\n",
    "pickle.dump(lin_expectations, open('lin_expectations.pkl', 'wb'))"
   ]
  },
  {
   "cell_type": "markdown",
   "metadata": {},
   "source": [
    "## Windows\n",
    "For Windows run, see LinTS Reproducibility Windows.\n",
    "\n",
    "# Analysis"
   ]
  },
  {
   "cell_type": "code",
   "execution_count": 2,
   "metadata": {},
   "outputs": [],
   "source": [
    "mac_expectations = pickle.load(open('mac_expectations.pkl', 'rb'))\n",
    "sgm_expectations = pickle.load(open('sgm_expectations.pkl', 'rb'))\n",
    "lin_expectations = pickle.load(open('lin_expectations.pkl', 'rb'))\n",
    "win_expectations = pickle.load(open('win_expectations.pkl', 'rb'))\n"
   ]
  },
  {
   "cell_type": "code",
   "execution_count": 3,
   "metadata": {},
   "outputs": [],
   "source": [
    "users = pd.read_csv('users.csv')\n",
    "responses = pd.read_csv('responses.csv')\n",
    "test = users[users['set']=='test']\n"
   ]
  },
  {
   "cell_type": "code",
   "execution_count": 4,
   "metadata": {},
   "outputs": [
    {
     "data": {
      "text/html": [
       "<div>\n",
       "<style scoped>\n",
       "    .dataframe tbody tr th:only-of-type {\n",
       "        vertical-align: middle;\n",
       "    }\n",
       "\n",
       "    .dataframe tbody tr th {\n",
       "        vertical-align: top;\n",
       "    }\n",
       "\n",
       "    .dataframe thead th {\n",
       "        text-align: right;\n",
       "    }\n",
       "</style>\n",
       "<table border=\"1\" class=\"dataframe\">\n",
       "  <thead>\n",
       "    <tr style=\"text-align: right;\">\n",
       "      <th></th>\n",
       "      <th>user id</th>\n",
       "      <th>age</th>\n",
       "      <th>gender</th>\n",
       "      <th>zip code</th>\n",
       "      <th>administrator</th>\n",
       "      <th>artist</th>\n",
       "      <th>doctor</th>\n",
       "      <th>educator</th>\n",
       "      <th>engineer</th>\n",
       "      <th>entertainment</th>\n",
       "      <th>...</th>\n",
       "      <th>none</th>\n",
       "      <th>other</th>\n",
       "      <th>programmer</th>\n",
       "      <th>retired</th>\n",
       "      <th>salesman</th>\n",
       "      <th>scientist</th>\n",
       "      <th>student</th>\n",
       "      <th>technician</th>\n",
       "      <th>writer</th>\n",
       "      <th>set</th>\n",
       "    </tr>\n",
       "  </thead>\n",
       "  <tbody>\n",
       "    <tr>\n",
       "      <th>660</th>\n",
       "      <td>383</td>\n",
       "      <td>42</td>\n",
       "      <td>0</td>\n",
       "      <td>538.0</td>\n",
       "      <td>1.0</td>\n",
       "      <td>0.0</td>\n",
       "      <td>0.0</td>\n",
       "      <td>0.0</td>\n",
       "      <td>0.0</td>\n",
       "      <td>0.0</td>\n",
       "      <td>...</td>\n",
       "      <td>0.0</td>\n",
       "      <td>0.0</td>\n",
       "      <td>0.0</td>\n",
       "      <td>0.0</td>\n",
       "      <td>0.0</td>\n",
       "      <td>0.0</td>\n",
       "      <td>0.0</td>\n",
       "      <td>0.0</td>\n",
       "      <td>0.0</td>\n",
       "      <td>test</td>\n",
       "    </tr>\n",
       "    <tr>\n",
       "      <th>661</th>\n",
       "      <td>684</td>\n",
       "      <td>28</td>\n",
       "      <td>0</td>\n",
       "      <td>439.0</td>\n",
       "      <td>0.0</td>\n",
       "      <td>0.0</td>\n",
       "      <td>0.0</td>\n",
       "      <td>0.0</td>\n",
       "      <td>0.0</td>\n",
       "      <td>0.0</td>\n",
       "      <td>...</td>\n",
       "      <td>0.0</td>\n",
       "      <td>0.0</td>\n",
       "      <td>0.0</td>\n",
       "      <td>0.0</td>\n",
       "      <td>0.0</td>\n",
       "      <td>0.0</td>\n",
       "      <td>1.0</td>\n",
       "      <td>0.0</td>\n",
       "      <td>0.0</td>\n",
       "      <td>test</td>\n",
       "    </tr>\n",
       "    <tr>\n",
       "      <th>662</th>\n",
       "      <td>693</td>\n",
       "      <td>43</td>\n",
       "      <td>1</td>\n",
       "      <td>615.0</td>\n",
       "      <td>0.0</td>\n",
       "      <td>0.0</td>\n",
       "      <td>0.0</td>\n",
       "      <td>0.0</td>\n",
       "      <td>0.0</td>\n",
       "      <td>0.0</td>\n",
       "      <td>...</td>\n",
       "      <td>0.0</td>\n",
       "      <td>0.0</td>\n",
       "      <td>0.0</td>\n",
       "      <td>0.0</td>\n",
       "      <td>0.0</td>\n",
       "      <td>0.0</td>\n",
       "      <td>0.0</td>\n",
       "      <td>0.0</td>\n",
       "      <td>0.0</td>\n",
       "      <td>test</td>\n",
       "    </tr>\n",
       "    <tr>\n",
       "      <th>663</th>\n",
       "      <td>417</td>\n",
       "      <td>27</td>\n",
       "      <td>1</td>\n",
       "      <td>361.0</td>\n",
       "      <td>0.0</td>\n",
       "      <td>0.0</td>\n",
       "      <td>0.0</td>\n",
       "      <td>0.0</td>\n",
       "      <td>0.0</td>\n",
       "      <td>0.0</td>\n",
       "      <td>...</td>\n",
       "      <td>0.0</td>\n",
       "      <td>1.0</td>\n",
       "      <td>0.0</td>\n",
       "      <td>0.0</td>\n",
       "      <td>0.0</td>\n",
       "      <td>0.0</td>\n",
       "      <td>0.0</td>\n",
       "      <td>0.0</td>\n",
       "      <td>0.0</td>\n",
       "      <td>test</td>\n",
       "    </tr>\n",
       "    <tr>\n",
       "      <th>664</th>\n",
       "      <td>358</td>\n",
       "      <td>40</td>\n",
       "      <td>0</td>\n",
       "      <td>95.0</td>\n",
       "      <td>0.0</td>\n",
       "      <td>0.0</td>\n",
       "      <td>0.0</td>\n",
       "      <td>1.0</td>\n",
       "      <td>0.0</td>\n",
       "      <td>0.0</td>\n",
       "      <td>...</td>\n",
       "      <td>0.0</td>\n",
       "      <td>0.0</td>\n",
       "      <td>0.0</td>\n",
       "      <td>0.0</td>\n",
       "      <td>0.0</td>\n",
       "      <td>0.0</td>\n",
       "      <td>0.0</td>\n",
       "      <td>0.0</td>\n",
       "      <td>0.0</td>\n",
       "      <td>test</td>\n",
       "    </tr>\n",
       "  </tbody>\n",
       "</table>\n",
       "<p>5 rows × 26 columns</p>\n",
       "</div>"
      ],
      "text/plain": [
       "     user id  age  gender  zip code  administrator  artist  doctor  educator  \\\n",
       "660      383   42       0     538.0            1.0     0.0     0.0       0.0   \n",
       "661      684   28       0     439.0            0.0     0.0     0.0       0.0   \n",
       "662      693   43       1     615.0            0.0     0.0     0.0       0.0   \n",
       "663      417   27       1     361.0            0.0     0.0     0.0       0.0   \n",
       "664      358   40       0      95.0            0.0     0.0     0.0       1.0   \n",
       "\n",
       "     engineer  entertainment  ...  none  other  programmer  retired  salesman  \\\n",
       "660       0.0            0.0  ...   0.0    0.0         0.0      0.0       0.0   \n",
       "661       0.0            0.0  ...   0.0    0.0         0.0      0.0       0.0   \n",
       "662       0.0            0.0  ...   0.0    0.0         0.0      0.0       0.0   \n",
       "663       0.0            0.0  ...   0.0    1.0         0.0      0.0       0.0   \n",
       "664       0.0            0.0  ...   0.0    0.0         0.0      0.0       0.0   \n",
       "\n",
       "     scientist  student  technician  writer   set  \n",
       "660        0.0      0.0         0.0     0.0  test  \n",
       "661        0.0      1.0         0.0     0.0  test  \n",
       "662        0.0      0.0         0.0     0.0  test  \n",
       "663        0.0      0.0         0.0     0.0  test  \n",
       "664        0.0      0.0         0.0     0.0  test  \n",
       "\n",
       "[5 rows x 26 columns]"
      ]
     },
     "execution_count": 4,
     "metadata": {},
     "output_type": "execute_result"
    }
   ],
   "source": [
    "test.head()"
   ]
  },
  {
   "cell_type": "code",
   "execution_count": 5,
   "metadata": {},
   "outputs": [],
   "source": [
    "test.reset_index(inplace=True, drop=True)"
   ]
  },
  {
   "cell_type": "code",
   "execution_count": 6,
   "metadata": {},
   "outputs": [],
   "source": [
    "test_responses = test.merge(responses, how='left', on='user id')"
   ]
  },
  {
   "cell_type": "code",
   "execution_count": 7,
   "metadata": {},
   "outputs": [
    {
     "data": {
      "text/plain": [
       "(476006, 3)"
      ]
     },
     "execution_count": 7,
     "metadata": {},
     "output_type": "execute_result"
    }
   ],
   "source": [
    "test_responses = test_responses[['user id', 'item id', 'rated']]\n",
    "test_responses.shape"
   ]
  },
  {
   "cell_type": "code",
   "execution_count": 8,
   "metadata": {},
   "outputs": [
    {
     "data": {
      "text/html": [
       "<div>\n",
       "<style scoped>\n",
       "    .dataframe tbody tr th:only-of-type {\n",
       "        vertical-align: middle;\n",
       "    }\n",
       "\n",
       "    .dataframe tbody tr th {\n",
       "        vertical-align: top;\n",
       "    }\n",
       "\n",
       "    .dataframe thead th {\n",
       "        text-align: right;\n",
       "    }\n",
       "</style>\n",
       "<table border=\"1\" class=\"dataframe\">\n",
       "  <thead>\n",
       "    <tr style=\"text-align: right;\">\n",
       "      <th></th>\n",
       "      <th>user id</th>\n",
       "      <th>item id</th>\n",
       "      <th>rated</th>\n",
       "    </tr>\n",
       "  </thead>\n",
       "  <tbody>\n",
       "    <tr>\n",
       "      <th>0</th>\n",
       "      <td>383</td>\n",
       "      <td>1</td>\n",
       "      <td>0</td>\n",
       "    </tr>\n",
       "    <tr>\n",
       "      <th>1</th>\n",
       "      <td>383</td>\n",
       "      <td>2</td>\n",
       "      <td>0</td>\n",
       "    </tr>\n",
       "    <tr>\n",
       "      <th>2</th>\n",
       "      <td>383</td>\n",
       "      <td>3</td>\n",
       "      <td>0</td>\n",
       "    </tr>\n",
       "    <tr>\n",
       "      <th>3</th>\n",
       "      <td>383</td>\n",
       "      <td>4</td>\n",
       "      <td>0</td>\n",
       "    </tr>\n",
       "    <tr>\n",
       "      <th>4</th>\n",
       "      <td>383</td>\n",
       "      <td>5</td>\n",
       "      <td>0</td>\n",
       "    </tr>\n",
       "  </tbody>\n",
       "</table>\n",
       "</div>"
      ],
      "text/plain": [
       "   user id  item id  rated\n",
       "0      383        1      0\n",
       "1      383        2      0\n",
       "2      383        3      0\n",
       "3      383        4      0\n",
       "4      383        5      0"
      ]
     },
     "execution_count": 8,
     "metadata": {},
     "output_type": "execute_result"
    }
   ],
   "source": [
    "test_responses.head()"
   ]
  },
  {
   "cell_type": "code",
   "execution_count": 9,
   "metadata": {},
   "outputs": [
    {
     "data": {
      "text/html": [
       "<div>\n",
       "<style scoped>\n",
       "    .dataframe tbody tr th:only-of-type {\n",
       "        vertical-align: middle;\n",
       "    }\n",
       "\n",
       "    .dataframe tbody tr th {\n",
       "        vertical-align: top;\n",
       "    }\n",
       "\n",
       "    .dataframe thead th {\n",
       "        text-align: right;\n",
       "    }\n",
       "</style>\n",
       "<table border=\"1\" class=\"dataframe\">\n",
       "  <thead>\n",
       "    <tr style=\"text-align: right;\">\n",
       "      <th></th>\n",
       "      <th>242</th>\n",
       "      <th>302</th>\n",
       "      <th>377</th>\n",
       "      <th>51</th>\n",
       "      <th>346</th>\n",
       "      <th>474</th>\n",
       "      <th>265</th>\n",
       "      <th>465</th>\n",
       "      <th>451</th>\n",
       "      <th>86</th>\n",
       "      <th>...</th>\n",
       "      <th>1594</th>\n",
       "      <th>1626</th>\n",
       "      <th>1645</th>\n",
       "      <th>1659</th>\n",
       "      <th>1682</th>\n",
       "      <th>1674</th>\n",
       "      <th>1640</th>\n",
       "      <th>1637</th>\n",
       "      <th>1630</th>\n",
       "      <th>1641</th>\n",
       "    </tr>\n",
       "  </thead>\n",
       "  <tbody>\n",
       "    <tr>\n",
       "      <th>0</th>\n",
       "      <td>13.999456</td>\n",
       "      <td>13.619175</td>\n",
       "      <td>14.040468</td>\n",
       "      <td>14.011834</td>\n",
       "      <td>14.001781</td>\n",
       "      <td>13.839774</td>\n",
       "      <td>13.913537</td>\n",
       "      <td>13.784381</td>\n",
       "      <td>14.143585</td>\n",
       "      <td>13.702502</td>\n",
       "      <td>...</td>\n",
       "      <td>13.998745</td>\n",
       "      <td>13.817869</td>\n",
       "      <td>14.085177</td>\n",
       "      <td>13.810363</td>\n",
       "      <td>14.011573</td>\n",
       "      <td>13.889405</td>\n",
       "      <td>13.943352</td>\n",
       "      <td>14.107219</td>\n",
       "      <td>14.071760</td>\n",
       "      <td>13.959409</td>\n",
       "    </tr>\n",
       "    <tr>\n",
       "      <th>1</th>\n",
       "      <td>5.515976</td>\n",
       "      <td>5.420092</td>\n",
       "      <td>5.431560</td>\n",
       "      <td>5.375886</td>\n",
       "      <td>5.515840</td>\n",
       "      <td>5.515619</td>\n",
       "      <td>5.445676</td>\n",
       "      <td>5.405522</td>\n",
       "      <td>5.430701</td>\n",
       "      <td>5.362415</td>\n",
       "      <td>...</td>\n",
       "      <td>5.556219</td>\n",
       "      <td>5.496448</td>\n",
       "      <td>5.446256</td>\n",
       "      <td>5.503418</td>\n",
       "      <td>5.429090</td>\n",
       "      <td>5.276094</td>\n",
       "      <td>5.518622</td>\n",
       "      <td>5.489035</td>\n",
       "      <td>5.517640</td>\n",
       "      <td>5.368379</td>\n",
       "    </tr>\n",
       "    <tr>\n",
       "      <th>2</th>\n",
       "      <td>70.787536</td>\n",
       "      <td>69.833831</td>\n",
       "      <td>70.017768</td>\n",
       "      <td>69.849716</td>\n",
       "      <td>70.029382</td>\n",
       "      <td>70.104242</td>\n",
       "      <td>69.677341</td>\n",
       "      <td>69.760450</td>\n",
       "      <td>69.830625</td>\n",
       "      <td>69.988987</td>\n",
       "      <td>...</td>\n",
       "      <td>70.325775</td>\n",
       "      <td>70.065303</td>\n",
       "      <td>70.266413</td>\n",
       "      <td>69.741081</td>\n",
       "      <td>69.981905</td>\n",
       "      <td>69.846734</td>\n",
       "      <td>69.537533</td>\n",
       "      <td>70.406474</td>\n",
       "      <td>70.002406</td>\n",
       "      <td>70.551944</td>\n",
       "    </tr>\n",
       "    <tr>\n",
       "      <th>3</th>\n",
       "      <td>11.734666</td>\n",
       "      <td>11.909290</td>\n",
       "      <td>11.946744</td>\n",
       "      <td>11.500852</td>\n",
       "      <td>11.610487</td>\n",
       "      <td>11.582492</td>\n",
       "      <td>11.534506</td>\n",
       "      <td>11.564748</td>\n",
       "      <td>11.763328</td>\n",
       "      <td>11.705403</td>\n",
       "      <td>...</td>\n",
       "      <td>11.753791</td>\n",
       "      <td>11.833207</td>\n",
       "      <td>11.617623</td>\n",
       "      <td>11.618735</td>\n",
       "      <td>11.823277</td>\n",
       "      <td>11.713923</td>\n",
       "      <td>11.529636</td>\n",
       "      <td>11.570257</td>\n",
       "      <td>11.644823</td>\n",
       "      <td>11.964746</td>\n",
       "    </tr>\n",
       "    <tr>\n",
       "      <th>4</th>\n",
       "      <td>11.322969</td>\n",
       "      <td>11.026973</td>\n",
       "      <td>11.140362</td>\n",
       "      <td>11.109445</td>\n",
       "      <td>11.201260</td>\n",
       "      <td>11.116516</td>\n",
       "      <td>11.247489</td>\n",
       "      <td>11.280999</td>\n",
       "      <td>11.137010</td>\n",
       "      <td>10.885901</td>\n",
       "      <td>...</td>\n",
       "      <td>11.251817</td>\n",
       "      <td>11.170174</td>\n",
       "      <td>11.002162</td>\n",
       "      <td>11.026821</td>\n",
       "      <td>11.203900</td>\n",
       "      <td>11.088557</td>\n",
       "      <td>11.173237</td>\n",
       "      <td>11.121288</td>\n",
       "      <td>10.835540</td>\n",
       "      <td>11.103578</td>\n",
       "    </tr>\n",
       "  </tbody>\n",
       "</table>\n",
       "<p>5 rows × 1682 columns</p>\n",
       "</div>"
      ],
      "text/plain": [
       "        242        302        377        51         346        474   \\\n",
       "0  13.999456  13.619175  14.040468  14.011834  14.001781  13.839774   \n",
       "1   5.515976   5.420092   5.431560   5.375886   5.515840   5.515619   \n",
       "2  70.787536  69.833831  70.017768  69.849716  70.029382  70.104242   \n",
       "3  11.734666  11.909290  11.946744  11.500852  11.610487  11.582492   \n",
       "4  11.322969  11.026973  11.140362  11.109445  11.201260  11.116516   \n",
       "\n",
       "        265        465        451        86    ...       1594       1626  \\\n",
       "0  13.913537  13.784381  14.143585  13.702502  ...  13.998745  13.817869   \n",
       "1   5.445676   5.405522   5.430701   5.362415  ...   5.556219   5.496448   \n",
       "2  69.677341  69.760450  69.830625  69.988987  ...  70.325775  70.065303   \n",
       "3  11.534506  11.564748  11.763328  11.705403  ...  11.753791  11.833207   \n",
       "4  11.247489  11.280999  11.137010  10.885901  ...  11.251817  11.170174   \n",
       "\n",
       "        1645       1659       1682       1674       1640       1637  \\\n",
       "0  14.085177  13.810363  14.011573  13.889405  13.943352  14.107219   \n",
       "1   5.446256   5.503418   5.429090   5.276094   5.518622   5.489035   \n",
       "2  70.266413  69.741081  69.981905  69.846734  69.537533  70.406474   \n",
       "3  11.617623  11.618735  11.823277  11.713923  11.529636  11.570257   \n",
       "4  11.002162  11.026821  11.203900  11.088557  11.173237  11.121288   \n",
       "\n",
       "        1630       1641  \n",
       "0  14.071760  13.959409  \n",
       "1   5.517640   5.368379  \n",
       "2  70.002406  70.551944  \n",
       "3  11.644823  11.964746  \n",
       "4  10.835540  11.103578  \n",
       "\n",
       "[5 rows x 1682 columns]"
      ]
     },
     "execution_count": 9,
     "metadata": {},
     "output_type": "execute_result"
    }
   ],
   "source": [
    "mac_expectations_df = pd.DataFrame(mac_expectations)\n",
    "mac_expectations_df.head()"
   ]
  },
  {
   "cell_type": "code",
   "execution_count": 10,
   "metadata": {},
   "outputs": [
    {
     "data": {
      "text/plain": [
       "(283, 1682)"
      ]
     },
     "execution_count": 10,
     "metadata": {},
     "output_type": "execute_result"
    }
   ],
   "source": [
    "mac_expectations_df.shape"
   ]
  },
  {
   "cell_type": "code",
   "execution_count": 11,
   "metadata": {},
   "outputs": [
    {
     "data": {
      "text/plain": [
       "(283, 26)"
      ]
     },
     "execution_count": 11,
     "metadata": {},
     "output_type": "execute_result"
    }
   ],
   "source": [
    "test.shape"
   ]
  },
  {
   "cell_type": "code",
   "execution_count": 12,
   "metadata": {},
   "outputs": [],
   "source": [
    "mac_expectations_df['user id'] = test['user id']"
   ]
  },
  {
   "cell_type": "code",
   "execution_count": 13,
   "metadata": {},
   "outputs": [
    {
     "data": {
      "text/html": [
       "<div>\n",
       "<style scoped>\n",
       "    .dataframe tbody tr th:only-of-type {\n",
       "        vertical-align: middle;\n",
       "    }\n",
       "\n",
       "    .dataframe tbody tr th {\n",
       "        vertical-align: top;\n",
       "    }\n",
       "\n",
       "    .dataframe thead th {\n",
       "        text-align: right;\n",
       "    }\n",
       "</style>\n",
       "<table border=\"1\" class=\"dataframe\">\n",
       "  <thead>\n",
       "    <tr style=\"text-align: right;\">\n",
       "      <th></th>\n",
       "      <th>242</th>\n",
       "      <th>302</th>\n",
       "      <th>377</th>\n",
       "      <th>51</th>\n",
       "      <th>346</th>\n",
       "      <th>474</th>\n",
       "      <th>265</th>\n",
       "      <th>465</th>\n",
       "      <th>451</th>\n",
       "      <th>86</th>\n",
       "      <th>...</th>\n",
       "      <th>1626</th>\n",
       "      <th>1645</th>\n",
       "      <th>1659</th>\n",
       "      <th>1682</th>\n",
       "      <th>1674</th>\n",
       "      <th>1640</th>\n",
       "      <th>1637</th>\n",
       "      <th>1630</th>\n",
       "      <th>1641</th>\n",
       "      <th>user id</th>\n",
       "    </tr>\n",
       "  </thead>\n",
       "  <tbody>\n",
       "    <tr>\n",
       "      <th>0</th>\n",
       "      <td>13.999456</td>\n",
       "      <td>13.619175</td>\n",
       "      <td>14.040468</td>\n",
       "      <td>14.011834</td>\n",
       "      <td>14.001781</td>\n",
       "      <td>13.839774</td>\n",
       "      <td>13.913537</td>\n",
       "      <td>13.784381</td>\n",
       "      <td>14.143585</td>\n",
       "      <td>13.702502</td>\n",
       "      <td>...</td>\n",
       "      <td>13.817869</td>\n",
       "      <td>14.085177</td>\n",
       "      <td>13.810363</td>\n",
       "      <td>14.011573</td>\n",
       "      <td>13.889405</td>\n",
       "      <td>13.943352</td>\n",
       "      <td>14.107219</td>\n",
       "      <td>14.071760</td>\n",
       "      <td>13.959409</td>\n",
       "      <td>383</td>\n",
       "    </tr>\n",
       "    <tr>\n",
       "      <th>1</th>\n",
       "      <td>5.515976</td>\n",
       "      <td>5.420092</td>\n",
       "      <td>5.431560</td>\n",
       "      <td>5.375886</td>\n",
       "      <td>5.515840</td>\n",
       "      <td>5.515619</td>\n",
       "      <td>5.445676</td>\n",
       "      <td>5.405522</td>\n",
       "      <td>5.430701</td>\n",
       "      <td>5.362415</td>\n",
       "      <td>...</td>\n",
       "      <td>5.496448</td>\n",
       "      <td>5.446256</td>\n",
       "      <td>5.503418</td>\n",
       "      <td>5.429090</td>\n",
       "      <td>5.276094</td>\n",
       "      <td>5.518622</td>\n",
       "      <td>5.489035</td>\n",
       "      <td>5.517640</td>\n",
       "      <td>5.368379</td>\n",
       "      <td>684</td>\n",
       "    </tr>\n",
       "    <tr>\n",
       "      <th>2</th>\n",
       "      <td>70.787536</td>\n",
       "      <td>69.833831</td>\n",
       "      <td>70.017768</td>\n",
       "      <td>69.849716</td>\n",
       "      <td>70.029382</td>\n",
       "      <td>70.104242</td>\n",
       "      <td>69.677341</td>\n",
       "      <td>69.760450</td>\n",
       "      <td>69.830625</td>\n",
       "      <td>69.988987</td>\n",
       "      <td>...</td>\n",
       "      <td>70.065303</td>\n",
       "      <td>70.266413</td>\n",
       "      <td>69.741081</td>\n",
       "      <td>69.981905</td>\n",
       "      <td>69.846734</td>\n",
       "      <td>69.537533</td>\n",
       "      <td>70.406474</td>\n",
       "      <td>70.002406</td>\n",
       "      <td>70.551944</td>\n",
       "      <td>693</td>\n",
       "    </tr>\n",
       "    <tr>\n",
       "      <th>3</th>\n",
       "      <td>11.734666</td>\n",
       "      <td>11.909290</td>\n",
       "      <td>11.946744</td>\n",
       "      <td>11.500852</td>\n",
       "      <td>11.610487</td>\n",
       "      <td>11.582492</td>\n",
       "      <td>11.534506</td>\n",
       "      <td>11.564748</td>\n",
       "      <td>11.763328</td>\n",
       "      <td>11.705403</td>\n",
       "      <td>...</td>\n",
       "      <td>11.833207</td>\n",
       "      <td>11.617623</td>\n",
       "      <td>11.618735</td>\n",
       "      <td>11.823277</td>\n",
       "      <td>11.713923</td>\n",
       "      <td>11.529636</td>\n",
       "      <td>11.570257</td>\n",
       "      <td>11.644823</td>\n",
       "      <td>11.964746</td>\n",
       "      <td>417</td>\n",
       "    </tr>\n",
       "    <tr>\n",
       "      <th>4</th>\n",
       "      <td>11.322969</td>\n",
       "      <td>11.026973</td>\n",
       "      <td>11.140362</td>\n",
       "      <td>11.109445</td>\n",
       "      <td>11.201260</td>\n",
       "      <td>11.116516</td>\n",
       "      <td>11.247489</td>\n",
       "      <td>11.280999</td>\n",
       "      <td>11.137010</td>\n",
       "      <td>10.885901</td>\n",
       "      <td>...</td>\n",
       "      <td>11.170174</td>\n",
       "      <td>11.002162</td>\n",
       "      <td>11.026821</td>\n",
       "      <td>11.203900</td>\n",
       "      <td>11.088557</td>\n",
       "      <td>11.173237</td>\n",
       "      <td>11.121288</td>\n",
       "      <td>10.835540</td>\n",
       "      <td>11.103578</td>\n",
       "      <td>358</td>\n",
       "    </tr>\n",
       "  </tbody>\n",
       "</table>\n",
       "<p>5 rows × 1683 columns</p>\n",
       "</div>"
      ],
      "text/plain": [
       "         242        302        377         51        346        474  \\\n",
       "0  13.999456  13.619175  14.040468  14.011834  14.001781  13.839774   \n",
       "1   5.515976   5.420092   5.431560   5.375886   5.515840   5.515619   \n",
       "2  70.787536  69.833831  70.017768  69.849716  70.029382  70.104242   \n",
       "3  11.734666  11.909290  11.946744  11.500852  11.610487  11.582492   \n",
       "4  11.322969  11.026973  11.140362  11.109445  11.201260  11.116516   \n",
       "\n",
       "         265        465        451         86  ...       1626       1645  \\\n",
       "0  13.913537  13.784381  14.143585  13.702502  ...  13.817869  14.085177   \n",
       "1   5.445676   5.405522   5.430701   5.362415  ...   5.496448   5.446256   \n",
       "2  69.677341  69.760450  69.830625  69.988987  ...  70.065303  70.266413   \n",
       "3  11.534506  11.564748  11.763328  11.705403  ...  11.833207  11.617623   \n",
       "4  11.247489  11.280999  11.137010  10.885901  ...  11.170174  11.002162   \n",
       "\n",
       "        1659       1682       1674       1640       1637       1630  \\\n",
       "0  13.810363  14.011573  13.889405  13.943352  14.107219  14.071760   \n",
       "1   5.503418   5.429090   5.276094   5.518622   5.489035   5.517640   \n",
       "2  69.741081  69.981905  69.846734  69.537533  70.406474  70.002406   \n",
       "3  11.618735  11.823277  11.713923  11.529636  11.570257  11.644823   \n",
       "4  11.026821  11.203900  11.088557  11.173237  11.121288  10.835540   \n",
       "\n",
       "        1641  user id  \n",
       "0  13.959409      383  \n",
       "1   5.368379      684  \n",
       "2  70.551944      693  \n",
       "3  11.964746      417  \n",
       "4  11.103578      358  \n",
       "\n",
       "[5 rows x 1683 columns]"
      ]
     },
     "execution_count": 13,
     "metadata": {},
     "output_type": "execute_result"
    }
   ],
   "source": [
    "mac_expectations_df.head()"
   ]
  },
  {
   "cell_type": "code",
   "execution_count": 14,
   "metadata": {},
   "outputs": [],
   "source": [
    "sgm_expectations_df = pd.DataFrame(sgm_expectations)\n",
    "sgm_expectations_df['user id'] = test['user id']\n",
    "\n",
    "lin_expectations_df = pd.DataFrame(lin_expectations)\n",
    "lin_expectations_df['user id'] = test['user id']\n",
    "\n",
    "win_expectations_df = pd.DataFrame(win_expectations)\n",
    "win_expectations_df['user id'] = test['user id']"
   ]
  },
  {
   "cell_type": "code",
   "execution_count": 15,
   "metadata": {},
   "outputs": [
    {
     "data": {
      "text/html": [
       "<div>\n",
       "<style scoped>\n",
       "    .dataframe tbody tr th:only-of-type {\n",
       "        vertical-align: middle;\n",
       "    }\n",
       "\n",
       "    .dataframe tbody tr th {\n",
       "        vertical-align: top;\n",
       "    }\n",
       "\n",
       "    .dataframe thead th {\n",
       "        text-align: right;\n",
       "    }\n",
       "</style>\n",
       "<table border=\"1\" class=\"dataframe\">\n",
       "  <thead>\n",
       "    <tr style=\"text-align: right;\">\n",
       "      <th></th>\n",
       "      <th>1</th>\n",
       "      <th>2</th>\n",
       "      <th>3</th>\n",
       "      <th>4</th>\n",
       "      <th>5</th>\n",
       "      <th>6</th>\n",
       "      <th>7</th>\n",
       "      <th>8</th>\n",
       "      <th>9</th>\n",
       "      <th>10</th>\n",
       "      <th>...</th>\n",
       "      <th>1674</th>\n",
       "      <th>1675</th>\n",
       "      <th>1676</th>\n",
       "      <th>1677</th>\n",
       "      <th>1678</th>\n",
       "      <th>1679</th>\n",
       "      <th>1680</th>\n",
       "      <th>1681</th>\n",
       "      <th>1682</th>\n",
       "      <th>user id</th>\n",
       "    </tr>\n",
       "  </thead>\n",
       "  <tbody>\n",
       "    <tr>\n",
       "      <th>0</th>\n",
       "      <td>13.999456</td>\n",
       "      <td>13.619175</td>\n",
       "      <td>14.040468</td>\n",
       "      <td>14.011834</td>\n",
       "      <td>14.001781</td>\n",
       "      <td>13.839774</td>\n",
       "      <td>13.913537</td>\n",
       "      <td>13.784381</td>\n",
       "      <td>14.143585</td>\n",
       "      <td>13.702502</td>\n",
       "      <td>...</td>\n",
       "      <td>13.817869</td>\n",
       "      <td>14.085177</td>\n",
       "      <td>13.810363</td>\n",
       "      <td>14.011573</td>\n",
       "      <td>13.889405</td>\n",
       "      <td>13.943352</td>\n",
       "      <td>14.107219</td>\n",
       "      <td>14.071760</td>\n",
       "      <td>13.959409</td>\n",
       "      <td>383</td>\n",
       "    </tr>\n",
       "    <tr>\n",
       "      <th>1</th>\n",
       "      <td>5.515976</td>\n",
       "      <td>5.420092</td>\n",
       "      <td>5.431560</td>\n",
       "      <td>5.375886</td>\n",
       "      <td>5.515840</td>\n",
       "      <td>5.515619</td>\n",
       "      <td>5.445676</td>\n",
       "      <td>5.405522</td>\n",
       "      <td>5.430701</td>\n",
       "      <td>5.362415</td>\n",
       "      <td>...</td>\n",
       "      <td>5.496448</td>\n",
       "      <td>5.446256</td>\n",
       "      <td>5.503418</td>\n",
       "      <td>5.429090</td>\n",
       "      <td>5.276094</td>\n",
       "      <td>5.518622</td>\n",
       "      <td>5.489035</td>\n",
       "      <td>5.517640</td>\n",
       "      <td>5.368379</td>\n",
       "      <td>684</td>\n",
       "    </tr>\n",
       "    <tr>\n",
       "      <th>2</th>\n",
       "      <td>70.787536</td>\n",
       "      <td>69.833831</td>\n",
       "      <td>70.017768</td>\n",
       "      <td>69.849716</td>\n",
       "      <td>70.029382</td>\n",
       "      <td>70.104242</td>\n",
       "      <td>69.677341</td>\n",
       "      <td>69.760450</td>\n",
       "      <td>69.830625</td>\n",
       "      <td>69.988987</td>\n",
       "      <td>...</td>\n",
       "      <td>70.065303</td>\n",
       "      <td>70.266413</td>\n",
       "      <td>69.741081</td>\n",
       "      <td>69.981905</td>\n",
       "      <td>69.846734</td>\n",
       "      <td>69.537533</td>\n",
       "      <td>70.406474</td>\n",
       "      <td>70.002406</td>\n",
       "      <td>70.551944</td>\n",
       "      <td>693</td>\n",
       "    </tr>\n",
       "    <tr>\n",
       "      <th>3</th>\n",
       "      <td>11.734666</td>\n",
       "      <td>11.909290</td>\n",
       "      <td>11.946744</td>\n",
       "      <td>11.500852</td>\n",
       "      <td>11.610487</td>\n",
       "      <td>11.582492</td>\n",
       "      <td>11.534506</td>\n",
       "      <td>11.564748</td>\n",
       "      <td>11.763328</td>\n",
       "      <td>11.705403</td>\n",
       "      <td>...</td>\n",
       "      <td>11.833207</td>\n",
       "      <td>11.617623</td>\n",
       "      <td>11.618735</td>\n",
       "      <td>11.823277</td>\n",
       "      <td>11.713923</td>\n",
       "      <td>11.529636</td>\n",
       "      <td>11.570257</td>\n",
       "      <td>11.644823</td>\n",
       "      <td>11.964746</td>\n",
       "      <td>417</td>\n",
       "    </tr>\n",
       "    <tr>\n",
       "      <th>4</th>\n",
       "      <td>11.322969</td>\n",
       "      <td>11.026973</td>\n",
       "      <td>11.140362</td>\n",
       "      <td>11.109445</td>\n",
       "      <td>11.201260</td>\n",
       "      <td>11.116516</td>\n",
       "      <td>11.247489</td>\n",
       "      <td>11.280999</td>\n",
       "      <td>11.137010</td>\n",
       "      <td>10.885901</td>\n",
       "      <td>...</td>\n",
       "      <td>11.170174</td>\n",
       "      <td>11.002162</td>\n",
       "      <td>11.026821</td>\n",
       "      <td>11.203900</td>\n",
       "      <td>11.088557</td>\n",
       "      <td>11.173237</td>\n",
       "      <td>11.121288</td>\n",
       "      <td>10.835540</td>\n",
       "      <td>11.103578</td>\n",
       "      <td>358</td>\n",
       "    </tr>\n",
       "  </tbody>\n",
       "</table>\n",
       "<p>5 rows × 1683 columns</p>\n",
       "</div>"
      ],
      "text/plain": [
       "           1          2          3          4          5          6  \\\n",
       "0  13.999456  13.619175  14.040468  14.011834  14.001781  13.839774   \n",
       "1   5.515976   5.420092   5.431560   5.375886   5.515840   5.515619   \n",
       "2  70.787536  69.833831  70.017768  69.849716  70.029382  70.104242   \n",
       "3  11.734666  11.909290  11.946744  11.500852  11.610487  11.582492   \n",
       "4  11.322969  11.026973  11.140362  11.109445  11.201260  11.116516   \n",
       "\n",
       "           7          8          9         10  ...       1674       1675  \\\n",
       "0  13.913537  13.784381  14.143585  13.702502  ...  13.817869  14.085177   \n",
       "1   5.445676   5.405522   5.430701   5.362415  ...   5.496448   5.446256   \n",
       "2  69.677341  69.760450  69.830625  69.988987  ...  70.065303  70.266413   \n",
       "3  11.534506  11.564748  11.763328  11.705403  ...  11.833207  11.617623   \n",
       "4  11.247489  11.280999  11.137010  10.885901  ...  11.170174  11.002162   \n",
       "\n",
       "        1676       1677       1678       1679       1680       1681  \\\n",
       "0  13.810363  14.011573  13.889405  13.943352  14.107219  14.071760   \n",
       "1   5.503418   5.429090   5.276094   5.518622   5.489035   5.517640   \n",
       "2  69.741081  69.981905  69.846734  69.537533  70.406474  70.002406   \n",
       "3  11.618735  11.823277  11.713923  11.529636  11.570257  11.644823   \n",
       "4  11.026821  11.203900  11.088557  11.173237  11.121288  10.835540   \n",
       "\n",
       "        1682  user id  \n",
       "0  13.959409      383  \n",
       "1   5.368379      684  \n",
       "2  70.551944      693  \n",
       "3  11.964746      417  \n",
       "4  11.103578      358  \n",
       "\n",
       "[5 rows x 1683 columns]"
      ]
     },
     "execution_count": 15,
     "metadata": {},
     "output_type": "execute_result"
    }
   ],
   "source": [
    "sgm_expectations_df.head()"
   ]
  },
  {
   "cell_type": "code",
   "execution_count": 16,
   "metadata": {},
   "outputs": [
    {
     "data": {
      "text/html": [
       "<div>\n",
       "<style scoped>\n",
       "    .dataframe tbody tr th:only-of-type {\n",
       "        vertical-align: middle;\n",
       "    }\n",
       "\n",
       "    .dataframe tbody tr th {\n",
       "        vertical-align: top;\n",
       "    }\n",
       "\n",
       "    .dataframe thead th {\n",
       "        text-align: right;\n",
       "    }\n",
       "</style>\n",
       "<table border=\"1\" class=\"dataframe\">\n",
       "  <thead>\n",
       "    <tr style=\"text-align: right;\">\n",
       "      <th></th>\n",
       "      <th>1</th>\n",
       "      <th>2</th>\n",
       "      <th>3</th>\n",
       "      <th>4</th>\n",
       "      <th>5</th>\n",
       "      <th>6</th>\n",
       "      <th>7</th>\n",
       "      <th>8</th>\n",
       "      <th>9</th>\n",
       "      <th>10</th>\n",
       "      <th>...</th>\n",
       "      <th>1674</th>\n",
       "      <th>1675</th>\n",
       "      <th>1676</th>\n",
       "      <th>1677</th>\n",
       "      <th>1678</th>\n",
       "      <th>1679</th>\n",
       "      <th>1680</th>\n",
       "      <th>1681</th>\n",
       "      <th>1682</th>\n",
       "      <th>user id</th>\n",
       "    </tr>\n",
       "  </thead>\n",
       "  <tbody>\n",
       "    <tr>\n",
       "      <th>0</th>\n",
       "      <td>13.999456</td>\n",
       "      <td>13.619175</td>\n",
       "      <td>14.040468</td>\n",
       "      <td>14.011834</td>\n",
       "      <td>14.001781</td>\n",
       "      <td>13.839774</td>\n",
       "      <td>13.913537</td>\n",
       "      <td>13.784381</td>\n",
       "      <td>14.143585</td>\n",
       "      <td>13.702502</td>\n",
       "      <td>...</td>\n",
       "      <td>13.817869</td>\n",
       "      <td>14.085177</td>\n",
       "      <td>13.810363</td>\n",
       "      <td>14.011573</td>\n",
       "      <td>13.889405</td>\n",
       "      <td>13.943352</td>\n",
       "      <td>14.107219</td>\n",
       "      <td>14.071760</td>\n",
       "      <td>13.959409</td>\n",
       "      <td>383</td>\n",
       "    </tr>\n",
       "    <tr>\n",
       "      <th>1</th>\n",
       "      <td>5.515976</td>\n",
       "      <td>5.420092</td>\n",
       "      <td>5.431560</td>\n",
       "      <td>5.375886</td>\n",
       "      <td>5.515840</td>\n",
       "      <td>5.515619</td>\n",
       "      <td>5.445676</td>\n",
       "      <td>5.405522</td>\n",
       "      <td>5.430701</td>\n",
       "      <td>5.362415</td>\n",
       "      <td>...</td>\n",
       "      <td>5.496448</td>\n",
       "      <td>5.446256</td>\n",
       "      <td>5.503418</td>\n",
       "      <td>5.429090</td>\n",
       "      <td>5.276094</td>\n",
       "      <td>5.518622</td>\n",
       "      <td>5.489035</td>\n",
       "      <td>5.517640</td>\n",
       "      <td>5.368379</td>\n",
       "      <td>684</td>\n",
       "    </tr>\n",
       "    <tr>\n",
       "      <th>2</th>\n",
       "      <td>70.787536</td>\n",
       "      <td>69.833831</td>\n",
       "      <td>70.017768</td>\n",
       "      <td>69.849716</td>\n",
       "      <td>70.029382</td>\n",
       "      <td>70.104242</td>\n",
       "      <td>69.677341</td>\n",
       "      <td>69.760450</td>\n",
       "      <td>69.830625</td>\n",
       "      <td>69.988987</td>\n",
       "      <td>...</td>\n",
       "      <td>70.065303</td>\n",
       "      <td>70.266413</td>\n",
       "      <td>69.741081</td>\n",
       "      <td>69.981905</td>\n",
       "      <td>69.846734</td>\n",
       "      <td>69.537533</td>\n",
       "      <td>70.406474</td>\n",
       "      <td>70.002406</td>\n",
       "      <td>70.551944</td>\n",
       "      <td>693</td>\n",
       "    </tr>\n",
       "    <tr>\n",
       "      <th>3</th>\n",
       "      <td>11.734666</td>\n",
       "      <td>11.909290</td>\n",
       "      <td>11.946744</td>\n",
       "      <td>11.500852</td>\n",
       "      <td>11.610487</td>\n",
       "      <td>11.582492</td>\n",
       "      <td>11.534506</td>\n",
       "      <td>11.564748</td>\n",
       "      <td>11.763328</td>\n",
       "      <td>11.705403</td>\n",
       "      <td>...</td>\n",
       "      <td>11.833207</td>\n",
       "      <td>11.617623</td>\n",
       "      <td>11.618735</td>\n",
       "      <td>11.823277</td>\n",
       "      <td>11.713923</td>\n",
       "      <td>11.529636</td>\n",
       "      <td>11.570257</td>\n",
       "      <td>11.644823</td>\n",
       "      <td>11.964746</td>\n",
       "      <td>417</td>\n",
       "    </tr>\n",
       "    <tr>\n",
       "      <th>4</th>\n",
       "      <td>11.322969</td>\n",
       "      <td>11.026973</td>\n",
       "      <td>11.140362</td>\n",
       "      <td>11.109445</td>\n",
       "      <td>11.201260</td>\n",
       "      <td>11.116516</td>\n",
       "      <td>11.247489</td>\n",
       "      <td>11.280999</td>\n",
       "      <td>11.137010</td>\n",
       "      <td>10.885901</td>\n",
       "      <td>...</td>\n",
       "      <td>11.170174</td>\n",
       "      <td>11.002162</td>\n",
       "      <td>11.026821</td>\n",
       "      <td>11.203900</td>\n",
       "      <td>11.088557</td>\n",
       "      <td>11.173237</td>\n",
       "      <td>11.121288</td>\n",
       "      <td>10.835540</td>\n",
       "      <td>11.103578</td>\n",
       "      <td>358</td>\n",
       "    </tr>\n",
       "  </tbody>\n",
       "</table>\n",
       "<p>5 rows × 1683 columns</p>\n",
       "</div>"
      ],
      "text/plain": [
       "           1          2          3          4          5          6  \\\n",
       "0  13.999456  13.619175  14.040468  14.011834  14.001781  13.839774   \n",
       "1   5.515976   5.420092   5.431560   5.375886   5.515840   5.515619   \n",
       "2  70.787536  69.833831  70.017768  69.849716  70.029382  70.104242   \n",
       "3  11.734666  11.909290  11.946744  11.500852  11.610487  11.582492   \n",
       "4  11.322969  11.026973  11.140362  11.109445  11.201260  11.116516   \n",
       "\n",
       "           7          8          9         10  ...       1674       1675  \\\n",
       "0  13.913537  13.784381  14.143585  13.702502  ...  13.817869  14.085177   \n",
       "1   5.445676   5.405522   5.430701   5.362415  ...   5.496448   5.446256   \n",
       "2  69.677341  69.760450  69.830625  69.988987  ...  70.065303  70.266413   \n",
       "3  11.534506  11.564748  11.763328  11.705403  ...  11.833207  11.617623   \n",
       "4  11.247489  11.280999  11.137010  10.885901  ...  11.170174  11.002162   \n",
       "\n",
       "        1676       1677       1678       1679       1680       1681  \\\n",
       "0  13.810363  14.011573  13.889405  13.943352  14.107219  14.071760   \n",
       "1   5.503418   5.429090   5.276094   5.518622   5.489035   5.517640   \n",
       "2  69.741081  69.981905  69.846734  69.537533  70.406474  70.002406   \n",
       "3  11.618735  11.823277  11.713923  11.529636  11.570257  11.644823   \n",
       "4  11.026821  11.203900  11.088557  11.173237  11.121288  10.835540   \n",
       "\n",
       "        1682  user id  \n",
       "0  13.959409      383  \n",
       "1   5.368379      684  \n",
       "2  70.551944      693  \n",
       "3  11.964746      417  \n",
       "4  11.103578      358  \n",
       "\n",
       "[5 rows x 1683 columns]"
      ]
     },
     "execution_count": 16,
     "metadata": {},
     "output_type": "execute_result"
    }
   ],
   "source": [
    "lin_expectations_df.head()"
   ]
  },
  {
   "cell_type": "code",
   "execution_count": 17,
   "metadata": {},
   "outputs": [
    {
     "data": {
      "text/html": [
       "<div>\n",
       "<style scoped>\n",
       "    .dataframe tbody tr th:only-of-type {\n",
       "        vertical-align: middle;\n",
       "    }\n",
       "\n",
       "    .dataframe tbody tr th {\n",
       "        vertical-align: top;\n",
       "    }\n",
       "\n",
       "    .dataframe thead th {\n",
       "        text-align: right;\n",
       "    }\n",
       "</style>\n",
       "<table border=\"1\" class=\"dataframe\">\n",
       "  <thead>\n",
       "    <tr style=\"text-align: right;\">\n",
       "      <th></th>\n",
       "      <th>1</th>\n",
       "      <th>2</th>\n",
       "      <th>3</th>\n",
       "      <th>4</th>\n",
       "      <th>5</th>\n",
       "      <th>6</th>\n",
       "      <th>7</th>\n",
       "      <th>8</th>\n",
       "      <th>9</th>\n",
       "      <th>10</th>\n",
       "      <th>...</th>\n",
       "      <th>1674</th>\n",
       "      <th>1675</th>\n",
       "      <th>1676</th>\n",
       "      <th>1677</th>\n",
       "      <th>1678</th>\n",
       "      <th>1679</th>\n",
       "      <th>1680</th>\n",
       "      <th>1681</th>\n",
       "      <th>1682</th>\n",
       "      <th>user id</th>\n",
       "    </tr>\n",
       "  </thead>\n",
       "  <tbody>\n",
       "    <tr>\n",
       "      <th>0</th>\n",
       "      <td>13.999456</td>\n",
       "      <td>13.619175</td>\n",
       "      <td>14.040468</td>\n",
       "      <td>14.011834</td>\n",
       "      <td>14.001781</td>\n",
       "      <td>13.839774</td>\n",
       "      <td>13.913537</td>\n",
       "      <td>13.784381</td>\n",
       "      <td>14.143585</td>\n",
       "      <td>13.702502</td>\n",
       "      <td>...</td>\n",
       "      <td>13.817869</td>\n",
       "      <td>14.085177</td>\n",
       "      <td>13.810363</td>\n",
       "      <td>14.011573</td>\n",
       "      <td>13.889405</td>\n",
       "      <td>13.943352</td>\n",
       "      <td>14.107219</td>\n",
       "      <td>14.071760</td>\n",
       "      <td>13.959409</td>\n",
       "      <td>383</td>\n",
       "    </tr>\n",
       "    <tr>\n",
       "      <th>1</th>\n",
       "      <td>5.515976</td>\n",
       "      <td>5.420092</td>\n",
       "      <td>5.431560</td>\n",
       "      <td>5.375886</td>\n",
       "      <td>5.515840</td>\n",
       "      <td>5.515619</td>\n",
       "      <td>5.445676</td>\n",
       "      <td>5.405522</td>\n",
       "      <td>5.430701</td>\n",
       "      <td>5.362415</td>\n",
       "      <td>...</td>\n",
       "      <td>5.496448</td>\n",
       "      <td>5.446256</td>\n",
       "      <td>5.503418</td>\n",
       "      <td>5.429090</td>\n",
       "      <td>5.276094</td>\n",
       "      <td>5.518622</td>\n",
       "      <td>5.489035</td>\n",
       "      <td>5.517640</td>\n",
       "      <td>5.368379</td>\n",
       "      <td>684</td>\n",
       "    </tr>\n",
       "    <tr>\n",
       "      <th>2</th>\n",
       "      <td>70.787536</td>\n",
       "      <td>69.833831</td>\n",
       "      <td>70.017768</td>\n",
       "      <td>69.849716</td>\n",
       "      <td>70.029382</td>\n",
       "      <td>70.104242</td>\n",
       "      <td>69.677341</td>\n",
       "      <td>69.760450</td>\n",
       "      <td>69.830625</td>\n",
       "      <td>69.988987</td>\n",
       "      <td>...</td>\n",
       "      <td>70.065303</td>\n",
       "      <td>70.266413</td>\n",
       "      <td>69.741081</td>\n",
       "      <td>69.981905</td>\n",
       "      <td>69.846734</td>\n",
       "      <td>69.537533</td>\n",
       "      <td>70.406474</td>\n",
       "      <td>70.002406</td>\n",
       "      <td>70.551944</td>\n",
       "      <td>693</td>\n",
       "    </tr>\n",
       "    <tr>\n",
       "      <th>3</th>\n",
       "      <td>11.734666</td>\n",
       "      <td>11.909290</td>\n",
       "      <td>11.946744</td>\n",
       "      <td>11.500852</td>\n",
       "      <td>11.610487</td>\n",
       "      <td>11.582492</td>\n",
       "      <td>11.534506</td>\n",
       "      <td>11.564748</td>\n",
       "      <td>11.763328</td>\n",
       "      <td>11.705403</td>\n",
       "      <td>...</td>\n",
       "      <td>11.833207</td>\n",
       "      <td>11.617623</td>\n",
       "      <td>11.618735</td>\n",
       "      <td>11.823277</td>\n",
       "      <td>11.713923</td>\n",
       "      <td>11.529636</td>\n",
       "      <td>11.570257</td>\n",
       "      <td>11.644823</td>\n",
       "      <td>11.964746</td>\n",
       "      <td>417</td>\n",
       "    </tr>\n",
       "    <tr>\n",
       "      <th>4</th>\n",
       "      <td>11.322969</td>\n",
       "      <td>11.026973</td>\n",
       "      <td>11.140362</td>\n",
       "      <td>11.109445</td>\n",
       "      <td>11.201260</td>\n",
       "      <td>11.116516</td>\n",
       "      <td>11.247489</td>\n",
       "      <td>11.280999</td>\n",
       "      <td>11.137010</td>\n",
       "      <td>10.885901</td>\n",
       "      <td>...</td>\n",
       "      <td>11.170174</td>\n",
       "      <td>11.002162</td>\n",
       "      <td>11.026821</td>\n",
       "      <td>11.203900</td>\n",
       "      <td>11.088557</td>\n",
       "      <td>11.173237</td>\n",
       "      <td>11.121288</td>\n",
       "      <td>10.835540</td>\n",
       "      <td>11.103578</td>\n",
       "      <td>358</td>\n",
       "    </tr>\n",
       "  </tbody>\n",
       "</table>\n",
       "<p>5 rows × 1683 columns</p>\n",
       "</div>"
      ],
      "text/plain": [
       "           1          2          3          4          5          6  \\\n",
       "0  13.999456  13.619175  14.040468  14.011834  14.001781  13.839774   \n",
       "1   5.515976   5.420092   5.431560   5.375886   5.515840   5.515619   \n",
       "2  70.787536  69.833831  70.017768  69.849716  70.029382  70.104242   \n",
       "3  11.734666  11.909290  11.946744  11.500852  11.610487  11.582492   \n",
       "4  11.322969  11.026973  11.140362  11.109445  11.201260  11.116516   \n",
       "\n",
       "           7          8          9         10  ...       1674       1675  \\\n",
       "0  13.913537  13.784381  14.143585  13.702502  ...  13.817869  14.085177   \n",
       "1   5.445676   5.405522   5.430701   5.362415  ...   5.496448   5.446256   \n",
       "2  69.677341  69.760450  69.830625  69.988987  ...  70.065303  70.266413   \n",
       "3  11.534506  11.564748  11.763328  11.705403  ...  11.833207  11.617623   \n",
       "4  11.247489  11.280999  11.137010  10.885901  ...  11.170174  11.002162   \n",
       "\n",
       "        1676       1677       1678       1679       1680       1681  \\\n",
       "0  13.810363  14.011573  13.889405  13.943352  14.107219  14.071760   \n",
       "1   5.503418   5.429090   5.276094   5.518622   5.489035   5.517640   \n",
       "2  69.741081  69.981905  69.846734  69.537533  70.406474  70.002406   \n",
       "3  11.618735  11.823277  11.713923  11.529636  11.570257  11.644823   \n",
       "4  11.026821  11.203900  11.088557  11.173237  11.121288  10.835540   \n",
       "\n",
       "        1682  user id  \n",
       "0  13.959409      383  \n",
       "1   5.368379      684  \n",
       "2  70.551944      693  \n",
       "3  11.964746      417  \n",
       "4  11.103578      358  \n",
       "\n",
       "[5 rows x 1683 columns]"
      ]
     },
     "execution_count": 17,
     "metadata": {},
     "output_type": "execute_result"
    }
   ],
   "source": [
    "win_expectations_df.head()"
   ]
  },
  {
   "cell_type": "code",
   "execution_count": 18,
   "metadata": {},
   "outputs": [
    {
     "data": {
      "text/html": [
       "<div>\n",
       "<style scoped>\n",
       "    .dataframe tbody tr th:only-of-type {\n",
       "        vertical-align: middle;\n",
       "    }\n",
       "\n",
       "    .dataframe tbody tr th {\n",
       "        vertical-align: top;\n",
       "    }\n",
       "\n",
       "    .dataframe thead th {\n",
       "        text-align: right;\n",
       "    }\n",
       "</style>\n",
       "<table border=\"1\" class=\"dataframe\">\n",
       "  <thead>\n",
       "    <tr style=\"text-align: right;\">\n",
       "      <th></th>\n",
       "      <th>user id</th>\n",
       "      <th>item id</th>\n",
       "      <th>score</th>\n",
       "    </tr>\n",
       "  </thead>\n",
       "  <tbody>\n",
       "    <tr>\n",
       "      <th>0</th>\n",
       "      <td>383</td>\n",
       "      <td>242</td>\n",
       "      <td>13.999456</td>\n",
       "    </tr>\n",
       "    <tr>\n",
       "      <th>1</th>\n",
       "      <td>684</td>\n",
       "      <td>242</td>\n",
       "      <td>5.515976</td>\n",
       "    </tr>\n",
       "    <tr>\n",
       "      <th>2</th>\n",
       "      <td>693</td>\n",
       "      <td>242</td>\n",
       "      <td>70.787536</td>\n",
       "    </tr>\n",
       "    <tr>\n",
       "      <th>3</th>\n",
       "      <td>417</td>\n",
       "      <td>242</td>\n",
       "      <td>11.734666</td>\n",
       "    </tr>\n",
       "    <tr>\n",
       "      <th>4</th>\n",
       "      <td>358</td>\n",
       "      <td>242</td>\n",
       "      <td>11.322969</td>\n",
       "    </tr>\n",
       "  </tbody>\n",
       "</table>\n",
       "</div>"
      ],
      "text/plain": [
       "   user id item id      score\n",
       "0      383     242  13.999456\n",
       "1      684     242   5.515976\n",
       "2      693     242  70.787536\n",
       "3      417     242  11.734666\n",
       "4      358     242  11.322969"
      ]
     },
     "execution_count": 18,
     "metadata": {},
     "output_type": "execute_result"
    }
   ],
   "source": [
    "mac_expectations_df = pd.melt(mac_expectations_df, id_vars=['user id'], var_name = 'item id', value_name='score')\n",
    "mac_expectations_df.head()"
   ]
  },
  {
   "cell_type": "code",
   "execution_count": 19,
   "metadata": {},
   "outputs": [],
   "source": [
    "mac_expectations_df.columns = ['user id', 'item id', 'Mac score']"
   ]
  },
  {
   "cell_type": "code",
   "execution_count": 20,
   "metadata": {},
   "outputs": [
    {
     "data": {
      "text/html": [
       "<div>\n",
       "<style scoped>\n",
       "    .dataframe tbody tr th:only-of-type {\n",
       "        vertical-align: middle;\n",
       "    }\n",
       "\n",
       "    .dataframe tbody tr th {\n",
       "        vertical-align: top;\n",
       "    }\n",
       "\n",
       "    .dataframe thead th {\n",
       "        text-align: right;\n",
       "    }\n",
       "</style>\n",
       "<table border=\"1\" class=\"dataframe\">\n",
       "  <thead>\n",
       "    <tr style=\"text-align: right;\">\n",
       "      <th></th>\n",
       "      <th>user id</th>\n",
       "      <th>item id</th>\n",
       "      <th>Mac score</th>\n",
       "    </tr>\n",
       "  </thead>\n",
       "  <tbody>\n",
       "    <tr>\n",
       "      <th>0</th>\n",
       "      <td>383</td>\n",
       "      <td>242</td>\n",
       "      <td>13.999456</td>\n",
       "    </tr>\n",
       "    <tr>\n",
       "      <th>1</th>\n",
       "      <td>684</td>\n",
       "      <td>242</td>\n",
       "      <td>5.515976</td>\n",
       "    </tr>\n",
       "    <tr>\n",
       "      <th>2</th>\n",
       "      <td>693</td>\n",
       "      <td>242</td>\n",
       "      <td>70.787536</td>\n",
       "    </tr>\n",
       "    <tr>\n",
       "      <th>3</th>\n",
       "      <td>417</td>\n",
       "      <td>242</td>\n",
       "      <td>11.734666</td>\n",
       "    </tr>\n",
       "    <tr>\n",
       "      <th>4</th>\n",
       "      <td>358</td>\n",
       "      <td>242</td>\n",
       "      <td>11.322969</td>\n",
       "    </tr>\n",
       "  </tbody>\n",
       "</table>\n",
       "</div>"
      ],
      "text/plain": [
       "   user id item id  Mac score\n",
       "0      383     242  13.999456\n",
       "1      684     242   5.515976\n",
       "2      693     242  70.787536\n",
       "3      417     242  11.734666\n",
       "4      358     242  11.322969"
      ]
     },
     "execution_count": 20,
     "metadata": {},
     "output_type": "execute_result"
    }
   ],
   "source": [
    "mac_expectations_df.head()"
   ]
  },
  {
   "cell_type": "code",
   "execution_count": 21,
   "metadata": {},
   "outputs": [],
   "source": [
    "sgm_expectations_df = pd.melt(sgm_expectations_df, id_vars=['user id'], var_name = 'item id', value_name='SageMaker score')\n",
    "lin_expectations_df = pd.melt(lin_expectations_df, id_vars=['user id'], var_name = 'item id', value_name='Linux score')\n",
    "win_expectations_df = pd.melt(win_expectations_df, id_vars=['user id'], var_name = 'item id', value_name='Windows score')\n"
   ]
  },
  {
   "cell_type": "code",
   "execution_count": 22,
   "metadata": {},
   "outputs": [
    {
     "data": {
      "text/html": [
       "<div>\n",
       "<style scoped>\n",
       "    .dataframe tbody tr th:only-of-type {\n",
       "        vertical-align: middle;\n",
       "    }\n",
       "\n",
       "    .dataframe tbody tr th {\n",
       "        vertical-align: top;\n",
       "    }\n",
       "\n",
       "    .dataframe thead th {\n",
       "        text-align: right;\n",
       "    }\n",
       "</style>\n",
       "<table border=\"1\" class=\"dataframe\">\n",
       "  <thead>\n",
       "    <tr style=\"text-align: right;\">\n",
       "      <th></th>\n",
       "      <th>user id</th>\n",
       "      <th>item id</th>\n",
       "      <th>SageMaker score</th>\n",
       "    </tr>\n",
       "  </thead>\n",
       "  <tbody>\n",
       "    <tr>\n",
       "      <th>0</th>\n",
       "      <td>383</td>\n",
       "      <td>1</td>\n",
       "      <td>13.999456</td>\n",
       "    </tr>\n",
       "    <tr>\n",
       "      <th>1</th>\n",
       "      <td>684</td>\n",
       "      <td>1</td>\n",
       "      <td>5.515976</td>\n",
       "    </tr>\n",
       "    <tr>\n",
       "      <th>2</th>\n",
       "      <td>693</td>\n",
       "      <td>1</td>\n",
       "      <td>70.787536</td>\n",
       "    </tr>\n",
       "    <tr>\n",
       "      <th>3</th>\n",
       "      <td>417</td>\n",
       "      <td>1</td>\n",
       "      <td>11.734666</td>\n",
       "    </tr>\n",
       "    <tr>\n",
       "      <th>4</th>\n",
       "      <td>358</td>\n",
       "      <td>1</td>\n",
       "      <td>11.322969</td>\n",
       "    </tr>\n",
       "  </tbody>\n",
       "</table>\n",
       "</div>"
      ],
      "text/plain": [
       "   user id item id  SageMaker score\n",
       "0      383       1        13.999456\n",
       "1      684       1         5.515976\n",
       "2      693       1        70.787536\n",
       "3      417       1        11.734666\n",
       "4      358       1        11.322969"
      ]
     },
     "execution_count": 22,
     "metadata": {},
     "output_type": "execute_result"
    }
   ],
   "source": [
    "sgm_expectations_df.head()"
   ]
  },
  {
   "cell_type": "code",
   "execution_count": 23,
   "metadata": {},
   "outputs": [
    {
     "data": {
      "text/html": [
       "<div>\n",
       "<style scoped>\n",
       "    .dataframe tbody tr th:only-of-type {\n",
       "        vertical-align: middle;\n",
       "    }\n",
       "\n",
       "    .dataframe tbody tr th {\n",
       "        vertical-align: top;\n",
       "    }\n",
       "\n",
       "    .dataframe thead th {\n",
       "        text-align: right;\n",
       "    }\n",
       "</style>\n",
       "<table border=\"1\" class=\"dataframe\">\n",
       "  <thead>\n",
       "    <tr style=\"text-align: right;\">\n",
       "      <th></th>\n",
       "      <th>user id</th>\n",
       "      <th>item id</th>\n",
       "      <th>Linux score</th>\n",
       "    </tr>\n",
       "  </thead>\n",
       "  <tbody>\n",
       "    <tr>\n",
       "      <th>0</th>\n",
       "      <td>383</td>\n",
       "      <td>1</td>\n",
       "      <td>13.999456</td>\n",
       "    </tr>\n",
       "    <tr>\n",
       "      <th>1</th>\n",
       "      <td>684</td>\n",
       "      <td>1</td>\n",
       "      <td>5.515976</td>\n",
       "    </tr>\n",
       "    <tr>\n",
       "      <th>2</th>\n",
       "      <td>693</td>\n",
       "      <td>1</td>\n",
       "      <td>70.787536</td>\n",
       "    </tr>\n",
       "    <tr>\n",
       "      <th>3</th>\n",
       "      <td>417</td>\n",
       "      <td>1</td>\n",
       "      <td>11.734666</td>\n",
       "    </tr>\n",
       "    <tr>\n",
       "      <th>4</th>\n",
       "      <td>358</td>\n",
       "      <td>1</td>\n",
       "      <td>11.322969</td>\n",
       "    </tr>\n",
       "  </tbody>\n",
       "</table>\n",
       "</div>"
      ],
      "text/plain": [
       "   user id item id  Linux score\n",
       "0      383       1    13.999456\n",
       "1      684       1     5.515976\n",
       "2      693       1    70.787536\n",
       "3      417       1    11.734666\n",
       "4      358       1    11.322969"
      ]
     },
     "execution_count": 23,
     "metadata": {},
     "output_type": "execute_result"
    }
   ],
   "source": [
    "lin_expectations_df.head()"
   ]
  },
  {
   "cell_type": "code",
   "execution_count": 24,
   "metadata": {},
   "outputs": [],
   "source": [
    "all_expectations = mac_expectations_df.merge(sgm_expectations_df, how='left', on=['user id', 'item id'])"
   ]
  },
  {
   "cell_type": "code",
   "execution_count": 25,
   "metadata": {},
   "outputs": [
    {
     "data": {
      "text/html": [
       "<div>\n",
       "<style scoped>\n",
       "    .dataframe tbody tr th:only-of-type {\n",
       "        vertical-align: middle;\n",
       "    }\n",
       "\n",
       "    .dataframe tbody tr th {\n",
       "        vertical-align: top;\n",
       "    }\n",
       "\n",
       "    .dataframe thead th {\n",
       "        text-align: right;\n",
       "    }\n",
       "</style>\n",
       "<table border=\"1\" class=\"dataframe\">\n",
       "  <thead>\n",
       "    <tr style=\"text-align: right;\">\n",
       "      <th></th>\n",
       "      <th>user id</th>\n",
       "      <th>item id</th>\n",
       "      <th>Mac score</th>\n",
       "      <th>SageMaker score</th>\n",
       "    </tr>\n",
       "  </thead>\n",
       "  <tbody>\n",
       "    <tr>\n",
       "      <th>0</th>\n",
       "      <td>383</td>\n",
       "      <td>242</td>\n",
       "      <td>13.999456</td>\n",
       "      <td>13.843137</td>\n",
       "    </tr>\n",
       "    <tr>\n",
       "      <th>1</th>\n",
       "      <td>684</td>\n",
       "      <td>242</td>\n",
       "      <td>5.515976</td>\n",
       "      <td>5.597402</td>\n",
       "    </tr>\n",
       "    <tr>\n",
       "      <th>2</th>\n",
       "      <td>693</td>\n",
       "      <td>242</td>\n",
       "      <td>70.787536</td>\n",
       "      <td>69.812079</td>\n",
       "    </tr>\n",
       "    <tr>\n",
       "      <th>3</th>\n",
       "      <td>417</td>\n",
       "      <td>242</td>\n",
       "      <td>11.734666</td>\n",
       "      <td>11.744721</td>\n",
       "    </tr>\n",
       "    <tr>\n",
       "      <th>4</th>\n",
       "      <td>358</td>\n",
       "      <td>242</td>\n",
       "      <td>11.322969</td>\n",
       "      <td>11.124028</td>\n",
       "    </tr>\n",
       "  </tbody>\n",
       "</table>\n",
       "</div>"
      ],
      "text/plain": [
       "   user id item id  Mac score  SageMaker score\n",
       "0      383     242  13.999456        13.843137\n",
       "1      684     242   5.515976         5.597402\n",
       "2      693     242  70.787536        69.812079\n",
       "3      417     242  11.734666        11.744721\n",
       "4      358     242  11.322969        11.124028"
      ]
     },
     "execution_count": 25,
     "metadata": {},
     "output_type": "execute_result"
    }
   ],
   "source": [
    "all_expectations.head()"
   ]
  },
  {
   "cell_type": "code",
   "execution_count": 26,
   "metadata": {},
   "outputs": [],
   "source": [
    "all_expectations = all_expectations.merge(lin_expectations_df, how='left', on=['user id', 'item id'])\n",
    "all_expectations = all_expectations.merge(win_expectations_df, how='left', on=['user id', 'item id'])"
   ]
  },
  {
   "cell_type": "code",
   "execution_count": 27,
   "metadata": {},
   "outputs": [
    {
     "data": {
      "text/html": [
       "<div>\n",
       "<style scoped>\n",
       "    .dataframe tbody tr th:only-of-type {\n",
       "        vertical-align: middle;\n",
       "    }\n",
       "\n",
       "    .dataframe tbody tr th {\n",
       "        vertical-align: top;\n",
       "    }\n",
       "\n",
       "    .dataframe thead th {\n",
       "        text-align: right;\n",
       "    }\n",
       "</style>\n",
       "<table border=\"1\" class=\"dataframe\">\n",
       "  <thead>\n",
       "    <tr style=\"text-align: right;\">\n",
       "      <th></th>\n",
       "      <th>user id</th>\n",
       "      <th>item id</th>\n",
       "      <th>Mac score</th>\n",
       "      <th>SageMaker score</th>\n",
       "      <th>Linux score</th>\n",
       "      <th>Windows score</th>\n",
       "    </tr>\n",
       "  </thead>\n",
       "  <tbody>\n",
       "    <tr>\n",
       "      <th>0</th>\n",
       "      <td>383</td>\n",
       "      <td>242</td>\n",
       "      <td>13.999456</td>\n",
       "      <td>13.843137</td>\n",
       "      <td>13.843137</td>\n",
       "      <td>13.843137</td>\n",
       "    </tr>\n",
       "    <tr>\n",
       "      <th>1</th>\n",
       "      <td>684</td>\n",
       "      <td>242</td>\n",
       "      <td>5.515976</td>\n",
       "      <td>5.597402</td>\n",
       "      <td>5.597402</td>\n",
       "      <td>5.597402</td>\n",
       "    </tr>\n",
       "    <tr>\n",
       "      <th>2</th>\n",
       "      <td>693</td>\n",
       "      <td>242</td>\n",
       "      <td>70.787536</td>\n",
       "      <td>69.812079</td>\n",
       "      <td>69.812079</td>\n",
       "      <td>69.812079</td>\n",
       "    </tr>\n",
       "    <tr>\n",
       "      <th>3</th>\n",
       "      <td>417</td>\n",
       "      <td>242</td>\n",
       "      <td>11.734666</td>\n",
       "      <td>11.744721</td>\n",
       "      <td>11.744721</td>\n",
       "      <td>11.744721</td>\n",
       "    </tr>\n",
       "    <tr>\n",
       "      <th>4</th>\n",
       "      <td>358</td>\n",
       "      <td>242</td>\n",
       "      <td>11.322969</td>\n",
       "      <td>11.124028</td>\n",
       "      <td>11.124028</td>\n",
       "      <td>11.124028</td>\n",
       "    </tr>\n",
       "  </tbody>\n",
       "</table>\n",
       "</div>"
      ],
      "text/plain": [
       "   user id item id  Mac score  SageMaker score  Linux score  Windows score\n",
       "0      383     242  13.999456        13.843137    13.843137      13.843137\n",
       "1      684     242   5.515976         5.597402     5.597402       5.597402\n",
       "2      693     242  70.787536        69.812079    69.812079      69.812079\n",
       "3      417     242  11.734666        11.744721    11.744721      11.744721\n",
       "4      358     242  11.322969        11.124028    11.124028      11.124028"
      ]
     },
     "execution_count": 27,
     "metadata": {},
     "output_type": "execute_result"
    }
   ],
   "source": [
    "all_expectations.head()"
   ]
  },
  {
   "cell_type": "code",
   "execution_count": 28,
   "metadata": {},
   "outputs": [],
   "source": [
    "all_expectations['mean'] = all_expectations.apply(lambda x: np.mean([x['Mac score'], \n",
    "                                                                     x['SageMaker score'], \n",
    "                                                                     x['Linux score'],\n",
    "                                                                     x['Windows score']]), axis=1)\n",
    "\n",
    "all_expectations['std'] = all_expectations.apply(lambda x: np.std([x['Mac score'], \n",
    "                                                                     x['SageMaker score'], \n",
    "                                                                     x['Linux score'],\n",
    "                                                                     x['Windows score']]), axis=1)"
   ]
  },
  {
   "cell_type": "code",
   "execution_count": 29,
   "metadata": {},
   "outputs": [
    {
     "data": {
      "text/html": [
       "<div>\n",
       "<style scoped>\n",
       "    .dataframe tbody tr th:only-of-type {\n",
       "        vertical-align: middle;\n",
       "    }\n",
       "\n",
       "    .dataframe tbody tr th {\n",
       "        vertical-align: top;\n",
       "    }\n",
       "\n",
       "    .dataframe thead th {\n",
       "        text-align: right;\n",
       "    }\n",
       "</style>\n",
       "<table border=\"1\" class=\"dataframe\">\n",
       "  <thead>\n",
       "    <tr style=\"text-align: right;\">\n",
       "      <th></th>\n",
       "      <th>user id</th>\n",
       "      <th>item id</th>\n",
       "      <th>Mac score</th>\n",
       "      <th>SageMaker score</th>\n",
       "      <th>Linux score</th>\n",
       "      <th>Windows score</th>\n",
       "      <th>mean</th>\n",
       "      <th>std</th>\n",
       "    </tr>\n",
       "  </thead>\n",
       "  <tbody>\n",
       "    <tr>\n",
       "      <th>0</th>\n",
       "      <td>383</td>\n",
       "      <td>242</td>\n",
       "      <td>13.999456</td>\n",
       "      <td>13.843137</td>\n",
       "      <td>13.843137</td>\n",
       "      <td>13.843137</td>\n",
       "      <td>13.882217</td>\n",
       "      <td>0.067688</td>\n",
       "    </tr>\n",
       "    <tr>\n",
       "      <th>1</th>\n",
       "      <td>684</td>\n",
       "      <td>242</td>\n",
       "      <td>5.515976</td>\n",
       "      <td>5.597402</td>\n",
       "      <td>5.597402</td>\n",
       "      <td>5.597402</td>\n",
       "      <td>5.577045</td>\n",
       "      <td>0.035259</td>\n",
       "    </tr>\n",
       "    <tr>\n",
       "      <th>2</th>\n",
       "      <td>693</td>\n",
       "      <td>242</td>\n",
       "      <td>70.787536</td>\n",
       "      <td>69.812079</td>\n",
       "      <td>69.812079</td>\n",
       "      <td>69.812079</td>\n",
       "      <td>70.055943</td>\n",
       "      <td>0.422385</td>\n",
       "    </tr>\n",
       "    <tr>\n",
       "      <th>3</th>\n",
       "      <td>417</td>\n",
       "      <td>242</td>\n",
       "      <td>11.734666</td>\n",
       "      <td>11.744721</td>\n",
       "      <td>11.744721</td>\n",
       "      <td>11.744721</td>\n",
       "      <td>11.742207</td>\n",
       "      <td>0.004354</td>\n",
       "    </tr>\n",
       "    <tr>\n",
       "      <th>4</th>\n",
       "      <td>358</td>\n",
       "      <td>242</td>\n",
       "      <td>11.322969</td>\n",
       "      <td>11.124028</td>\n",
       "      <td>11.124028</td>\n",
       "      <td>11.124028</td>\n",
       "      <td>11.173763</td>\n",
       "      <td>0.086144</td>\n",
       "    </tr>\n",
       "  </tbody>\n",
       "</table>\n",
       "</div>"
      ],
      "text/plain": [
       "   user id item id  Mac score  SageMaker score  Linux score  Windows score  \\\n",
       "0      383     242  13.999456        13.843137    13.843137      13.843137   \n",
       "1      684     242   5.515976         5.597402     5.597402       5.597402   \n",
       "2      693     242  70.787536        69.812079    69.812079      69.812079   \n",
       "3      417     242  11.734666        11.744721    11.744721      11.744721   \n",
       "4      358     242  11.322969        11.124028    11.124028      11.124028   \n",
       "\n",
       "        mean       std  \n",
       "0  13.882217  0.067688  \n",
       "1   5.577045  0.035259  \n",
       "2  70.055943  0.422385  \n",
       "3  11.742207  0.004354  \n",
       "4  11.173763  0.086144  "
      ]
     },
     "execution_count": 29,
     "metadata": {},
     "output_type": "execute_result"
    }
   ],
   "source": [
    "all_expectations.head()"
   ]
  },
  {
   "cell_type": "code",
   "execution_count": 30,
   "metadata": {},
   "outputs": [
    {
     "data": {
      "text/plain": [
       "count    4.760060e+05\n",
       "mean     9.001244e-02\n",
       "std      9.508550e-02\n",
       "min      4.165926e-15\n",
       "25%      2.934038e-02\n",
       "50%      6.392610e-02\n",
       "75%      1.178328e-01\n",
       "max      1.931255e+00\n",
       "Name: std, dtype: float64"
      ]
     },
     "execution_count": 30,
     "metadata": {},
     "output_type": "execute_result"
    }
   ],
   "source": [
    "all_expectations['std'].describe()"
   ]
  },
  {
   "cell_type": "code",
   "execution_count": 31,
   "metadata": {},
   "outputs": [],
   "source": [
    "all_expectations['ML'] = all_expectations['Mac score'] == all_expectations['Linux score']\n",
    "all_expectations['SL'] = all_expectations['SageMaker score'] == all_expectations['Linux score']\n",
    "all_expectations['WL'] = all_expectations['Windows score'] == all_expectations['Linux score']"
   ]
  },
  {
   "cell_type": "code",
   "execution_count": 32,
   "metadata": {},
   "outputs": [
    {
     "data": {
      "text/html": [
       "<div>\n",
       "<style scoped>\n",
       "    .dataframe tbody tr th:only-of-type {\n",
       "        vertical-align: middle;\n",
       "    }\n",
       "\n",
       "    .dataframe tbody tr th {\n",
       "        vertical-align: top;\n",
       "    }\n",
       "\n",
       "    .dataframe thead th {\n",
       "        text-align: right;\n",
       "    }\n",
       "</style>\n",
       "<table border=\"1\" class=\"dataframe\">\n",
       "  <thead>\n",
       "    <tr style=\"text-align: right;\">\n",
       "      <th></th>\n",
       "      <th>user id</th>\n",
       "      <th>item id</th>\n",
       "      <th>Mac score</th>\n",
       "      <th>SageMaker score</th>\n",
       "      <th>Linux score</th>\n",
       "      <th>Windows score</th>\n",
       "      <th>mean</th>\n",
       "      <th>std</th>\n",
       "      <th>ML</th>\n",
       "      <th>SL</th>\n",
       "      <th>WL</th>\n",
       "    </tr>\n",
       "  </thead>\n",
       "  <tbody>\n",
       "    <tr>\n",
       "      <th>0</th>\n",
       "      <td>383</td>\n",
       "      <td>242</td>\n",
       "      <td>13.999456</td>\n",
       "      <td>13.843137</td>\n",
       "      <td>13.843137</td>\n",
       "      <td>13.843137</td>\n",
       "      <td>13.882217</td>\n",
       "      <td>0.067688</td>\n",
       "      <td>False</td>\n",
       "      <td>False</td>\n",
       "      <td>False</td>\n",
       "    </tr>\n",
       "    <tr>\n",
       "      <th>1</th>\n",
       "      <td>684</td>\n",
       "      <td>242</td>\n",
       "      <td>5.515976</td>\n",
       "      <td>5.597402</td>\n",
       "      <td>5.597402</td>\n",
       "      <td>5.597402</td>\n",
       "      <td>5.577045</td>\n",
       "      <td>0.035259</td>\n",
       "      <td>False</td>\n",
       "      <td>False</td>\n",
       "      <td>False</td>\n",
       "    </tr>\n",
       "    <tr>\n",
       "      <th>2</th>\n",
       "      <td>693</td>\n",
       "      <td>242</td>\n",
       "      <td>70.787536</td>\n",
       "      <td>69.812079</td>\n",
       "      <td>69.812079</td>\n",
       "      <td>69.812079</td>\n",
       "      <td>70.055943</td>\n",
       "      <td>0.422385</td>\n",
       "      <td>False</td>\n",
       "      <td>False</td>\n",
       "      <td>False</td>\n",
       "    </tr>\n",
       "    <tr>\n",
       "      <th>3</th>\n",
       "      <td>417</td>\n",
       "      <td>242</td>\n",
       "      <td>11.734666</td>\n",
       "      <td>11.744721</td>\n",
       "      <td>11.744721</td>\n",
       "      <td>11.744721</td>\n",
       "      <td>11.742207</td>\n",
       "      <td>0.004354</td>\n",
       "      <td>False</td>\n",
       "      <td>False</td>\n",
       "      <td>False</td>\n",
       "    </tr>\n",
       "    <tr>\n",
       "      <th>4</th>\n",
       "      <td>358</td>\n",
       "      <td>242</td>\n",
       "      <td>11.322969</td>\n",
       "      <td>11.124028</td>\n",
       "      <td>11.124028</td>\n",
       "      <td>11.124028</td>\n",
       "      <td>11.173763</td>\n",
       "      <td>0.086144</td>\n",
       "      <td>False</td>\n",
       "      <td>False</td>\n",
       "      <td>False</td>\n",
       "    </tr>\n",
       "  </tbody>\n",
       "</table>\n",
       "</div>"
      ],
      "text/plain": [
       "   user id item id  Mac score  SageMaker score  Linux score  Windows score  \\\n",
       "0      383     242  13.999456        13.843137    13.843137      13.843137   \n",
       "1      684     242   5.515976         5.597402     5.597402       5.597402   \n",
       "2      693     242  70.787536        69.812079    69.812079      69.812079   \n",
       "3      417     242  11.734666        11.744721    11.744721      11.744721   \n",
       "4      358     242  11.322969        11.124028    11.124028      11.124028   \n",
       "\n",
       "        mean       std     ML     SL     WL  \n",
       "0  13.882217  0.067688  False  False  False  \n",
       "1   5.577045  0.035259  False  False  False  \n",
       "2  70.055943  0.422385  False  False  False  \n",
       "3  11.742207  0.004354  False  False  False  \n",
       "4  11.173763  0.086144  False  False  False  "
      ]
     },
     "execution_count": 32,
     "metadata": {},
     "output_type": "execute_result"
    }
   ],
   "source": [
    "all_expectations.head()"
   ]
  },
  {
   "cell_type": "code",
   "execution_count": 33,
   "metadata": {},
   "outputs": [
    {
     "data": {
      "text/plain": [
       "9"
      ]
     },
     "execution_count": 33,
     "metadata": {},
     "output_type": "execute_result"
    }
   ],
   "source": [
    "all_expectations['ML'].sum()"
   ]
  },
  {
   "cell_type": "code",
   "execution_count": 34,
   "metadata": {},
   "outputs": [
    {
     "data": {
      "text/plain": [
       "5645"
      ]
     },
     "execution_count": 34,
     "metadata": {},
     "output_type": "execute_result"
    }
   ],
   "source": [
    "all_expectations['SL'].sum()"
   ]
  },
  {
   "cell_type": "code",
   "execution_count": 35,
   "metadata": {},
   "outputs": [
    {
     "data": {
      "text/plain": [
       "2571"
      ]
     },
     "execution_count": 35,
     "metadata": {},
     "output_type": "execute_result"
    }
   ],
   "source": [
    "all_expectations['WL'].sum()"
   ]
  },
  {
   "cell_type": "code",
   "execution_count": 37,
   "metadata": {},
   "outputs": [
    {
     "data": {
      "text/plain": [
       "13.999455973138751"
      ]
     },
     "execution_count": 37,
     "metadata": {},
     "output_type": "execute_result"
    }
   ],
   "source": [
    "all_expectations.iloc[0]['Mac score']"
   ]
  },
  {
   "cell_type": "code",
   "execution_count": 38,
   "metadata": {},
   "outputs": [],
   "source": [
    "all_expectations['MLclose'] = np.isclose(all_expectations['Mac score'], all_expectations['Linux score'], atol=1e-10)\n",
    "all_expectations['SLclose'] = np.isclose(all_expectations['SageMaker score'], all_expectations['Linux score'], atol=1e-10)\n",
    "all_expectations['WLclose'] = np.isclose(all_expectations['Windows score'], all_expectations['Linux score'], atol=1e-10)"
   ]
  },
  {
   "cell_type": "code",
   "execution_count": 40,
   "metadata": {},
   "outputs": [
    {
     "data": {
      "text/html": [
       "<div>\n",
       "<style scoped>\n",
       "    .dataframe tbody tr th:only-of-type {\n",
       "        vertical-align: middle;\n",
       "    }\n",
       "\n",
       "    .dataframe tbody tr th {\n",
       "        vertical-align: top;\n",
       "    }\n",
       "\n",
       "    .dataframe thead th {\n",
       "        text-align: right;\n",
       "    }\n",
       "</style>\n",
       "<table border=\"1\" class=\"dataframe\">\n",
       "  <thead>\n",
       "    <tr style=\"text-align: right;\">\n",
       "      <th></th>\n",
       "      <th>user id</th>\n",
       "      <th>item id</th>\n",
       "      <th>Mac score</th>\n",
       "      <th>SageMaker score</th>\n",
       "      <th>Linux score</th>\n",
       "      <th>Windows score</th>\n",
       "      <th>mean</th>\n",
       "      <th>std</th>\n",
       "      <th>ML</th>\n",
       "      <th>SL</th>\n",
       "      <th>WL</th>\n",
       "      <th>MLclose</th>\n",
       "      <th>SLclose</th>\n",
       "      <th>WLclose</th>\n",
       "    </tr>\n",
       "  </thead>\n",
       "  <tbody>\n",
       "    <tr>\n",
       "      <th>0</th>\n",
       "      <td>383</td>\n",
       "      <td>242</td>\n",
       "      <td>13.999456</td>\n",
       "      <td>13.843137</td>\n",
       "      <td>13.843137</td>\n",
       "      <td>13.843137</td>\n",
       "      <td>13.882217</td>\n",
       "      <td>0.067688</td>\n",
       "      <td>False</td>\n",
       "      <td>False</td>\n",
       "      <td>False</td>\n",
       "      <td>False</td>\n",
       "      <td>True</td>\n",
       "      <td>True</td>\n",
       "    </tr>\n",
       "    <tr>\n",
       "      <th>1</th>\n",
       "      <td>684</td>\n",
       "      <td>242</td>\n",
       "      <td>5.515976</td>\n",
       "      <td>5.597402</td>\n",
       "      <td>5.597402</td>\n",
       "      <td>5.597402</td>\n",
       "      <td>5.577045</td>\n",
       "      <td>0.035259</td>\n",
       "      <td>False</td>\n",
       "      <td>False</td>\n",
       "      <td>False</td>\n",
       "      <td>False</td>\n",
       "      <td>True</td>\n",
       "      <td>True</td>\n",
       "    </tr>\n",
       "    <tr>\n",
       "      <th>2</th>\n",
       "      <td>693</td>\n",
       "      <td>242</td>\n",
       "      <td>70.787536</td>\n",
       "      <td>69.812079</td>\n",
       "      <td>69.812079</td>\n",
       "      <td>69.812079</td>\n",
       "      <td>70.055943</td>\n",
       "      <td>0.422385</td>\n",
       "      <td>False</td>\n",
       "      <td>False</td>\n",
       "      <td>False</td>\n",
       "      <td>False</td>\n",
       "      <td>True</td>\n",
       "      <td>True</td>\n",
       "    </tr>\n",
       "    <tr>\n",
       "      <th>3</th>\n",
       "      <td>417</td>\n",
       "      <td>242</td>\n",
       "      <td>11.734666</td>\n",
       "      <td>11.744721</td>\n",
       "      <td>11.744721</td>\n",
       "      <td>11.744721</td>\n",
       "      <td>11.742207</td>\n",
       "      <td>0.004354</td>\n",
       "      <td>False</td>\n",
       "      <td>False</td>\n",
       "      <td>False</td>\n",
       "      <td>False</td>\n",
       "      <td>True</td>\n",
       "      <td>True</td>\n",
       "    </tr>\n",
       "    <tr>\n",
       "      <th>4</th>\n",
       "      <td>358</td>\n",
       "      <td>242</td>\n",
       "      <td>11.322969</td>\n",
       "      <td>11.124028</td>\n",
       "      <td>11.124028</td>\n",
       "      <td>11.124028</td>\n",
       "      <td>11.173763</td>\n",
       "      <td>0.086144</td>\n",
       "      <td>False</td>\n",
       "      <td>False</td>\n",
       "      <td>False</td>\n",
       "      <td>False</td>\n",
       "      <td>True</td>\n",
       "      <td>True</td>\n",
       "    </tr>\n",
       "  </tbody>\n",
       "</table>\n",
       "</div>"
      ],
      "text/plain": [
       "   user id item id  Mac score  SageMaker score  Linux score  Windows score  \\\n",
       "0      383     242  13.999456        13.843137    13.843137      13.843137   \n",
       "1      684     242   5.515976         5.597402     5.597402       5.597402   \n",
       "2      693     242  70.787536        69.812079    69.812079      69.812079   \n",
       "3      417     242  11.734666        11.744721    11.744721      11.744721   \n",
       "4      358     242  11.322969        11.124028    11.124028      11.124028   \n",
       "\n",
       "        mean       std     ML     SL     WL  MLclose  SLclose  WLclose  \n",
       "0  13.882217  0.067688  False  False  False    False     True     True  \n",
       "1   5.577045  0.035259  False  False  False    False     True     True  \n",
       "2  70.055943  0.422385  False  False  False    False     True     True  \n",
       "3  11.742207  0.004354  False  False  False    False     True     True  \n",
       "4  11.173763  0.086144  False  False  False    False     True     True  "
      ]
     },
     "execution_count": 40,
     "metadata": {},
     "output_type": "execute_result"
    }
   ],
   "source": [
    "all_expectations.head()"
   ]
  },
  {
   "cell_type": "code",
   "execution_count": 41,
   "metadata": {},
   "outputs": [
    {
     "data": {
      "text/plain": [
       "905"
      ]
     },
     "execution_count": 41,
     "metadata": {},
     "output_type": "execute_result"
    }
   ],
   "source": [
    "all_expectations['MLclose'].sum()"
   ]
  },
  {
   "cell_type": "code",
   "execution_count": 42,
   "metadata": {},
   "outputs": [
    {
     "data": {
      "text/plain": [
       "476006"
      ]
     },
     "execution_count": 42,
     "metadata": {},
     "output_type": "execute_result"
    }
   ],
   "source": [
    "all_expectations['SLclose'].sum()"
   ]
  },
  {
   "cell_type": "code",
   "execution_count": 43,
   "metadata": {},
   "outputs": [
    {
     "data": {
      "text/plain": [
       "476006"
      ]
     },
     "execution_count": 43,
     "metadata": {},
     "output_type": "execute_result"
    }
   ],
   "source": [
    "all_expectations['WLclose'].sum()"
   ]
  },
  {
   "cell_type": "code",
   "execution_count": 44,
   "metadata": {},
   "outputs": [
    {
     "data": {
      "text/plain": [
       "(476006, 14)"
      ]
     },
     "execution_count": 44,
     "metadata": {},
     "output_type": "execute_result"
    }
   ],
   "source": [
    "all_expectations.shape"
   ]
  },
  {
   "cell_type": "code",
   "execution_count": 45,
   "metadata": {},
   "outputs": [
    {
     "data": {
      "text/plain": [
       "0.0019012365390352222"
      ]
     },
     "execution_count": 45,
     "metadata": {},
     "output_type": "execute_result"
    }
   ],
   "source": [
    "all_expectations['MLclose'].sum()/all_expectations.shape[0]"
   ]
  },
  {
   "cell_type": "markdown",
   "metadata": {},
   "source": [
    "All of the Windows and Linux environment values are within a rounding error of each other, but the Mac only has the same values as the other operating systems 0.2% of the time"
   ]
  },
  {
   "cell_type": "code",
   "execution_count": 46,
   "metadata": {},
   "outputs": [],
   "source": [
    "all_expectations['MLdiff'] = abs(all_expectations['Mac score'] - all_expectations['Linux score'])"
   ]
  },
  {
   "cell_type": "code",
   "execution_count": 47,
   "metadata": {},
   "outputs": [
    {
     "data": {
      "text/plain": [
       "count    476006.000000\n",
       "mean          0.207875\n",
       "std           0.219591\n",
       "min           0.000000\n",
       "25%           0.067759\n",
       "50%           0.147631\n",
       "75%           0.272123\n",
       "max           4.460042\n",
       "Name: MLdiff, dtype: float64"
      ]
     },
     "execution_count": 47,
     "metadata": {},
     "output_type": "execute_result"
    }
   ],
   "source": [
    "all_expectations['MLdiff'].describe()"
   ]
  },
  {
   "cell_type": "code",
   "execution_count": 48,
   "metadata": {},
   "outputs": [],
   "source": [
    "all_expectations['diff_magnitude'] = all_expectations['MLdiff'] / all_expectations['Linux score']"
   ]
  },
  {
   "cell_type": "code",
   "execution_count": 49,
   "metadata": {},
   "outputs": [
    {
     "data": {
      "text/plain": [
       "count    476006.000000\n",
       "mean          0.010422\n",
       "std           0.009033\n",
       "min           0.000000\n",
       "25%           0.003577\n",
       "50%           0.008025\n",
       "75%           0.014820\n",
       "max           0.102782\n",
       "Name: diff_magnitude, dtype: float64"
      ]
     },
     "execution_count": 49,
     "metadata": {},
     "output_type": "execute_result"
    }
   ],
   "source": [
    "all_expectations['diff_magnitude'].describe()"
   ]
  },
  {
   "cell_type": "markdown",
   "metadata": {},
   "source": [
    "## Impact on Model Performance"
   ]
  },
  {
   "cell_type": "code",
   "execution_count": 50,
   "metadata": {},
   "outputs": [],
   "source": [
    "mac_expectations = pickle.load(open('mac_expectations.pkl', 'rb'))\n",
    "sgm_expectations = pickle.load(open('sgm_expectations.pkl', 'rb'))\n",
    "lin_expectations = pickle.load(open('lin_expectations.pkl', 'rb'))\n",
    "win_expectations = pickle.load(open('win_expectations.pkl', 'rb'))\n",
    "\n",
    "mac_expectations_df = pd.DataFrame(mac_expectations)\n",
    "sgm_expectations_df = pd.DataFrame(sgm_expectations)\n",
    "lin_expectations_df = pd.DataFrame(lin_expectations)\n",
    "win_expectations_df = pd.DataFrame(win_expectations)"
   ]
  },
  {
   "cell_type": "code",
   "execution_count": 51,
   "metadata": {},
   "outputs": [
    {
     "data": {
      "text/html": [
       "<div>\n",
       "<style scoped>\n",
       "    .dataframe tbody tr th:only-of-type {\n",
       "        vertical-align: middle;\n",
       "    }\n",
       "\n",
       "    .dataframe tbody tr th {\n",
       "        vertical-align: top;\n",
       "    }\n",
       "\n",
       "    .dataframe thead th {\n",
       "        text-align: right;\n",
       "    }\n",
       "</style>\n",
       "<table border=\"1\" class=\"dataframe\">\n",
       "  <thead>\n",
       "    <tr style=\"text-align: right;\">\n",
       "      <th></th>\n",
       "      <th>1</th>\n",
       "      <th>2</th>\n",
       "      <th>3</th>\n",
       "      <th>4</th>\n",
       "      <th>5</th>\n",
       "      <th>6</th>\n",
       "      <th>7</th>\n",
       "      <th>8</th>\n",
       "      <th>9</th>\n",
       "      <th>10</th>\n",
       "      <th>...</th>\n",
       "      <th>1673</th>\n",
       "      <th>1674</th>\n",
       "      <th>1675</th>\n",
       "      <th>1676</th>\n",
       "      <th>1677</th>\n",
       "      <th>1678</th>\n",
       "      <th>1679</th>\n",
       "      <th>1680</th>\n",
       "      <th>1681</th>\n",
       "      <th>1682</th>\n",
       "    </tr>\n",
       "  </thead>\n",
       "  <tbody>\n",
       "    <tr>\n",
       "      <th>0</th>\n",
       "      <td>13.999456</td>\n",
       "      <td>13.619175</td>\n",
       "      <td>14.040468</td>\n",
       "      <td>14.011834</td>\n",
       "      <td>14.001781</td>\n",
       "      <td>13.839774</td>\n",
       "      <td>13.913537</td>\n",
       "      <td>13.784381</td>\n",
       "      <td>14.143585</td>\n",
       "      <td>13.702502</td>\n",
       "      <td>...</td>\n",
       "      <td>13.998745</td>\n",
       "      <td>13.817869</td>\n",
       "      <td>14.085177</td>\n",
       "      <td>13.810363</td>\n",
       "      <td>14.011573</td>\n",
       "      <td>13.889405</td>\n",
       "      <td>13.943352</td>\n",
       "      <td>14.107219</td>\n",
       "      <td>14.071760</td>\n",
       "      <td>13.959409</td>\n",
       "    </tr>\n",
       "    <tr>\n",
       "      <th>1</th>\n",
       "      <td>5.515976</td>\n",
       "      <td>5.420092</td>\n",
       "      <td>5.431560</td>\n",
       "      <td>5.375886</td>\n",
       "      <td>5.515840</td>\n",
       "      <td>5.515619</td>\n",
       "      <td>5.445676</td>\n",
       "      <td>5.405522</td>\n",
       "      <td>5.430701</td>\n",
       "      <td>5.362415</td>\n",
       "      <td>...</td>\n",
       "      <td>5.556219</td>\n",
       "      <td>5.496448</td>\n",
       "      <td>5.446256</td>\n",
       "      <td>5.503418</td>\n",
       "      <td>5.429090</td>\n",
       "      <td>5.276094</td>\n",
       "      <td>5.518622</td>\n",
       "      <td>5.489035</td>\n",
       "      <td>5.517640</td>\n",
       "      <td>5.368379</td>\n",
       "    </tr>\n",
       "    <tr>\n",
       "      <th>2</th>\n",
       "      <td>70.787536</td>\n",
       "      <td>69.833831</td>\n",
       "      <td>70.017768</td>\n",
       "      <td>69.849716</td>\n",
       "      <td>70.029382</td>\n",
       "      <td>70.104242</td>\n",
       "      <td>69.677341</td>\n",
       "      <td>69.760450</td>\n",
       "      <td>69.830625</td>\n",
       "      <td>69.988987</td>\n",
       "      <td>...</td>\n",
       "      <td>70.325775</td>\n",
       "      <td>70.065303</td>\n",
       "      <td>70.266413</td>\n",
       "      <td>69.741081</td>\n",
       "      <td>69.981905</td>\n",
       "      <td>69.846734</td>\n",
       "      <td>69.537533</td>\n",
       "      <td>70.406474</td>\n",
       "      <td>70.002406</td>\n",
       "      <td>70.551944</td>\n",
       "    </tr>\n",
       "    <tr>\n",
       "      <th>3</th>\n",
       "      <td>11.734666</td>\n",
       "      <td>11.909290</td>\n",
       "      <td>11.946744</td>\n",
       "      <td>11.500852</td>\n",
       "      <td>11.610487</td>\n",
       "      <td>11.582492</td>\n",
       "      <td>11.534506</td>\n",
       "      <td>11.564748</td>\n",
       "      <td>11.763328</td>\n",
       "      <td>11.705403</td>\n",
       "      <td>...</td>\n",
       "      <td>11.753791</td>\n",
       "      <td>11.833207</td>\n",
       "      <td>11.617623</td>\n",
       "      <td>11.618735</td>\n",
       "      <td>11.823277</td>\n",
       "      <td>11.713923</td>\n",
       "      <td>11.529636</td>\n",
       "      <td>11.570257</td>\n",
       "      <td>11.644823</td>\n",
       "      <td>11.964746</td>\n",
       "    </tr>\n",
       "    <tr>\n",
       "      <th>4</th>\n",
       "      <td>11.322969</td>\n",
       "      <td>11.026973</td>\n",
       "      <td>11.140362</td>\n",
       "      <td>11.109445</td>\n",
       "      <td>11.201260</td>\n",
       "      <td>11.116516</td>\n",
       "      <td>11.247489</td>\n",
       "      <td>11.280999</td>\n",
       "      <td>11.137010</td>\n",
       "      <td>10.885901</td>\n",
       "      <td>...</td>\n",
       "      <td>11.251817</td>\n",
       "      <td>11.170174</td>\n",
       "      <td>11.002162</td>\n",
       "      <td>11.026821</td>\n",
       "      <td>11.203900</td>\n",
       "      <td>11.088557</td>\n",
       "      <td>11.173237</td>\n",
       "      <td>11.121288</td>\n",
       "      <td>10.835540</td>\n",
       "      <td>11.103578</td>\n",
       "    </tr>\n",
       "  </tbody>\n",
       "</table>\n",
       "<p>5 rows × 1682 columns</p>\n",
       "</div>"
      ],
      "text/plain": [
       "        1          2          3          4          5          6     \\\n",
       "0  13.999456  13.619175  14.040468  14.011834  14.001781  13.839774   \n",
       "1   5.515976   5.420092   5.431560   5.375886   5.515840   5.515619   \n",
       "2  70.787536  69.833831  70.017768  69.849716  70.029382  70.104242   \n",
       "3  11.734666  11.909290  11.946744  11.500852  11.610487  11.582492   \n",
       "4  11.322969  11.026973  11.140362  11.109445  11.201260  11.116516   \n",
       "\n",
       "        7          8          9          10    ...       1673       1674  \\\n",
       "0  13.913537  13.784381  14.143585  13.702502  ...  13.998745  13.817869   \n",
       "1   5.445676   5.405522   5.430701   5.362415  ...   5.556219   5.496448   \n",
       "2  69.677341  69.760450  69.830625  69.988987  ...  70.325775  70.065303   \n",
       "3  11.534506  11.564748  11.763328  11.705403  ...  11.753791  11.833207   \n",
       "4  11.247489  11.280999  11.137010  10.885901  ...  11.251817  11.170174   \n",
       "\n",
       "        1675       1676       1677       1678       1679       1680  \\\n",
       "0  14.085177  13.810363  14.011573  13.889405  13.943352  14.107219   \n",
       "1   5.446256   5.503418   5.429090   5.276094   5.518622   5.489035   \n",
       "2  70.266413  69.741081  69.981905  69.846734  69.537533  70.406474   \n",
       "3  11.617623  11.618735  11.823277  11.713923  11.529636  11.570257   \n",
       "4  11.002162  11.026821  11.203900  11.088557  11.173237  11.121288   \n",
       "\n",
       "        1681       1682  \n",
       "0  14.071760  13.959409  \n",
       "1   5.517640   5.368379  \n",
       "2  70.002406  70.551944  \n",
       "3  11.644823  11.964746  \n",
       "4  10.835540  11.103578  \n",
       "\n",
       "[5 rows x 1682 columns]"
      ]
     },
     "execution_count": 51,
     "metadata": {},
     "output_type": "execute_result"
    }
   ],
   "source": [
    "win_expectations_df.head()"
   ]
  },
  {
   "cell_type": "code",
   "execution_count": 52,
   "metadata": {},
   "outputs": [],
   "source": [
    "# ensure column order is consistent\n",
    "cols = list(win_expectations_df.columns)"
   ]
  },
  {
   "cell_type": "code",
   "execution_count": 53,
   "metadata": {},
   "outputs": [],
   "source": [
    "mac_expectations_df = mac_expectations_df[cols]\n",
    "sgm_expectations_df = sgm_expectations_df[cols]\n",
    "lin_expectations_df = lin_expectations_df[cols]"
   ]
  },
  {
   "cell_type": "code",
   "execution_count": 64,
   "metadata": {},
   "outputs": [],
   "source": [
    "def top_k(df, k=10):\n",
    "    expectations = df.values\n",
    "    # sort top k in descending order\n",
    "    rec_arm_idx_list = np.flip(np.argsort(expectations)[:, -k:], axis=1)\n",
    "\n",
    "    recommendations = [[]] * df.shape[0]\n",
    "    for idx in range(df.shape[0]):\n",
    "        arms = [cols[arm_idx] for arm_idx in rec_arm_idx_list[idx]]\n",
    "        exp = [expectations[idx, arm_idx] for arm_idx in rec_arm_idx_list[idx]]\n",
    "        recommendations[idx] =([arms, exp])\n",
    "    return recommendations"
   ]
  },
  {
   "cell_type": "code",
   "execution_count": 65,
   "metadata": {},
   "outputs": [
    {
     "data": {
      "text/plain": [
       "[[[815, 998, 718, 1543, 190, 1188, 1285, 1379, 23, 460],\n",
       "  [14.475755940945593,\n",
       "   14.457983450570131,\n",
       "   14.419136868477059,\n",
       "   14.415681852634087,\n",
       "   14.3657102950288,\n",
       "   14.347865132059916,\n",
       "   14.344206417880132,\n",
       "   14.328140955200782,\n",
       "   14.318805997198707,\n",
       "   14.309569753046905]],\n",
       " [[1585, 388, 72, 1309, 761, 303, 650, 1673, 483, 1010],\n",
       "  [5.708847378362735,\n",
       "   5.705749275200288,\n",
       "   5.698142579339742,\n",
       "   5.688928413971866,\n",
       "   5.685484240401584,\n",
       "   5.684586177082181,\n",
       "   5.683055558969014,\n",
       "   5.679664225244708,\n",
       "   5.674119263727232,\n",
       "   5.666190091273977]],\n",
       " [[218, 1310, 406, 778, 1178, 180, 1585, 313, 1317, 809],\n",
       "  [71.0967129105133,\n",
       "   70.97564367895512,\n",
       "   70.9281947441411,\n",
       "   70.87882475241753,\n",
       "   70.87470762308278,\n",
       "   70.85820981150485,\n",
       "   70.83606275305546,\n",
       "   70.82307050617673,\n",
       "   70.8152445467606,\n",
       "   70.81468372655647]],\n",
       " [[105, 589, 1536, 918, 1603, 809, 950, 1303, 1110, 363],\n",
       "  [12.165743831489737,\n",
       "   12.088163001099556,\n",
       "   12.0812095583853,\n",
       "   12.074071535611154,\n",
       "   12.068439480664786,\n",
       "   12.06610893289038,\n",
       "   12.05959181819603,\n",
       "   12.056413455460207,\n",
       "   12.043075110094469,\n",
       "   12.04048902930797]],\n",
       " [[651, 117, 1158, 734, 1268, 679, 1054, 855, 840, 291],\n",
       "  [11.50192293539069,\n",
       "   11.501722844333615,\n",
       "   11.488440314760405,\n",
       "   11.487624662216678,\n",
       "   11.473484576675904,\n",
       "   11.465267636296318,\n",
       "   11.456186835216275,\n",
       "   11.44325500127466,\n",
       "   11.441806004095918,\n",
       "   11.437719368460959]]]"
      ]
     },
     "execution_count": 65,
     "metadata": {},
     "output_type": "execute_result"
    }
   ],
   "source": [
    "top_k(mac_expectations_df.head(5))"
   ]
  },
  {
   "cell_type": "code",
   "execution_count": 66,
   "metadata": {},
   "outputs": [],
   "source": [
    "mac_top = top_k(mac_expectations_df)\n",
    "sgm_top = top_k(sgm_expectations_df)\n",
    "lin_top = top_k(lin_expectations_df)\n",
    "win_top = top_k(win_expectations_df)"
   ]
  },
  {
   "cell_type": "code",
   "execution_count": 70,
   "metadata": {},
   "outputs": [
    {
     "data": {
      "text/plain": [
       "[815, 998, 718, 1543, 190, 1188, 1285, 1379, 23, 460]"
      ]
     },
     "execution_count": 70,
     "metadata": {},
     "output_type": "execute_result"
    }
   ],
   "source": [
    "mac_top[0][0]"
   ]
  },
  {
   "cell_type": "code",
   "execution_count": 72,
   "metadata": {},
   "outputs": [],
   "source": [
    "df = pd.DataFrame({'user id': test['user id'], 'item id': [a[0] for a in mac_top], 'score': [a[1] for a in mac_top]})\n"
   ]
  },
  {
   "cell_type": "code",
   "execution_count": 73,
   "metadata": {},
   "outputs": [
    {
     "data": {
      "text/html": [
       "<div>\n",
       "<style scoped>\n",
       "    .dataframe tbody tr th:only-of-type {\n",
       "        vertical-align: middle;\n",
       "    }\n",
       "\n",
       "    .dataframe tbody tr th {\n",
       "        vertical-align: top;\n",
       "    }\n",
       "\n",
       "    .dataframe thead th {\n",
       "        text-align: right;\n",
       "    }\n",
       "</style>\n",
       "<table border=\"1\" class=\"dataframe\">\n",
       "  <thead>\n",
       "    <tr style=\"text-align: right;\">\n",
       "      <th></th>\n",
       "      <th>user id</th>\n",
       "      <th>item id</th>\n",
       "      <th>score</th>\n",
       "    </tr>\n",
       "  </thead>\n",
       "  <tbody>\n",
       "    <tr>\n",
       "      <th>0</th>\n",
       "      <td>383</td>\n",
       "      <td>[815, 998, 718, 1543, 190, 1188, 1285, 1379, 2...</td>\n",
       "      <td>[14.475755940945593, 14.457983450570131, 14.41...</td>\n",
       "    </tr>\n",
       "    <tr>\n",
       "      <th>1</th>\n",
       "      <td>684</td>\n",
       "      <td>[1585, 388, 72, 1309, 761, 303, 650, 1673, 483...</td>\n",
       "      <td>[5.708847378362735, 5.705749275200288, 5.69814...</td>\n",
       "    </tr>\n",
       "    <tr>\n",
       "      <th>2</th>\n",
       "      <td>693</td>\n",
       "      <td>[218, 1310, 406, 778, 1178, 180, 1585, 313, 13...</td>\n",
       "      <td>[71.0967129105133, 70.97564367895512, 70.92819...</td>\n",
       "    </tr>\n",
       "    <tr>\n",
       "      <th>3</th>\n",
       "      <td>417</td>\n",
       "      <td>[105, 589, 1536, 918, 1603, 809, 950, 1303, 11...</td>\n",
       "      <td>[12.165743831489737, 12.088163001099556, 12.08...</td>\n",
       "    </tr>\n",
       "    <tr>\n",
       "      <th>4</th>\n",
       "      <td>358</td>\n",
       "      <td>[651, 117, 1158, 734, 1268, 679, 1054, 855, 84...</td>\n",
       "      <td>[11.50192293539069, 11.501722844333615, 11.488...</td>\n",
       "    </tr>\n",
       "  </tbody>\n",
       "</table>\n",
       "</div>"
      ],
      "text/plain": [
       "   user id                                            item id  \\\n",
       "0      383  [815, 998, 718, 1543, 190, 1188, 1285, 1379, 2...   \n",
       "1      684  [1585, 388, 72, 1309, 761, 303, 650, 1673, 483...   \n",
       "2      693  [218, 1310, 406, 778, 1178, 180, 1585, 313, 13...   \n",
       "3      417  [105, 589, 1536, 918, 1603, 809, 950, 1303, 11...   \n",
       "4      358  [651, 117, 1158, 734, 1268, 679, 1054, 855, 84...   \n",
       "\n",
       "                                               score  \n",
       "0  [14.475755940945593, 14.457983450570131, 14.41...  \n",
       "1  [5.708847378362735, 5.705749275200288, 5.69814...  \n",
       "2  [71.0967129105133, 70.97564367895512, 70.92819...  \n",
       "3  [12.165743831489737, 12.088163001099556, 12.08...  \n",
       "4  [11.50192293539069, 11.501722844333615, 11.488...  "
      ]
     },
     "execution_count": 73,
     "metadata": {},
     "output_type": "execute_result"
    }
   ],
   "source": [
    "df.head()"
   ]
  },
  {
   "cell_type": "code",
   "execution_count": 74,
   "metadata": {},
   "outputs": [],
   "source": [
    "df1 = df.explode('item id').reset_index(drop=True)\n",
    "df1['score'] = df.explode('score')['score'].values"
   ]
  },
  {
   "cell_type": "code",
   "execution_count": 75,
   "metadata": {},
   "outputs": [
    {
     "data": {
      "text/html": [
       "<div>\n",
       "<style scoped>\n",
       "    .dataframe tbody tr th:only-of-type {\n",
       "        vertical-align: middle;\n",
       "    }\n",
       "\n",
       "    .dataframe tbody tr th {\n",
       "        vertical-align: top;\n",
       "    }\n",
       "\n",
       "    .dataframe thead th {\n",
       "        text-align: right;\n",
       "    }\n",
       "</style>\n",
       "<table border=\"1\" class=\"dataframe\">\n",
       "  <thead>\n",
       "    <tr style=\"text-align: right;\">\n",
       "      <th></th>\n",
       "      <th>user id</th>\n",
       "      <th>item id</th>\n",
       "      <th>score</th>\n",
       "    </tr>\n",
       "  </thead>\n",
       "  <tbody>\n",
       "    <tr>\n",
       "      <th>0</th>\n",
       "      <td>383</td>\n",
       "      <td>815</td>\n",
       "      <td>14.4758</td>\n",
       "    </tr>\n",
       "    <tr>\n",
       "      <th>1</th>\n",
       "      <td>383</td>\n",
       "      <td>998</td>\n",
       "      <td>14.458</td>\n",
       "    </tr>\n",
       "    <tr>\n",
       "      <th>2</th>\n",
       "      <td>383</td>\n",
       "      <td>718</td>\n",
       "      <td>14.4191</td>\n",
       "    </tr>\n",
       "    <tr>\n",
       "      <th>3</th>\n",
       "      <td>383</td>\n",
       "      <td>1543</td>\n",
       "      <td>14.4157</td>\n",
       "    </tr>\n",
       "    <tr>\n",
       "      <th>4</th>\n",
       "      <td>383</td>\n",
       "      <td>190</td>\n",
       "      <td>14.3657</td>\n",
       "    </tr>\n",
       "    <tr>\n",
       "      <th>5</th>\n",
       "      <td>383</td>\n",
       "      <td>1188</td>\n",
       "      <td>14.3479</td>\n",
       "    </tr>\n",
       "    <tr>\n",
       "      <th>6</th>\n",
       "      <td>383</td>\n",
       "      <td>1285</td>\n",
       "      <td>14.3442</td>\n",
       "    </tr>\n",
       "    <tr>\n",
       "      <th>7</th>\n",
       "      <td>383</td>\n",
       "      <td>1379</td>\n",
       "      <td>14.3281</td>\n",
       "    </tr>\n",
       "    <tr>\n",
       "      <th>8</th>\n",
       "      <td>383</td>\n",
       "      <td>23</td>\n",
       "      <td>14.3188</td>\n",
       "    </tr>\n",
       "    <tr>\n",
       "      <th>9</th>\n",
       "      <td>383</td>\n",
       "      <td>460</td>\n",
       "      <td>14.3096</td>\n",
       "    </tr>\n",
       "  </tbody>\n",
       "</table>\n",
       "</div>"
      ],
      "text/plain": [
       "   user id item id    score\n",
       "0      383     815  14.4758\n",
       "1      383     998   14.458\n",
       "2      383     718  14.4191\n",
       "3      383    1543  14.4157\n",
       "4      383     190  14.3657\n",
       "5      383    1188  14.3479\n",
       "6      383    1285  14.3442\n",
       "7      383    1379  14.3281\n",
       "8      383      23  14.3188\n",
       "9      383     460  14.3096"
      ]
     },
     "execution_count": 75,
     "metadata": {},
     "output_type": "execute_result"
    }
   ],
   "source": [
    "df1.head(10)"
   ]
  },
  {
   "cell_type": "code",
   "execution_count": 76,
   "metadata": {},
   "outputs": [],
   "source": [
    "sgm_df = pd.DataFrame({'user id': test['user id'], 'item id': [a[0] for a in sgm_top], 'score': [a[1] for a in sgm_top]})\n",
    "sgm_l_df = sgm_df.explode('item id').reset_index(drop=True)\n",
    "sgm_l_df['score'] = sgm_df.explode('score')['score'].values\n",
    "\n",
    "lin_df = pd.DataFrame({'user id': test['user id'], 'item id': [a[0] for a in lin_top], 'score': [a[1] for a in lin_top]})\n",
    "lin_l_df = lin_df.explode('item id').reset_index(drop=True)\n",
    "lin_l_df['score'] = lin_df.explode('score')['score'].values\n",
    "\n",
    "win_df = pd.DataFrame({'user id': test['user id'], 'item id': [a[0] for a in win_top], 'score': [a[1] for a in win_top]})\n",
    "win_l_df = win_df.explode('item id').reset_index(drop=True)\n",
    "win_l_df['score'] = win_df.explode('score')['score'].values"
   ]
  },
  {
   "cell_type": "code",
   "execution_count": null,
   "metadata": {},
   "outputs": [],
   "source": []
  }
 ],
 "metadata": {
  "kernelspec": {
   "display_name": "Python 3",
   "language": "python",
   "name": "python3"
  },
  "language_info": {
   "codemirror_mode": {
    "name": "ipython",
    "version": 3
   },
   "file_extension": ".py",
   "mimetype": "text/x-python",
   "name": "python",
   "nbconvert_exporter": "python",
   "pygments_lexer": "ipython3",
   "version": "3.8.5"
  }
 },
 "nbformat": 4,
 "nbformat_minor": 4
}
