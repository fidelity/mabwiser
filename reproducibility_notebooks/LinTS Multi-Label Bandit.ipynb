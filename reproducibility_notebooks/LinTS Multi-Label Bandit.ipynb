{
 "cells": [
  {
   "cell_type": "code",
   "execution_count": 1,
   "metadata": {},
   "outputs": [],
   "source": [
    "# Run this cell for every experiment\n",
    "import pandas as pd\n",
    "import numpy as np\n",
    "import pickle\n",
    "import platform\n",
    "from sklearn.preprocessing import StandardScaler\n",
    "\n",
    "from mabwiser.mab import MAB\n",
    "from mabwiser.linear import _RidgeRegression, _Linear\n",
    "\n",
    "class LinTSExample(_RidgeRegression):\n",
    "    def predict(self, x):\n",
    "        if self.scaler is not None:\n",
    "            x = self._scale_predict_context(x) \n",
    "        beta_sampled = rng.multivariate_normal(self.beta, self.A_inv)\n",
    "        return np.dot(x, beta_sampled)\n",
    "    \n",
    "class LinearExample(_Linear):\n",
    "    factory = {\"ts\": LinTSExample}\n",
    "\n",
    "    def __init__(self, rng, arms, n_jobs=1, backend=None, l2_lambda=1, alpha=1, regression='ts', arm_to_scaler = None):\n",
    "        super().__init__(rng, arms, n_jobs, backend, l2_lambda, alpha, regression)\n",
    "       \n",
    "        self.l2_lambda = l2_lambda\n",
    "        self.alpha = alpha\n",
    "        self.regression = regression\n",
    "\n",
    "        # Create ridge regression model for each arm\n",
    "        self.num_features = None\n",
    "\n",
    "        if arm_to_scaler is None:\n",
    "            arm_to_scaler = dict((arm, None) for arm in arms)\n",
    "\n",
    "        self.arm_to_model = dict((arm, LinearExample.factory.get(regression)(rng, l2_lambda,\n",
    "                                                                       alpha, arm_to_scaler[arm])) for arm in arms)\n"
   ]
  },
  {
   "cell_type": "markdown",
   "metadata": {},
   "source": [
    "# Create Data Set"
   ]
  },
  {
   "cell_type": "code",
   "execution_count": 2,
   "metadata": {},
   "outputs": [],
   "source": [
    "from sklearn.datasets import make_multilabel_classification\n",
    "\n",
    "X, y = make_multilabel_classification(n_samples=1000, n_features=25, n_classes=20, n_labels=3, length=50, \n",
    "                                      allow_unlabeled=True, sparse=False, return_indicator='dense', \n",
    "                                      return_distributions=False, random_state=11)"
   ]
  },
  {
   "cell_type": "code",
   "execution_count": 3,
   "metadata": {},
   "outputs": [
    {
     "data": {
      "text/plain": [
       "array([0, 0, 0, 0, 0, 0, 0, 0, 1, 0, 0, 0, 0, 0, 0, 1, 0, 0, 0, 0])"
      ]
     },
     "execution_count": 3,
     "metadata": {},
     "output_type": "execute_result"
    }
   ],
   "source": [
    "y[0]"
   ]
  },
  {
   "cell_type": "code",
   "execution_count": 4,
   "metadata": {},
   "outputs": [],
   "source": [
    "data = pd.DataFrame(X, columns=['feature_'+str(i) for i in range(25)])\n",
    "responses = pd.DataFrame(y, columns=['item_'+str(i) for i in range(20)])"
   ]
  },
  {
   "cell_type": "code",
   "execution_count": 5,
   "metadata": {},
   "outputs": [
    {
     "data": {
      "text/html": [
       "<div>\n",
       "<style scoped>\n",
       "    .dataframe tbody tr th:only-of-type {\n",
       "        vertical-align: middle;\n",
       "    }\n",
       "\n",
       "    .dataframe tbody tr th {\n",
       "        vertical-align: top;\n",
       "    }\n",
       "\n",
       "    .dataframe thead th {\n",
       "        text-align: right;\n",
       "    }\n",
       "</style>\n",
       "<table border=\"1\" class=\"dataframe\">\n",
       "  <thead>\n",
       "    <tr style=\"text-align: right;\">\n",
       "      <th></th>\n",
       "      <th>feature_0</th>\n",
       "      <th>feature_1</th>\n",
       "      <th>feature_2</th>\n",
       "      <th>feature_3</th>\n",
       "      <th>feature_4</th>\n",
       "      <th>feature_5</th>\n",
       "      <th>feature_6</th>\n",
       "      <th>feature_7</th>\n",
       "      <th>feature_8</th>\n",
       "      <th>feature_9</th>\n",
       "      <th>...</th>\n",
       "      <th>item_10</th>\n",
       "      <th>item_11</th>\n",
       "      <th>item_12</th>\n",
       "      <th>item_13</th>\n",
       "      <th>item_14</th>\n",
       "      <th>item_15</th>\n",
       "      <th>item_16</th>\n",
       "      <th>item_17</th>\n",
       "      <th>item_18</th>\n",
       "      <th>item_19</th>\n",
       "    </tr>\n",
       "  </thead>\n",
       "  <tbody>\n",
       "    <tr>\n",
       "      <th>0</th>\n",
       "      <td>0.0</td>\n",
       "      <td>1.0</td>\n",
       "      <td>1.0</td>\n",
       "      <td>2.0</td>\n",
       "      <td>3.0</td>\n",
       "      <td>3.0</td>\n",
       "      <td>2.0</td>\n",
       "      <td>1.0</td>\n",
       "      <td>4.0</td>\n",
       "      <td>6.0</td>\n",
       "      <td>...</td>\n",
       "      <td>0</td>\n",
       "      <td>0</td>\n",
       "      <td>0</td>\n",
       "      <td>0</td>\n",
       "      <td>0</td>\n",
       "      <td>1</td>\n",
       "      <td>0</td>\n",
       "      <td>0</td>\n",
       "      <td>0</td>\n",
       "      <td>0</td>\n",
       "    </tr>\n",
       "    <tr>\n",
       "      <th>1</th>\n",
       "      <td>3.0</td>\n",
       "      <td>2.0</td>\n",
       "      <td>1.0</td>\n",
       "      <td>4.0</td>\n",
       "      <td>1.0</td>\n",
       "      <td>2.0</td>\n",
       "      <td>3.0</td>\n",
       "      <td>1.0</td>\n",
       "      <td>3.0</td>\n",
       "      <td>2.0</td>\n",
       "      <td>...</td>\n",
       "      <td>0</td>\n",
       "      <td>0</td>\n",
       "      <td>0</td>\n",
       "      <td>0</td>\n",
       "      <td>0</td>\n",
       "      <td>1</td>\n",
       "      <td>0</td>\n",
       "      <td>0</td>\n",
       "      <td>0</td>\n",
       "      <td>1</td>\n",
       "    </tr>\n",
       "    <tr>\n",
       "      <th>2</th>\n",
       "      <td>2.0</td>\n",
       "      <td>4.0</td>\n",
       "      <td>3.0</td>\n",
       "      <td>4.0</td>\n",
       "      <td>3.0</td>\n",
       "      <td>5.0</td>\n",
       "      <td>3.0</td>\n",
       "      <td>2.0</td>\n",
       "      <td>1.0</td>\n",
       "      <td>3.0</td>\n",
       "      <td>...</td>\n",
       "      <td>1</td>\n",
       "      <td>0</td>\n",
       "      <td>0</td>\n",
       "      <td>0</td>\n",
       "      <td>0</td>\n",
       "      <td>1</td>\n",
       "      <td>0</td>\n",
       "      <td>0</td>\n",
       "      <td>0</td>\n",
       "      <td>0</td>\n",
       "    </tr>\n",
       "    <tr>\n",
       "      <th>3</th>\n",
       "      <td>0.0</td>\n",
       "      <td>3.0</td>\n",
       "      <td>4.0</td>\n",
       "      <td>0.0</td>\n",
       "      <td>1.0</td>\n",
       "      <td>1.0</td>\n",
       "      <td>1.0</td>\n",
       "      <td>1.0</td>\n",
       "      <td>1.0</td>\n",
       "      <td>6.0</td>\n",
       "      <td>...</td>\n",
       "      <td>0</td>\n",
       "      <td>0</td>\n",
       "      <td>1</td>\n",
       "      <td>0</td>\n",
       "      <td>0</td>\n",
       "      <td>1</td>\n",
       "      <td>0</td>\n",
       "      <td>1</td>\n",
       "      <td>0</td>\n",
       "      <td>0</td>\n",
       "    </tr>\n",
       "    <tr>\n",
       "      <th>4</th>\n",
       "      <td>3.0</td>\n",
       "      <td>1.0</td>\n",
       "      <td>1.0</td>\n",
       "      <td>1.0</td>\n",
       "      <td>3.0</td>\n",
       "      <td>3.0</td>\n",
       "      <td>0.0</td>\n",
       "      <td>1.0</td>\n",
       "      <td>1.0</td>\n",
       "      <td>1.0</td>\n",
       "      <td>...</td>\n",
       "      <td>1</td>\n",
       "      <td>0</td>\n",
       "      <td>0</td>\n",
       "      <td>0</td>\n",
       "      <td>0</td>\n",
       "      <td>0</td>\n",
       "      <td>0</td>\n",
       "      <td>0</td>\n",
       "      <td>0</td>\n",
       "      <td>0</td>\n",
       "    </tr>\n",
       "  </tbody>\n",
       "</table>\n",
       "<p>5 rows × 45 columns</p>\n",
       "</div>"
      ],
      "text/plain": [
       "   feature_0  feature_1  feature_2  feature_3  feature_4  feature_5  \\\n",
       "0        0.0        1.0        1.0        2.0        3.0        3.0   \n",
       "1        3.0        2.0        1.0        4.0        1.0        2.0   \n",
       "2        2.0        4.0        3.0        4.0        3.0        5.0   \n",
       "3        0.0        3.0        4.0        0.0        1.0        1.0   \n",
       "4        3.0        1.0        1.0        1.0        3.0        3.0   \n",
       "\n",
       "   feature_6  feature_7  feature_8  feature_9  ...  item_10  item_11  item_12  \\\n",
       "0        2.0        1.0        4.0        6.0  ...        0        0        0   \n",
       "1        3.0        1.0        3.0        2.0  ...        0        0        0   \n",
       "2        3.0        2.0        1.0        3.0  ...        1        0        0   \n",
       "3        1.0        1.0        1.0        6.0  ...        0        0        1   \n",
       "4        0.0        1.0        1.0        1.0  ...        1        0        0   \n",
       "\n",
       "   item_13  item_14  item_15  item_16  item_17  item_18  item_19  \n",
       "0        0        0        1        0        0        0        0  \n",
       "1        0        0        1        0        0        0        1  \n",
       "2        0        0        1        0        0        0        0  \n",
       "3        0        0        1        0        1        0        0  \n",
       "4        0        0        0        0        0        0        0  \n",
       "\n",
       "[5 rows x 45 columns]"
      ]
     },
     "execution_count": 5,
     "metadata": {},
     "output_type": "execute_result"
    }
   ],
   "source": [
    "data = data.merge(responses, how='left', left_index=True, right_index=True)\n",
    "data.head()"
   ]
  },
  {
   "cell_type": "code",
   "execution_count": 6,
   "metadata": {},
   "outputs": [],
   "source": [
    "data['user'] = [i for i in range(1000)]"
   ]
  },
  {
   "cell_type": "code",
   "execution_count": 7,
   "metadata": {},
   "outputs": [
    {
     "data": {
      "text/html": [
       "<div>\n",
       "<style scoped>\n",
       "    .dataframe tbody tr th:only-of-type {\n",
       "        vertical-align: middle;\n",
       "    }\n",
       "\n",
       "    .dataframe tbody tr th {\n",
       "        vertical-align: top;\n",
       "    }\n",
       "\n",
       "    .dataframe thead th {\n",
       "        text-align: right;\n",
       "    }\n",
       "</style>\n",
       "<table border=\"1\" class=\"dataframe\">\n",
       "  <thead>\n",
       "    <tr style=\"text-align: right;\">\n",
       "      <th></th>\n",
       "      <th>feature_0</th>\n",
       "      <th>feature_1</th>\n",
       "      <th>feature_2</th>\n",
       "      <th>feature_3</th>\n",
       "      <th>feature_4</th>\n",
       "      <th>feature_5</th>\n",
       "      <th>feature_6</th>\n",
       "      <th>feature_7</th>\n",
       "      <th>feature_8</th>\n",
       "      <th>feature_9</th>\n",
       "      <th>...</th>\n",
       "      <th>item_11</th>\n",
       "      <th>item_12</th>\n",
       "      <th>item_13</th>\n",
       "      <th>item_14</th>\n",
       "      <th>item_15</th>\n",
       "      <th>item_16</th>\n",
       "      <th>item_17</th>\n",
       "      <th>item_18</th>\n",
       "      <th>item_19</th>\n",
       "      <th>user</th>\n",
       "    </tr>\n",
       "  </thead>\n",
       "  <tbody>\n",
       "    <tr>\n",
       "      <th>0</th>\n",
       "      <td>0.0</td>\n",
       "      <td>1.0</td>\n",
       "      <td>1.0</td>\n",
       "      <td>2.0</td>\n",
       "      <td>3.0</td>\n",
       "      <td>3.0</td>\n",
       "      <td>2.0</td>\n",
       "      <td>1.0</td>\n",
       "      <td>4.0</td>\n",
       "      <td>6.0</td>\n",
       "      <td>...</td>\n",
       "      <td>0</td>\n",
       "      <td>0</td>\n",
       "      <td>0</td>\n",
       "      <td>0</td>\n",
       "      <td>1</td>\n",
       "      <td>0</td>\n",
       "      <td>0</td>\n",
       "      <td>0</td>\n",
       "      <td>0</td>\n",
       "      <td>0</td>\n",
       "    </tr>\n",
       "    <tr>\n",
       "      <th>1</th>\n",
       "      <td>3.0</td>\n",
       "      <td>2.0</td>\n",
       "      <td>1.0</td>\n",
       "      <td>4.0</td>\n",
       "      <td>1.0</td>\n",
       "      <td>2.0</td>\n",
       "      <td>3.0</td>\n",
       "      <td>1.0</td>\n",
       "      <td>3.0</td>\n",
       "      <td>2.0</td>\n",
       "      <td>...</td>\n",
       "      <td>0</td>\n",
       "      <td>0</td>\n",
       "      <td>0</td>\n",
       "      <td>0</td>\n",
       "      <td>1</td>\n",
       "      <td>0</td>\n",
       "      <td>0</td>\n",
       "      <td>0</td>\n",
       "      <td>1</td>\n",
       "      <td>1</td>\n",
       "    </tr>\n",
       "    <tr>\n",
       "      <th>2</th>\n",
       "      <td>2.0</td>\n",
       "      <td>4.0</td>\n",
       "      <td>3.0</td>\n",
       "      <td>4.0</td>\n",
       "      <td>3.0</td>\n",
       "      <td>5.0</td>\n",
       "      <td>3.0</td>\n",
       "      <td>2.0</td>\n",
       "      <td>1.0</td>\n",
       "      <td>3.0</td>\n",
       "      <td>...</td>\n",
       "      <td>0</td>\n",
       "      <td>0</td>\n",
       "      <td>0</td>\n",
       "      <td>0</td>\n",
       "      <td>1</td>\n",
       "      <td>0</td>\n",
       "      <td>0</td>\n",
       "      <td>0</td>\n",
       "      <td>0</td>\n",
       "      <td>2</td>\n",
       "    </tr>\n",
       "    <tr>\n",
       "      <th>3</th>\n",
       "      <td>0.0</td>\n",
       "      <td>3.0</td>\n",
       "      <td>4.0</td>\n",
       "      <td>0.0</td>\n",
       "      <td>1.0</td>\n",
       "      <td>1.0</td>\n",
       "      <td>1.0</td>\n",
       "      <td>1.0</td>\n",
       "      <td>1.0</td>\n",
       "      <td>6.0</td>\n",
       "      <td>...</td>\n",
       "      <td>0</td>\n",
       "      <td>1</td>\n",
       "      <td>0</td>\n",
       "      <td>0</td>\n",
       "      <td>1</td>\n",
       "      <td>0</td>\n",
       "      <td>1</td>\n",
       "      <td>0</td>\n",
       "      <td>0</td>\n",
       "      <td>3</td>\n",
       "    </tr>\n",
       "    <tr>\n",
       "      <th>4</th>\n",
       "      <td>3.0</td>\n",
       "      <td>1.0</td>\n",
       "      <td>1.0</td>\n",
       "      <td>1.0</td>\n",
       "      <td>3.0</td>\n",
       "      <td>3.0</td>\n",
       "      <td>0.0</td>\n",
       "      <td>1.0</td>\n",
       "      <td>1.0</td>\n",
       "      <td>1.0</td>\n",
       "      <td>...</td>\n",
       "      <td>0</td>\n",
       "      <td>0</td>\n",
       "      <td>0</td>\n",
       "      <td>0</td>\n",
       "      <td>0</td>\n",
       "      <td>0</td>\n",
       "      <td>0</td>\n",
       "      <td>0</td>\n",
       "      <td>0</td>\n",
       "      <td>4</td>\n",
       "    </tr>\n",
       "  </tbody>\n",
       "</table>\n",
       "<p>5 rows × 46 columns</p>\n",
       "</div>"
      ],
      "text/plain": [
       "   feature_0  feature_1  feature_2  feature_3  feature_4  feature_5  \\\n",
       "0        0.0        1.0        1.0        2.0        3.0        3.0   \n",
       "1        3.0        2.0        1.0        4.0        1.0        2.0   \n",
       "2        2.0        4.0        3.0        4.0        3.0        5.0   \n",
       "3        0.0        3.0        4.0        0.0        1.0        1.0   \n",
       "4        3.0        1.0        1.0        1.0        3.0        3.0   \n",
       "\n",
       "   feature_6  feature_7  feature_8  feature_9  ...  item_11  item_12  item_13  \\\n",
       "0        2.0        1.0        4.0        6.0  ...        0        0        0   \n",
       "1        3.0        1.0        3.0        2.0  ...        0        0        0   \n",
       "2        3.0        2.0        1.0        3.0  ...        0        0        0   \n",
       "3        1.0        1.0        1.0        6.0  ...        0        1        0   \n",
       "4        0.0        1.0        1.0        1.0  ...        0        0        0   \n",
       "\n",
       "   item_14  item_15  item_16  item_17  item_18  item_19  user  \n",
       "0        0        1        0        0        0        0     0  \n",
       "1        0        1        0        0        0        1     1  \n",
       "2        0        1        0        0        0        0     2  \n",
       "3        0        1        0        1        0        0     3  \n",
       "4        0        0        0        0        0        0     4  \n",
       "\n",
       "[5 rows x 46 columns]"
      ]
     },
     "execution_count": 7,
     "metadata": {},
     "output_type": "execute_result"
    }
   ],
   "source": [
    "data.head()"
   ]
  },
  {
   "cell_type": "code",
   "execution_count": 8,
   "metadata": {},
   "outputs": [],
   "source": [
    "from sklearn.model_selection import train_test_split\n",
    "\n",
    "train, test = train_test_split(data, random_state=43, test_size=0.3)"
   ]
  },
  {
   "cell_type": "code",
   "execution_count": 9,
   "metadata": {},
   "outputs": [
    {
     "data": {
      "text/html": [
       "<div>\n",
       "<style scoped>\n",
       "    .dataframe tbody tr th:only-of-type {\n",
       "        vertical-align: middle;\n",
       "    }\n",
       "\n",
       "    .dataframe tbody tr th {\n",
       "        vertical-align: top;\n",
       "    }\n",
       "\n",
       "    .dataframe thead th {\n",
       "        text-align: right;\n",
       "    }\n",
       "</style>\n",
       "<table border=\"1\" class=\"dataframe\">\n",
       "  <thead>\n",
       "    <tr style=\"text-align: right;\">\n",
       "      <th></th>\n",
       "      <th>user</th>\n",
       "      <th>feature_0</th>\n",
       "      <th>feature_1</th>\n",
       "      <th>feature_2</th>\n",
       "      <th>feature_3</th>\n",
       "      <th>feature_4</th>\n",
       "      <th>feature_5</th>\n",
       "      <th>feature_6</th>\n",
       "      <th>feature_7</th>\n",
       "      <th>feature_8</th>\n",
       "      <th>...</th>\n",
       "      <th>feature_17</th>\n",
       "      <th>feature_18</th>\n",
       "      <th>feature_19</th>\n",
       "      <th>feature_20</th>\n",
       "      <th>feature_21</th>\n",
       "      <th>feature_22</th>\n",
       "      <th>feature_23</th>\n",
       "      <th>feature_24</th>\n",
       "      <th>item_id</th>\n",
       "      <th>response</th>\n",
       "    </tr>\n",
       "  </thead>\n",
       "  <tbody>\n",
       "    <tr>\n",
       "      <th>0</th>\n",
       "      <td>651</td>\n",
       "      <td>3.0</td>\n",
       "      <td>2.0</td>\n",
       "      <td>3.0</td>\n",
       "      <td>2.0</td>\n",
       "      <td>2.0</td>\n",
       "      <td>2.0</td>\n",
       "      <td>5.0</td>\n",
       "      <td>0.0</td>\n",
       "      <td>2.0</td>\n",
       "      <td>...</td>\n",
       "      <td>2.0</td>\n",
       "      <td>1.0</td>\n",
       "      <td>0.0</td>\n",
       "      <td>6.0</td>\n",
       "      <td>2.0</td>\n",
       "      <td>4.0</td>\n",
       "      <td>2.0</td>\n",
       "      <td>1.0</td>\n",
       "      <td>item_0</td>\n",
       "      <td>0</td>\n",
       "    </tr>\n",
       "    <tr>\n",
       "      <th>1</th>\n",
       "      <td>789</td>\n",
       "      <td>3.0</td>\n",
       "      <td>0.0</td>\n",
       "      <td>2.0</td>\n",
       "      <td>3.0</td>\n",
       "      <td>5.0</td>\n",
       "      <td>2.0</td>\n",
       "      <td>1.0</td>\n",
       "      <td>1.0</td>\n",
       "      <td>1.0</td>\n",
       "      <td>...</td>\n",
       "      <td>0.0</td>\n",
       "      <td>5.0</td>\n",
       "      <td>5.0</td>\n",
       "      <td>3.0</td>\n",
       "      <td>2.0</td>\n",
       "      <td>2.0</td>\n",
       "      <td>0.0</td>\n",
       "      <td>1.0</td>\n",
       "      <td>item_0</td>\n",
       "      <td>0</td>\n",
       "    </tr>\n",
       "    <tr>\n",
       "      <th>2</th>\n",
       "      <td>609</td>\n",
       "      <td>1.0</td>\n",
       "      <td>5.0</td>\n",
       "      <td>4.0</td>\n",
       "      <td>3.0</td>\n",
       "      <td>3.0</td>\n",
       "      <td>4.0</td>\n",
       "      <td>0.0</td>\n",
       "      <td>1.0</td>\n",
       "      <td>4.0</td>\n",
       "      <td>...</td>\n",
       "      <td>2.0</td>\n",
       "      <td>2.0</td>\n",
       "      <td>2.0</td>\n",
       "      <td>3.0</td>\n",
       "      <td>3.0</td>\n",
       "      <td>4.0</td>\n",
       "      <td>3.0</td>\n",
       "      <td>0.0</td>\n",
       "      <td>item_0</td>\n",
       "      <td>0</td>\n",
       "    </tr>\n",
       "    <tr>\n",
       "      <th>3</th>\n",
       "      <td>506</td>\n",
       "      <td>2.0</td>\n",
       "      <td>8.0</td>\n",
       "      <td>5.0</td>\n",
       "      <td>2.0</td>\n",
       "      <td>3.0</td>\n",
       "      <td>1.0</td>\n",
       "      <td>1.0</td>\n",
       "      <td>1.0</td>\n",
       "      <td>2.0</td>\n",
       "      <td>...</td>\n",
       "      <td>0.0</td>\n",
       "      <td>3.0</td>\n",
       "      <td>2.0</td>\n",
       "      <td>4.0</td>\n",
       "      <td>1.0</td>\n",
       "      <td>3.0</td>\n",
       "      <td>2.0</td>\n",
       "      <td>1.0</td>\n",
       "      <td>item_0</td>\n",
       "      <td>0</td>\n",
       "    </tr>\n",
       "    <tr>\n",
       "      <th>4</th>\n",
       "      <td>847</td>\n",
       "      <td>4.0</td>\n",
       "      <td>0.0</td>\n",
       "      <td>2.0</td>\n",
       "      <td>7.0</td>\n",
       "      <td>2.0</td>\n",
       "      <td>2.0</td>\n",
       "      <td>1.0</td>\n",
       "      <td>1.0</td>\n",
       "      <td>4.0</td>\n",
       "      <td>...</td>\n",
       "      <td>1.0</td>\n",
       "      <td>3.0</td>\n",
       "      <td>0.0</td>\n",
       "      <td>0.0</td>\n",
       "      <td>5.0</td>\n",
       "      <td>3.0</td>\n",
       "      <td>1.0</td>\n",
       "      <td>0.0</td>\n",
       "      <td>item_0</td>\n",
       "      <td>0</td>\n",
       "    </tr>\n",
       "  </tbody>\n",
       "</table>\n",
       "<p>5 rows × 28 columns</p>\n",
       "</div>"
      ],
      "text/plain": [
       "   user  feature_0  feature_1  feature_2  feature_3  feature_4  feature_5  \\\n",
       "0   651        3.0        2.0        3.0        2.0        2.0        2.0   \n",
       "1   789        3.0        0.0        2.0        3.0        5.0        2.0   \n",
       "2   609        1.0        5.0        4.0        3.0        3.0        4.0   \n",
       "3   506        2.0        8.0        5.0        2.0        3.0        1.0   \n",
       "4   847        4.0        0.0        2.0        7.0        2.0        2.0   \n",
       "\n",
       "   feature_6  feature_7  feature_8  ...  feature_17  feature_18  feature_19  \\\n",
       "0        5.0        0.0        2.0  ...         2.0         1.0         0.0   \n",
       "1        1.0        1.0        1.0  ...         0.0         5.0         5.0   \n",
       "2        0.0        1.0        4.0  ...         2.0         2.0         2.0   \n",
       "3        1.0        1.0        2.0  ...         0.0         3.0         2.0   \n",
       "4        1.0        1.0        4.0  ...         1.0         3.0         0.0   \n",
       "\n",
       "   feature_20  feature_21  feature_22  feature_23  feature_24  item_id  \\\n",
       "0         6.0         2.0         4.0         2.0         1.0   item_0   \n",
       "1         3.0         2.0         2.0         0.0         1.0   item_0   \n",
       "2         3.0         3.0         4.0         3.0         0.0   item_0   \n",
       "3         4.0         1.0         3.0         2.0         1.0   item_0   \n",
       "4         0.0         5.0         3.0         1.0         0.0   item_0   \n",
       "\n",
       "   response  \n",
       "0         0  \n",
       "1         0  \n",
       "2         0  \n",
       "3         0  \n",
       "4         0  \n",
       "\n",
       "[5 rows x 28 columns]"
      ]
     },
     "execution_count": 9,
     "metadata": {},
     "output_type": "execute_result"
    }
   ],
   "source": [
    "id_vars = ['user'] + ['feature_'+str(i) for i in range(25)]\n",
    "train = train.melt(id_vars=id_vars, var_name='item_id', value_name='response')\n",
    "train.head()"
   ]
  },
  {
   "cell_type": "code",
   "execution_count": 10,
   "metadata": {},
   "outputs": [
    {
     "data": {
      "text/html": [
       "<div>\n",
       "<style scoped>\n",
       "    .dataframe tbody tr th:only-of-type {\n",
       "        vertical-align: middle;\n",
       "    }\n",
       "\n",
       "    .dataframe tbody tr th {\n",
       "        vertical-align: top;\n",
       "    }\n",
       "\n",
       "    .dataframe thead th {\n",
       "        text-align: right;\n",
       "    }\n",
       "</style>\n",
       "<table border=\"1\" class=\"dataframe\">\n",
       "  <thead>\n",
       "    <tr style=\"text-align: right;\">\n",
       "      <th></th>\n",
       "      <th>user</th>\n",
       "      <th>feature_0</th>\n",
       "      <th>feature_1</th>\n",
       "      <th>feature_2</th>\n",
       "      <th>feature_3</th>\n",
       "      <th>feature_4</th>\n",
       "      <th>feature_5</th>\n",
       "      <th>feature_6</th>\n",
       "      <th>feature_7</th>\n",
       "      <th>feature_8</th>\n",
       "      <th>...</th>\n",
       "      <th>feature_17</th>\n",
       "      <th>feature_18</th>\n",
       "      <th>feature_19</th>\n",
       "      <th>feature_20</th>\n",
       "      <th>feature_21</th>\n",
       "      <th>feature_22</th>\n",
       "      <th>feature_23</th>\n",
       "      <th>feature_24</th>\n",
       "      <th>item_id</th>\n",
       "      <th>response</th>\n",
       "    </tr>\n",
       "  </thead>\n",
       "  <tbody>\n",
       "    <tr>\n",
       "      <th>0</th>\n",
       "      <td>858</td>\n",
       "      <td>3.0</td>\n",
       "      <td>1.0</td>\n",
       "      <td>2.0</td>\n",
       "      <td>2.0</td>\n",
       "      <td>3.0</td>\n",
       "      <td>3.0</td>\n",
       "      <td>2.0</td>\n",
       "      <td>3.0</td>\n",
       "      <td>2.0</td>\n",
       "      <td>...</td>\n",
       "      <td>3.0</td>\n",
       "      <td>4.0</td>\n",
       "      <td>1.0</td>\n",
       "      <td>1.0</td>\n",
       "      <td>2.0</td>\n",
       "      <td>2.0</td>\n",
       "      <td>1.0</td>\n",
       "      <td>2.0</td>\n",
       "      <td>item_0</td>\n",
       "      <td>0</td>\n",
       "    </tr>\n",
       "    <tr>\n",
       "      <th>1</th>\n",
       "      <td>986</td>\n",
       "      <td>0.0</td>\n",
       "      <td>1.0</td>\n",
       "      <td>2.0</td>\n",
       "      <td>0.0</td>\n",
       "      <td>1.0</td>\n",
       "      <td>1.0</td>\n",
       "      <td>2.0</td>\n",
       "      <td>0.0</td>\n",
       "      <td>1.0</td>\n",
       "      <td>...</td>\n",
       "      <td>3.0</td>\n",
       "      <td>2.0</td>\n",
       "      <td>2.0</td>\n",
       "      <td>2.0</td>\n",
       "      <td>5.0</td>\n",
       "      <td>2.0</td>\n",
       "      <td>1.0</td>\n",
       "      <td>2.0</td>\n",
       "      <td>item_0</td>\n",
       "      <td>1</td>\n",
       "    </tr>\n",
       "    <tr>\n",
       "      <th>2</th>\n",
       "      <td>183</td>\n",
       "      <td>0.0</td>\n",
       "      <td>2.0</td>\n",
       "      <td>0.0</td>\n",
       "      <td>2.0</td>\n",
       "      <td>0.0</td>\n",
       "      <td>2.0</td>\n",
       "      <td>1.0</td>\n",
       "      <td>2.0</td>\n",
       "      <td>6.0</td>\n",
       "      <td>...</td>\n",
       "      <td>5.0</td>\n",
       "      <td>0.0</td>\n",
       "      <td>3.0</td>\n",
       "      <td>4.0</td>\n",
       "      <td>7.0</td>\n",
       "      <td>1.0</td>\n",
       "      <td>1.0</td>\n",
       "      <td>0.0</td>\n",
       "      <td>item_0</td>\n",
       "      <td>0</td>\n",
       "    </tr>\n",
       "    <tr>\n",
       "      <th>3</th>\n",
       "      <td>502</td>\n",
       "      <td>0.0</td>\n",
       "      <td>0.0</td>\n",
       "      <td>1.0</td>\n",
       "      <td>0.0</td>\n",
       "      <td>2.0</td>\n",
       "      <td>1.0</td>\n",
       "      <td>2.0</td>\n",
       "      <td>1.0</td>\n",
       "      <td>1.0</td>\n",
       "      <td>...</td>\n",
       "      <td>0.0</td>\n",
       "      <td>2.0</td>\n",
       "      <td>2.0</td>\n",
       "      <td>1.0</td>\n",
       "      <td>2.0</td>\n",
       "      <td>1.0</td>\n",
       "      <td>1.0</td>\n",
       "      <td>2.0</td>\n",
       "      <td>item_0</td>\n",
       "      <td>1</td>\n",
       "    </tr>\n",
       "    <tr>\n",
       "      <th>4</th>\n",
       "      <td>710</td>\n",
       "      <td>0.0</td>\n",
       "      <td>3.0</td>\n",
       "      <td>0.0</td>\n",
       "      <td>0.0</td>\n",
       "      <td>0.0</td>\n",
       "      <td>3.0</td>\n",
       "      <td>3.0</td>\n",
       "      <td>3.0</td>\n",
       "      <td>1.0</td>\n",
       "      <td>...</td>\n",
       "      <td>4.0</td>\n",
       "      <td>2.0</td>\n",
       "      <td>1.0</td>\n",
       "      <td>4.0</td>\n",
       "      <td>0.0</td>\n",
       "      <td>1.0</td>\n",
       "      <td>1.0</td>\n",
       "      <td>2.0</td>\n",
       "      <td>item_0</td>\n",
       "      <td>0</td>\n",
       "    </tr>\n",
       "  </tbody>\n",
       "</table>\n",
       "<p>5 rows × 28 columns</p>\n",
       "</div>"
      ],
      "text/plain": [
       "   user  feature_0  feature_1  feature_2  feature_3  feature_4  feature_5  \\\n",
       "0   858        3.0        1.0        2.0        2.0        3.0        3.0   \n",
       "1   986        0.0        1.0        2.0        0.0        1.0        1.0   \n",
       "2   183        0.0        2.0        0.0        2.0        0.0        2.0   \n",
       "3   502        0.0        0.0        1.0        0.0        2.0        1.0   \n",
       "4   710        0.0        3.0        0.0        0.0        0.0        3.0   \n",
       "\n",
       "   feature_6  feature_7  feature_8  ...  feature_17  feature_18  feature_19  \\\n",
       "0        2.0        3.0        2.0  ...         3.0         4.0         1.0   \n",
       "1        2.0        0.0        1.0  ...         3.0         2.0         2.0   \n",
       "2        1.0        2.0        6.0  ...         5.0         0.0         3.0   \n",
       "3        2.0        1.0        1.0  ...         0.0         2.0         2.0   \n",
       "4        3.0        3.0        1.0  ...         4.0         2.0         1.0   \n",
       "\n",
       "   feature_20  feature_21  feature_22  feature_23  feature_24  item_id  \\\n",
       "0         1.0         2.0         2.0         1.0         2.0   item_0   \n",
       "1         2.0         5.0         2.0         1.0         2.0   item_0   \n",
       "2         4.0         7.0         1.0         1.0         0.0   item_0   \n",
       "3         1.0         2.0         1.0         1.0         2.0   item_0   \n",
       "4         4.0         0.0         1.0         1.0         2.0   item_0   \n",
       "\n",
       "   response  \n",
       "0         0  \n",
       "1         1  \n",
       "2         0  \n",
       "3         1  \n",
       "4         0  \n",
       "\n",
       "[5 rows x 28 columns]"
      ]
     },
     "execution_count": 10,
     "metadata": {},
     "output_type": "execute_result"
    }
   ],
   "source": [
    "test = test.melt(id_vars=id_vars, var_name='item_id', value_name='response')\n",
    "test.head()"
   ]
  },
  {
   "cell_type": "code",
   "execution_count": 11,
   "metadata": {},
   "outputs": [
    {
     "data": {
      "text/plain": [
       "item_id\n",
       "item_0      40\n",
       "item_1       8\n",
       "item_10    191\n",
       "item_11     27\n",
       "item_12    209\n",
       "item_13    211\n",
       "item_14     43\n",
       "item_15    135\n",
       "item_16      5\n",
       "item_17     26\n",
       "item_18     84\n",
       "item_19     47\n",
       "item_2     131\n",
       "item_3     177\n",
       "item_4     111\n",
       "item_5     129\n",
       "item_6       7\n",
       "item_7     124\n",
       "item_8     210\n",
       "item_9     200\n",
       "Name: response, dtype: int32"
      ]
     },
     "execution_count": 11,
     "metadata": {},
     "output_type": "execute_result"
    }
   ],
   "source": [
    "# Check that there are train positives\n",
    "train.groupby('item_id')['response'].sum()"
   ]
  },
  {
   "cell_type": "code",
   "execution_count": 12,
   "metadata": {},
   "outputs": [
    {
     "data": {
      "text/plain": [
       "item_id\n",
       "item_0     28\n",
       "item_1      2\n",
       "item_10    78\n",
       "item_11    16\n",
       "item_12    95\n",
       "item_13    80\n",
       "item_14    24\n",
       "item_15    67\n",
       "item_16     2\n",
       "item_17     8\n",
       "item_18    32\n",
       "item_19    20\n",
       "item_2     54\n",
       "item_3     69\n",
       "item_4     45\n",
       "item_5     47\n",
       "item_6      1\n",
       "item_7     46\n",
       "item_8     91\n",
       "item_9     80\n",
       "Name: response, dtype: int32"
      ]
     },
     "execution_count": 12,
     "metadata": {},
     "output_type": "execute_result"
    }
   ],
   "source": [
    "test.groupby('item_id')['response'].sum()"
   ]
  },
  {
   "cell_type": "code",
   "execution_count": 13,
   "metadata": {},
   "outputs": [],
   "source": [
    "context_features = ['feature_'+str(i) for i in range(25)]\n",
    "\n",
    "decisions = MAB._convert_array(train['item_id'])\n",
    "rewards = MAB._convert_array(train['response'])\n",
    "contexts = MAB._convert_matrix(train[context_features]).astype('float')\n",
    "\n",
    "test_contexts = MAB._convert_matrix(test[context_features]).astype('float')"
   ]
  },
  {
   "cell_type": "code",
   "execution_count": 14,
   "metadata": {},
   "outputs": [],
   "source": [
    "from sklearn.preprocessing import StandardScaler\n",
    "\n",
    "scaler = StandardScaler()\n",
    "contexts = scaler.fit_transform(contexts)"
   ]
  },
  {
   "cell_type": "code",
   "execution_count": 15,
   "metadata": {},
   "outputs": [
    {
     "name": "stdout",
     "output_type": "stream",
     "text": [
      "[1. 1. 1. 1. 1. 1. 1. 1. 1. 1. 1. 1. 1. 1. 1. 1. 1. 1. 1. 1. 1. 1. 1. 1.\n",
      " 1.]\n",
      "[1. 1. 1. 1. 1. 1. 1. 1. 1. 1. 1. 1. 1. 1. 1. 1. 1. 1. 1. 1. 1. 1. 1. 1.\n",
      " 1.]\n",
      "[1. 1. 1. 1. 1. 1. 1. 1. 1. 1. 1. 1. 1. 1. 1. 1. 1. 1. 1. 1. 1. 1. 1. 1.\n",
      " 1.]\n",
      "[1. 1. 1. 1. 1. 1. 1. 1. 1. 1. 1. 1. 1. 1. 1. 1. 1. 1. 1. 1. 1. 1. 1. 1.\n",
      " 1.]\n",
      "[1. 1. 1. 1. 1. 1. 1. 1. 1. 1. 1. 1. 1. 1. 1. 1. 1. 1. 1. 1. 1. 1. 1. 1.\n",
      " 1.]\n",
      "[1. 1. 1. 1. 1. 1. 1. 1. 1. 1. 1. 1. 1. 1. 1. 1. 1. 1. 1. 1. 1. 1. 1. 1.\n",
      " 1.]\n",
      "[1. 1. 1. 1. 1. 1. 1. 1. 1. 1. 1. 1. 1. 1. 1. 1. 1. 1. 1. 1. 1. 1. 1. 1.\n",
      " 1.]\n",
      "[1. 1. 1. 1. 1. 1. 1. 1. 1. 1. 1. 1. 1. 1. 1. 1. 1. 1. 1. 1. 1. 1. 1. 1.\n",
      " 1.]\n",
      "[1. 1. 1. 1. 1. 1. 1. 1. 1. 1. 1. 1. 1. 1. 1. 1. 1. 1. 1. 1. 1. 1. 1. 1.\n",
      " 1.]\n",
      "[1. 1. 1. 1. 1. 1. 1. 1. 1. 1. 1. 1. 1. 1. 1. 1. 1. 1. 1. 1. 1. 1. 1. 1.\n",
      " 1.]\n",
      "[1. 1. 1. 1. 1. 1. 1. 1. 1. 1. 1. 1. 1. 1. 1. 1. 1. 1. 1. 1. 1. 1. 1. 1.\n",
      " 1.]\n",
      "[1. 1. 1. 1. 1. 1. 1. 1. 1. 1. 1. 1. 1. 1. 1. 1. 1. 1. 1. 1. 1. 1. 1. 1.\n",
      " 1.]\n",
      "[1. 1. 1. 1. 1. 1. 1. 1. 1. 1. 1. 1. 1. 1. 1. 1. 1. 1. 1. 1. 1. 1. 1. 1.\n",
      " 1.]\n",
      "[1. 1. 1. 1. 1. 1. 1. 1. 1. 1. 1. 1. 1. 1. 1. 1. 1. 1. 1. 1. 1. 1. 1. 1.\n",
      " 1.]\n",
      "[1. 1. 1. 1. 1. 1. 1. 1. 1. 1. 1. 1. 1. 1. 1. 1. 1. 1. 1. 1. 1. 1. 1. 1.\n",
      " 1.]\n",
      "[1. 1. 1. 1. 1. 1. 1. 1. 1. 1. 1. 1. 1. 1. 1. 1. 1. 1. 1. 1. 1. 1. 1. 1.\n",
      " 1.]\n",
      "[1. 1. 1. 1. 1. 1. 1. 1. 1. 1. 1. 1. 1. 1. 1. 1. 1. 1. 1. 1. 1. 1. 1. 1.\n",
      " 1.]\n",
      "[1. 1. 1. 1. 1. 1. 1. 1. 1. 1. 1. 1. 1. 1. 1. 1. 1. 1. 1. 1. 1. 1. 1. 1.\n",
      " 1.]\n",
      "[1. 1. 1. 1. 1. 1. 1. 1. 1. 1. 1. 1. 1. 1. 1. 1. 1. 1. 1. 1. 1. 1. 1. 1.\n",
      " 1.]\n",
      "[1. 1. 1. 1. 1. 1. 1. 1. 1. 1. 1. 1. 1. 1. 1. 1. 1. 1. 1. 1. 1. 1. 1. 1.\n",
      " 1.]\n"
     ]
    }
   ],
   "source": [
    "rng = np.random.RandomState(seed=11)\n",
    "arms = [i for i in range(20)]\n",
    "mab = LinearExample(rng=rng, arms=arms, l2_lambda=1, alpha=1, regression='ts', n_jobs=1, backend=None)\n",
    "\n",
    "mab.fit(decisions, rewards, contexts)\n",
    "\n",
    "for arm in mab.arms:\n",
    "    u, s, vh = np.linalg.svd(mab.arm_to_model[arm].A_inv)\n",
    "    print(s)"
   ]
  },
  {
   "cell_type": "markdown",
   "metadata": {},
   "source": [
    "The data has duplicate singular values, and will thus be able to reproduce the non-deterministic behavior"
   ]
  },
  {
   "cell_type": "code",
   "execution_count": 16,
   "metadata": {},
   "outputs": [
    {
     "data": {
      "text/plain": [
       "['feature_0',\n",
       " 'feature_1',\n",
       " 'feature_2',\n",
       " 'feature_3',\n",
       " 'feature_4',\n",
       " 'feature_5',\n",
       " 'feature_6',\n",
       " 'feature_7',\n",
       " 'feature_8',\n",
       " 'feature_9',\n",
       " 'feature_10',\n",
       " 'feature_11',\n",
       " 'feature_12',\n",
       " 'feature_13',\n",
       " 'feature_14',\n",
       " 'feature_15',\n",
       " 'feature_16',\n",
       " 'feature_17',\n",
       " 'feature_18',\n",
       " 'feature_19',\n",
       " 'feature_20',\n",
       " 'feature_21',\n",
       " 'feature_22',\n",
       " 'feature_23',\n",
       " 'feature_24']"
      ]
     },
     "execution_count": 16,
     "metadata": {},
     "output_type": "execute_result"
    }
   ],
   "source": [
    "context_features"
   ]
  },
  {
   "cell_type": "code",
   "execution_count": 17,
   "metadata": {},
   "outputs": [],
   "source": [
    "train['set'] = 'train'\n",
    "test['set'] = 'test'\n",
    "\n",
    "data = pd.concat([train, test])\n",
    "data.to_csv('simulated_multi_label_data.csv', index=False)"
   ]
  },
  {
   "cell_type": "markdown",
   "metadata": {},
   "source": [
    "# Mac OS"
   ]
  },
  {
   "cell_type": "code",
   "execution_count": 2,
   "metadata": {},
   "outputs": [
    {
     "data": {
      "text/plain": [
       "'macOS-10.15.7-x86_64-i386-64bit'"
      ]
     },
     "execution_count": 2,
     "metadata": {},
     "output_type": "execute_result"
    }
   ],
   "source": [
    "platform.platform()"
   ]
  },
  {
   "cell_type": "code",
   "execution_count": 3,
   "metadata": {},
   "outputs": [
    {
     "name": "stdout",
     "output_type": "stream",
     "text": [
      "1.18.5\n"
     ]
    }
   ],
   "source": [
    "print(np.__version__)"
   ]
  },
  {
   "cell_type": "code",
   "execution_count": 4,
   "metadata": {},
   "outputs": [],
   "source": [
    "data = pd.read_csv('simulated_multi_label_data.csv')\n",
    "\n",
    "train = data[data['set']=='train']\n",
    "test = data[data['set']=='test']\n",
    "\n",
    "context_features = ['feature_'+str(i) for i in range(25)]\n",
    "\n",
    "decisions = MAB._convert_array(train['item_id'])\n",
    "rewards = MAB._convert_array(train['response'])\n",
    "contexts = MAB._convert_matrix(train[context_features]).astype('float')\n",
    "\n",
    "# Drop duplicate rows from test for prediction\n",
    "test_unique = test.drop_duplicates(subset=['user']+context_features).reset_index(drop=True)\n",
    "test_contexts = MAB._convert_matrix(test_unique[context_features]).astype('float')\n"
   ]
  },
  {
   "cell_type": "code",
   "execution_count": 5,
   "metadata": {},
   "outputs": [],
   "source": [
    "scaler = StandardScaler()\n",
    "contexts = scaler.fit_transform(contexts)\n",
    "test_contexts = scaler.transform(test_contexts)"
   ]
  },
  {
   "cell_type": "code",
   "execution_count": 6,
   "metadata": {},
   "outputs": [
    {
     "data": {
      "text/plain": [
       "<__main__.LinTSExample at 0x7feeff6c21f0>"
      ]
     },
     "execution_count": 6,
     "metadata": {},
     "output_type": "execute_result"
    }
   ],
   "source": [
    "rng = np.random.RandomState(seed=11)\n",
    "arms = [i for i in range(20)]\n",
    "\n",
    "mab = LinearExample(rng=rng, arms=arms, l2_lambda=1, alpha=1, regression='ts', n_jobs=1, backend=None)\n",
    "mab.arm_to_model[1]"
   ]
  },
  {
   "cell_type": "code",
   "execution_count": 7,
   "metadata": {},
   "outputs": [
    {
     "data": {
      "text/plain": [
       "-0.3597765333917093"
      ]
     },
     "execution_count": 7,
     "metadata": {},
     "output_type": "execute_result"
    }
   ],
   "source": [
    "mab.fit(decisions, rewards, contexts)\n",
    "expectations = mab.predict_expectations(test_contexts)\n",
    "\n",
    "expectations[0][1]"
   ]
  },
  {
   "cell_type": "code",
   "execution_count": 8,
   "metadata": {},
   "outputs": [],
   "source": [
    "expectations = pd.DataFrame(expectations)\n",
    "test_unique = test_unique.merge(expectations, how='left', left_index=True, right_index=True)\n",
    "test_unique.drop(context_features+['item_id', 'response', 'set'], inplace=True, axis=1)"
   ]
  },
  {
   "cell_type": "code",
   "execution_count": 9,
   "metadata": {},
   "outputs": [
    {
     "data": {
      "text/html": [
       "<div>\n",
       "<style scoped>\n",
       "    .dataframe tbody tr th:only-of-type {\n",
       "        vertical-align: middle;\n",
       "    }\n",
       "\n",
       "    .dataframe tbody tr th {\n",
       "        vertical-align: top;\n",
       "    }\n",
       "\n",
       "    .dataframe thead th {\n",
       "        text-align: right;\n",
       "    }\n",
       "</style>\n",
       "<table border=\"1\" class=\"dataframe\">\n",
       "  <thead>\n",
       "    <tr style=\"text-align: right;\">\n",
       "      <th></th>\n",
       "      <th>user</th>\n",
       "      <th>0</th>\n",
       "      <th>1</th>\n",
       "      <th>2</th>\n",
       "      <th>3</th>\n",
       "      <th>4</th>\n",
       "      <th>5</th>\n",
       "      <th>6</th>\n",
       "      <th>7</th>\n",
       "      <th>8</th>\n",
       "      <th>...</th>\n",
       "      <th>10</th>\n",
       "      <th>11</th>\n",
       "      <th>12</th>\n",
       "      <th>13</th>\n",
       "      <th>14</th>\n",
       "      <th>15</th>\n",
       "      <th>16</th>\n",
       "      <th>17</th>\n",
       "      <th>18</th>\n",
       "      <th>19</th>\n",
       "    </tr>\n",
       "  </thead>\n",
       "  <tbody>\n",
       "    <tr>\n",
       "      <th>0</th>\n",
       "      <td>858</td>\n",
       "      <td>-2.789692</td>\n",
       "      <td>-0.359777</td>\n",
       "      <td>-1.416557</td>\n",
       "      <td>-3.104305</td>\n",
       "      <td>-1.340856</td>\n",
       "      <td>-2.777399</td>\n",
       "      <td>6.720906</td>\n",
       "      <td>0.972022</td>\n",
       "      <td>3.975339</td>\n",
       "      <td>...</td>\n",
       "      <td>2.038669</td>\n",
       "      <td>3.961990</td>\n",
       "      <td>-3.062116</td>\n",
       "      <td>-1.769683</td>\n",
       "      <td>-2.729035</td>\n",
       "      <td>-5.401761</td>\n",
       "      <td>4.720122</td>\n",
       "      <td>-3.214521</td>\n",
       "      <td>-2.623517</td>\n",
       "      <td>-3.079849</td>\n",
       "    </tr>\n",
       "    <tr>\n",
       "      <th>1</th>\n",
       "      <td>986</td>\n",
       "      <td>-4.322288</td>\n",
       "      <td>4.521618</td>\n",
       "      <td>1.603230</td>\n",
       "      <td>-0.936059</td>\n",
       "      <td>-3.317534</td>\n",
       "      <td>-15.015161</td>\n",
       "      <td>9.279325</td>\n",
       "      <td>4.113445</td>\n",
       "      <td>-6.931853</td>\n",
       "      <td>...</td>\n",
       "      <td>-7.991521</td>\n",
       "      <td>-7.937471</td>\n",
       "      <td>0.128051</td>\n",
       "      <td>-1.994588</td>\n",
       "      <td>-0.130050</td>\n",
       "      <td>-8.582392</td>\n",
       "      <td>5.287610</td>\n",
       "      <td>-1.311621</td>\n",
       "      <td>-1.016588</td>\n",
       "      <td>-5.937226</td>\n",
       "    </tr>\n",
       "    <tr>\n",
       "      <th>2</th>\n",
       "      <td>183</td>\n",
       "      <td>6.342404</td>\n",
       "      <td>7.617242</td>\n",
       "      <td>-1.557020</td>\n",
       "      <td>1.274322</td>\n",
       "      <td>4.855252</td>\n",
       "      <td>9.782143</td>\n",
       "      <td>5.432605</td>\n",
       "      <td>2.093283</td>\n",
       "      <td>3.491232</td>\n",
       "      <td>...</td>\n",
       "      <td>-8.639939</td>\n",
       "      <td>-4.958396</td>\n",
       "      <td>-5.514446</td>\n",
       "      <td>-4.875965</td>\n",
       "      <td>-1.578464</td>\n",
       "      <td>11.329032</td>\n",
       "      <td>9.429463</td>\n",
       "      <td>-5.120949</td>\n",
       "      <td>-4.762511</td>\n",
       "      <td>-4.644297</td>\n",
       "    </tr>\n",
       "    <tr>\n",
       "      <th>3</th>\n",
       "      <td>502</td>\n",
       "      <td>-3.401476</td>\n",
       "      <td>-0.454245</td>\n",
       "      <td>2.725258</td>\n",
       "      <td>-10.855894</td>\n",
       "      <td>-6.124133</td>\n",
       "      <td>2.456331</td>\n",
       "      <td>-2.089130</td>\n",
       "      <td>-4.973794</td>\n",
       "      <td>-2.111900</td>\n",
       "      <td>...</td>\n",
       "      <td>-6.753823</td>\n",
       "      <td>6.027732</td>\n",
       "      <td>1.648415</td>\n",
       "      <td>-0.376990</td>\n",
       "      <td>2.342570</td>\n",
       "      <td>-1.508680</td>\n",
       "      <td>0.376729</td>\n",
       "      <td>-2.599851</td>\n",
       "      <td>-5.817410</td>\n",
       "      <td>-0.681720</td>\n",
       "    </tr>\n",
       "    <tr>\n",
       "      <th>4</th>\n",
       "      <td>710</td>\n",
       "      <td>3.111428</td>\n",
       "      <td>5.471607</td>\n",
       "      <td>11.548088</td>\n",
       "      <td>6.113824</td>\n",
       "      <td>-11.630026</td>\n",
       "      <td>12.377598</td>\n",
       "      <td>0.655006</td>\n",
       "      <td>-9.735331</td>\n",
       "      <td>-2.758627</td>\n",
       "      <td>...</td>\n",
       "      <td>4.101555</td>\n",
       "      <td>-1.473654</td>\n",
       "      <td>-4.822333</td>\n",
       "      <td>0.591486</td>\n",
       "      <td>-3.970587</td>\n",
       "      <td>1.830636</td>\n",
       "      <td>6.140734</td>\n",
       "      <td>6.510888</td>\n",
       "      <td>-0.732754</td>\n",
       "      <td>10.513313</td>\n",
       "    </tr>\n",
       "  </tbody>\n",
       "</table>\n",
       "<p>5 rows × 21 columns</p>\n",
       "</div>"
      ],
      "text/plain": [
       "   user         0         1          2          3          4          5  \\\n",
       "0   858 -2.789692 -0.359777  -1.416557  -3.104305  -1.340856  -2.777399   \n",
       "1   986 -4.322288  4.521618   1.603230  -0.936059  -3.317534 -15.015161   \n",
       "2   183  6.342404  7.617242  -1.557020   1.274322   4.855252   9.782143   \n",
       "3   502 -3.401476 -0.454245   2.725258 -10.855894  -6.124133   2.456331   \n",
       "4   710  3.111428  5.471607  11.548088   6.113824 -11.630026  12.377598   \n",
       "\n",
       "          6         7         8  ...        10        11        12        13  \\\n",
       "0  6.720906  0.972022  3.975339  ...  2.038669  3.961990 -3.062116 -1.769683   \n",
       "1  9.279325  4.113445 -6.931853  ... -7.991521 -7.937471  0.128051 -1.994588   \n",
       "2  5.432605  2.093283  3.491232  ... -8.639939 -4.958396 -5.514446 -4.875965   \n",
       "3 -2.089130 -4.973794 -2.111900  ... -6.753823  6.027732  1.648415 -0.376990   \n",
       "4  0.655006 -9.735331 -2.758627  ...  4.101555 -1.473654 -4.822333  0.591486   \n",
       "\n",
       "         14         15        16        17        18         19  \n",
       "0 -2.729035  -5.401761  4.720122 -3.214521 -2.623517  -3.079849  \n",
       "1 -0.130050  -8.582392  5.287610 -1.311621 -1.016588  -5.937226  \n",
       "2 -1.578464  11.329032  9.429463 -5.120949 -4.762511  -4.644297  \n",
       "3  2.342570  -1.508680  0.376729 -2.599851 -5.817410  -0.681720  \n",
       "4 -3.970587   1.830636  6.140734  6.510888 -0.732754  10.513313  \n",
       "\n",
       "[5 rows x 21 columns]"
      ]
     },
     "execution_count": 9,
     "metadata": {},
     "output_type": "execute_result"
    }
   ],
   "source": [
    "test_unique.head()"
   ]
  },
  {
   "cell_type": "code",
   "execution_count": 10,
   "metadata": {},
   "outputs": [],
   "source": [
    "pickle.dump(mab, open('mac_multi_mab.pkl', 'wb'))\n",
    "test_unique.to_csv('mac_multi_expectations.csv', index=False)\n",
    "pickle.dump(scaler, open('multi_scaler.pkl', 'wb'))"
   ]
  },
  {
   "cell_type": "markdown",
   "metadata": {},
   "source": [
    "# Windows"
   ]
  },
  {
   "cell_type": "code",
   "execution_count": 18,
   "metadata": {},
   "outputs": [
    {
     "data": {
      "text/plain": [
       "'Windows-10-10.0.18362-SP0'"
      ]
     },
     "execution_count": 18,
     "metadata": {},
     "output_type": "execute_result"
    }
   ],
   "source": [
    "platform.platform()"
   ]
  },
  {
   "cell_type": "code",
   "execution_count": 19,
   "metadata": {},
   "outputs": [
    {
     "name": "stdout",
     "output_type": "stream",
     "text": [
      "1.19.4\n"
     ]
    }
   ],
   "source": [
    "print(np.__version__)"
   ]
  },
  {
   "cell_type": "code",
   "execution_count": 20,
   "metadata": {},
   "outputs": [],
   "source": [
    "data = pd.read_csv('simulated_multi_label_data.csv')\n",
    "\n",
    "train = data[data['set']=='train']\n",
    "test = data[data['set']=='test']\n",
    "\n",
    "context_features = ['feature_'+str(i) for i in range(25)]\n",
    "\n",
    "decisions = MAB._convert_array(train['item_id'])\n",
    "rewards = MAB._convert_array(train['response'])\n",
    "contexts = MAB._convert_matrix(train[context_features]).astype('float')\n",
    "\n",
    "# Drop duplicate rows from test for prediction\n",
    "test_unique = test.drop_duplicates(subset=['user']+context_features).reset_index(drop=True)\n",
    "test_contexts = MAB._convert_matrix(test_unique[context_features]).astype('float')\n"
   ]
  },
  {
   "cell_type": "code",
   "execution_count": 21,
   "metadata": {},
   "outputs": [
    {
     "name": "stderr",
     "output_type": "stream",
     "text": [
      "C:\\ProgramData\\Anaconda3\\lib\\site-packages\\sklearn\\base.py:334: UserWarning: Trying to unpickle estimator StandardScaler from version 0.23.2 when using version 0.23.0. This might lead to breaking code or invalid results. Use at your own risk.\n",
      "  UserWarning)\n"
     ]
    }
   ],
   "source": [
    "scaler = pickle.load(open('multi_scaler.pkl', 'rb'))\n",
    "\n",
    "contexts = scaler.transform(contexts)\n",
    "test_contexts = scaler.transform(test_contexts)"
   ]
  },
  {
   "cell_type": "code",
   "execution_count": 22,
   "metadata": {},
   "outputs": [
    {
     "data": {
      "text/plain": [
       "<__main__.LinTSExample at 0x1c3fd66e208>"
      ]
     },
     "execution_count": 22,
     "metadata": {},
     "output_type": "execute_result"
    }
   ],
   "source": [
    "rng = np.random.RandomState(seed=11)\n",
    "arms = [i for i in range(20)]\n",
    "\n",
    "mab = LinearExample(rng=rng, arms=arms, l2_lambda=1, alpha=1, regression='ts', n_jobs=1, backend=None)\n",
    "mab.arm_to_model[1]"
   ]
  },
  {
   "cell_type": "code",
   "execution_count": 23,
   "metadata": {},
   "outputs": [
    {
     "data": {
      "text/plain": [
       "-0.3597765333917093"
      ]
     },
     "execution_count": 23,
     "metadata": {},
     "output_type": "execute_result"
    }
   ],
   "source": [
    "mab.fit(decisions, rewards, contexts)\n",
    "expectations = mab.predict_expectations(test_contexts)\n",
    "\n",
    "expectations[0][1]"
   ]
  },
  {
   "cell_type": "code",
   "execution_count": 24,
   "metadata": {},
   "outputs": [],
   "source": [
    "expectations = pd.DataFrame(expectations)\n",
    "test_unique = test_unique.merge(expectations, how='left', left_index=True, right_index=True)\n",
    "test_unique.drop(context_features+['item_id', 'response', 'set'], inplace=True, axis=1)"
   ]
  },
  {
   "cell_type": "code",
   "execution_count": 25,
   "metadata": {},
   "outputs": [],
   "source": [
    "pickle.dump(mab, open('win_multi_mab.pkl', 'wb'))\n",
    "test_unique.to_csv('win_multi_expectations.csv', index=False)\n"
   ]
  },
  {
   "cell_type": "markdown",
   "metadata": {},
   "source": [
    "# SageMaker"
   ]
  },
  {
   "cell_type": "code",
   "execution_count": 2,
   "metadata": {},
   "outputs": [
    {
     "data": {
      "text/plain": [
       "'Linux-4.14.225-121.362.amzn1.x86_64-x86_64-with-glibc2.9'"
      ]
     },
     "execution_count": 2,
     "metadata": {},
     "output_type": "execute_result"
    }
   ],
   "source": [
    "platform.platform()"
   ]
  },
  {
   "cell_type": "code",
   "execution_count": 3,
   "metadata": {},
   "outputs": [
    {
     "name": "stdout",
     "output_type": "stream",
     "text": [
      "1.19.5\n"
     ]
    }
   ],
   "source": [
    "print(np.__version__)"
   ]
  },
  {
   "cell_type": "code",
   "execution_count": 4,
   "metadata": {},
   "outputs": [],
   "source": [
    "data = pd.read_csv('simulated_multi_label_data.csv')\n",
    "\n",
    "train = data[data['set']=='train']\n",
    "test = data[data['set']=='test']\n",
    "\n",
    "context_features = ['feature_'+str(i) for i in range(25)]\n",
    "\n",
    "decisions = MAB._convert_array(train['item_id'])\n",
    "rewards = MAB._convert_array(train['response'])\n",
    "contexts = MAB._convert_matrix(train[context_features]).astype('float')\n",
    "\n",
    "# Drop duplicate rows from test for prediction\n",
    "test_unique = test.drop_duplicates(subset=['user']+context_features).reset_index(drop=True)\n",
    "test_contexts = MAB._convert_matrix(test_unique[context_features]).astype('float')"
   ]
  },
  {
   "cell_type": "code",
   "execution_count": 5,
   "metadata": {},
   "outputs": [],
   "source": [
    "scaler = pickle.load(open('multi_scaler.pkl', 'rb'))\n",
    "\n",
    "contexts = scaler.transform(contexts)\n",
    "test_contexts = scaler.transform(test_contexts)"
   ]
  },
  {
   "cell_type": "code",
   "execution_count": 6,
   "metadata": {},
   "outputs": [
    {
     "data": {
      "text/plain": [
       "<__main__.LinTSExample at 0x7ff1546be160>"
      ]
     },
     "execution_count": 6,
     "metadata": {},
     "output_type": "execute_result"
    }
   ],
   "source": [
    "rng = np.random.RandomState(seed=11)\n",
    "arms = [i for i in range(20)]\n",
    "\n",
    "mab = LinearExample(rng=rng, arms=arms, l2_lambda=1, alpha=1, regression='ts', n_jobs=1, backend=None)\n",
    "mab.arm_to_model[1]"
   ]
  },
  {
   "cell_type": "code",
   "execution_count": 7,
   "metadata": {},
   "outputs": [
    {
     "data": {
      "text/plain": [
       "-0.3597765333917093"
      ]
     },
     "execution_count": 7,
     "metadata": {},
     "output_type": "execute_result"
    }
   ],
   "source": [
    "mab.fit(decisions, rewards, contexts)\n",
    "expectations = mab.predict_expectations(test_contexts)\n",
    "\n",
    "expectations[0][1]"
   ]
  },
  {
   "cell_type": "code",
   "execution_count": 8,
   "metadata": {},
   "outputs": [],
   "source": [
    "expectations = pd.DataFrame(expectations)\n",
    "test_unique = test_unique.merge(expectations, how='left', left_index=True, right_index=True)\n",
    "test_unique.drop(context_features+['item_id', 'response', 'set'], inplace=True, axis=1)"
   ]
  },
  {
   "cell_type": "code",
   "execution_count": 9,
   "metadata": {},
   "outputs": [],
   "source": [
    "pickle.dump(mab, open('sgm_multi_mab.pkl', 'wb'))\n",
    "test_unique.to_csv('sgm_multi_expectations.csv', index=False)\n"
   ]
  },
  {
   "cell_type": "markdown",
   "metadata": {},
   "source": [
    "# Red Hat"
   ]
  },
  {
   "cell_type": "code",
   "execution_count": 2,
   "metadata": {},
   "outputs": [
    {
     "data": {
      "text/plain": [
       "'Linux-3.10.0-1160.15.2.el7.x86_64-x86_64-with-glibc2.10'"
      ]
     },
     "execution_count": 2,
     "metadata": {},
     "output_type": "execute_result"
    }
   ],
   "source": [
    "platform.platform()"
   ]
  },
  {
   "cell_type": "code",
   "execution_count": 3,
   "metadata": {},
   "outputs": [
    {
     "name": "stdout",
     "output_type": "stream",
     "text": [
      "1.19.2\n"
     ]
    }
   ],
   "source": [
    "print(np.__version__)"
   ]
  },
  {
   "cell_type": "code",
   "execution_count": 4,
   "metadata": {},
   "outputs": [],
   "source": [
    "data = pd.read_csv('simulated_multi_label_data.csv')\n",
    "\n",
    "train = data[data['set']=='train']\n",
    "test = data[data['set']=='test']\n",
    "\n",
    "context_features = ['feature_'+str(i) for i in range(25)]\n",
    "\n",
    "decisions = MAB._convert_array(train['item_id'])\n",
    "rewards = MAB._convert_array(train['response'])\n",
    "contexts = MAB._convert_matrix(train[context_features]).astype('float')\n",
    "\n",
    "# Drop duplicate rows from test for prediction\n",
    "test_unique = test.drop_duplicates(subset=['user']+context_features).reset_index(drop=True)\n",
    "test_contexts = MAB._convert_matrix(test_unique[context_features]).astype('float')"
   ]
  },
  {
   "cell_type": "code",
   "execution_count": 5,
   "metadata": {},
   "outputs": [],
   "source": [
    "scaler = pickle.load(open('multi_scaler.pkl', 'rb'))\n",
    "\n",
    "contexts = scaler.transform(contexts)\n",
    "test_contexts = scaler.transform(test_contexts)"
   ]
  },
  {
   "cell_type": "code",
   "execution_count": 6,
   "metadata": {},
   "outputs": [
    {
     "data": {
      "text/plain": [
       "<__main__.LinTSExample at 0x7f0158650d90>"
      ]
     },
     "execution_count": 6,
     "metadata": {},
     "output_type": "execute_result"
    }
   ],
   "source": [
    "rng = np.random.RandomState(seed=11)\n",
    "arms = [i for i in range(20)]\n",
    "\n",
    "mab = LinearExample(rng=rng, arms=arms, l2_lambda=1, alpha=1, regression='ts', n_jobs=1, backend=None)\n",
    "mab.arm_to_model[1]"
   ]
  },
  {
   "cell_type": "code",
   "execution_count": 7,
   "metadata": {},
   "outputs": [
    {
     "data": {
      "text/plain": [
       "-0.3597765333917093"
      ]
     },
     "execution_count": 7,
     "metadata": {},
     "output_type": "execute_result"
    }
   ],
   "source": [
    "mab.fit(decisions, rewards, contexts)\n",
    "expectations = mab.predict_expectations(test_contexts)\n",
    "\n",
    "expectations[0][1]"
   ]
  },
  {
   "cell_type": "code",
   "execution_count": 8,
   "metadata": {},
   "outputs": [],
   "source": [
    "expectations = pd.DataFrame(expectations)\n",
    "test_unique = test_unique.merge(expectations, how='left', left_index=True, right_index=True)\n",
    "test_unique.drop(context_features+['item_id', 'response', 'set'], inplace=True, axis=1)"
   ]
  },
  {
   "cell_type": "code",
   "execution_count": 9,
   "metadata": {},
   "outputs": [],
   "source": [
    "pickle.dump(mab, open('rh_multi_mab.pkl', 'wb'))\n",
    "test_unique.to_csv('rh_multi_expectations.csv', index=False)\n"
   ]
  },
  {
   "cell_type": "markdown",
   "metadata": {},
   "source": [
    "# Mac Darwin OS"
   ]
  },
  {
   "cell_type": "code",
   "execution_count": 2,
   "metadata": {},
   "outputs": [
    {
     "data": {
      "text/plain": [
       "'Darwin-19.5.0-x86_64-i386-64bit'"
      ]
     },
     "execution_count": 2,
     "metadata": {},
     "output_type": "execute_result"
    }
   ],
   "source": [
    "platform.platform()"
   ]
  },
  {
   "cell_type": "code",
   "execution_count": 3,
   "metadata": {},
   "outputs": [
    {
     "name": "stdout",
     "output_type": "stream",
     "text": [
      "1.18.1\n"
     ]
    }
   ],
   "source": [
    "print(np.__version__)"
   ]
  },
  {
   "cell_type": "code",
   "execution_count": 4,
   "metadata": {},
   "outputs": [],
   "source": [
    "data = pd.read_csv('simulated_multi_label_data.csv')\n",
    "\n",
    "train = data[data['set']=='train']\n",
    "test = data[data['set']=='test']\n",
    "\n",
    "context_features = ['feature_'+str(i) for i in range(25)]\n",
    "\n",
    "decisions = MAB._convert_array(train['item_id'])\n",
    "rewards = MAB._convert_array(train['response'])\n",
    "contexts = MAB._convert_matrix(train[context_features]).astype('float')\n",
    "\n",
    "# Drop duplicate rows from test for prediction\n",
    "test_unique = test.drop_duplicates(subset=['user']+context_features).reset_index(drop=True)\n",
    "test_contexts = MAB._convert_matrix(test_unique[context_features]).astype('float')"
   ]
  },
  {
   "cell_type": "code",
   "execution_count": 5,
   "metadata": {},
   "outputs": [
    {
     "name": "stderr",
     "output_type": "stream",
     "text": [
      "/Users/emily/anaconda3/lib/python3.7/site-packages/sklearn/base.py:318: UserWarning: Trying to unpickle estimator StandardScaler from version 0.23.2 when using version 0.22.1. This might lead to breaking code or invalid results. Use at your own risk.\n",
      "  UserWarning)\n"
     ]
    }
   ],
   "source": [
    "scaler = pickle.load(open('multi_scaler.pkl', 'rb'))\n",
    "\n",
    "contexts = scaler.transform(contexts)\n",
    "test_contexts = scaler.transform(test_contexts)"
   ]
  },
  {
   "cell_type": "code",
   "execution_count": 6,
   "metadata": {},
   "outputs": [
    {
     "data": {
      "text/plain": [
       "<__main__.LinTSExample at 0x7fe7273ff9d0>"
      ]
     },
     "execution_count": 6,
     "metadata": {},
     "output_type": "execute_result"
    }
   ],
   "source": [
    "rng = np.random.RandomState(seed=11)\n",
    "arms = [i for i in range(20)]\n",
    "\n",
    "mab = LinearExample(rng=rng, arms=arms, l2_lambda=1, alpha=1, regression='ts', n_jobs=1, backend=None)\n",
    "mab.arm_to_model[1]"
   ]
  },
  {
   "cell_type": "code",
   "execution_count": 7,
   "metadata": {},
   "outputs": [
    {
     "data": {
      "text/plain": [
       "-0.3597765333917091"
      ]
     },
     "execution_count": 7,
     "metadata": {},
     "output_type": "execute_result"
    }
   ],
   "source": [
    "mab.fit(decisions, rewards, contexts)\n",
    "expectations = mab.predict_expectations(test_contexts)\n",
    "\n",
    "expectations[0][1]"
   ]
  },
  {
   "cell_type": "code",
   "execution_count": 8,
   "metadata": {},
   "outputs": [],
   "source": [
    "expectations = pd.DataFrame(expectations)\n",
    "test_unique = test_unique.merge(expectations, how='left', left_index=True, right_index=True)\n",
    "test_unique.drop(context_features+['item_id', 'response', 'set'], inplace=True, axis=1)"
   ]
  },
  {
   "cell_type": "code",
   "execution_count": 9,
   "metadata": {},
   "outputs": [],
   "source": [
    "pickle.dump(mab, open('dar_multi_mab.pkl', 'wb'))\n",
    "test_unique.to_csv('dar_multi_expectations.csv', index=False)\n"
   ]
  },
  {
   "cell_type": "code",
   "execution_count": null,
   "metadata": {},
   "outputs": [],
   "source": []
  }
 ],
 "metadata": {
  "kernelspec": {
   "display_name": "Python 3",
   "language": "python",
   "name": "python3"
  },
  "language_info": {
   "codemirror_mode": {
    "name": "ipython",
    "version": 3
   },
   "file_extension": ".py",
   "mimetype": "text/x-python",
   "name": "python",
   "nbconvert_exporter": "python",
   "pygments_lexer": "ipython3",
   "version": "3.7.6"
  }
 },
 "nbformat": 4,
 "nbformat_minor": 4
}
