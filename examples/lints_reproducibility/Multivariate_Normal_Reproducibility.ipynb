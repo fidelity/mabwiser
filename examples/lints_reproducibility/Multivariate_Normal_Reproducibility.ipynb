{
 "cells": [
  {
   "cell_type": "code",
   "execution_count": 1,
   "metadata": {},
   "outputs": [
    {
     "name": "stdout",
     "output_type": "stream",
     "text": [
      "1.18.5\n",
      "0.24.1\n"
     ]
    }
   ],
   "source": [
    "import json\n",
    "import numpy as np\n",
    "import os\n",
    "import paramiko\n",
    "import sklearn\n",
    "import subprocess\n",
    "\n",
    "print(np.__version__)\n",
    "print(sklearn.__version__)"
   ]
  },
  {
   "cell_type": "markdown",
   "metadata": {},
   "source": [
    "## Multivariate Reproducibility\n",
    "\n",
    "This notebook showcases the reproducibility issues with sampling from a multivariate normal distribution in NumPy. It uses the following [GitHub issue](https://github.com/numpy/numpy/issues/2435) as an example."
   ]
  },
  {
   "cell_type": "code",
   "execution_count": 2,
   "metadata": {},
   "outputs": [
    {
     "name": "stdout",
     "output_type": "stream",
     "text": [
      "Overwriting example_normal.py\n"
     ]
    }
   ],
   "source": [
    "%%writefile example_normal.py\n",
    "\n",
    "import numpy as np\n",
    "import sys\n",
    "\n",
    "random_option = sys.argv[1]\n",
    "\n",
    "d = 10\n",
    "alpha = 1 / d**0.5\n",
    "mu = np.ones(d)\n",
    "R = alpha * np.ones((d, d)) + (1 - alpha) * np.eye(d)\n",
    "ls = []\n",
    "for _ in range(100):\n",
    "    if random_option == 'randomstate':\n",
    "        rng = np.random.RandomState(seed=587482)\n",
    "        ls.append(rng.multivariate_normal(mu, R, 1))\n",
    "    elif random_option == 'svd':\n",
    "        rng = np.random.default_rng(587482)\n",
    "        ls.append(rng.multivariate_normal(mu, R, 1))\n",
    "    elif random_option == 'cholesky':\n",
    "        rng = np.random.default_rng(587482)\n",
    "        ls.append(rng.multivariate_normal(mu, R, 1, method='cholesky'))\n",
    "vals = np.unique(np.vstack(ls), axis=0).squeeze()\n",
    "assert len(vals.shape) == 1\n",
    "print(vals.tolist())"
   ]
  },
  {
   "cell_type": "markdown",
   "metadata": {},
   "source": [
    "We test 4 environments, two on Mac and two on Linux, both looking at OpenBLAS vs MKL. Note that you need to create a `ssh_config.json` file, and you can find an example `example_ssh_config.json`."
   ]
  },
  {
   "cell_type": "code",
   "execution_count": 3,
   "metadata": {},
   "outputs": [],
   "source": [
    "with open('ssh_config.json') as fp:\n",
    "    conf = json.load(fp)\n",
    "\n",
    "local_conf = {'host_name': 'localhost'}\n",
    "\n",
    "envs = [\n",
    "    ('mac_openblas', local_conf, os.path.expanduser('~/Tools/miniconda3/envs/reprod/bin/python')),\n",
    "    ('mac_mkl', local_conf, os.path.expanduser('~/Tools/miniconda3/envs/reprod2/bin/python')),\n",
    "    ('linux_openblas', conf, '$HOME/Tools/miniconda3/envs/reprod/bin/python'),\n",
    "    ('linux_mkl', conf, '$HOME/Tools/miniconda3/envs/reprod2/bin/python'),\n",
    "]\n",
    "\n",
    "def test_envs(env_lis, script, option):\n",
    "    all_vals = []\n",
    "    for env_name, conf, python_exec in env_lis:\n",
    "        if conf['host_name'] == 'localhost':\n",
    "            vals = eval(subprocess.run([python_exec, script, option], capture_output=True).stdout.decode('utf-8').strip())\n",
    "            vals = np.array(vals)\n",
    "            all_vals.append(vals)\n",
    "        else:\n",
    "            with paramiko.SSHClient() as ssh:\n",
    "                ssh.load_system_host_keys()\n",
    "                ssh.set_missing_host_key_policy(paramiko.AutoAddPolicy())\n",
    "                ssh.connect(hostname=conf['host_name'], username=conf['username'], key_filename=os.path.expanduser(conf['key_filename']))\n",
    "                with ssh.open_sftp() as ftp:\n",
    "                    ftp.put(script, f'/tmp/{script}')\n",
    "\n",
    "                _, stdout, stderr = ssh.exec_command(f'{python_exec} /tmp/{script} {option}', get_pty=True)\n",
    "\n",
    "                # Log the stdout as it comes\n",
    "                vals = eval('\\n'.join(stdout.readlines()).strip())\n",
    "                all_vals.append(np.array(vals))\n",
    "    return np.unique([np.floor(v * 1e7) / 1e7 for v in all_vals], axis=0)"
   ]
  },
  {
   "cell_type": "markdown",
   "metadata": {},
   "source": [
    "### Scenario 1\n",
    "\n",
    "Using the old `RandomState` class, we sample from the multivariate normal:"
   ]
  },
  {
   "cell_type": "code",
   "execution_count": 4,
   "metadata": {},
   "outputs": [
    {
     "data": {
      "text/plain": [
       "array([[ 0.097969 ,  0.4400853,  0.2609484,  0.8460852,  0.7329605,\n",
       "         1.3780882, -0.7805136, -0.200187 , -0.8869034, -0.9147636],\n",
       "       [ 0.097969 ,  0.8510258, -1.2944923, -1.1840146,  0.485418 ,\n",
       "        -0.239079 ,  0.7711746,  0.7755532,  0.0871302,  0.6230842]])"
      ]
     },
     "execution_count": 4,
     "metadata": {},
     "output_type": "execute_result"
    }
   ],
   "source": [
    "test_envs(envs, 'example_normal.py', 'randomstate')"
   ]
  },
  {
   "cell_type": "markdown",
   "metadata": {},
   "source": [
    "It is obvious that there are divergent values.\n",
    "\n",
    "### Scenario 2\n",
    "Using the new `Generator` class, we sample from the multivariate normal with default arguments:"
   ]
  },
  {
   "cell_type": "code",
   "execution_count": 5,
   "metadata": {},
   "outputs": [
    {
     "data": {
      "text/plain": [
       "array([[ 1.5067828,  1.7385225, -0.5997608,  0.530395 ,  0.0854511,\n",
       "         1.8629863,  1.8233736,  2.8039635,  1.5785772,  1.2154195],\n",
       "       [ 1.5067828,  1.8202132,  1.6301911,  1.1709111,  1.9955093,\n",
       "         2.3661913,  1.8158426,  0.596513 , -1.0887922,  0.7323486]])"
      ]
     },
     "execution_count": 5,
     "metadata": {},
     "output_type": "execute_result"
    }
   ],
   "source": [
    "test_envs(envs, 'example_normal.py', 'svd')"
   ]
  },
  {
   "cell_type": "markdown",
   "metadata": {},
   "source": [
    "Again, it is obvious that there are divergent values.\n",
    "\n",
    "### Scenario 3\n",
    "Using the new `Generator` class with the Cholesky decomposition method, we sample from the multivariate normal:"
   ]
  },
  {
   "cell_type": "code",
   "execution_count": 6,
   "metadata": {},
   "outputs": [
    {
     "data": {
      "text/plain": [
       "array([[ 0.5895108,  2.7756236, -1.0727797, -0.072917 ,  0.8692535,\n",
       "         1.2042482,  1.3048694,  0.9933494,  0.4586954,  1.102799 ]])"
      ]
     },
     "execution_count": 6,
     "metadata": {},
     "output_type": "execute_result"
    }
   ],
   "source": [
    "test_envs(envs, 'example_normal.py', 'cholesky')"
   ]
  },
  {
   "cell_type": "markdown",
   "metadata": {},
   "source": [
    "Cholesky decomposition gives us deterministic samples across all environments."
   ]
  }
 ],
 "metadata": {
  "kernelspec": {
   "display_name": "Python 3",
   "language": "python",
   "name": "python3"
  },
  "language_info": {
   "codemirror_mode": {
    "name": "ipython",
    "version": 3
   },
   "file_extension": ".py",
   "mimetype": "text/x-python",
   "name": "python",
   "nbconvert_exporter": "python",
   "pygments_lexer": "ipython3",
   "version": "3.8.3"
  }
 },
 "nbformat": 4,
 "nbformat_minor": 5
}
