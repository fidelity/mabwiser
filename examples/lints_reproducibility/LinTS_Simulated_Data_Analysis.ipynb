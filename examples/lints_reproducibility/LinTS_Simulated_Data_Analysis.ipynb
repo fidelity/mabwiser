{
 "cells": [
  {
   "cell_type": "code",
   "execution_count": 1,
   "metadata": {},
   "outputs": [],
   "source": [
    "import pandas as pd\n",
    "import numpy as np\n",
    "import pickle\n",
    "from jurity.recommenders import BinaryRecoMetrics, RankingRecoMetrics\n",
    "from jurity.classification import BinaryClassificationMetrics\n",
    "\n"
   ]
  },
  {
   "cell_type": "markdown",
   "metadata": {},
   "source": [
    "# Simple Bandit"
   ]
  },
  {
   "cell_type": "code",
   "execution_count": 3,
   "metadata": {},
   "outputs": [],
   "source": [
    "mac = pickle.load(open('simulated_data_outputs/mac_expectations.pkl', 'rb'))\n",
    "win = pickle.load(open('simulated_data_outputs/win_expectations.pkl', 'rb'))\n",
    "sgm = pickle.load(open('simulated_data_outputs/sgm_expectations.pkl', 'rb'))\n",
    "rh = pickle.load(open('simulated_data_outputs/rh_expectations.pkl', 'rb'))\n",
    "dar = pickle.load(open('simulated_data_outputs/dar_expectations.pkl', 'rb'))"
   ]
  },
  {
   "cell_type": "code",
   "execution_count": 4,
   "metadata": {},
   "outputs": [
    {
     "data": {
      "text/html": [
       "<div>\n",
       "<style scoped>\n",
       "    .dataframe tbody tr th:only-of-type {\n",
       "        vertical-align: middle;\n",
       "    }\n",
       "\n",
       "    .dataframe tbody tr th {\n",
       "        vertical-align: top;\n",
       "    }\n",
       "\n",
       "    .dataframe thead th {\n",
       "        text-align: right;\n",
       "    }\n",
       "</style>\n",
       "<table border=\"1\" class=\"dataframe\">\n",
       "  <thead>\n",
       "    <tr style=\"text-align: right;\">\n",
       "      <th></th>\n",
       "      <th>0</th>\n",
       "      <th>1</th>\n",
       "      <th>2</th>\n",
       "      <th>3</th>\n",
       "      <th>4</th>\n",
       "      <th>5</th>\n",
       "      <th>6</th>\n",
       "      <th>7</th>\n",
       "      <th>8</th>\n",
       "      <th>9</th>\n",
       "      <th>...</th>\n",
       "      <th>13</th>\n",
       "      <th>14</th>\n",
       "      <th>15</th>\n",
       "      <th>16</th>\n",
       "      <th>17</th>\n",
       "      <th>18</th>\n",
       "      <th>19</th>\n",
       "      <th>arm</th>\n",
       "      <th>reward</th>\n",
       "      <th>set</th>\n",
       "    </tr>\n",
       "  </thead>\n",
       "  <tbody>\n",
       "    <tr>\n",
       "      <th>280</th>\n",
       "      <td>-0.437539</td>\n",
       "      <td>1.579266</td>\n",
       "      <td>1.855246</td>\n",
       "      <td>6.049628</td>\n",
       "      <td>0.178026</td>\n",
       "      <td>-1.985470</td>\n",
       "      <td>0.005097</td>\n",
       "      <td>0.571541</td>\n",
       "      <td>1.184153</td>\n",
       "      <td>0.250244</td>\n",
       "      <td>...</td>\n",
       "      <td>-0.815639</td>\n",
       "      <td>-2.154333</td>\n",
       "      <td>-0.302746</td>\n",
       "      <td>-2.941561</td>\n",
       "      <td>-1.879810</td>\n",
       "      <td>1.794686</td>\n",
       "      <td>1.415656</td>\n",
       "      <td>0</td>\n",
       "      <td>1</td>\n",
       "      <td>test</td>\n",
       "    </tr>\n",
       "    <tr>\n",
       "      <th>281</th>\n",
       "      <td>-1.483903</td>\n",
       "      <td>2.533863</td>\n",
       "      <td>1.334310</td>\n",
       "      <td>-2.786843</td>\n",
       "      <td>-3.153749</td>\n",
       "      <td>-10.011978</td>\n",
       "      <td>-1.486536</td>\n",
       "      <td>2.942048</td>\n",
       "      <td>1.658577</td>\n",
       "      <td>0.282615</td>\n",
       "      <td>...</td>\n",
       "      <td>-7.705325</td>\n",
       "      <td>-2.362107</td>\n",
       "      <td>-0.077421</td>\n",
       "      <td>1.519168</td>\n",
       "      <td>-0.288540</td>\n",
       "      <td>0.164909</td>\n",
       "      <td>-3.257780</td>\n",
       "      <td>2</td>\n",
       "      <td>0</td>\n",
       "      <td>test</td>\n",
       "    </tr>\n",
       "    <tr>\n",
       "      <th>282</th>\n",
       "      <td>-1.393583</td>\n",
       "      <td>5.561957</td>\n",
       "      <td>-0.440106</td>\n",
       "      <td>-0.586712</td>\n",
       "      <td>3.047809</td>\n",
       "      <td>-1.553686</td>\n",
       "      <td>1.784540</td>\n",
       "      <td>-0.724047</td>\n",
       "      <td>3.457133</td>\n",
       "      <td>-0.520384</td>\n",
       "      <td>...</td>\n",
       "      <td>-0.580570</td>\n",
       "      <td>0.049443</td>\n",
       "      <td>0.357533</td>\n",
       "      <td>-1.653148</td>\n",
       "      <td>-0.676257</td>\n",
       "      <td>3.890172</td>\n",
       "      <td>-1.096128</td>\n",
       "      <td>3</td>\n",
       "      <td>0</td>\n",
       "      <td>test</td>\n",
       "    </tr>\n",
       "    <tr>\n",
       "      <th>283</th>\n",
       "      <td>-4.979037</td>\n",
       "      <td>1.186080</td>\n",
       "      <td>-0.970855</td>\n",
       "      <td>-1.207987</td>\n",
       "      <td>-0.060639</td>\n",
       "      <td>0.088849</td>\n",
       "      <td>-1.570659</td>\n",
       "      <td>1.031042</td>\n",
       "      <td>-0.470511</td>\n",
       "      <td>-1.387079</td>\n",
       "      <td>...</td>\n",
       "      <td>0.173680</td>\n",
       "      <td>-0.856460</td>\n",
       "      <td>-1.225014</td>\n",
       "      <td>0.115370</td>\n",
       "      <td>0.317427</td>\n",
       "      <td>0.476862</td>\n",
       "      <td>3.814958</td>\n",
       "      <td>1</td>\n",
       "      <td>0</td>\n",
       "      <td>test</td>\n",
       "    </tr>\n",
       "    <tr>\n",
       "      <th>284</th>\n",
       "      <td>-0.785594</td>\n",
       "      <td>0.057483</td>\n",
       "      <td>-1.800295</td>\n",
       "      <td>-4.470890</td>\n",
       "      <td>-0.046001</td>\n",
       "      <td>-3.470062</td>\n",
       "      <td>-3.025259</td>\n",
       "      <td>0.005172</td>\n",
       "      <td>-2.017571</td>\n",
       "      <td>-1.083593</td>\n",
       "      <td>...</td>\n",
       "      <td>4.259867</td>\n",
       "      <td>2.013612</td>\n",
       "      <td>-0.559288</td>\n",
       "      <td>-3.612187</td>\n",
       "      <td>-0.884423</td>\n",
       "      <td>-0.787468</td>\n",
       "      <td>-1.185029</td>\n",
       "      <td>2</td>\n",
       "      <td>0</td>\n",
       "      <td>test</td>\n",
       "    </tr>\n",
       "  </tbody>\n",
       "</table>\n",
       "<p>5 rows × 23 columns</p>\n",
       "</div>"
      ],
      "text/plain": [
       "            0         1         2         3         4          5         6  \\\n",
       "280 -0.437539  1.579266  1.855246  6.049628  0.178026  -1.985470  0.005097   \n",
       "281 -1.483903  2.533863  1.334310 -2.786843 -3.153749 -10.011978 -1.486536   \n",
       "282 -1.393583  5.561957 -0.440106 -0.586712  3.047809  -1.553686  1.784540   \n",
       "283 -4.979037  1.186080 -0.970855 -1.207987 -0.060639   0.088849 -1.570659   \n",
       "284 -0.785594  0.057483 -1.800295 -4.470890 -0.046001  -3.470062 -3.025259   \n",
       "\n",
       "            7         8         9  ...        13        14        15  \\\n",
       "280  0.571541  1.184153  0.250244  ... -0.815639 -2.154333 -0.302746   \n",
       "281  2.942048  1.658577  0.282615  ... -7.705325 -2.362107 -0.077421   \n",
       "282 -0.724047  3.457133 -0.520384  ... -0.580570  0.049443  0.357533   \n",
       "283  1.031042 -0.470511 -1.387079  ...  0.173680 -0.856460 -1.225014   \n",
       "284  0.005172 -2.017571 -1.083593  ...  4.259867  2.013612 -0.559288   \n",
       "\n",
       "           16        17        18        19  arm  reward   set  \n",
       "280 -2.941561 -1.879810  1.794686  1.415656    0       1  test  \n",
       "281  1.519168 -0.288540  0.164909 -3.257780    2       0  test  \n",
       "282 -1.653148 -0.676257  3.890172 -1.096128    3       0  test  \n",
       "283  0.115370  0.317427  0.476862  3.814958    1       0  test  \n",
       "284 -3.612187 -0.884423 -0.787468 -1.185029    2       0  test  \n",
       "\n",
       "[5 rows x 23 columns]"
      ]
     },
     "execution_count": 4,
     "metadata": {},
     "output_type": "execute_result"
    }
   ],
   "source": [
    "responses = pd.read_csv('simulated_data.csv')\n",
    "test = responses[responses['set']=='test']\n",
    "test.head()"
   ]
  },
  {
   "cell_type": "code",
   "execution_count": 5,
   "metadata": {},
   "outputs": [],
   "source": [
    "test = test[['arm', 'reward']]"
   ]
  },
  {
   "cell_type": "code",
   "execution_count": 6,
   "metadata": {},
   "outputs": [],
   "source": [
    "test['user'] = [i for i in range(test.shape[0])]"
   ]
  },
  {
   "cell_type": "code",
   "execution_count": 7,
   "metadata": {},
   "outputs": [],
   "source": [
    "test.reset_index(inplace=True, drop=True)"
   ]
  },
  {
   "cell_type": "code",
   "execution_count": 8,
   "metadata": {},
   "outputs": [
    {
     "data": {
      "text/html": [
       "<div>\n",
       "<style scoped>\n",
       "    .dataframe tbody tr th:only-of-type {\n",
       "        vertical-align: middle;\n",
       "    }\n",
       "\n",
       "    .dataframe tbody tr th {\n",
       "        vertical-align: top;\n",
       "    }\n",
       "\n",
       "    .dataframe thead th {\n",
       "        text-align: right;\n",
       "    }\n",
       "</style>\n",
       "<table border=\"1\" class=\"dataframe\">\n",
       "  <thead>\n",
       "    <tr style=\"text-align: right;\">\n",
       "      <th></th>\n",
       "      <th>0</th>\n",
       "      <th>1</th>\n",
       "      <th>2</th>\n",
       "      <th>3</th>\n",
       "      <th>arm</th>\n",
       "      <th>reward</th>\n",
       "      <th>user</th>\n",
       "    </tr>\n",
       "  </thead>\n",
       "  <tbody>\n",
       "    <tr>\n",
       "      <th>0</th>\n",
       "      <td>0.462712</td>\n",
       "      <td>-3.843000</td>\n",
       "      <td>1.176226</td>\n",
       "      <td>-4.607192</td>\n",
       "      <td>0</td>\n",
       "      <td>1</td>\n",
       "      <td>0</td>\n",
       "    </tr>\n",
       "    <tr>\n",
       "      <th>1</th>\n",
       "      <td>-1.159344</td>\n",
       "      <td>1.850469</td>\n",
       "      <td>-0.257948</td>\n",
       "      <td>-2.803339</td>\n",
       "      <td>2</td>\n",
       "      <td>0</td>\n",
       "      <td>1</td>\n",
       "    </tr>\n",
       "    <tr>\n",
       "      <th>2</th>\n",
       "      <td>-0.366885</td>\n",
       "      <td>-7.232940</td>\n",
       "      <td>1.380116</td>\n",
       "      <td>-0.026947</td>\n",
       "      <td>3</td>\n",
       "      <td>0</td>\n",
       "      <td>2</td>\n",
       "    </tr>\n",
       "    <tr>\n",
       "      <th>3</th>\n",
       "      <td>0.276632</td>\n",
       "      <td>-0.183199</td>\n",
       "      <td>1.484589</td>\n",
       "      <td>-0.064278</td>\n",
       "      <td>1</td>\n",
       "      <td>0</td>\n",
       "      <td>3</td>\n",
       "    </tr>\n",
       "    <tr>\n",
       "      <th>4</th>\n",
       "      <td>0.858629</td>\n",
       "      <td>-2.174916</td>\n",
       "      <td>-0.509416</td>\n",
       "      <td>-0.851353</td>\n",
       "      <td>2</td>\n",
       "      <td>0</td>\n",
       "      <td>4</td>\n",
       "    </tr>\n",
       "  </tbody>\n",
       "</table>\n",
       "</div>"
      ],
      "text/plain": [
       "          0         1         2         3  arm  reward  user\n",
       "0  0.462712 -3.843000  1.176226 -4.607192    0       1     0\n",
       "1 -1.159344  1.850469 -0.257948 -2.803339    2       0     1\n",
       "2 -0.366885 -7.232940  1.380116 -0.026947    3       0     2\n",
       "3  0.276632 -0.183199  1.484589 -0.064278    1       0     3\n",
       "4  0.858629 -2.174916 -0.509416 -0.851353    2       0     4"
      ]
     },
     "execution_count": 8,
     "metadata": {},
     "output_type": "execute_result"
    }
   ],
   "source": [
    "mac_df = pd.DataFrame(mac)\n",
    "win_df = pd.DataFrame(win)\n",
    "sgm_df = pd.DataFrame(sgm)\n",
    "rh_df = pd.DataFrame(rh)\n",
    "dar_df = pd.DataFrame(dar)\n",
    "\n",
    "mac_df = mac_df.merge(test, how='left', left_index=True, right_index=True)\n",
    "win_df = win_df.merge(test, how='left', left_index=True, right_index=True)\n",
    "sgm_df = sgm_df.merge(test, how='left', left_index=True, right_index=True)\n",
    "rh_df = rh_df.merge(test, how='left', left_index=True, right_index=True)\n",
    "dar_df = dar_df.merge(test, how='left', left_index=True, right_index=True)\n",
    "\n",
    "mac_df.head()"
   ]
  },
  {
   "cell_type": "code",
   "execution_count": 9,
   "metadata": {},
   "outputs": [],
   "source": [
    "mac_df = mac_df.melt(id_vars=['user', 'arm', 'reward'], var_name='item_id', value_name='raw_score')\n",
    "win_df = win_df.melt(id_vars=['user', 'arm', 'reward'], var_name='item_id', value_name='raw_score')\n",
    "sgm_df = sgm_df.melt(id_vars=['user', 'arm', 'reward'], var_name='item_id', value_name='raw_score')\n",
    "rh_df = rh_df.melt(id_vars=['user', 'arm', 'reward'], var_name='item_id', value_name='raw_score')\n",
    "dar_df = dar_df.melt(id_vars=['user', 'arm', 'reward'], var_name='item_id', value_name='raw_score')"
   ]
  },
  {
   "cell_type": "code",
   "execution_count": 10,
   "metadata": {},
   "outputs": [
    {
     "data": {
      "text/html": [
       "<div>\n",
       "<style scoped>\n",
       "    .dataframe tbody tr th:only-of-type {\n",
       "        vertical-align: middle;\n",
       "    }\n",
       "\n",
       "    .dataframe tbody tr th {\n",
       "        vertical-align: top;\n",
       "    }\n",
       "\n",
       "    .dataframe thead th {\n",
       "        text-align: right;\n",
       "    }\n",
       "</style>\n",
       "<table border=\"1\" class=\"dataframe\">\n",
       "  <thead>\n",
       "    <tr style=\"text-align: right;\">\n",
       "      <th></th>\n",
       "      <th>user</th>\n",
       "      <th>arm</th>\n",
       "      <th>reward</th>\n",
       "      <th>item_id</th>\n",
       "      <th>raw_score</th>\n",
       "    </tr>\n",
       "  </thead>\n",
       "  <tbody>\n",
       "    <tr>\n",
       "      <th>0</th>\n",
       "      <td>0</td>\n",
       "      <td>0</td>\n",
       "      <td>1</td>\n",
       "      <td>0</td>\n",
       "      <td>0.462712</td>\n",
       "    </tr>\n",
       "    <tr>\n",
       "      <th>1</th>\n",
       "      <td>1</td>\n",
       "      <td>2</td>\n",
       "      <td>0</td>\n",
       "      <td>0</td>\n",
       "      <td>-1.159344</td>\n",
       "    </tr>\n",
       "    <tr>\n",
       "      <th>2</th>\n",
       "      <td>2</td>\n",
       "      <td>3</td>\n",
       "      <td>0</td>\n",
       "      <td>0</td>\n",
       "      <td>-0.366885</td>\n",
       "    </tr>\n",
       "    <tr>\n",
       "      <th>3</th>\n",
       "      <td>3</td>\n",
       "      <td>1</td>\n",
       "      <td>0</td>\n",
       "      <td>0</td>\n",
       "      <td>0.276632</td>\n",
       "    </tr>\n",
       "    <tr>\n",
       "      <th>4</th>\n",
       "      <td>4</td>\n",
       "      <td>2</td>\n",
       "      <td>0</td>\n",
       "      <td>0</td>\n",
       "      <td>0.858629</td>\n",
       "    </tr>\n",
       "  </tbody>\n",
       "</table>\n",
       "</div>"
      ],
      "text/plain": [
       "   user  arm  reward item_id  raw_score\n",
       "0     0    0       1       0   0.462712\n",
       "1     1    2       0       0  -1.159344\n",
       "2     2    3       0       0  -0.366885\n",
       "3     3    1       0       0   0.276632\n",
       "4     4    2       0       0   0.858629"
      ]
     },
     "execution_count": 10,
     "metadata": {},
     "output_type": "execute_result"
    }
   ],
   "source": [
    "mac_df.head()"
   ]
  },
  {
   "cell_type": "code",
   "execution_count": 14,
   "metadata": {},
   "outputs": [],
   "source": [
    "mac_df['probability'] = mac_df.apply(lambda x: 1/(1 + np.exp(-x['raw_score'])), axis=1)"
   ]
  },
  {
   "cell_type": "code",
   "execution_count": 15,
   "metadata": {},
   "outputs": [
    {
     "data": {
      "text/html": [
       "<div>\n",
       "<style scoped>\n",
       "    .dataframe tbody tr th:only-of-type {\n",
       "        vertical-align: middle;\n",
       "    }\n",
       "\n",
       "    .dataframe tbody tr th {\n",
       "        vertical-align: top;\n",
       "    }\n",
       "\n",
       "    .dataframe thead th {\n",
       "        text-align: right;\n",
       "    }\n",
       "</style>\n",
       "<table border=\"1\" class=\"dataframe\">\n",
       "  <thead>\n",
       "    <tr style=\"text-align: right;\">\n",
       "      <th></th>\n",
       "      <th>user</th>\n",
       "      <th>arm</th>\n",
       "      <th>reward</th>\n",
       "      <th>item_id</th>\n",
       "      <th>raw_score</th>\n",
       "      <th>probability</th>\n",
       "    </tr>\n",
       "  </thead>\n",
       "  <tbody>\n",
       "    <tr>\n",
       "      <th>0</th>\n",
       "      <td>0</td>\n",
       "      <td>0</td>\n",
       "      <td>1</td>\n",
       "      <td>0</td>\n",
       "      <td>0.462712</td>\n",
       "      <td>0.613657</td>\n",
       "    </tr>\n",
       "    <tr>\n",
       "      <th>1</th>\n",
       "      <td>1</td>\n",
       "      <td>2</td>\n",
       "      <td>0</td>\n",
       "      <td>0</td>\n",
       "      <td>-1.159344</td>\n",
       "      <td>0.238787</td>\n",
       "    </tr>\n",
       "    <tr>\n",
       "      <th>2</th>\n",
       "      <td>2</td>\n",
       "      <td>3</td>\n",
       "      <td>0</td>\n",
       "      <td>0</td>\n",
       "      <td>-0.366885</td>\n",
       "      <td>0.409294</td>\n",
       "    </tr>\n",
       "    <tr>\n",
       "      <th>3</th>\n",
       "      <td>3</td>\n",
       "      <td>1</td>\n",
       "      <td>0</td>\n",
       "      <td>0</td>\n",
       "      <td>0.276632</td>\n",
       "      <td>0.568720</td>\n",
       "    </tr>\n",
       "    <tr>\n",
       "      <th>4</th>\n",
       "      <td>4</td>\n",
       "      <td>2</td>\n",
       "      <td>0</td>\n",
       "      <td>0</td>\n",
       "      <td>0.858629</td>\n",
       "      <td>0.702374</td>\n",
       "    </tr>\n",
       "  </tbody>\n",
       "</table>\n",
       "</div>"
      ],
      "text/plain": [
       "   user  arm  reward item_id  raw_score  probability\n",
       "0     0    0       1       0   0.462712     0.613657\n",
       "1     1    2       0       0  -1.159344     0.238787\n",
       "2     2    3       0       0  -0.366885     0.409294\n",
       "3     3    1       0       0   0.276632     0.568720\n",
       "4     4    2       0       0   0.858629     0.702374"
      ]
     },
     "execution_count": 15,
     "metadata": {},
     "output_type": "execute_result"
    }
   ],
   "source": [
    "mac_df.head()"
   ]
  },
  {
   "cell_type": "code",
   "execution_count": 16,
   "metadata": {},
   "outputs": [
    {
     "data": {
      "text/plain": [
       "count    4.800000e+02\n",
       "mean     5.235783e-01\n",
       "std      3.327996e-01\n",
       "min      6.527233e-07\n",
       "25%      2.311172e-01\n",
       "50%      5.490153e-01\n",
       "75%      8.237958e-01\n",
       "max      9.999999e-01\n",
       "Name: probability, dtype: float64"
      ]
     },
     "execution_count": 16,
     "metadata": {},
     "output_type": "execute_result"
    }
   ],
   "source": [
    "mac_df['probability'].describe()"
   ]
  },
  {
   "cell_type": "code",
   "execution_count": 17,
   "metadata": {},
   "outputs": [],
   "source": [
    "win_df['probability'] = win_df.apply(lambda x: 1/(1 + np.exp(-x['raw_score'])), axis=1)\n",
    "sgm_df['probability'] = sgm_df.apply(lambda x: 1/(1 + np.exp(-x['raw_score'])), axis=1)\n",
    "rh_df['probability'] = rh_df.apply(lambda x: 1/(1 + np.exp(-x['raw_score'])), axis=1)\n",
    "dar_df['probability'] = dar_df.apply(lambda x: 1/(1 + np.exp(-x['raw_score'])), axis=1)"
   ]
  },
  {
   "cell_type": "code",
   "execution_count": 18,
   "metadata": {},
   "outputs": [],
   "source": [
    "mac_df['pred'] = mac_df['probability'] >= 0.5\n",
    "win_df['pred'] = win_df['probability'] >= 0.5\n",
    "sgm_df['pred'] = sgm_df['probability'] >= 0.5\n",
    "rh_df['pred'] = rh_df['probability'] >= 0.5\n",
    "dar_df['pred'] = dar_df['probability'] >= 0.5"
   ]
  },
  {
   "cell_type": "code",
   "execution_count": 19,
   "metadata": {},
   "outputs": [
    {
     "data": {
      "text/html": [
       "<div>\n",
       "<style scoped>\n",
       "    .dataframe tbody tr th:only-of-type {\n",
       "        vertical-align: middle;\n",
       "    }\n",
       "\n",
       "    .dataframe tbody tr th {\n",
       "        vertical-align: top;\n",
       "    }\n",
       "\n",
       "    .dataframe thead th {\n",
       "        text-align: right;\n",
       "    }\n",
       "</style>\n",
       "<table border=\"1\" class=\"dataframe\">\n",
       "  <thead>\n",
       "    <tr style=\"text-align: right;\">\n",
       "      <th></th>\n",
       "      <th>user</th>\n",
       "      <th>arm</th>\n",
       "      <th>reward</th>\n",
       "      <th>item_id</th>\n",
       "      <th>raw_score</th>\n",
       "      <th>probability</th>\n",
       "      <th>pred</th>\n",
       "    </tr>\n",
       "  </thead>\n",
       "  <tbody>\n",
       "    <tr>\n",
       "      <th>0</th>\n",
       "      <td>0</td>\n",
       "      <td>0</td>\n",
       "      <td>1</td>\n",
       "      <td>0</td>\n",
       "      <td>0.462712</td>\n",
       "      <td>0.613657</td>\n",
       "      <td>True</td>\n",
       "    </tr>\n",
       "    <tr>\n",
       "      <th>1</th>\n",
       "      <td>1</td>\n",
       "      <td>2</td>\n",
       "      <td>0</td>\n",
       "      <td>0</td>\n",
       "      <td>-1.159344</td>\n",
       "      <td>0.238787</td>\n",
       "      <td>False</td>\n",
       "    </tr>\n",
       "    <tr>\n",
       "      <th>2</th>\n",
       "      <td>2</td>\n",
       "      <td>3</td>\n",
       "      <td>0</td>\n",
       "      <td>0</td>\n",
       "      <td>-0.366885</td>\n",
       "      <td>0.409294</td>\n",
       "      <td>False</td>\n",
       "    </tr>\n",
       "    <tr>\n",
       "      <th>3</th>\n",
       "      <td>3</td>\n",
       "      <td>1</td>\n",
       "      <td>0</td>\n",
       "      <td>0</td>\n",
       "      <td>0.276632</td>\n",
       "      <td>0.568720</td>\n",
       "      <td>True</td>\n",
       "    </tr>\n",
       "    <tr>\n",
       "      <th>4</th>\n",
       "      <td>4</td>\n",
       "      <td>2</td>\n",
       "      <td>0</td>\n",
       "      <td>0</td>\n",
       "      <td>0.858629</td>\n",
       "      <td>0.702374</td>\n",
       "      <td>True</td>\n",
       "    </tr>\n",
       "  </tbody>\n",
       "</table>\n",
       "</div>"
      ],
      "text/plain": [
       "   user  arm  reward item_id  raw_score  probability   pred\n",
       "0     0    0       1       0   0.462712     0.613657   True\n",
       "1     1    2       0       0  -1.159344     0.238787  False\n",
       "2     2    3       0       0  -0.366885     0.409294  False\n",
       "3     3    1       0       0   0.276632     0.568720   True\n",
       "4     4    2       0       0   0.858629     0.702374   True"
      ]
     },
     "execution_count": 19,
     "metadata": {},
     "output_type": "execute_result"
    }
   ],
   "source": [
    "mac_df.head()"
   ]
  },
  {
   "cell_type": "code",
   "execution_count": 20,
   "metadata": {},
   "outputs": [
    {
     "data": {
      "text/plain": [
       "259"
      ]
     },
     "execution_count": 20,
     "metadata": {},
     "output_type": "execute_result"
    }
   ],
   "source": [
    "mac_df['pred'].sum()"
   ]
  },
  {
   "cell_type": "code",
   "execution_count": 21,
   "metadata": {},
   "outputs": [
    {
     "data": {
      "text/plain": [
       "261"
      ]
     },
     "execution_count": 21,
     "metadata": {},
     "output_type": "execute_result"
    }
   ],
   "source": [
    "win_df['pred'].sum()"
   ]
  },
  {
   "cell_type": "code",
   "execution_count": 22,
   "metadata": {},
   "outputs": [
    {
     "data": {
      "text/plain": [
       "259"
      ]
     },
     "execution_count": 22,
     "metadata": {},
     "output_type": "execute_result"
    }
   ],
   "source": [
    "sgm_df['pred'].sum()"
   ]
  },
  {
   "cell_type": "code",
   "execution_count": 23,
   "metadata": {},
   "outputs": [
    {
     "data": {
      "text/plain": [
       "259"
      ]
     },
     "execution_count": 23,
     "metadata": {},
     "output_type": "execute_result"
    }
   ],
   "source": [
    "rh_df['pred'].sum()"
   ]
  },
  {
   "cell_type": "code",
   "execution_count": 24,
   "metadata": {},
   "outputs": [
    {
     "data": {
      "text/plain": [
       "256"
      ]
     },
     "execution_count": 24,
     "metadata": {},
     "output_type": "execute_result"
    }
   ],
   "source": [
    "dar_df['pred'].sum()"
   ]
  },
  {
   "cell_type": "code",
   "execution_count": 25,
   "metadata": {},
   "outputs": [
    {
     "data": {
      "text/plain": [
       "480"
      ]
     },
     "execution_count": 25,
     "metadata": {},
     "output_type": "execute_result"
    }
   ],
   "source": [
    "mac_df.shape[0]"
   ]
  },
  {
   "cell_type": "code",
   "execution_count": 26,
   "metadata": {},
   "outputs": [
    {
     "name": "stdout",
     "output_type": "stream",
     "text": [
      "Mac : 0.65 0.6818181818181819 0.7758620689655172 0.6081081081081081 0.6627497062279673\n",
      "Windows : 0.65 0.6818181818181819 0.7758620689655172 0.6081081081081081 0.6627497062279673\n",
      "SageMaker : 0.65 0.6818181818181819 0.7758620689655172 0.6081081081081081 0.6627497062279673\n",
      "Red Hat : 0.65 0.6818181818181819 0.7758620689655172 0.6081081081081081 0.6627497062279673\n",
      "Darwin : 0.65 0.671875 0.7413793103448276 0.6142857142857143 0.6571428571428571\n"
     ]
    }
   ],
   "source": [
    "scores = [('Mac', mac_df), ('Windows', win_df), ('SageMaker', sgm_df), ('Red Hat', rh_df), ('Darwin', dar_df)]\n",
    "for name, df in scores:\n",
    "\n",
    "    temp_idx = df['arm'] == df['item_id']\n",
    "    temp = df[temp_idx]\n",
    "    acc = BinaryClassificationMetrics.Accuracy().get_score(temp['pred'].tolist(), temp['reward'].tolist())\n",
    "    f1 = BinaryClassificationMetrics.F1().get_score(temp['pred'].tolist(), temp['reward'].tolist())\n",
    "    precision = BinaryClassificationMetrics.Precision().get_score(temp['pred'].tolist(), temp['reward'].tolist())\n",
    "    recall = BinaryClassificationMetrics.Recall().get_score(temp['pred'].tolist(), temp['reward'].tolist())\n",
    "    auc = BinaryClassificationMetrics.AUC().get_score(temp['pred'].tolist(), temp['reward'].tolist())\n",
    "    print(name, ':', acc, f1, precision, recall, auc)"
   ]
  },
  {
   "cell_type": "code",
   "execution_count": 31,
   "metadata": {},
   "outputs": [],
   "source": [
    "df_full = None\n",
    "\n",
    "for name, df in scores:\n",
    "    df_temp = df[['user', 'item_id', 'raw_score', 'probability', 'pred']]\n",
    "    df_temp.columns = [name + c if c not in ['user', 'item_id'] else c for c in df_temp.columns]\n",
    "    \n",
    "    if df_full is None:\n",
    "        df_full = df_temp\n",
    "    else:\n",
    "        df_full = df_full.merge(df_temp, how='left', on=['user', 'item_id'])"
   ]
  },
  {
   "cell_type": "code",
   "execution_count": 32,
   "metadata": {},
   "outputs": [
    {
     "data": {
      "text/html": [
       "<div>\n",
       "<style scoped>\n",
       "    .dataframe tbody tr th:only-of-type {\n",
       "        vertical-align: middle;\n",
       "    }\n",
       "\n",
       "    .dataframe tbody tr th {\n",
       "        vertical-align: top;\n",
       "    }\n",
       "\n",
       "    .dataframe thead th {\n",
       "        text-align: right;\n",
       "    }\n",
       "</style>\n",
       "<table border=\"1\" class=\"dataframe\">\n",
       "  <thead>\n",
       "    <tr style=\"text-align: right;\">\n",
       "      <th></th>\n",
       "      <th>user</th>\n",
       "      <th>item_id</th>\n",
       "      <th>Macraw_score</th>\n",
       "      <th>Macprobability</th>\n",
       "      <th>Macpred</th>\n",
       "      <th>Windowsraw_score</th>\n",
       "      <th>Windowsprobability</th>\n",
       "      <th>Windowspred</th>\n",
       "      <th>SageMakerraw_score</th>\n",
       "      <th>SageMakerprobability</th>\n",
       "      <th>SageMakerpred</th>\n",
       "      <th>Red Hatraw_score</th>\n",
       "      <th>Red Hatprobability</th>\n",
       "      <th>Red Hatpred</th>\n",
       "      <th>Darwinraw_score</th>\n",
       "      <th>Darwinprobability</th>\n",
       "      <th>Darwinpred</th>\n",
       "    </tr>\n",
       "  </thead>\n",
       "  <tbody>\n",
       "    <tr>\n",
       "      <th>0</th>\n",
       "      <td>0</td>\n",
       "      <td>0</td>\n",
       "      <td>0.462712</td>\n",
       "      <td>0.613657</td>\n",
       "      <td>True</td>\n",
       "      <td>0.462712</td>\n",
       "      <td>0.613657</td>\n",
       "      <td>True</td>\n",
       "      <td>0.462712</td>\n",
       "      <td>0.613657</td>\n",
       "      <td>True</td>\n",
       "      <td>0.462712</td>\n",
       "      <td>0.613657</td>\n",
       "      <td>True</td>\n",
       "      <td>0.189958</td>\n",
       "      <td>0.547347</td>\n",
       "      <td>True</td>\n",
       "    </tr>\n",
       "    <tr>\n",
       "      <th>1</th>\n",
       "      <td>1</td>\n",
       "      <td>0</td>\n",
       "      <td>-1.159344</td>\n",
       "      <td>0.238787</td>\n",
       "      <td>False</td>\n",
       "      <td>-0.829212</td>\n",
       "      <td>0.303812</td>\n",
       "      <td>False</td>\n",
       "      <td>-1.160620</td>\n",
       "      <td>0.238555</td>\n",
       "      <td>False</td>\n",
       "      <td>-1.159344</td>\n",
       "      <td>0.238787</td>\n",
       "      <td>False</td>\n",
       "      <td>-1.097789</td>\n",
       "      <td>0.250154</td>\n",
       "      <td>False</td>\n",
       "    </tr>\n",
       "    <tr>\n",
       "      <th>2</th>\n",
       "      <td>2</td>\n",
       "      <td>0</td>\n",
       "      <td>-0.366885</td>\n",
       "      <td>0.409294</td>\n",
       "      <td>False</td>\n",
       "      <td>0.257145</td>\n",
       "      <td>0.563934</td>\n",
       "      <td>True</td>\n",
       "      <td>-0.369199</td>\n",
       "      <td>0.408735</td>\n",
       "      <td>False</td>\n",
       "      <td>-0.366885</td>\n",
       "      <td>0.409294</td>\n",
       "      <td>False</td>\n",
       "      <td>-0.441364</td>\n",
       "      <td>0.391416</td>\n",
       "      <td>False</td>\n",
       "    </tr>\n",
       "    <tr>\n",
       "      <th>3</th>\n",
       "      <td>3</td>\n",
       "      <td>0</td>\n",
       "      <td>0.276632</td>\n",
       "      <td>0.568720</td>\n",
       "      <td>True</td>\n",
       "      <td>-0.046596</td>\n",
       "      <td>0.488353</td>\n",
       "      <td>False</td>\n",
       "      <td>0.277848</td>\n",
       "      <td>0.569019</td>\n",
       "      <td>True</td>\n",
       "      <td>0.276632</td>\n",
       "      <td>0.568720</td>\n",
       "      <td>True</td>\n",
       "      <td>0.209011</td>\n",
       "      <td>0.552063</td>\n",
       "      <td>True</td>\n",
       "    </tr>\n",
       "    <tr>\n",
       "      <th>4</th>\n",
       "      <td>4</td>\n",
       "      <td>0</td>\n",
       "      <td>0.858629</td>\n",
       "      <td>0.702374</td>\n",
       "      <td>True</td>\n",
       "      <td>0.748110</td>\n",
       "      <td>0.678767</td>\n",
       "      <td>True</td>\n",
       "      <td>0.858976</td>\n",
       "      <td>0.702447</td>\n",
       "      <td>True</td>\n",
       "      <td>0.858629</td>\n",
       "      <td>0.702374</td>\n",
       "      <td>True</td>\n",
       "      <td>0.331765</td>\n",
       "      <td>0.582189</td>\n",
       "      <td>True</td>\n",
       "    </tr>\n",
       "  </tbody>\n",
       "</table>\n",
       "</div>"
      ],
      "text/plain": [
       "   user item_id  Macraw_score  Macprobability  Macpred  Windowsraw_score  \\\n",
       "0     0       0      0.462712        0.613657     True          0.462712   \n",
       "1     1       0     -1.159344        0.238787    False         -0.829212   \n",
       "2     2       0     -0.366885        0.409294    False          0.257145   \n",
       "3     3       0      0.276632        0.568720     True         -0.046596   \n",
       "4     4       0      0.858629        0.702374     True          0.748110   \n",
       "\n",
       "   Windowsprobability  Windowspred  SageMakerraw_score  SageMakerprobability  \\\n",
       "0            0.613657         True            0.462712              0.613657   \n",
       "1            0.303812        False           -1.160620              0.238555   \n",
       "2            0.563934         True           -0.369199              0.408735   \n",
       "3            0.488353        False            0.277848              0.569019   \n",
       "4            0.678767         True            0.858976              0.702447   \n",
       "\n",
       "   SageMakerpred  Red Hatraw_score  Red Hatprobability  Red Hatpred  \\\n",
       "0           True          0.462712            0.613657         True   \n",
       "1          False         -1.159344            0.238787        False   \n",
       "2          False         -0.366885            0.409294        False   \n",
       "3           True          0.276632            0.568720         True   \n",
       "4           True          0.858629            0.702374         True   \n",
       "\n",
       "   Darwinraw_score  Darwinprobability  Darwinpred  \n",
       "0         0.189958           0.547347        True  \n",
       "1        -1.097789           0.250154       False  \n",
       "2        -0.441364           0.391416       False  \n",
       "3         0.209011           0.552063        True  \n",
       "4         0.331765           0.582189        True  "
      ]
     },
     "execution_count": 32,
     "metadata": {},
     "output_type": "execute_result"
    }
   ],
   "source": [
    "df_full.head()"
   ]
  },
  {
   "cell_type": "code",
   "execution_count": 33,
   "metadata": {},
   "outputs": [],
   "source": [
    "results = []\n",
    "env = ['Mac', 'Windows', 'SageMaker', 'Red Hat', 'Darwin']\n",
    "\n",
    "for i, name_i in enumerate(env):\n",
    "    a = name_i + 'raw_score'\n",
    "    for j, name_j in enumerate(env):\n",
    "        if j > i:\n",
    "            b = name_j + 'raw_score'\n",
    "            similarity = np.isclose(df_full[a], df_full[b])\n",
    "            results.append((name_i, name_j, similarity))"
   ]
  },
  {
   "cell_type": "code",
   "execution_count": 36,
   "metadata": {
    "scrolled": true
   },
   "outputs": [
    {
     "name": "stdout",
     "output_type": "stream",
     "text": [
      "Mac Windows (480,) 129\n",
      "Mac SageMaker (480,) 130\n",
      "Mac Red Hat (480,) 480\n",
      "Mac Darwin (480,) 64\n",
      "Windows SageMaker (480,) 214\n",
      "Windows Red Hat (480,) 129\n",
      "Windows Darwin (480,) 64\n",
      "SageMaker Red Hat (480,) 130\n",
      "SageMaker Darwin (480,) 64\n",
      "Red Hat Darwin (480,) 64\n"
     ]
    }
   ],
   "source": [
    "for a, b, c in results:\n",
    "    print(a, b, c.shape, str(c.sum()))"
   ]
  },
  {
   "cell_type": "code",
   "execution_count": 37,
   "metadata": {},
   "outputs": [
    {
     "name": "stdout",
     "output_type": "stream",
     "text": [
      "Mac Windows (480,) 162\n",
      "Mac SageMaker (480,) 168\n",
      "Mac Red Hat (480,) 480\n",
      "Mac Darwin (480,) 69\n",
      "Windows SageMaker (480,) 238\n",
      "Windows Red Hat (480,) 162\n",
      "Windows Darwin (480,) 69\n",
      "SageMaker Red Hat (480,) 168\n",
      "SageMaker Darwin (480,) 69\n",
      "Red Hat Darwin (480,) 69\n"
     ]
    }
   ],
   "source": [
    "results2 = []\n",
    "env = ['Mac', 'Windows', 'SageMaker', 'Red Hat', 'Darwin']\n",
    "\n",
    "for i, name_i in enumerate(env):\n",
    "    a = name_i + 'probability'\n",
    "    for j, name_j in enumerate(env):\n",
    "        if j > i:\n",
    "            b = name_j + 'probability'\n",
    "            similarity = np.isclose(df_full[a], df_full[b])\n",
    "            results2.append((name_i, name_j, similarity))\n",
    "            \n",
    "for a, b, c in results2:\n",
    "    print(a, b, c.shape, str(c.sum()))"
   ]
  },
  {
   "cell_type": "code",
   "execution_count": 47,
   "metadata": {},
   "outputs": [
    {
     "name": "stdout",
     "output_type": "stream",
     "text": [
      "Mac : 0.42105263157894735 0.6295164130273118 0.13793103448275862 0.13793103448275862 0.13793103448275862 0.48333333333333334\n",
      "Windows : 0.3888888888888889 0.6197004916147841 0.1206896551724138 0.1206896551724138 0.1206896551724138 0.48333333333333334\n",
      "SageMaker : 0.42105263157894735 0.6295164130273118 0.13793103448275862 0.13793103448275862 0.13793103448275862 0.48333333333333334\n",
      "Red Hat : 0.42105263157894735 0.6295164130273118 0.13793103448275862 0.13793103448275862 0.13793103448275862 0.48333333333333334\n",
      "Darwin : 0.47619047619047616 0.6320181033142886 0.1724137931034483 0.1724137931034483 0.1724137931034483 0.48333333333333334\n"
     ]
    }
   ],
   "source": [
    "for name, df in scores:\n",
    "    actual = df[['user', 'arm', 'reward']].drop_duplicates()\n",
    "    predicted = df[['user', 'item_id', 'probability']]\n",
    "    predicted.columns = actual.columns\n",
    "    ctr = BinaryRecoMetrics.CTR(user_id_column='user', item_id_column='arm', click_column=\"reward\", k=1).get_score(actual, predicted)\n",
    "    ndcg = RankingRecoMetrics.NDCG(user_id_column='user', item_id_column='arm', click_column=\"reward\", k=4).get_score(actual, predicted)\n",
    "    precision = RankingRecoMetrics.Precision(user_id_column='user', item_id_column='arm', click_column=\"reward\", k=1).get_score(actual, predicted)\n",
    "    recall = RankingRecoMetrics.Recall(user_id_column='user', item_id_column='arm', click_column=\"reward\", k=1).get_score(actual, predicted)\n",
    "    ndcg1 = RankingRecoMetrics.NDCG(user_id_column='user', item_id_column='arm', click_column=\"reward\", k=1).get_score(actual, predicted)\n",
    "    ctr4 = BinaryRecoMetrics.CTR(user_id_column='user', item_id_column='arm', click_column=\"reward\", k=4).get_score(actual, predicted)\n",
    "\n",
    "    print(name, ':', ctr, ndcg, precision, recall, ndcg1, ctr4)"
   ]
  },
  {
   "cell_type": "code",
   "execution_count": 48,
   "metadata": {},
   "outputs": [
    {
     "data": {
      "text/plain": [
       "0.48333333333333334"
      ]
     },
     "execution_count": 48,
     "metadata": {},
     "output_type": "execute_result"
    }
   ],
   "source": [
    "temp = mac_df[['user', 'arm', 'reward']].drop_duplicates()\n",
    "temp['reward'].mean()"
   ]
  },
  {
   "cell_type": "code",
   "execution_count": 45,
   "metadata": {},
   "outputs": [
    {
     "name": "stdout",
     "output_type": "stream",
     "text": [
      "Mac Windows (480,) 476\n",
      "Mac SageMaker (480,) 480\n",
      "Mac Red Hat (480,) 480\n",
      "Mac Darwin (480,) 441\n",
      "Windows SageMaker (480,) 476\n",
      "Windows Red Hat (480,) 476\n",
      "Windows Darwin (480,) 437\n",
      "SageMaker Red Hat (480,) 480\n",
      "SageMaker Darwin (480,) 441\n",
      "Red Hat Darwin (480,) 441\n"
     ]
    }
   ],
   "source": [
    "results3 = []\n",
    "env = ['Mac', 'Windows', 'SageMaker', 'Red Hat', 'Darwin']\n",
    "\n",
    "for i, name_i in enumerate(env):\n",
    "    a = name_i + 'pred'\n",
    "    for j, name_j in enumerate(env):\n",
    "        if j > i:\n",
    "            b = name_j + 'pred'\n",
    "            predictions = df_full[a] == df_full[b]\n",
    "            results3.append((name_i, name_j, predictions))\n",
    "            \n",
    "for a, b, c in results3:\n",
    "    print(a, b, c.shape, str(c.sum()))"
   ]
  },
  {
   "cell_type": "markdown",
   "metadata": {},
   "source": [
    "# Cholesky"
   ]
  },
  {
   "cell_type": "code",
   "execution_count": 2,
   "metadata": {},
   "outputs": [],
   "source": [
    "mac = pickle.load(open('simulated_data_outputs/mac_ch_expectations.pkl', 'rb'))\n",
    "win = pickle.load(open('simulated_data_outputs/win_ch_expectations.pkl', 'rb'))\n",
    "sgm = pickle.load(open('simulated_data_outputs/sgm_ch_expectations.pkl', 'rb'))\n",
    "rh = pickle.load(open('simulated_data_outputs/rh_ch_expectations.pkl', 'rb'))\n",
    "dar = pickle.load(open('simulated_data_outputs/dar_ch_expectations.pkl', 'rb'))"
   ]
  },
  {
   "cell_type": "code",
   "execution_count": 3,
   "metadata": {},
   "outputs": [
    {
     "data": {
      "text/html": [
       "<div>\n",
       "<style scoped>\n",
       "    .dataframe tbody tr th:only-of-type {\n",
       "        vertical-align: middle;\n",
       "    }\n",
       "\n",
       "    .dataframe tbody tr th {\n",
       "        vertical-align: top;\n",
       "    }\n",
       "\n",
       "    .dataframe thead th {\n",
       "        text-align: right;\n",
       "    }\n",
       "</style>\n",
       "<table border=\"1\" class=\"dataframe\">\n",
       "  <thead>\n",
       "    <tr style=\"text-align: right;\">\n",
       "      <th></th>\n",
       "      <th>0</th>\n",
       "      <th>1</th>\n",
       "      <th>2</th>\n",
       "      <th>3</th>\n",
       "      <th>4</th>\n",
       "      <th>5</th>\n",
       "      <th>6</th>\n",
       "      <th>7</th>\n",
       "      <th>8</th>\n",
       "      <th>9</th>\n",
       "      <th>...</th>\n",
       "      <th>13</th>\n",
       "      <th>14</th>\n",
       "      <th>15</th>\n",
       "      <th>16</th>\n",
       "      <th>17</th>\n",
       "      <th>18</th>\n",
       "      <th>19</th>\n",
       "      <th>arm</th>\n",
       "      <th>reward</th>\n",
       "      <th>set</th>\n",
       "    </tr>\n",
       "  </thead>\n",
       "  <tbody>\n",
       "    <tr>\n",
       "      <th>280</th>\n",
       "      <td>-0.437539</td>\n",
       "      <td>1.579266</td>\n",
       "      <td>1.855246</td>\n",
       "      <td>6.049628</td>\n",
       "      <td>0.178026</td>\n",
       "      <td>-1.985470</td>\n",
       "      <td>0.005097</td>\n",
       "      <td>0.571541</td>\n",
       "      <td>1.184153</td>\n",
       "      <td>0.250244</td>\n",
       "      <td>...</td>\n",
       "      <td>-0.815639</td>\n",
       "      <td>-2.154333</td>\n",
       "      <td>-0.302746</td>\n",
       "      <td>-2.941561</td>\n",
       "      <td>-1.879810</td>\n",
       "      <td>1.794686</td>\n",
       "      <td>1.415656</td>\n",
       "      <td>0</td>\n",
       "      <td>1</td>\n",
       "      <td>test</td>\n",
       "    </tr>\n",
       "    <tr>\n",
       "      <th>281</th>\n",
       "      <td>-1.483903</td>\n",
       "      <td>2.533863</td>\n",
       "      <td>1.334310</td>\n",
       "      <td>-2.786843</td>\n",
       "      <td>-3.153749</td>\n",
       "      <td>-10.011978</td>\n",
       "      <td>-1.486536</td>\n",
       "      <td>2.942048</td>\n",
       "      <td>1.658577</td>\n",
       "      <td>0.282615</td>\n",
       "      <td>...</td>\n",
       "      <td>-7.705325</td>\n",
       "      <td>-2.362107</td>\n",
       "      <td>-0.077421</td>\n",
       "      <td>1.519168</td>\n",
       "      <td>-0.288540</td>\n",
       "      <td>0.164909</td>\n",
       "      <td>-3.257780</td>\n",
       "      <td>2</td>\n",
       "      <td>0</td>\n",
       "      <td>test</td>\n",
       "    </tr>\n",
       "    <tr>\n",
       "      <th>282</th>\n",
       "      <td>-1.393583</td>\n",
       "      <td>5.561957</td>\n",
       "      <td>-0.440106</td>\n",
       "      <td>-0.586712</td>\n",
       "      <td>3.047809</td>\n",
       "      <td>-1.553686</td>\n",
       "      <td>1.784540</td>\n",
       "      <td>-0.724047</td>\n",
       "      <td>3.457133</td>\n",
       "      <td>-0.520384</td>\n",
       "      <td>...</td>\n",
       "      <td>-0.580570</td>\n",
       "      <td>0.049443</td>\n",
       "      <td>0.357533</td>\n",
       "      <td>-1.653148</td>\n",
       "      <td>-0.676257</td>\n",
       "      <td>3.890172</td>\n",
       "      <td>-1.096128</td>\n",
       "      <td>3</td>\n",
       "      <td>0</td>\n",
       "      <td>test</td>\n",
       "    </tr>\n",
       "    <tr>\n",
       "      <th>283</th>\n",
       "      <td>-4.979037</td>\n",
       "      <td>1.186080</td>\n",
       "      <td>-0.970855</td>\n",
       "      <td>-1.207987</td>\n",
       "      <td>-0.060639</td>\n",
       "      <td>0.088849</td>\n",
       "      <td>-1.570659</td>\n",
       "      <td>1.031042</td>\n",
       "      <td>-0.470511</td>\n",
       "      <td>-1.387079</td>\n",
       "      <td>...</td>\n",
       "      <td>0.173680</td>\n",
       "      <td>-0.856460</td>\n",
       "      <td>-1.225014</td>\n",
       "      <td>0.115370</td>\n",
       "      <td>0.317427</td>\n",
       "      <td>0.476862</td>\n",
       "      <td>3.814958</td>\n",
       "      <td>1</td>\n",
       "      <td>0</td>\n",
       "      <td>test</td>\n",
       "    </tr>\n",
       "    <tr>\n",
       "      <th>284</th>\n",
       "      <td>-0.785594</td>\n",
       "      <td>0.057483</td>\n",
       "      <td>-1.800295</td>\n",
       "      <td>-4.470890</td>\n",
       "      <td>-0.046001</td>\n",
       "      <td>-3.470062</td>\n",
       "      <td>-3.025259</td>\n",
       "      <td>0.005172</td>\n",
       "      <td>-2.017571</td>\n",
       "      <td>-1.083593</td>\n",
       "      <td>...</td>\n",
       "      <td>4.259867</td>\n",
       "      <td>2.013612</td>\n",
       "      <td>-0.559288</td>\n",
       "      <td>-3.612187</td>\n",
       "      <td>-0.884423</td>\n",
       "      <td>-0.787468</td>\n",
       "      <td>-1.185029</td>\n",
       "      <td>2</td>\n",
       "      <td>0</td>\n",
       "      <td>test</td>\n",
       "    </tr>\n",
       "  </tbody>\n",
       "</table>\n",
       "<p>5 rows × 23 columns</p>\n",
       "</div>"
      ],
      "text/plain": [
       "            0         1         2         3         4          5         6  \\\n",
       "280 -0.437539  1.579266  1.855246  6.049628  0.178026  -1.985470  0.005097   \n",
       "281 -1.483903  2.533863  1.334310 -2.786843 -3.153749 -10.011978 -1.486536   \n",
       "282 -1.393583  5.561957 -0.440106 -0.586712  3.047809  -1.553686  1.784540   \n",
       "283 -4.979037  1.186080 -0.970855 -1.207987 -0.060639   0.088849 -1.570659   \n",
       "284 -0.785594  0.057483 -1.800295 -4.470890 -0.046001  -3.470062 -3.025259   \n",
       "\n",
       "            7         8         9  ...        13        14        15  \\\n",
       "280  0.571541  1.184153  0.250244  ... -0.815639 -2.154333 -0.302746   \n",
       "281  2.942048  1.658577  0.282615  ... -7.705325 -2.362107 -0.077421   \n",
       "282 -0.724047  3.457133 -0.520384  ... -0.580570  0.049443  0.357533   \n",
       "283  1.031042 -0.470511 -1.387079  ...  0.173680 -0.856460 -1.225014   \n",
       "284  0.005172 -2.017571 -1.083593  ...  4.259867  2.013612 -0.559288   \n",
       "\n",
       "           16        17        18        19  arm  reward   set  \n",
       "280 -2.941561 -1.879810  1.794686  1.415656    0       1  test  \n",
       "281  1.519168 -0.288540  0.164909 -3.257780    2       0  test  \n",
       "282 -1.653148 -0.676257  3.890172 -1.096128    3       0  test  \n",
       "283  0.115370  0.317427  0.476862  3.814958    1       0  test  \n",
       "284 -3.612187 -0.884423 -0.787468 -1.185029    2       0  test  \n",
       "\n",
       "[5 rows x 23 columns]"
      ]
     },
     "execution_count": 3,
     "metadata": {},
     "output_type": "execute_result"
    }
   ],
   "source": [
    "responses = pd.read_csv('simulated_data.csv')\n",
    "test = responses[responses['set']=='test']\n",
    "test.head()"
   ]
  },
  {
   "cell_type": "code",
   "execution_count": 4,
   "metadata": {},
   "outputs": [],
   "source": [
    "test = test[['arm', 'reward']]"
   ]
  },
  {
   "cell_type": "code",
   "execution_count": 5,
   "metadata": {},
   "outputs": [],
   "source": [
    "test['user'] = [i for i in range(test.shape[0])]"
   ]
  },
  {
   "cell_type": "code",
   "execution_count": 6,
   "metadata": {},
   "outputs": [],
   "source": [
    "test.reset_index(inplace=True, drop=True)"
   ]
  },
  {
   "cell_type": "code",
   "execution_count": 7,
   "metadata": {},
   "outputs": [
    {
     "data": {
      "text/html": [
       "<div>\n",
       "<style scoped>\n",
       "    .dataframe tbody tr th:only-of-type {\n",
       "        vertical-align: middle;\n",
       "    }\n",
       "\n",
       "    .dataframe tbody tr th {\n",
       "        vertical-align: top;\n",
       "    }\n",
       "\n",
       "    .dataframe thead th {\n",
       "        text-align: right;\n",
       "    }\n",
       "</style>\n",
       "<table border=\"1\" class=\"dataframe\">\n",
       "  <thead>\n",
       "    <tr style=\"text-align: right;\">\n",
       "      <th></th>\n",
       "      <th>0</th>\n",
       "      <th>1</th>\n",
       "      <th>2</th>\n",
       "      <th>3</th>\n",
       "      <th>arm</th>\n",
       "      <th>reward</th>\n",
       "      <th>user</th>\n",
       "    </tr>\n",
       "  </thead>\n",
       "  <tbody>\n",
       "    <tr>\n",
       "      <th>0</th>\n",
       "      <td>-9.072648</td>\n",
       "      <td>1.178444</td>\n",
       "      <td>1.364816</td>\n",
       "      <td>1.768326</td>\n",
       "      <td>0</td>\n",
       "      <td>1</td>\n",
       "      <td>0</td>\n",
       "    </tr>\n",
       "    <tr>\n",
       "      <th>1</th>\n",
       "      <td>-7.657203</td>\n",
       "      <td>3.904120</td>\n",
       "      <td>-1.579630</td>\n",
       "      <td>-5.410818</td>\n",
       "      <td>2</td>\n",
       "      <td>0</td>\n",
       "      <td>1</td>\n",
       "    </tr>\n",
       "    <tr>\n",
       "      <th>2</th>\n",
       "      <td>8.462115</td>\n",
       "      <td>7.213985</td>\n",
       "      <td>0.499564</td>\n",
       "      <td>-4.988740</td>\n",
       "      <td>3</td>\n",
       "      <td>0</td>\n",
       "      <td>2</td>\n",
       "    </tr>\n",
       "    <tr>\n",
       "      <th>3</th>\n",
       "      <td>13.594220</td>\n",
       "      <td>-1.645057</td>\n",
       "      <td>-0.060344</td>\n",
       "      <td>12.880111</td>\n",
       "      <td>1</td>\n",
       "      <td>0</td>\n",
       "      <td>3</td>\n",
       "    </tr>\n",
       "    <tr>\n",
       "      <th>4</th>\n",
       "      <td>6.430210</td>\n",
       "      <td>-0.850406</td>\n",
       "      <td>-0.614397</td>\n",
       "      <td>0.122754</td>\n",
       "      <td>2</td>\n",
       "      <td>0</td>\n",
       "      <td>4</td>\n",
       "    </tr>\n",
       "  </tbody>\n",
       "</table>\n",
       "</div>"
      ],
      "text/plain": [
       "           0         1         2          3  arm  reward  user\n",
       "0  -9.072648  1.178444  1.364816   1.768326    0       1     0\n",
       "1  -7.657203  3.904120 -1.579630  -5.410818    2       0     1\n",
       "2   8.462115  7.213985  0.499564  -4.988740    3       0     2\n",
       "3  13.594220 -1.645057 -0.060344  12.880111    1       0     3\n",
       "4   6.430210 -0.850406 -0.614397   0.122754    2       0     4"
      ]
     },
     "execution_count": 7,
     "metadata": {},
     "output_type": "execute_result"
    }
   ],
   "source": [
    "mac_df = pd.DataFrame(mac)\n",
    "win_df = pd.DataFrame(win)\n",
    "sgm_df = pd.DataFrame(sgm)\n",
    "rh_df = pd.DataFrame(rh)\n",
    "dar_df = pd.DataFrame(dar)\n",
    "\n",
    "mac_df = mac_df.merge(test, how='left', left_index=True, right_index=True)\n",
    "win_df = win_df.merge(test, how='left', left_index=True, right_index=True)\n",
    "sgm_df = sgm_df.merge(test, how='left', left_index=True, right_index=True)\n",
    "rh_df = rh_df.merge(test, how='left', left_index=True, right_index=True)\n",
    "dar_df = dar_df.merge(test, how='left', left_index=True, right_index=True)\n",
    "\n",
    "mac_df.head()"
   ]
  },
  {
   "cell_type": "code",
   "execution_count": 8,
   "metadata": {},
   "outputs": [],
   "source": [
    "mac_df = mac_df.melt(id_vars=['user', 'arm', 'reward'], var_name='item_id', value_name='raw_score')\n",
    "win_df = win_df.melt(id_vars=['user', 'arm', 'reward'], var_name='item_id', value_name='raw_score')\n",
    "sgm_df = sgm_df.melt(id_vars=['user', 'arm', 'reward'], var_name='item_id', value_name='raw_score')\n",
    "rh_df = rh_df.melt(id_vars=['user', 'arm', 'reward'], var_name='item_id', value_name='raw_score')\n",
    "dar_df = dar_df.melt(id_vars=['user', 'arm', 'reward'], var_name='item_id', value_name='raw_score')"
   ]
  },
  {
   "cell_type": "code",
   "execution_count": 9,
   "metadata": {},
   "outputs": [],
   "source": [
    "mac_df['probability'] = mac_df.apply(lambda x: 1/(1 + np.exp(-x['raw_score'])), axis=1)"
   ]
  },
  {
   "cell_type": "code",
   "execution_count": 10,
   "metadata": {},
   "outputs": [],
   "source": [
    "win_df['probability'] = win_df.apply(lambda x: 1/(1 + np.exp(-x['raw_score'])), axis=1)\n",
    "sgm_df['probability'] = sgm_df.apply(lambda x: 1/(1 + np.exp(-x['raw_score'])), axis=1)\n",
    "rh_df['probability'] = rh_df.apply(lambda x: 1/(1 + np.exp(-x['raw_score'])), axis=1)\n",
    "dar_df['probability'] = dar_df.apply(lambda x: 1/(1 + np.exp(-x['raw_score'])), axis=1)"
   ]
  },
  {
   "cell_type": "code",
   "execution_count": 11,
   "metadata": {},
   "outputs": [],
   "source": [
    "mac_df['pred'] = mac_df['probability'] >= 0.5\n",
    "win_df['pred'] = win_df['probability'] >= 0.5\n",
    "sgm_df['pred'] = sgm_df['probability'] >= 0.5\n",
    "rh_df['pred'] = rh_df['probability'] >= 0.5\n",
    "dar_df['pred'] = dar_df['probability'] >= 0.5"
   ]
  },
  {
   "cell_type": "code",
   "execution_count": 12,
   "metadata": {},
   "outputs": [
    {
     "data": {
      "text/plain": [
       "230"
      ]
     },
     "execution_count": 12,
     "metadata": {},
     "output_type": "execute_result"
    }
   ],
   "source": [
    "mac_df['pred'].sum()"
   ]
  },
  {
   "cell_type": "code",
   "execution_count": 13,
   "metadata": {},
   "outputs": [
    {
     "data": {
      "text/plain": [
       "230"
      ]
     },
     "execution_count": 13,
     "metadata": {},
     "output_type": "execute_result"
    }
   ],
   "source": [
    "win_df['pred'].sum()"
   ]
  },
  {
   "cell_type": "code",
   "execution_count": 14,
   "metadata": {},
   "outputs": [
    {
     "data": {
      "text/plain": [
       "230"
      ]
     },
     "execution_count": 14,
     "metadata": {},
     "output_type": "execute_result"
    }
   ],
   "source": [
    "sgm_df['pred'].sum()"
   ]
  },
  {
   "cell_type": "code",
   "execution_count": 15,
   "metadata": {},
   "outputs": [
    {
     "data": {
      "text/plain": [
       "230"
      ]
     },
     "execution_count": 15,
     "metadata": {},
     "output_type": "execute_result"
    }
   ],
   "source": [
    "rh_df['pred'].sum()"
   ]
  },
  {
   "cell_type": "code",
   "execution_count": 16,
   "metadata": {},
   "outputs": [
    {
     "data": {
      "text/plain": [
       "230"
      ]
     },
     "execution_count": 16,
     "metadata": {},
     "output_type": "execute_result"
    }
   ],
   "source": [
    "dar_df['pred'].sum()"
   ]
  },
  {
   "cell_type": "code",
   "execution_count": 18,
   "metadata": {},
   "outputs": [],
   "source": [
    "scores = [('Mac', mac_df), ('Windows', win_df), ('SageMaker', sgm_df), ('Red Hat', rh_df), ('Darwin', dar_df)]\n",
    "\n",
    "df_full = None\n",
    "\n",
    "for name, df in scores:\n",
    "    df_temp = df[['user', 'item_id', 'raw_score', 'probability', 'pred']]\n",
    "    df_temp.columns = [name + c if c not in ['user', 'item_id'] else c for c in df_temp.columns]\n",
    "    \n",
    "    if df_full is None:\n",
    "        df_full = df_temp\n",
    "    else:\n",
    "        df_full = df_full.merge(df_temp, how='left', on=['user', 'item_id'])"
   ]
  },
  {
   "cell_type": "code",
   "execution_count": 19,
   "metadata": {},
   "outputs": [
    {
     "data": {
      "text/html": [
       "<div>\n",
       "<style scoped>\n",
       "    .dataframe tbody tr th:only-of-type {\n",
       "        vertical-align: middle;\n",
       "    }\n",
       "\n",
       "    .dataframe tbody tr th {\n",
       "        vertical-align: top;\n",
       "    }\n",
       "\n",
       "    .dataframe thead th {\n",
       "        text-align: right;\n",
       "    }\n",
       "</style>\n",
       "<table border=\"1\" class=\"dataframe\">\n",
       "  <thead>\n",
       "    <tr style=\"text-align: right;\">\n",
       "      <th></th>\n",
       "      <th>user</th>\n",
       "      <th>item_id</th>\n",
       "      <th>Macraw_score</th>\n",
       "      <th>Macprobability</th>\n",
       "      <th>Macpred</th>\n",
       "      <th>Windowsraw_score</th>\n",
       "      <th>Windowsprobability</th>\n",
       "      <th>Windowspred</th>\n",
       "      <th>SageMakerraw_score</th>\n",
       "      <th>SageMakerprobability</th>\n",
       "      <th>SageMakerpred</th>\n",
       "      <th>Red Hatraw_score</th>\n",
       "      <th>Red Hatprobability</th>\n",
       "      <th>Red Hatpred</th>\n",
       "      <th>Darwinraw_score</th>\n",
       "      <th>Darwinprobability</th>\n",
       "      <th>Darwinpred</th>\n",
       "    </tr>\n",
       "  </thead>\n",
       "  <tbody>\n",
       "    <tr>\n",
       "      <th>0</th>\n",
       "      <td>0</td>\n",
       "      <td>0</td>\n",
       "      <td>-9.072648</td>\n",
       "      <td>0.000115</td>\n",
       "      <td>False</td>\n",
       "      <td>-9.072648</td>\n",
       "      <td>0.000115</td>\n",
       "      <td>False</td>\n",
       "      <td>-9.072648</td>\n",
       "      <td>0.000115</td>\n",
       "      <td>False</td>\n",
       "      <td>-9.072648</td>\n",
       "      <td>0.000115</td>\n",
       "      <td>False</td>\n",
       "      <td>-9.072648</td>\n",
       "      <td>0.000115</td>\n",
       "      <td>False</td>\n",
       "    </tr>\n",
       "    <tr>\n",
       "      <th>1</th>\n",
       "      <td>1</td>\n",
       "      <td>0</td>\n",
       "      <td>-7.657203</td>\n",
       "      <td>0.000472</td>\n",
       "      <td>False</td>\n",
       "      <td>-7.657203</td>\n",
       "      <td>0.000472</td>\n",
       "      <td>False</td>\n",
       "      <td>-7.657203</td>\n",
       "      <td>0.000472</td>\n",
       "      <td>False</td>\n",
       "      <td>-7.657203</td>\n",
       "      <td>0.000472</td>\n",
       "      <td>False</td>\n",
       "      <td>-7.657203</td>\n",
       "      <td>0.000472</td>\n",
       "      <td>False</td>\n",
       "    </tr>\n",
       "    <tr>\n",
       "      <th>2</th>\n",
       "      <td>2</td>\n",
       "      <td>0</td>\n",
       "      <td>8.462115</td>\n",
       "      <td>0.999789</td>\n",
       "      <td>True</td>\n",
       "      <td>8.462115</td>\n",
       "      <td>0.999789</td>\n",
       "      <td>True</td>\n",
       "      <td>8.462115</td>\n",
       "      <td>0.999789</td>\n",
       "      <td>True</td>\n",
       "      <td>8.462115</td>\n",
       "      <td>0.999789</td>\n",
       "      <td>True</td>\n",
       "      <td>8.462115</td>\n",
       "      <td>0.999789</td>\n",
       "      <td>True</td>\n",
       "    </tr>\n",
       "    <tr>\n",
       "      <th>3</th>\n",
       "      <td>3</td>\n",
       "      <td>0</td>\n",
       "      <td>13.594220</td>\n",
       "      <td>0.999999</td>\n",
       "      <td>True</td>\n",
       "      <td>13.594220</td>\n",
       "      <td>0.999999</td>\n",
       "      <td>True</td>\n",
       "      <td>13.594220</td>\n",
       "      <td>0.999999</td>\n",
       "      <td>True</td>\n",
       "      <td>13.594220</td>\n",
       "      <td>0.999999</td>\n",
       "      <td>True</td>\n",
       "      <td>13.594220</td>\n",
       "      <td>0.999999</td>\n",
       "      <td>True</td>\n",
       "    </tr>\n",
       "    <tr>\n",
       "      <th>4</th>\n",
       "      <td>4</td>\n",
       "      <td>0</td>\n",
       "      <td>6.430210</td>\n",
       "      <td>0.998390</td>\n",
       "      <td>True</td>\n",
       "      <td>6.430210</td>\n",
       "      <td>0.998390</td>\n",
       "      <td>True</td>\n",
       "      <td>6.430210</td>\n",
       "      <td>0.998390</td>\n",
       "      <td>True</td>\n",
       "      <td>6.430210</td>\n",
       "      <td>0.998390</td>\n",
       "      <td>True</td>\n",
       "      <td>6.430210</td>\n",
       "      <td>0.998390</td>\n",
       "      <td>True</td>\n",
       "    </tr>\n",
       "  </tbody>\n",
       "</table>\n",
       "</div>"
      ],
      "text/plain": [
       "   user item_id  Macraw_score  Macprobability  Macpred  Windowsraw_score  \\\n",
       "0     0       0     -9.072648        0.000115    False         -9.072648   \n",
       "1     1       0     -7.657203        0.000472    False         -7.657203   \n",
       "2     2       0      8.462115        0.999789     True          8.462115   \n",
       "3     3       0     13.594220        0.999999     True         13.594220   \n",
       "4     4       0      6.430210        0.998390     True          6.430210   \n",
       "\n",
       "   Windowsprobability  Windowspred  SageMakerraw_score  SageMakerprobability  \\\n",
       "0            0.000115        False           -9.072648              0.000115   \n",
       "1            0.000472        False           -7.657203              0.000472   \n",
       "2            0.999789         True            8.462115              0.999789   \n",
       "3            0.999999         True           13.594220              0.999999   \n",
       "4            0.998390         True            6.430210              0.998390   \n",
       "\n",
       "   SageMakerpred  Red Hatraw_score  Red Hatprobability  Red Hatpred  \\\n",
       "0          False         -9.072648            0.000115        False   \n",
       "1          False         -7.657203            0.000472        False   \n",
       "2           True          8.462115            0.999789         True   \n",
       "3           True         13.594220            0.999999         True   \n",
       "4           True          6.430210            0.998390         True   \n",
       "\n",
       "   Darwinraw_score  Darwinprobability  Darwinpred  \n",
       "0        -9.072648           0.000115       False  \n",
       "1        -7.657203           0.000472       False  \n",
       "2         8.462115           0.999789        True  \n",
       "3        13.594220           0.999999        True  \n",
       "4         6.430210           0.998390        True  "
      ]
     },
     "execution_count": 19,
     "metadata": {},
     "output_type": "execute_result"
    }
   ],
   "source": [
    "df_full.head()"
   ]
  },
  {
   "cell_type": "code",
   "execution_count": 20,
   "metadata": {},
   "outputs": [
    {
     "name": "stdout",
     "output_type": "stream",
     "text": [
      "Mac Windows (480,) 480\n",
      "Mac SageMaker (480,) 480\n",
      "Mac Red Hat (480,) 480\n",
      "Mac Darwin (480,) 480\n",
      "Windows SageMaker (480,) 480\n",
      "Windows Red Hat (480,) 480\n",
      "Windows Darwin (480,) 480\n",
      "SageMaker Red Hat (480,) 480\n",
      "SageMaker Darwin (480,) 480\n",
      "Red Hat Darwin (480,) 480\n"
     ]
    }
   ],
   "source": [
    "results = []\n",
    "env = ['Mac', 'Windows', 'SageMaker', 'Red Hat', 'Darwin']\n",
    "\n",
    "for i, name_i in enumerate(env):\n",
    "    a = name_i + 'raw_score'\n",
    "    for j, name_j in enumerate(env):\n",
    "        if j > i:\n",
    "            b = name_j + 'raw_score'\n",
    "            similarity = np.isclose(df_full[a], df_full[b])\n",
    "            results.append((name_i, name_j, similarity))\n",
    "            \n",
    "            \n",
    "for a, b, c in results:\n",
    "    print(a, b, c.shape, str(c.sum()))"
   ]
  },
  {
   "cell_type": "code",
   "execution_count": 21,
   "metadata": {},
   "outputs": [
    {
     "name": "stdout",
     "output_type": "stream",
     "text": [
      "Mac : 0.3888888888888889 0.6321075028884455 0.2413793103448276 0.2413793103448276 0.2413793103448276 0.48333333333333334\n",
      "Windows : 0.3888888888888889 0.6321075028884455 0.2413793103448276 0.2413793103448276 0.2413793103448276 0.48333333333333334\n",
      "SageMaker : 0.3888888888888889 0.6321075028884455 0.2413793103448276 0.2413793103448276 0.2413793103448276 0.48333333333333334\n",
      "Red Hat : 0.3888888888888889 0.6321075028884455 0.2413793103448276 0.2413793103448276 0.2413793103448276 0.48333333333333334\n",
      "Darwin : 0.3888888888888889 0.6321075028884455 0.2413793103448276 0.2413793103448276 0.2413793103448276 0.48333333333333334\n"
     ]
    }
   ],
   "source": [
    "for name, df in scores:\n",
    "    actual = df[['user', 'arm', 'reward']].drop_duplicates()\n",
    "    predicted = df[['user', 'item_id', 'probability']]\n",
    "    predicted.columns = actual.columns\n",
    "    ctr = BinaryRecoMetrics.CTR(user_id_column='user', item_id_column='arm', click_column=\"reward\", k=1).get_score(actual, predicted)\n",
    "    ndcg = RankingRecoMetrics.NDCG(user_id_column='user', item_id_column='arm', click_column=\"reward\", k=4).get_score(actual, predicted)\n",
    "    precision = RankingRecoMetrics.Precision(user_id_column='user', item_id_column='arm', click_column=\"reward\", k=1).get_score(actual, predicted)\n",
    "    recall = RankingRecoMetrics.Recall(user_id_column='user', item_id_column='arm', click_column=\"reward\", k=1).get_score(actual, predicted)\n",
    "    ndcg1 = RankingRecoMetrics.NDCG(user_id_column='user', item_id_column='arm', click_column=\"reward\", k=1).get_score(actual, predicted)\n",
    "    ctr4 = BinaryRecoMetrics.CTR(user_id_column='user', item_id_column='arm', click_column=\"reward\", k=4).get_score(actual, predicted)\n",
    "\n",
    "    print(name, ':', ctr, ndcg, precision, recall, ndcg1, ctr4)"
   ]
  },
  {
   "cell_type": "code",
   "execution_count": 22,
   "metadata": {},
   "outputs": [
    {
     "name": "stdout",
     "output_type": "stream",
     "text": [
      "Mac : 0.425 0.448 0.4827586206896552 0.417910447761194 0.4259363559560687\n",
      "Windows : 0.425 0.448 0.4827586206896552 0.417910447761194 0.4259363559560687\n",
      "SageMaker : 0.425 0.448 0.4827586206896552 0.417910447761194 0.4259363559560687\n",
      "Red Hat : 0.425 0.448 0.4827586206896552 0.417910447761194 0.4259363559560687\n",
      "Darwin : 0.425 0.448 0.4827586206896552 0.417910447761194 0.4259363559560687\n"
     ]
    }
   ],
   "source": [
    "scores = [('Mac', mac_df), ('Windows', win_df), ('SageMaker', sgm_df), ('Red Hat', rh_df), ('Darwin', dar_df)]\n",
    "for name, df in scores:\n",
    "\n",
    "    temp_idx = df['arm'] == df['item_id']\n",
    "    temp = df[temp_idx]\n",
    "    acc = BinaryClassificationMetrics.Accuracy().get_score(temp['pred'].tolist(), temp['reward'].tolist())\n",
    "    f1 = BinaryClassificationMetrics.F1().get_score(temp['pred'].tolist(), temp['reward'].tolist())\n",
    "    precision = BinaryClassificationMetrics.Precision().get_score(temp['pred'].tolist(), temp['reward'].tolist())\n",
    "    recall = BinaryClassificationMetrics.Recall().get_score(temp['pred'].tolist(), temp['reward'].tolist())\n",
    "    auc = BinaryClassificationMetrics.AUC().get_score(temp['pred'].tolist(), temp['reward'].tolist())\n",
    "    print(name, ':', acc, f1, precision, recall, auc)"
   ]
  },
  {
   "cell_type": "code",
   "execution_count": null,
   "metadata": {},
   "outputs": [],
   "source": []
  }
 ],
 "metadata": {
  "kernelspec": {
   "display_name": "Python 3",
   "language": "python",
   "name": "python3"
  },
  "language_info": {
   "codemirror_mode": {
    "name": "ipython",
    "version": 3
   },
   "file_extension": ".py",
   "mimetype": "text/x-python",
   "name": "python",
   "nbconvert_exporter": "python",
   "pygments_lexer": "ipython3",
   "version": "3.8.3"
  }
 },
 "nbformat": 4,
 "nbformat_minor": 4
}
