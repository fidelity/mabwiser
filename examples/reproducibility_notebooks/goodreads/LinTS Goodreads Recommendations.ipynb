{
 "cells": [
  {
   "cell_type": "code",
   "execution_count": 1,
   "id": "missing-blend",
   "metadata": {},
   "outputs": [
    {
     "name": "stdout",
     "output_type": "stream",
     "text": [
      "1.18.5\n",
      "0.24.1\n"
     ]
    }
   ],
   "source": [
    "import json\n",
    "import numpy as np\n",
    "import os\n",
    "import paramiko\n",
    "import sklearn\n",
    "import subprocess\n",
    "\n",
    "print(np.__version__)\n",
    "print(sklearn.__version__)\n",
    "\n",
    "os.chdir('..')"
   ]
  },
  {
   "cell_type": "markdown",
   "id": "imported-chest",
   "metadata": {},
   "source": [
    "## LinTS GoodReads Recommendations\n",
    "\n",
    "This notebook explores the differences in GoodReads recommendations across multiple NumPy environments. In particular, this notebook uses the preprocessed data generated in [Goodreads Preprocessing](Goodreads%20Preprocessing.ipynb) with some sampling for time constraints, as in [Goodreads Samples](Goodreads%20Samples.ipynb). All scenarios use LinTS for generating recommendations."
   ]
  },
  {
   "cell_type": "code",
   "execution_count": 2,
   "id": "thermal-residence",
   "metadata": {},
   "outputs": [
    {
     "name": "stdout",
     "output_type": "stream",
     "text": [
      "Overwriting example_lints_goodreads.py\n"
     ]
    }
   ],
   "source": [
    "%%writefile example_lints_goodreads.py\n",
    "\n",
    "# Run this cell for every experiment\n",
    "from datetime import datetime\n",
    "import json\n",
    "import pandas as pd\n",
    "import numpy as np\n",
    "import os\n",
    "import platform\n",
    "import pickle\n",
    "from sklearn.preprocessing import StandardScaler\n",
    "import sys\n",
    "\n",
    "from mabwiser.mab import MAB\n",
    "from mabwiser.linear import _RidgeRegression, _Linear\n",
    "\n",
    "from utils import all_positive_definite\n",
    "\n",
    "random_option = sys.argv[1]\n",
    "\n",
    "class LinTSExample(_RidgeRegression):\n",
    "    def predict(self, x):\n",
    "        if self.scaler is not None:\n",
    "            x = self._scale_predict_context(x) \n",
    "        if random_option == 'cholesky':\n",
    "            beta_sampled = rng2.multivariate_normal(self.beta, self.A_inv, method='cholesky')\n",
    "        else:\n",
    "            beta_sampled = rng2.multivariate_normal(self.beta, self.A_inv)\n",
    "        return np.dot(x, beta_sampled)\n",
    "    \n",
    "class LinearExample(_Linear):\n",
    "    factory = {\"ts\": LinTSExample}\n",
    "\n",
    "    def __init__(self, rng, arms, n_jobs=1, backend=None, l2_lambda=1, alpha=1, regression='ts', arm_to_scaler = None):\n",
    "        super().__init__(rng, arms, n_jobs, backend, l2_lambda, alpha, regression)\n",
    "       \n",
    "        self.l2_lambda = l2_lambda\n",
    "        self.alpha = alpha\n",
    "        self.regression = regression\n",
    "\n",
    "        # Create ridge regression model for each arm\n",
    "        self.num_features = None\n",
    "\n",
    "        if arm_to_scaler is None:\n",
    "            arm_to_scaler = dict((arm, None) for arm in arms)\n",
    "\n",
    "        self.arm_to_model = dict((arm, LinearExample.factory.get(regression)(rng, l2_lambda,\n",
    "                                                                       alpha, arm_to_scaler[arm])) for arm in arms)\n",
    "\n",
    "\n",
    "# base_path = os.path.dirname(__file__)\n",
    "base_path = 'goodreads'\n",
    "\n",
    "# Dataset 1\n",
    "users = pd.read_csv(os.path.join(base_path, 'sample_user_features.csv.gz'))\n",
    "responses = pd.read_csv(os.path.join(base_path, 'sample_responses.csv.gz'))\n",
    "train = users[users['set']=='train']\n",
    "test = users[users['set']=='test']\n",
    "\n",
    "train = train.merge(responses, how='left', on='user_id')\n",
    "\n",
    "context_features = [c for c in users.columns if c not in ['user_id', 'set']]\n",
    "\n",
    "decisions = MAB._convert_array(train['book_id'])\n",
    "rewards = MAB._convert_array(train['response'])\n",
    "contexts = MAB._convert_matrix(train[context_features]).astype('float')\n",
    "test_contexts = MAB._convert_matrix(test[context_features]).astype('float')\n",
    "\n",
    "scaler = StandardScaler()\n",
    "contexts = scaler.fit_transform(contexts)\n",
    "test_contexts = scaler.transform(test_contexts)\n",
    "item_ids = list(responses['book_id'].unique())\n",
    "\n",
    "if random_option == 'randomstate':\n",
    "    rng = np.random.RandomState(seed=11)\n",
    "    rng2 = rng\n",
    "elif random_option == 'svd':\n",
    "    rng = np.random.RandomState(seed=11)\n",
    "    rng2 = np.random.default_rng(11)\n",
    "elif random_option == 'cholesky':\n",
    "    rng = np.random.RandomState(seed=11)\n",
    "    rng2 = np.random.default_rng(11)\n",
    "\n",
    "mab = LinearExample(rng=rng, arms=item_ids, l2_lambda=1, alpha=1, regression='ts', n_jobs=1, backend=None)\n",
    "\n",
    "\n",
    "np.random.seed(42)\n",
    "mab.fit(decisions, rewards, contexts)\n",
    "print(all_positive_definite(mab))\n",
    "exps = mab.predict_expectations(test_contexts)\n",
    "\n",
    "recs = [max(user_exps, key=user_exps.get).item() for user_exps in exps]\n",
    "print(recs)"
   ]
  },
  {
   "cell_type": "markdown",
   "id": "strange-smell",
   "metadata": {},
   "source": [
    "We try training a MAB model and getting a recommendation from the model across 2 different environments:\n",
    "1. OpenBLAS-backed NumPy on MacOS Catalina\n",
    "2. MKL-backed NumPy on MacOS Catalina\n",
    "\n",
    "All environments contain NumPy version 1.18.5."
   ]
  },
  {
   "cell_type": "code",
   "execution_count": 3,
   "id": "revised-sister",
   "metadata": {},
   "outputs": [],
   "source": [
    "with open('ssh_config.json') as fp:\n",
    "    conf = json.load(fp)\n",
    "\n",
    "local_conf = {'host_name': 'localhost'}\n",
    "\n",
    "envs = [\n",
    "    ('mac_openblas', local_conf, os.path.expanduser('~/Tools/miniconda3/envs/reprod/bin/python')),\n",
    "    ('mac_mkl', local_conf, os.path.expanduser('~/Tools/miniconda3/envs/reprod2/bin/python')),\n",
    "#     ('linux_openblas', conf, '$HOME/Tools/miniconda3/envs/reprod/bin/python'),\n",
    "#     ('linux_mkl', conf, '$HOME/Tools/miniconda3/envs/reprod2/bin/python'),\n",
    "]\n",
    "\n",
    "def test_envs(env_lis, script, option):\n",
    "    all_vals = []\n",
    "    for env_name, conf, python_exec in env_lis:\n",
    "        print(f'Running {env_name}...')\n",
    "        if conf['host_name'] == 'localhost':\n",
    "            res = subprocess.run([python_exec, script, option], capture_output=True).stdout.decode('utf-8').strip()\n",
    "            all_positive_definite, res = res.split('\\n')\n",
    "            print(f\"All covariances positive definite: {all_positive_definite}\")\n",
    "            all_vals.append(eval(res))\n",
    "        else:\n",
    "            with paramiko.SSHClient() as ssh:\n",
    "                ssh.load_system_host_keys()\n",
    "                ssh.set_missing_host_key_policy(paramiko.AutoAddPolicy())\n",
    "                ssh.connect(hostname=conf['host_name'], username=conf['username'], key_filename=os.path.expanduser(conf['key_filename']))\n",
    "                with ssh.open_sftp() as ftp:\n",
    "                    ftp.put(script, f'/tmp/{script}')\n",
    "                    ftp.put('utils.py', '/tmp/utils.py')\n",
    "                    ftp.put('movielens_users.csv', '/tmp/movielens_users.csv')\n",
    "                    ftp.put('movielens_responses.csv', '/tmp/movielens_responses.csv')\n",
    "\n",
    "                _, stdout, stderr = ssh.exec_command(f'{python_exec} /tmp/{script} {option}', get_pty=True)\n",
    "\n",
    "                # Log the stdout as it comes\n",
    "                all_positive_definite, res = [line.strip() for line in stdout.readlines()]\n",
    "                print(f\"All covariances positive definite: {all_positive_definite}\")\n",
    "                all_vals.append(eval(res))\n",
    "\n",
    "    return np.unique(all_vals, axis=0)"
   ]
  },
  {
   "cell_type": "markdown",
   "id": "scheduled-stick",
   "metadata": {},
   "source": [
    "### Scenario 1\n",
    "\n",
    "We test Goodreads data with the legacy `RandomState` class across the 4 different environments."
   ]
  },
  {
   "cell_type": "code",
   "execution_count": 4,
   "id": "removable-burke",
   "metadata": {},
   "outputs": [
    {
     "name": "stdout",
     "output_type": "stream",
     "text": [
      "Running mac_openblas...\n",
      "All covariances positive definite: True\n",
      "Running mac_mkl...\n",
      "All covariances positive definite: True\n"
     ]
    },
    {
     "data": {
      "text/plain": [
       "array([[ 2914097,    99561,    24768, ..., 15749186, 23395680,   119324],\n",
       "       [ 2914097,  2914097,    24768, ...,   693208, 23395680, 23395680]])"
      ]
     },
     "execution_count": 4,
     "metadata": {},
     "output_type": "execute_result"
    }
   ],
   "source": [
    "test_envs(envs, 'example_lints_goodreads.py', 'randomstate')"
   ]
  },
  {
   "cell_type": "markdown",
   "id": "dedicated-english",
   "metadata": {},
   "source": [
    "As we can see, the top 1 recommendations generated for each user can be quite different across multiple runs. In fact, these 4 different environments lead to 3 different sets of recommendations, showing clearly that setting the seed isn't enough for reproducibility here.\n",
    "\n",
    "### Scenario 2\n",
    "We test Goodreads data using the new `Generator` class with default arguments across 4 different environments."
   ]
  },
  {
   "cell_type": "code",
   "execution_count": 5,
   "id": "handled-blank",
   "metadata": {},
   "outputs": [
    {
     "name": "stdout",
     "output_type": "stream",
     "text": [
      "Running mac_openblas...\n",
      "All covariances positive definite: True\n",
      "Running mac_mkl...\n",
      "All covariances positive definite: True\n"
     ]
    },
    {
     "data": {
      "text/plain": [
       "array([[  119324,    22232,  9593911, ...,  4502507,   345627,  1326258],\n",
       "       [13047090, 14061955, 18460392, ...,  7937462,   345627,  6527740]])"
      ]
     },
     "execution_count": 5,
     "metadata": {},
     "output_type": "execute_result"
    }
   ],
   "source": [
    "test_envs(envs, 'example_lints_goodreads.py', 'svd')"
   ]
  },
  {
   "cell_type": "markdown",
   "id": "breeding-merchant",
   "metadata": {},
   "source": [
    "We can see that even with the new `Generator` class, which uses SVD decomposition by default, we still have a problem, with 4 different environments giving 3 different set of recommendations.\n",
    "\n",
    "### Scenario 3\n",
    "We test Goodreads data using the new `Generator` class with Cholesky decomposition method, across 4 different environments."
   ]
  },
  {
   "cell_type": "code",
   "execution_count": 6,
   "id": "cutting-burton",
   "metadata": {},
   "outputs": [
    {
     "name": "stdout",
     "output_type": "stream",
     "text": [
      "Running mac_openblas...\n",
      "All covariances positive definite: True\n",
      "Running mac_mkl...\n",
      "All covariances positive definite: True\n"
     ]
    },
    {
     "data": {
      "text/plain": [
       "array([[   51738,  9593911,  9961796, ...,  9520360, 13414446, 10637766]])"
      ]
     },
     "execution_count": 6,
     "metadata": {},
     "output_type": "execute_result"
    }
   ],
   "source": [
    "test_envs(envs, 'example_lints_goodreads.py', 'cholesky')"
   ]
  },
  {
   "cell_type": "markdown",
   "id": "thermal-postcard",
   "metadata": {},
   "source": [
    "We can see that using Cholesky decomposition, there is only one single set of recommendations the users receive, further showing that Cholesky decomposition is important for reproducibility purposes."
   ]
  }
 ],
 "metadata": {
  "kernelspec": {
   "display_name": "Python [conda env:reprod]",
   "language": "python",
   "name": "conda-env-reprod-py"
  },
  "language_info": {
   "codemirror_mode": {
    "name": "ipython",
    "version": 3
   },
   "file_extension": ".py",
   "mimetype": "text/x-python",
   "name": "python",
   "nbconvert_exporter": "python",
   "pygments_lexer": "ipython3",
   "version": "3.8.8"
  }
 },
 "nbformat": 4,
 "nbformat_minor": 5
}
